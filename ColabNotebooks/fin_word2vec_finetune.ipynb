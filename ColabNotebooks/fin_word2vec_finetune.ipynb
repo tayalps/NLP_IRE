{
  "nbformat": 4,
  "nbformat_minor": 0,
  "metadata": {
    "kernelspec": {
      "display_name": "Python 3",
      "language": "python",
      "name": "python3"
    },
    "language_info": {
      "codemirror_mode": {
        "name": "ipython",
        "version": 3
      },
      "file_extension": ".py",
      "mimetype": "text/x-python",
      "name": "python",
      "nbconvert_exporter": "python",
      "pygments_lexer": "ipython3",
      "version": "3.7.9"
    },
    "colab": {
      "name": "fin_word2vec_finetune.ipynb",
      "provenance": [],
      "collapsed_sections": []
    },
    "accelerator": "GPU"
  },
  "cells": [
    {
      "cell_type": "code",
      "metadata": {
        "id": "v6uGjdgV7fCe",
        "colab": {
          "base_uri": "https://localhost:8080/"
        },
        "outputId": "f4e70540-ad72-48f9-c4b9-e5a3e7405998"
      },
      "source": [
        "#mount the drive\n",
        "from google.colab import drive\n",
        "drive.mount('/content/drive', force_remount=True)"
      ],
      "execution_count": 1,
      "outputs": [
        {
          "output_type": "stream",
          "text": [
            "Mounted at /content/drive\n"
          ],
          "name": "stdout"
        }
      ]
    },
    {
      "cell_type": "code",
      "metadata": {
        "id": "W_QIxD3R68bz"
      },
      "source": [
        "import gensim\n",
        "from tqdm import tqdm\n",
        "import os\n",
        "from gensim.models.fasttext import FastText"
      ],
      "execution_count": 2,
      "outputs": []
    },
    {
      "cell_type": "code",
      "metadata": {
        "id": "NAqYXr7FA0g8"
      },
      "source": [
        "# For array, dataset, and visualizing\n",
        "import numpy as np\n",
        "import pandas as pd\n",
        "import seaborn as sns\n",
        "import matplotlib.pyplot as plt"
      ],
      "execution_count": 3,
      "outputs": []
    },
    {
      "cell_type": "code",
      "metadata": {
        "id": "oFt1hjeWCoW6",
        "colab": {
          "base_uri": "https://localhost:8080/"
        },
        "outputId": "69fae010-8a9d-4d33-e1d9-278a077c1f77"
      },
      "source": [
        "#For Pre-Processing\n",
        "from tqdm import tqdm\n",
        "import nltk\n",
        "from nltk.corpus import stopwords\n",
        "nltk.download('stopwords')\n",
        "nltk.download('punkt')\n",
        "from nltk.tokenize import RegexpTokenizer \n",
        "from nltk.tokenize import word_tokenize"
      ],
      "execution_count": 4,
      "outputs": [
        {
          "output_type": "stream",
          "text": [
            "[nltk_data] Downloading package stopwords to /root/nltk_data...\n",
            "[nltk_data]   Unzipping corpora/stopwords.zip.\n",
            "[nltk_data] Downloading package punkt to /root/nltk_data...\n",
            "[nltk_data]   Unzipping tokenizers/punkt.zip.\n"
          ],
          "name": "stdout"
        }
      ]
    },
    {
      "cell_type": "code",
      "metadata": {
        "id": "3M0vxqtwCYx5"
      },
      "source": [
        "from keras.preprocessing.text import Tokenizer\n",
        "from keras.preprocessing import sequence\n",
        "MAX_NB_WORDS = 500000\n",
        "tokenizer = RegexpTokenizer(r'\\w+')\n",
        "stop_words = set(stopwords.words('english'))\n",
        "stop_words.update(['.', ',', '\"', \"'\", ':', ';', '(', ')', '[', ']', '{', '}'])"
      ],
      "execution_count": 5,
      "outputs": []
    },
    {
      "cell_type": "code",
      "metadata": {
        "id": "4x7lf4c170Uh",
        "colab": {
          "base_uri": "https://localhost:8080/"
        },
        "outputId": "4fa75e98-23e1-44e3-f8d4-c3cc0afa2ec3"
      },
      "source": [
        "cd  \"/content/drive/My Drive/iiit_ire/word2vec_fasttext\""
      ],
      "execution_count": 6,
      "outputs": [
        {
          "output_type": "stream",
          "text": [
            "/content/drive/My Drive/iiit_ire/word2vec_fasttext\n"
          ],
          "name": "stdout"
        }
      ]
    },
    {
      "cell_type": "code",
      "metadata": {
        "id": "8BYamGHe68cM"
      },
      "source": [
        "model_name = \"./fin_word2vec\""
      ],
      "execution_count": 7,
      "outputs": []
    },
    {
      "cell_type": "code",
      "metadata": {
        "id": "sy9eB1TY68cc"
      },
      "source": [
        "model = gensim.models.Word2Vec.load(model_name)"
      ],
      "execution_count": 8,
      "outputs": []
    },
    {
      "cell_type": "code",
      "metadata": {
        "id": "ILoV9y1n68dN",
        "colab": {
          "base_uri": "https://localhost:8080/"
        },
        "outputId": "9363292c-ed4c-4c75-e71e-d0925b96281b"
      },
      "source": [
        "import json \n",
        "traind=[]\n",
        "vald=[]\n",
        "dir = \"/content/drive/My Drive/iiit_ire/data/\"\n",
        "# Opening JSON file \n",
        "with open(dir+'FinNum_training_v3.json',) as f: \n",
        "  traind = json.load(f) \n",
        "with open(dir+'FinNum_dev_v3.json',) as f: \n",
        "  vald = json.load(f) \n",
        "\n",
        "train = pd.DataFrame(traind) \n",
        "val = pd.DataFrame(vald) \n",
        "print(train.shape, val.shape)\n"
      ],
      "execution_count": 9,
      "outputs": [
        {
          "output_type": "stream",
          "text": [
            "(7187, 5) (1044, 5)\n"
          ],
          "name": "stdout"
        }
      ]
    },
    {
      "cell_type": "code",
      "metadata": {
        "id": "F47Y00aM9Ehu"
      },
      "source": [
        "cols = ['tweet', 'relation']\n",
        "train = train[cols]\n",
        "val = val[cols]"
      ],
      "execution_count": 10,
      "outputs": []
    },
    {
      "cell_type": "code",
      "metadata": {
        "id": "Pa31Mnm_9LOu",
        "colab": {
          "base_uri": "https://localhost:8080/"
        },
        "outputId": "6bf046f7-93b7-4ffe-f5e2-757cc3b43b08"
      },
      "source": [
        "print(train.relation.value_counts())\n",
        "print(val.relation.value_counts())"
      ],
      "execution_count": 11,
      "outputs": [
        {
          "output_type": "stream",
          "text": [
            "1    5827\n",
            "0    1360\n",
            "Name: relation, dtype: int64\n",
            "1    850\n",
            "0    194\n",
            "Name: relation, dtype: int64\n"
          ],
          "name": "stdout"
        }
      ]
    },
    {
      "cell_type": "code",
      "metadata": {
        "id": "Ph9biJ1D9OhI",
        "colab": {
          "base_uri": "https://localhost:8080/",
          "height": 202
        },
        "outputId": "7d36980f-87ba-418e-84f9-a9c037eabbb1"
      },
      "source": [
        "train.head()"
      ],
      "execution_count": 12,
      "outputs": [
        {
          "output_type": "execute_result",
          "data": {
            "text/html": [
              "<div>\n",
              "<style scoped>\n",
              "    .dataframe tbody tr th:only-of-type {\n",
              "        vertical-align: middle;\n",
              "    }\n",
              "\n",
              "    .dataframe tbody tr th {\n",
              "        vertical-align: top;\n",
              "    }\n",
              "\n",
              "    .dataframe thead th {\n",
              "        text-align: right;\n",
              "    }\n",
              "</style>\n",
              "<table border=\"1\" class=\"dataframe\">\n",
              "  <thead>\n",
              "    <tr style=\"text-align: right;\">\n",
              "      <th></th>\n",
              "      <th>tweet</th>\n",
              "      <th>relation</th>\n",
              "    </tr>\n",
              "  </thead>\n",
              "  <tbody>\n",
              "    <tr>\n",
              "      <th>0</th>\n",
              "      <td>$XXII Scott Gottlieb, Commissioner of FDA spee...</td>\n",
              "      <td>1</td>\n",
              "    </tr>\n",
              "    <tr>\n",
              "      <th>1</th>\n",
              "      <td>$TSLA Maybe they calculate that 7ct energy pri...</td>\n",
              "      <td>1</td>\n",
              "    </tr>\n",
              "    <tr>\n",
              "      <th>2</th>\n",
              "      <td>$RAD about 9 million more shares than the 90 d...</td>\n",
              "      <td>1</td>\n",
              "    </tr>\n",
              "    <tr>\n",
              "      <th>3</th>\n",
              "      <td>$DPW that was quite a roller coaster. Glad it ...</td>\n",
              "      <td>1</td>\n",
              "    </tr>\n",
              "    <tr>\n",
              "      <th>4</th>\n",
              "      <td>$GILD Good thing the market sets new record hi...</td>\n",
              "      <td>1</td>\n",
              "    </tr>\n",
              "  </tbody>\n",
              "</table>\n",
              "</div>"
            ],
            "text/plain": [
              "                                               tweet  relation\n",
              "0  $XXII Scott Gottlieb, Commissioner of FDA spee...         1\n",
              "1  $TSLA Maybe they calculate that 7ct energy pri...         1\n",
              "2  $RAD about 9 million more shares than the 90 d...         1\n",
              "3  $DPW that was quite a roller coaster. Glad it ...         1\n",
              "4  $GILD Good thing the market sets new record hi...         1"
            ]
          },
          "metadata": {
            "tags": []
          },
          "execution_count": 12
        }
      ]
    },
    {
      "cell_type": "code",
      "metadata": {
        "id": "hPry2ixQA7f4",
        "colab": {
          "base_uri": "https://localhost:8080/",
          "height": 351
        },
        "outputId": "c224fb92-f46d-4f73-ed14-e00279c8b515"
      },
      "source": [
        "train['tweet_len'] = train.tweet.apply(lambda words: len(words.split(\" \")))\n",
        "max_seq_len = np.round(train.tweet_len.mean() + 2*train.tweet_len.std()).astype(int)\n",
        "\n",
        "sns.distplot(train.tweet_len, hist=True, kde=True, color='b', label='tweets size len')\n",
        "plt.axvline(x=max_seq_len, color='k', linestyle='--', label='max len')\n",
        "plt.title('comment length'); plt.legend()\n",
        "plt.show()"
      ],
      "execution_count": 13,
      "outputs": [
        {
          "output_type": "stream",
          "text": [
            "/usr/local/lib/python3.6/dist-packages/seaborn/distributions.py:2551: FutureWarning: `distplot` is a deprecated function and will be removed in a future version. Please adapt your code to use either `displot` (a figure-level function with similar flexibility) or `histplot` (an axes-level function for histograms).\n",
            "  warnings.warn(msg, FutureWarning)\n"
          ],
          "name": "stderr"
        },
        {
          "output_type": "display_data",
          "data": {
            "image/png": "[encoded data removed]",
            "text/plain": [
              "<Figure size 432x288 with 1 Axes>"
            ]
          },
          "metadata": {
            "tags": [],
            "needs_background": "light"
          }
        }
      ]
    },
    {
      "cell_type": "code",
      "metadata": {
        "id": "1AfVsZ_m9tp9",
        "colab": {
          "base_uri": "https://localhost:8080/"
        },
        "outputId": "a5b766b1-78fe-4d07-8b08-5b40e37c0ee2"
      },
      "source": [
        "label_dict = {}\n",
        "for index, possible_label in enumerate(train.relation.unique()):\n",
        "    label_dict[possible_label] = index\n",
        "\n",
        "l_train = train.tweet.tolist()\n",
        "l_test = val.tweet.tolist()\n",
        "num_classes = len(label_dict)\n",
        "\n",
        "\n",
        "clean_train = []\n",
        "for doc in tqdm(l_train):\n",
        "  tokens = word_tokenize(doc)\n",
        "  filtered = [word for word in tokens if word not in stop_words]\n",
        "  clean_train.append(\" \".join(filtered))\n",
        "\n",
        "\n",
        "clean_test = []\n",
        "for doc in tqdm(l_test):\n",
        "  tokens = word_tokenize(doc)\n",
        "  filtered = [word for word in tokens if word not in stop_words]\n",
        "  clean_test.append(\" \".join(filtered))\n",
        "\n",
        "print(\"Tokenizing: \")\n",
        "tokenizer = Tokenizer(num_words=MAX_NB_WORDS, lower=True, char_level=False)\n",
        "tokenizer.fit_on_texts(clean_train + clean_test)  \n",
        "word_seq_train = tokenizer.texts_to_sequences(clean_train)\n",
        "word_seq_test = tokenizer.texts_to_sequences(clean_test)\n",
        "word_index = tokenizer.word_index\n",
        "print(\"dictionary size: \", len(word_index))\n",
        "\n",
        "word_seq_train = sequence.pad_sequences(word_seq_train, maxlen=max_seq_len)\n",
        "word_seq_test = sequence.pad_sequences(word_seq_test, maxlen=max_seq_len)"
      ],
      "execution_count": 14,
      "outputs": [
        {
          "output_type": "stream",
          "text": [
            "100%|██████████| 7187/7187 [00:01<00:00, 3644.07it/s]\n",
            "100%|██████████| 1044/1044 [00:00<00:00, 3748.42it/s]\n"
          ],
          "name": "stderr"
        },
        {
          "output_type": "stream",
          "text": [
            "Tokenizing: \n",
            "dictionary size:  12136\n"
          ],
          "name": "stdout"
        }
      ]
    },
    {
      "cell_type": "code",
      "metadata": {
        "id": "SCzC2wDyF6_k",
        "colab": {
          "base_uri": "https://localhost:8080/"
        },
        "outputId": "1324375e-f090-480a-f900-34d6b0e75fad"
      },
      "source": [
        "word_seq_train[10]"
      ],
      "execution_count": 15,
      "outputs": [
        {
          "output_type": "execute_result",
          "data": {
            "text/plain": [
              "array([   0,    0,    0,    0,    0,    0,    0,    0,    0,    0,    0,\n",
              "          0,    0,    0,    0,    0, 8249,  157,  309,  234,  191,    9,\n",
              "          7, 1350,   54,   46,    1,   11,  358,   14, 2245], dtype=int32)"
            ]
          },
          "metadata": {
            "tags": []
          },
          "execution_count": 15
        }
      ]
    },
    {
      "cell_type": "code",
      "metadata": {
        "id": "Pqp3_jxLDuQd"
      },
      "source": [
        "\n",
        "#model parameters\n",
        "num_filters = 64 \n",
        "embed_dim = 300 \n",
        "weight_decay = 1e-4"
      ],
      "execution_count": 16,
      "outputs": []
    },
    {
      "cell_type": "code",
      "metadata": {
        "id": "Iv1_Yw15FpUh"
      },
      "source": [
        "def get_embedding(word):\n",
        "    try:\n",
        "        embedding=model[word]\n",
        "    except:\n",
        "        embedding=np.zeros((embed_dim,))\n",
        "    return embedding"
      ],
      "execution_count": 17,
      "outputs": []
    },
    {
      "cell_type": "code",
      "metadata": {
        "id": "D4WY-6neGZii",
        "colab": {
          "base_uri": "https://localhost:8080/"
        },
        "outputId": "a4b516f8-3009-4753-e461-19cf02326d32"
      },
      "source": [
        "#embedding matrix\n",
        "\n",
        "print('preparing embedding matrix...')\n",
        "\n",
        "words_not_found = []\n",
        "nb_words = min(MAX_NB_WORDS, len(word_index)+1)\n",
        "embedding_matrix = np.zeros((nb_words, embed_dim))\n",
        "\n",
        "for word, i in word_index.items():\n",
        "    if i >= nb_words:\n",
        "        continue\n",
        "    embedding_vector = get_embedding(word)\n",
        "    if (embedding_vector is not None) and len(embedding_vector) > 0:\n",
        "        # words not found in embedding index will be all-zeros.\n",
        "        embedding_matrix[i] = embedding_vector\n",
        "        if np.sum(embedding_vector) == 0:\n",
        "          words_not_found.append(word)\n",
        "print('number of null word embeddings: %d' % np.sum(np.sum(embedding_matrix, axis=1) == 0))"
      ],
      "execution_count": 18,
      "outputs": [
        {
          "output_type": "stream",
          "text": [
            "preparing embedding matrix...\n",
            "number of null word embeddings: 5582\n"
          ],
          "name": "stdout"
        },
        {
          "output_type": "stream",
          "text": [
            "/usr/local/lib/python3.6/dist-packages/ipykernel_launcher.py:3: DeprecationWarning: Call to deprecated `__getitem__` (Method will be removed in 4.0.0, use self.wv.__getitem__() instead).\n",
            "  This is separate from the ipykernel package so we can avoid doing imports until\n"
          ],
          "name": "stderr"
        }
      ]
    },
    {
      "cell_type": "code",
      "metadata": {
        "id": "tKi8vtOKGs7w",
        "colab": {
          "base_uri": "https://localhost:8080/"
        },
        "outputId": "2f519dce-e2ea-4995-b094-d9380fa0b6a1"
      },
      "source": [
        "print(words_not_found[50:100])"
      ],
      "execution_count": 19,
      "outputs": [
        {
          "output_type": "stream",
          "text": [
            "['of', 'will', 'investoralmanac', 'u', 'to', 'gdxj', 'lol', 'er', 'on', \"'ll\", 'friday', 'vs', 'now', 'jd', 'hmny', 'just', 'roku', 'b', 'monday', 'trxc', 'uvxy', 'bzun', 'nugt', 'drys', 'my', 'no', '09', 'tlt', 'dcix', 'you', 'for', 'up', '08', 'but', 'uup', 'nflx', 'e', 'wti', 'that', 'slv', 'at', 'what', 'is', 'xlf', 'ibb', 'wstl', 'r', '05', 'q3', 'not']\n"
          ],
          "name": "stdout"
        }
      ]
    },
    {
      "cell_type": "code",
      "metadata": {
        "id": "dmahh384KZhQ"
      },
      "source": [
        "import keras\n",
        "from keras import optimizers\n",
        "from keras import backend as K\n",
        "from keras import regularizers\n",
        "from keras.models import Sequential\n",
        "from keras.layers import Dense, Activation, Dropout, Flatten\n",
        "from tensorflow.keras.layers import Embedding, LSTM, Dense, Dropout, Bidirectional"
      ],
      "execution_count": 20,
      "outputs": []
    },
    {
      "cell_type": "code",
      "metadata": {
        "id": "Otek0U9AOtvc"
      },
      "source": [
        "# avoid model to overwrite\n",
        "keras.backend.clear_session()"
      ],
      "execution_count": 21,
      "outputs": []
    },
    {
      "cell_type": "code",
      "metadata": {
        "id": "k18dZ2bbKAwm",
        "colab": {
          "base_uri": "https://localhost:8080/"
        },
        "outputId": "a1129eb3-2055-4ce4-bd48-60ad7a2d4419"
      },
      "source": [
        "from keras.layers import BatchNormalization\n",
        "import tensorflow as tf\n",
        "\n",
        "model = tf.keras.Sequential()\n",
        "\n",
        "model.add(Embedding(nb_words,embed_dim,input_length=max_seq_len, weights=[embedding_matrix],trainable=False))\n",
        "model.add(Dropout(0.2))\n",
        "model.add(Bidirectional(LSTM(256,return_sequences= True)))\n",
        "model.add(Dropout(0.3))\n",
        "model.add(Bidirectional(LSTM(256,return_sequences= True)))\n",
        "model.add(Dropout(0.3))\n",
        "model.add(Bidirectional(LSTM(256)))\n",
        "model.add(Dense(1024,activation='relu'))\n",
        "model.add(Dropout(0.3))\n",
        "model.add(Dense(64,activation='relu'))\n",
        "model.add(Dense(1,activation='sigmoid'))\n",
        "model.summary()"
      ],
      "execution_count": 36,
      "outputs": [
        {
          "output_type": "stream",
          "text": [
            "Model: \"sequential_1\"\n",
            "_________________________________________________________________\n",
            "Layer (type)                 Output Shape              Param #   \n",
            "=================================================================\n",
            "embedding_1 (Embedding)      (None, 31, 300)           3641100   \n",
            "_________________________________________________________________\n",
            "dropout_2 (Dropout)          (None, 31, 300)           0         \n",
            "_________________________________________________________________\n",
            "bidirectional_3 (Bidirection (None, 31, 512)           1140736   \n",
            "_________________________________________________________________\n",
            "dropout_3 (Dropout)          (None, 31, 512)           0         \n",
            "_________________________________________________________________\n",
            "bidirectional_4 (Bidirection (None, 31, 512)           1574912   \n",
            "_________________________________________________________________\n",
            "dropout_4 (Dropout)          (None, 31, 512)           0         \n",
            "_________________________________________________________________\n",
            "bidirectional_5 (Bidirection (None, 512)               1574912   \n",
            "_________________________________________________________________\n",
            "dense_3 (Dense)              (None, 1024)              525312    \n",
            "_________________________________________________________________\n",
            "dropout_5 (Dropout)          (None, 1024)              0         \n",
            "_________________________________________________________________\n",
            "dense_4 (Dense)              (None, 64)                65600     \n",
            "_________________________________________________________________\n",
            "dense_5 (Dense)              (None, 1)                 65        \n",
            "=================================================================\n",
            "Total params: 8,522,637\n",
            "Trainable params: 4,881,537\n",
            "Non-trainable params: 3,641,100\n",
            "_________________________________________________________________\n"
          ],
          "name": "stdout"
        }
      ]
    },
    {
      "cell_type": "code",
      "metadata": {
        "id": "OkMGerayKSPP"
      },
      "source": [
        "from keras.optimizers import RMSprop\n",
        "from keras.callbacks import ModelCheckpoint\n",
        "from tensorflow.keras.callbacks import EarlyStopping\n",
        "from tensorflow.keras.optimizers import Adam\n",
        "\n",
        "model.compile(loss='binary_crossentropy', optimizer=Adam(lr=.0002), metrics=['accuracy'])"
      ],
      "execution_count": 37,
      "outputs": []
    },
    {
      "cell_type": "code",
      "metadata": {
        "id": "eIhET-vOYtcq",
        "colab": {
          "base_uri": "https://localhost:8080/"
        },
        "outputId": "bfb02116-2a21-40ba-b178-5c1e21b0c02e"
      },
      "source": [
        "!pwd"
      ],
      "execution_count": 38,
      "outputs": [
        {
          "output_type": "stream",
          "text": [
            "/content/drive/My Drive/iiit_ire/word2vec_fasttext\n"
          ],
          "name": "stdout"
        }
      ]
    },
    {
      "cell_type": "code",
      "metadata": {
        "id": "u8Vq-UGgYmQT"
      },
      "source": [
        "checkpoint = ModelCheckpoint('word2vec_sent_weights.best.hdf5',\n",
        "                             verbose=1,\n",
        "                             save_weights_only=True,\n",
        "                             monitor = 'val_accuracy',\n",
        "                             mode='max',\n",
        "                             save_best_only=True)"
      ],
      "execution_count": 39,
      "outputs": []
    },
    {
      "cell_type": "code",
      "metadata": {
        "id": "OFuryH4ZKypq",
        "colab": {
          "base_uri": "https://localhost:8080/"
        },
        "outputId": "bab1e34e-5fd2-4ea0-d9ca-5e7cfe6258e7"
      },
      "source": [
        "es_callback = EarlyStopping(monitor='val_accuracy', patience=10, mode=\"max\")\n",
        "#training params\n",
        "batch_size = 64 \n",
        "num_epochs = 30\n",
        "\n",
        "history = model.fit(word_seq_train, train.relation.values, batch_size=batch_size,\n",
        "          epochs=num_epochs, validation_data=(word_seq_test, val.relation.values), \n",
        "          callbacks=[es_callback, checkpoint])#, steps_per_epoch=train.shape[0] // batch_size,\n",
        "          # shuffle=False)"
      ],
      "execution_count": 40,
      "outputs": [
        {
          "output_type": "stream",
          "text": [
            "Epoch 1/30\n",
            "113/113 [==============================] - ETA: 0s - loss: 0.4670 - accuracy: 0.8091\n",
            "Epoch 00001: val_accuracy improved from -inf to 0.83046, saving model to word2vec_sent_weights.best.hdf5\n",
            "113/113 [==============================] - 6s 50ms/step - loss: 0.4670 - accuracy: 0.8091 - val_loss: 0.3922 - val_accuracy: 0.8305\n",
            "Epoch 2/30\n",
            "113/113 [==============================] - ETA: 0s - loss: 0.3960 - accuracy: 0.8364\n",
            "Epoch 00002: val_accuracy improved from 0.83046 to 0.85057, saving model to word2vec_sent_weights.best.hdf5\n",
            "113/113 [==============================] - 4s 32ms/step - loss: 0.3960 - accuracy: 0.8364 - val_loss: 0.3817 - val_accuracy: 0.8506\n",
            "Epoch 3/30\n",
            "113/113 [==============================] - ETA: 0s - loss: 0.3721 - accuracy: 0.8482\n",
            "Epoch 00003: val_accuracy improved from 0.85057 to 0.86207, saving model to word2vec_sent_weights.best.hdf5\n",
            "113/113 [==============================] - 4s 32ms/step - loss: 0.3721 - accuracy: 0.8482 - val_loss: 0.3683 - val_accuracy: 0.8621\n",
            "Epoch 4/30\n",
            "113/113 [==============================] - ETA: 0s - loss: 0.3537 - accuracy: 0.8570\n",
            "Epoch 00004: val_accuracy did not improve from 0.86207\n",
            "113/113 [==============================] - 4s 31ms/step - loss: 0.3537 - accuracy: 0.8570 - val_loss: 0.3770 - val_accuracy: 0.8544\n",
            "Epoch 5/30\n",
            "113/113 [==============================] - ETA: 0s - loss: 0.3430 - accuracy: 0.8629\n",
            "Epoch 00005: val_accuracy did not improve from 0.86207\n",
            "113/113 [==============================] - 3s 31ms/step - loss: 0.3430 - accuracy: 0.8629 - val_loss: 0.3925 - val_accuracy: 0.8487\n",
            "Epoch 6/30\n",
            "113/113 [==============================] - ETA: 0s - loss: 0.3327 - accuracy: 0.8678\n",
            "Epoch 00006: val_accuracy did not improve from 0.86207\n",
            "113/113 [==============================] - 4s 31ms/step - loss: 0.3327 - accuracy: 0.8678 - val_loss: 0.3850 - val_accuracy: 0.8544\n",
            "Epoch 7/30\n",
            "113/113 [==============================] - ETA: 0s - loss: 0.3201 - accuracy: 0.8739\n",
            "Epoch 00007: val_accuracy did not improve from 0.86207\n",
            "113/113 [==============================] - 3s 31ms/step - loss: 0.3201 - accuracy: 0.8739 - val_loss: 0.3952 - val_accuracy: 0.8477\n",
            "Epoch 8/30\n",
            "113/113 [==============================] - ETA: 0s - loss: 0.3138 - accuracy: 0.8769\n",
            "Epoch 00008: val_accuracy did not improve from 0.86207\n",
            "113/113 [==============================] - 3s 31ms/step - loss: 0.3138 - accuracy: 0.8769 - val_loss: 0.3850 - val_accuracy: 0.8515\n",
            "Epoch 9/30\n",
            "113/113 [==============================] - ETA: 0s - loss: 0.3101 - accuracy: 0.8787\n",
            "Epoch 00009: val_accuracy did not improve from 0.86207\n",
            "113/113 [==============================] - 3s 31ms/step - loss: 0.3101 - accuracy: 0.8787 - val_loss: 0.3937 - val_accuracy: 0.8487\n",
            "Epoch 10/30\n",
            "113/113 [==============================] - ETA: 0s - loss: 0.2989 - accuracy: 0.8834\n",
            "Epoch 00010: val_accuracy did not improve from 0.86207\n",
            "113/113 [==============================] - 4s 32ms/step - loss: 0.2989 - accuracy: 0.8834 - val_loss: 0.3875 - val_accuracy: 0.8506\n",
            "Epoch 11/30\n",
            "113/113 [==============================] - ETA: 0s - loss: 0.2934 - accuracy: 0.8842\n",
            "Epoch 00011: val_accuracy did not improve from 0.86207\n",
            "113/113 [==============================] - 4s 32ms/step - loss: 0.2934 - accuracy: 0.8842 - val_loss: 0.4019 - val_accuracy: 0.8506\n",
            "Epoch 12/30\n",
            "113/113 [==============================] - ETA: 0s - loss: 0.2975 - accuracy: 0.8837\n",
            "Epoch 00012: val_accuracy did not improve from 0.86207\n",
            "113/113 [==============================] - 4s 32ms/step - loss: 0.2975 - accuracy: 0.8837 - val_loss: 0.3834 - val_accuracy: 0.8506\n",
            "Epoch 13/30\n",
            "113/113 [==============================] - ETA: 0s - loss: 0.2791 - accuracy: 0.8922\n",
            "Epoch 00013: val_accuracy did not improve from 0.86207\n",
            "113/113 [==============================] - 4s 31ms/step - loss: 0.2791 - accuracy: 0.8922 - val_loss: 0.4097 - val_accuracy: 0.8410\n"
          ],
          "name": "stdout"
        }
      ]
    },
    {
      "cell_type": "code",
      "metadata": {
        "id": "50AkTs_3MCCN",
        "colab": {
          "base_uri": "https://localhost:8080/",
          "height": 295
        },
        "outputId": "b112d8a7-9f8c-49ef-d077-80ef0f01998a"
      },
      "source": [
        "#generate plots\n",
        "plt.figure()\n",
        "plt.plot(history.history['loss'], lw=2.0, color='b', label='train')\n",
        "plt.plot(history.history['val_loss'], lw=2.0, color='r', label='val')\n",
        "plt.title('Loss')\n",
        "plt.xlabel('Epochs')\n",
        "plt.ylabel('Cross-Entropy Loss')\n",
        "plt.legend(loc='upper right')\n",
        "plt.show()"
      ],
      "execution_count": 41,
      "outputs": [
        {
          "output_type": "display_data",
          "data": {
            "image/png": "[encoded data removed]",
            "text/plain": [
              "<Figure size 432x288 with 1 Axes>"
            ]
          },
          "metadata": {
            "tags": [],
            "needs_background": "light"
          }
        }
      ]
    },
    {
      "cell_type": "code",
      "metadata": {
        "id": "HrnldxkeOSuI",
        "colab": {
          "base_uri": "https://localhost:8080/",
          "height": 295
        },
        "outputId": "b7016ac2-4d1d-4774-cafc-1d87fb9fd4b4"
      },
      "source": [
        "plt.figure()\n",
        "plt.plot(history.history['accuracy'], lw=2.0, color='b', label='train')\n",
        "plt.plot(history.history['val_accuracy'], lw=2.0, color='r', label='val')\n",
        "plt.title('Accuracy')\n",
        "plt.xlabel('Epochs')\n",
        "plt.ylabel('Accuracy')\n",
        "plt.legend(loc='upper left')\n",
        "plt.show()"
      ],
      "execution_count": 42,
      "outputs": [
        {
          "output_type": "display_data",
          "data": {
            "image/png": "[encoded data removed]",
            "text/plain": [
              "<Figure size 432x288 with 1 Axes>"
            ]
          },
          "metadata": {
            "tags": [],
            "needs_background": "light"
          }
        }
      ]
    },
    {
      "cell_type": "code",
      "metadata": {
        "id": "VYerrU8CZ0sb"
      },
      "source": [
        "\n",
        "model.load_weights('word2vec_sent_weights.best.hdf5')"
      ],
      "execution_count": 43,
      "outputs": []
    },
    {
      "cell_type": "code",
      "metadata": {
        "id": "lRwp0-QfOrQj"
      },
      "source": [
        "predictions = model.predict_classes(word_seq_test)"
      ],
      "execution_count": 44,
      "outputs": []
    },
    {
      "cell_type": "code",
      "metadata": {
        "id": "MHxUX6QHZtOB",
        "colab": {
          "base_uri": "https://localhost:8080/"
        },
        "outputId": "613879e8-9044-4a58-acb2-9757256024fe"
      },
      "source": [
        "predictions[:10].ravel()"
      ],
      "execution_count": 45,
      "outputs": [
        {
          "output_type": "execute_result",
          "data": {
            "text/plain": [
              "array([1, 1, 1, 1, 1, 1, 1, 1, 1, 1], dtype=int32)"
            ]
          },
          "metadata": {
            "tags": []
          },
          "execution_count": 45
        }
      ]
    },
    {
      "cell_type": "code",
      "metadata": {
        "id": "4UG7O8zhZvuW",
        "colab": {
          "base_uri": "https://localhost:8080/"
        },
        "outputId": "f6d61325-4680-415b-e873-fd89725b019e"
      },
      "source": [
        "np.array(train.relation.values[:10])"
      ],
      "execution_count": 46,
      "outputs": [
        {
          "output_type": "execute_result",
          "data": {
            "text/plain": [
              "array([1, 1, 1, 1, 1, 1, 1, 1, 1, 1])"
            ]
          },
          "metadata": {
            "tags": []
          },
          "execution_count": 46
        }
      ]
    },
    {
      "cell_type": "code",
      "metadata": {
        "id": "BjS4jJjpa7kp",
        "colab": {
          "base_uri": "https://localhost:8080/"
        },
        "outputId": "f6663268-70ba-427d-c0eb-214ad0bfba0d"
      },
      "source": [
        "from sklearn.metrics import confusion_matrix\n",
        "from sklearn.metrics import classification_report\n",
        "print(confusion_matrix(np.array(val.relation.values), predictions.ravel(), labels=[0,1]))\n",
        "print(classification_report(np.array(val.relation.values), predictions.ravel()))"
      ],
      "execution_count": 47,
      "outputs": [
        {
          "output_type": "stream",
          "text": [
            "[[ 56 138]\n",
            " [  6 844]]\n",
            "              precision    recall  f1-score   support\n",
            "\n",
            "           0       0.90      0.29      0.44       194\n",
            "           1       0.86      0.99      0.92       850\n",
            "\n",
            "    accuracy                           0.86      1044\n",
            "   macro avg       0.88      0.64      0.68      1044\n",
            "weighted avg       0.87      0.86      0.83      1044\n",
            "\n"
          ],
          "name": "stdout"
        }
      ]
    },
    {
      "cell_type": "code",
      "metadata": {
        "id": "7YtpaqNDcM9j",
        "colab": {
          "base_uri": "https://localhost:8080/"
        },
        "outputId": "32b4a887-e55a-4e70-f061-1ef4e05e01e4"
      },
      "source": [
        "predictions = model.predict_classes(word_seq_train)\n",
        "print(confusion_matrix(np.array(train.relation.values), predictions.ravel(), labels=[0,1]))\n",
        "print(classification_report(np.array(train.relation.values), predictions.ravel()))"
      ],
      "execution_count": 48,
      "outputs": [
        {
          "output_type": "stream",
          "text": [
            "[[ 469  891]\n",
            " [ 117 5710]]\n",
            "              precision    recall  f1-score   support\n",
            "\n",
            "           0       0.80      0.34      0.48      1360\n",
            "           1       0.87      0.98      0.92      5827\n",
            "\n",
            "    accuracy                           0.86      7187\n",
            "   macro avg       0.83      0.66      0.70      7187\n",
            "weighted avg       0.85      0.86      0.84      7187\n",
            "\n"
          ],
          "name": "stdout"
        }
      ]
    },
    {
      "cell_type": "code",
      "metadata": {
        "id": "jKHR7RG-fNAg"
      },
      "source": [
        ""
      ],
      "execution_count": null,
      "outputs": []
    }
  ]
}