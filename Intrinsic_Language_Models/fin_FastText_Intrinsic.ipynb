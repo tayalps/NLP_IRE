{
 "cells": [
  {
   "cell_type": "code",
   "execution_count": 1,
   "metadata": {},
   "outputs": [],
   "source": [
    "import gensim\n",
    "from tqdm import tqdm\n",
    "import os\n",
    "from gensim.models.fasttext import FastText\n",
    "\n",
    "model_name = \"fin_fastText\"\n",
    "wikicrawl_model_path = '/hdd/data/NLP_data/fasttext/cc.en.300.bin.gz'"
   ]
  },
  {
   "cell_type": "code",
   "execution_count": 2,
   "metadata": {},
   "outputs": [],
   "source": [
    "class MySentences(object):\n",
    "    def __init__(self, dirname):\n",
    "        self.dirname = dirname\n",
    "\n",
    "    def __iter__(self):\n",
    "        for fname in tqdm(os.listdir(self.dirname)):\n",
    "            for line in open(os.path.join(self.dirname, fname)):\n",
    "                yield line.split()\n",
    "                \n",
    "path_10k = './data/10k_1900_org/'\n",
    "sentences = MySentences(path_10k)"
   ]
  },
  {
   "cell_type": "code",
   "execution_count": 4,
   "metadata": {},
   "outputs": [],
   "source": [
    "num_features = 300\n",
    "\n",
    "# Min number of word count to be considered in the Word2vec model. If your corpus is\n",
    "# small, reduce the min count. If you’re training with a large corpus, increase the min count.\n",
    "min_word_count = 3\n",
    "\n",
    "num_workers = 15   # CPU cores\n",
    "\n",
    "window_size = 6    # Context window\n",
    "\n",
    "subsampling = 1e-3     # Subsampling rate for frequent terms"
   ]
  },
  {
   "cell_type": "code",
   "execution_count": 5,
   "metadata": {},
   "outputs": [
    {
     "name": "stderr",
     "output_type": "stream",
     "text": [
      "100%|██████████| 33612/33612 [11:35<00:00, 48.33it/s]\n",
      "100%|██████████| 33612/33612 [1:18:01<00:00,  7.18it/s]\n",
      "100%|██████████| 33612/33612 [1:15:51<00:00,  7.38it/s]\n",
      "100%|██████████| 33612/33612 [1:16:55<00:00,  7.28it/s]\n",
      "100%|██████████| 33612/33612 [1:17:14<00:00,  7.25it/s]\n",
      "100%|██████████| 33612/33612 [1:17:08<00:00,  7.26it/s]\n"
     ]
    }
   ],
   "source": [
    "model_2 = FastText(sentences,\n",
    "                workers=num_workers,\n",
    "                size=num_features,\n",
    "                min_count=min_word_count,\n",
    "                window=window_size,\n",
    "                sample=subsampling)\n",
    "\n",
    "model_2.init_sims(replace=True)\n",
    "model_2.save(model_name)"
   ]
  },
  {
   "cell_type": "code",
   "execution_count": 2,
   "metadata": {},
   "outputs": [],
   "source": [
    "model_fin = FastText.load(model_name)"
   ]
  },
  {
   "cell_type": "code",
   "execution_count": 2,
   "metadata": {},
   "outputs": [
    {
     "name": "stderr",
     "output_type": "stream",
     "text": [
      "/home/abhishek/py_enviros/ir/lib/python3.7/site-packages/ipykernel_launcher.py:1: DeprecationWarning: Call to deprecated `load_fasttext_format` (use load_facebook_vectors (to use pretrained embeddings) or load_facebook_model (to continue training with the loaded full model, more RAM) instead).\n",
      "  \"\"\"Entry point for launching an IPython kernel.\n"
     ]
    }
   ],
   "source": [
    "model_gen = FastText.load_fasttext_format(wikicrawl_model_path)"
   ]
  },
  {
   "cell_type": "code",
   "execution_count": 4,
   "metadata": {},
   "outputs": [
    {
     "name": "stderr",
     "output_type": "stream",
     "text": [
      "/home/abhishek/py_enviros/ir/lib/python3.7/site-packages/ipykernel_launcher.py:1: DeprecationWarning: Call to deprecated `most_similar` (Method will be removed in 4.0.0, use self.wv.most_similar() instead).\n",
      "  \"\"\"Entry point for launching an IPython kernel.\n"
     ]
    },
    {
     "data": {
      "text/plain": [
       "[('ofloss', 0.890337347984314),\n",
       " ('floss', 0.8356920480728149),\n",
       " ('Bloss', 0.8123934268951416),\n",
       " ('9-loss', 0.7927606105804443),\n",
       " ('loss-to', 0.7897751331329346),\n",
       " ('gloss', 0.7848764657974243),\n",
       " ('Floss', 0.7773358821868896),\n",
       " ('Hyaloss', 0.7669594287872314),\n",
       " ('oss', 0.7598452568054199),\n",
       " ('loss-in', 0.7554029226303101)]"
      ]
     },
     "execution_count": 4,
     "metadata": {},
     "output_type": "execute_result"
    }
   ],
   "source": [
    "model_fin.most_similar('loss')"
   ]
  },
  {
   "cell_type": "code",
   "execution_count": 3,
   "metadata": {},
   "outputs": [
    {
     "name": "stderr",
     "output_type": "stream",
     "text": [
      "/home/abhishek/py_enviros/ir/lib/python3.7/site-packages/ipykernel_launcher.py:1: DeprecationWarning: Call to deprecated `most_similar` (Method will be removed in 4.0.0, use self.wv.most_similar() instead).\n",
      "  \"\"\"Entry point for launching an IPython kernel.\n"
     ]
    },
    {
     "data": {
      "text/plain": [
       "[('losss', 0.7334765791893005),\n",
       " ('loss.This', 0.7255129814147949),\n",
       " ('loss.The', 0.7128227353096008),\n",
       " ('losses', 0.6911417245864868),\n",
       " ('Loss', 0.6874713897705078),\n",
       " ('loss.For', 0.6858099102973938),\n",
       " ('loss.A', 0.680489182472229),\n",
       " ('loss.It', 0.6801986694335938),\n",
       " ('loss.What', 0.676287055015564),\n",
       " ('loss.As', 0.6576715707778931)]"
      ]
     },
     "execution_count": 3,
     "metadata": {},
     "output_type": "execute_result"
    }
   ],
   "source": [
    "model_gen.most_similar('loss')"
   ]
  },
  {
   "cell_type": "code",
   "execution_count": 5,
   "metadata": {},
   "outputs": [
    {
     "name": "stderr",
     "output_type": "stream",
     "text": [
      "/home/abhishek/py_enviros/ir/lib/python3.7/site-packages/ipykernel_launcher.py:1: DeprecationWarning: Call to deprecated `most_similar` (Method will be removed in 4.0.0, use self.wv.most_similar() instead).\n",
      "  \"\"\"Entry point for launching an IPython kernel.\n"
     ]
    },
    {
     "data": {
      "text/plain": [
       "[('seasonalities', 0.8980686664581299),\n",
       " ('easonality', 0.8899626731872559),\n",
       " ('seasonal', 0.8749849796295166),\n",
       " ('Seasonality', 0.8635506629943848),\n",
       " ('seasonally', 0.8343007564544678),\n",
       " ('seasonals', 0.8302024602890015),\n",
       " ('seasonalization', 0.812686562538147),\n",
       " ('unseasonal', 0.7761639356613159),\n",
       " ('highly-seasonal', 0.7701408863067627),\n",
       " ('season-long', 0.7665684223175049)]"
      ]
     },
     "execution_count": 5,
     "metadata": {},
     "output_type": "execute_result"
    }
   ],
   "source": [
    "model_fin.most_similar('seasonality')"
   ]
  },
  {
   "cell_type": "code",
   "execution_count": 4,
   "metadata": {},
   "outputs": [
    {
     "name": "stderr",
     "output_type": "stream",
     "text": [
      "/home/abhishek/py_enviros/ir/lib/python3.7/site-packages/ipykernel_launcher.py:1: DeprecationWarning: Call to deprecated `most_similar` (Method will be removed in 4.0.0, use self.wv.most_similar() instead).\n",
      "  \"\"\"Entry point for launching an IPython kernel.\n"
     ]
    },
    {
     "data": {
      "text/plain": [
       "[('Seasonality', 0.7085835933685303),\n",
       " ('seasonal', 0.6557377576828003),\n",
       " ('cyclicality', 0.5515122413635254),\n",
       " ('regionality', 0.5479952692985535),\n",
       " ('inter-annual', 0.5343412160873413),\n",
       " ('weather-driven', 0.5293775796890259),\n",
       " ('variability', 0.519621729850769),\n",
       " ('perishability', 0.5050967931747437),\n",
       " ('seasonally', 0.5007082223892212),\n",
       " ('Inter-annual', 0.4985356032848358)]"
      ]
     },
     "execution_count": 4,
     "metadata": {},
     "output_type": "execute_result"
    }
   ],
   "source": [
    "model_gen.most_similar('seasonality')"
   ]
  },
  {
   "cell_type": "code",
   "execution_count": 6,
   "metadata": {},
   "outputs": [
    {
     "name": "stderr",
     "output_type": "stream",
     "text": [
      "/home/abhishek/py_enviros/ir/lib/python3.7/site-packages/ipykernel_launcher.py:1: DeprecationWarning: Call to deprecated `most_similar` (Method will be removed in 4.0.0, use self.wv.most_similar() instead).\n",
      "  \"\"\"Entry point for launching an IPython kernel.\n"
     ]
    },
    {
     "data": {
      "text/plain": [
       "[('allrisk', 0.8738307356834412),\n",
       " ('brisk', 0.8724291324615479),\n",
       " ('frisk', 0.8575959205627441),\n",
       " ('derisk', 0.831020712852478),\n",
       " ('risked', 0.8276611566543579),\n",
       " ('no-risk', 0.8184072971343994),\n",
       " ('nonrisk', 0.8070550560951233),\n",
       " ('risking', 0.8007574677467346),\n",
       " ('BSE-risk', 0.7981597185134888),\n",
       " ('11-risk', 0.7980679273605347)]"
      ]
     },
     "execution_count": 6,
     "metadata": {},
     "output_type": "execute_result"
    }
   ],
   "source": [
    "model_fin.most_similar('risk')"
   ]
  },
  {
   "cell_type": "code",
   "execution_count": 5,
   "metadata": {},
   "outputs": [
    {
     "name": "stderr",
     "output_type": "stream",
     "text": [
      "/home/abhishek/py_enviros/ir/lib/python3.7/site-packages/ipykernel_launcher.py:1: DeprecationWarning: Call to deprecated `most_similar` (Method will be removed in 4.0.0, use self.wv.most_similar() instead).\n",
      "  \"\"\"Entry point for launching an IPython kernel.\n"
     ]
    },
    {
     "data": {
      "text/plain": [
       "[('risks', 0.7740093469619751),\n",
       " ('risk.The', 0.6752172708511353),\n",
       " ('risk.So', 0.666144847869873),\n",
       " ('risk.But', 0.6638855934143066),\n",
       " ('risk.And', 0.6605761051177979),\n",
       " ('risk-', 0.6578416228294373),\n",
       " ('risk.When', 0.6543805003166199),\n",
       " ('risk.If', 0.6510000824928284),\n",
       " ('risk.What', 0.6474353671073914),\n",
       " ('risk.A', 0.6465111374855042)]"
      ]
     },
     "execution_count": 5,
     "metadata": {},
     "output_type": "execute_result"
    }
   ],
   "source": [
    "model_gen.most_similar('risk')"
   ]
  },
  {
   "cell_type": "code",
   "execution_count": 11,
   "metadata": {},
   "outputs": [
    {
     "name": "stderr",
     "output_type": "stream",
     "text": [
      "/home/abhishek/py_enviros/ir/lib/python3.7/site-packages/ipykernel_launcher.py:1: DeprecationWarning: Call to deprecated `most_similar` (Method will be removed in 4.0.0, use self.wv.most_similar() instead).\n",
      "  \"\"\"Entry point for launching an IPython kernel.\n"
     ]
    },
    {
     "data": {
      "text/plain": [
       "[('Apple-Maple', 0.8402974009513855),\n",
       " ('Appleway', 0.8382313251495361),\n",
       " ('AppleTV', 0.8381091952323914),\n",
       " ('AppleTree', 0.8255001306533813),\n",
       " ('AppleTalk', 0.8158453702926636),\n",
       " ('Apple-Bran', 0.7964247465133667),\n",
       " ('Applets', 0.7963478565216064),\n",
       " ('Appleby', 0.7672456502914429),\n",
       " ('Applera', 0.760189414024353),\n",
       " ('AppleWorks', 0.7567356824874878)]"
      ]
     },
     "execution_count": 11,
     "metadata": {},
     "output_type": "execute_result"
    }
   ],
   "source": [
    "model_fin.most_similar('Apple')"
   ]
  },
  {
   "cell_type": "code",
   "execution_count": 6,
   "metadata": {},
   "outputs": [
    {
     "name": "stderr",
     "output_type": "stream",
     "text": [
      "/home/abhishek/py_enviros/ir/lib/python3.7/site-packages/ipykernel_launcher.py:1: DeprecationWarning: Call to deprecated `most_similar` (Method will be removed in 4.0.0, use self.wv.most_similar() instead).\n",
      "  \"\"\"Entry point for launching an IPython kernel.\n"
     ]
    },
    {
     "data": {
      "text/plain": [
       "[('it.Apple', 0.7653288245201111),\n",
       " ('Appple', 0.7602000832557678),\n",
       " ('.Apple', 0.755521833896637),\n",
       " ('Apple.The', 0.7497228384017944),\n",
       " ('Apple.Apple', 0.7486269474029541),\n",
       " ('Apple.I', 0.733421802520752),\n",
       " ('Apple.', 0.7238131165504456),\n",
       " ('APple', 0.7206739187240601),\n",
       " ('Apple-', 0.7096549272537231),\n",
       " ('-Apple', 0.7031974792480469)]"
      ]
     },
     "execution_count": 6,
     "metadata": {},
     "output_type": "execute_result"
    }
   ],
   "source": [
    "model_gen.most_similar('Apple')"
   ]
  },
  {
   "cell_type": "markdown",
   "metadata": {},
   "source": [
    "### Analogy Intrinsic Task"
   ]
  },
  {
   "cell_type": "code",
   "execution_count": 7,
   "metadata": {},
   "outputs": [],
   "source": [
    "def analogy(model, x1, x2, y1):\n",
    "    result = model.most_similar(positive=[y1, x2], negative=[x1])\n",
    "    return result"
   ]
  },
  {
   "cell_type": "code",
   "execution_count": 13,
   "metadata": {},
   "outputs": [
    {
     "name": "stderr",
     "output_type": "stream",
     "text": [
      "/home/abhishek/py_enviros/ir/lib/python3.7/site-packages/ipykernel_launcher.py:2: DeprecationWarning: Call to deprecated `most_similar` (Method will be removed in 4.0.0, use self.wv.most_similar() instead).\n",
      "  \n"
     ]
    },
    {
     "data": {
      "text/plain": [
       "[('GoogleTalk', 0.6961064338684082),\n",
       " ('GoogleTV', 0.6658910512924194),\n",
       " ('GooglePlay', 0.6595224738121033),\n",
       " ('XOS', 0.6076368093490601),\n",
       " ('U2OS', 0.6062806844711304),\n",
       " ('iQOS', 0.6059697866439819),\n",
       " ('UOS', 0.6048296689987183),\n",
       " ('tvOS', 0.6047015190124512),\n",
       " ('VDC-OS', 0.6013907194137573),\n",
       " ('QOS', 0.5998739004135132)]"
      ]
     },
     "execution_count": 13,
     "metadata": {},
     "output_type": "execute_result"
    }
   ],
   "source": [
    "analogy(model_fin, 'Apple', 'iOS', 'Google')"
   ]
  },
  {
   "cell_type": "code",
   "execution_count": 8,
   "metadata": {},
   "outputs": [
    {
     "name": "stderr",
     "output_type": "stream",
     "text": [
      "/home/abhishek/py_enviros/ir/lib/python3.7/site-packages/ipykernel_launcher.py:2: DeprecationWarning: Call to deprecated `most_similar` (Method will be removed in 4.0.0, use self.wv.most_similar() instead).\n",
      "  \n"
     ]
    },
    {
     "data": {
      "text/plain": [
       "[('Goolge', 0.5854696035385132),\n",
       " ('Android', 0.5613083839416504),\n",
       " ('Google-based', 0.5477690696716309),\n",
       " ('non-Google', 0.5467671751976013),\n",
       " ('PlayStore', 0.5415773391723633),\n",
       " ('Playstore', 0.5240368843078613),\n",
       " ('Googl', 0.5231307744979858),\n",
       " ('Gooogle', 0.5130299925804138),\n",
       " ('Duckduckgo', 0.5111956000328064),\n",
       " ('Google-powered', 0.5085136890411377)]"
      ]
     },
     "execution_count": 8,
     "metadata": {},
     "output_type": "execute_result"
    }
   ],
   "source": [
    "analogy(model_gen, 'Apple', 'iOS', 'Google')"
   ]
  },
  {
   "cell_type": "code",
   "execution_count": 14,
   "metadata": {},
   "outputs": [
    {
     "name": "stderr",
     "output_type": "stream",
     "text": [
      "/home/abhishek/py_enviros/ir/lib/python3.7/site-packages/ipykernel_launcher.py:2: DeprecationWarning: Call to deprecated `most_similar` (Method will be removed in 4.0.0, use self.wv.most_similar() instead).\n",
      "  \n"
     ]
    },
    {
     "data": {
      "text/plain": [
       "[('Applets', 0.6414984464645386),\n",
       " ('Appleway', 0.6364439725875854),\n",
       " ('T-Windows', 0.5982998609542847),\n",
       " ('PC-Windows', 0.5875476598739624),\n",
       " ('AppleTalk', 0.5862503051757812),\n",
       " ('WindowsNT', 0.5860491991043091),\n",
       " ('Apple-Maple', 0.5821086168289185),\n",
       " ('Windows-NT', 0.5811418294906616),\n",
       " ('AppleTree', 0.5788018107414246),\n",
       " ('Windows-98', 0.5676395893096924)]"
      ]
     },
     "execution_count": 14,
     "metadata": {},
     "output_type": "execute_result"
    }
   ],
   "source": [
    "analogy(model_fin, 'Microsoft', 'Windows', 'Apple')"
   ]
  },
  {
   "cell_type": "code",
   "execution_count": 9,
   "metadata": {},
   "outputs": [
    {
     "name": "stderr",
     "output_type": "stream",
     "text": [
      "/home/abhishek/py_enviros/ir/lib/python3.7/site-packages/ipykernel_launcher.py:2: DeprecationWarning: Call to deprecated `most_similar` (Method will be removed in 4.0.0, use self.wv.most_similar() instead).\n",
      "  \n"
     ]
    },
    {
     "data": {
      "text/plain": [
       "[('non-Apple', 0.636342465877533),\n",
       " ('MacOS', 0.6233527660369873),\n",
       " ('iPhone', 0.6224514245986938),\n",
       " ('Macs', 0.5982366800308228),\n",
       " ('OSX', 0.5976234674453735),\n",
       " ('OS-X', 0.5964261293411255),\n",
       " ('iDevice', 0.5938002467155457),\n",
       " ('iDevices', 0.5919661521911621),\n",
       " ('Apple-only', 0.5861397385597229),\n",
       " ('MacBook', 0.5859448909759521)]"
      ]
     },
     "execution_count": 9,
     "metadata": {},
     "output_type": "execute_result"
    }
   ],
   "source": [
    "analogy(model_gen, 'Microsoft', 'Windows', 'Apple')"
   ]
  },
  {
   "cell_type": "code",
   "execution_count": 15,
   "metadata": {},
   "outputs": [
    {
     "name": "stderr",
     "output_type": "stream",
     "text": [
      "/home/abhishek/py_enviros/ir/lib/python3.7/site-packages/ipykernel_launcher.py:2: DeprecationWarning: Call to deprecated `most_similar` (Method will be removed in 4.0.0, use self.wv.most_similar() instead).\n",
      "  \n"
     ]
    },
    {
     "data": {
      "text/plain": [
       "[('Edella', 0.6033862233161926),\n",
       " ('Hogle', 0.6022924780845642),\n",
       " ('Nagle', 0.5786951780319214),\n",
       " ('Nagano', 0.5769627690315247),\n",
       " ('Napko', 0.5749585628509521),\n",
       " ('Manzella', 0.5715896487236023),\n",
       " ('Bogle', 0.5707690715789795),\n",
       " ('Berdella', 0.5639384984970093),\n",
       " ('Kayla', 0.5626692771911621),\n",
       " ('Arbella', 0.5572326183319092)]"
      ]
     },
     "execution_count": 15,
     "metadata": {},
     "output_type": "execute_result"
    }
   ],
   "source": [
    "analogy(model_fin, 'Microsoft', 'Nadella', 'Google') "
   ]
  },
  {
   "cell_type": "code",
   "execution_count": 10,
   "metadata": {},
   "outputs": [
    {
     "name": "stderr",
     "output_type": "stream",
     "text": [
      "/home/abhishek/py_enviros/ir/lib/python3.7/site-packages/ipykernel_launcher.py:2: DeprecationWarning: Call to deprecated `most_similar` (Method will be removed in 4.0.0, use self.wv.most_similar() instead).\n",
      "  \n"
     ]
    },
    {
     "data": {
      "text/plain": [
       "[('Pichai', 0.5784732103347778),\n",
       " ('Gundotra', 0.5470738410949707),\n",
       " ('Goolge', 0.5454666614532471),\n",
       " ('it.Google', 0.5362425446510315),\n",
       " ('results.Google', 0.5269278883934021),\n",
       " ('.Google', 0.5236651301383972),\n",
       " ('Singhal', 0.5049352645874023),\n",
       " ('them.Google', 0.5013078451156616),\n",
       " ('time.Google', 0.49742263555526733),\n",
       " ('year.Google', 0.4950457215309143)]"
      ]
     },
     "execution_count": 10,
     "metadata": {},
     "output_type": "execute_result"
    }
   ],
   "source": [
    "analogy(model_gen, 'Microsoft', 'Nadella', 'Google') "
   ]
  },
  {
   "cell_type": "code",
   "execution_count": 16,
   "metadata": {},
   "outputs": [
    {
     "name": "stderr",
     "output_type": "stream",
     "text": [
      "/home/abhishek/py_enviros/ir/lib/python3.7/site-packages/ipykernel_launcher.py:2: DeprecationWarning: Call to deprecated `most_similar` (Method will be removed in 4.0.0, use self.wv.most_similar() instead).\n",
      "  \n"
     ]
    },
    {
     "data": {
      "text/plain": [
       "[('catfootwear', 0.6139020919799805),\n",
       " ('apparel', 0.5720506906509399),\n",
       " ('fanwear', 0.5599423050880432),\n",
       " ('sportwear', 0.5525834560394287),\n",
       " ('knitwear', 0.5521601438522339),\n",
       " ('gbyguess', 0.5437756776809692),\n",
       " ('sunwear', 0.5367267727851868),\n",
       " ('non-footwear', 0.5362016558647156),\n",
       " ('shirts', 0.5350160002708435),\n",
       " ('gymwear', 0.5305541753768921)]"
      ]
     },
     "execution_count": 16,
     "metadata": {},
     "output_type": "execute_result"
    }
   ],
   "source": [
    "analogy(model_fin, 'Footlocker', 'footwear', 'Guess')"
   ]
  },
  {
   "cell_type": "code",
   "execution_count": 11,
   "metadata": {},
   "outputs": [
    {
     "name": "stderr",
     "output_type": "stream",
     "text": [
      "/home/abhishek/py_enviros/ir/lib/python3.7/site-packages/ipykernel_launcher.py:2: DeprecationWarning: Call to deprecated `most_similar` (Method will be removed in 4.0.0, use self.wv.most_similar() instead).\n",
      "  \n"
     ]
    },
    {
     "data": {
      "text/plain": [
       "[('footware', 0.4503112733364105),\n",
       " ('footgear', 0.4158216118812561),\n",
       " ('guess', 0.4076118469238281),\n",
       " ('sandals', 0.3925032615661621),\n",
       " ('Which', 0.3820652663707733),\n",
       " ('Yup', 0.3756042718887329),\n",
       " ('Well', 0.3740895986557007),\n",
       " ('Yep', 0.37200161814689636),\n",
       " ('Pfffft', 0.3713054656982422),\n",
       " ('wear', 0.3711497187614441)]"
      ]
     },
     "execution_count": 11,
     "metadata": {},
     "output_type": "execute_result"
    }
   ],
   "source": [
    "analogy(model_gen, 'Footlocker', 'footwear', 'Guess')"
   ]
  },
  {
   "cell_type": "code",
   "execution_count": 17,
   "metadata": {},
   "outputs": [
    {
     "name": "stderr",
     "output_type": "stream",
     "text": [
      "/home/abhishek/py_enviros/ir/lib/python3.7/site-packages/ipykernel_launcher.py:2: DeprecationWarning: Call to deprecated `most_similar` (Method will be removed in 4.0.0, use self.wv.most_similar() instead).\n",
      "  \n"
     ]
    },
    {
     "data": {
      "text/plain": [
       "[('California-San', 0.7171660661697388),\n",
       " ('Californias', 0.7127123475074768),\n",
       " ('Californiana', 0.7097970247268677),\n",
       " ('Californian', 0.7094095945358276),\n",
       " ('California-RC', 0.6976732611656189),\n",
       " ('CIF-California', 0.6961057782173157),\n",
       " ('California-4', 0.6919218301773071),\n",
       " ('California-2', 0.6896807551383972),\n",
       " ('California-1', 0.6815003156661987),\n",
       " ('Calfornia', 0.6795672178268433)]"
      ]
     },
     "execution_count": 17,
     "metadata": {},
     "output_type": "execute_result"
    }
   ],
   "source": [
    "analogy(model_fin, 'Google', 'California', 'Microsoft')"
   ]
  },
  {
   "cell_type": "code",
   "execution_count": 12,
   "metadata": {},
   "outputs": [
    {
     "name": "stderr",
     "output_type": "stream",
     "text": [
      "/home/abhishek/py_enviros/ir/lib/python3.7/site-packages/ipykernel_launcher.py:2: DeprecationWarning: Call to deprecated `most_similar` (Method will be removed in 4.0.0, use self.wv.most_similar() instead).\n",
      "  \n"
     ]
    },
    {
     "data": {
      "text/plain": [
       "[('Calfornia', 0.5600494146347046),\n",
       " ('California.The', 0.5311040878295898),\n",
       " ('Califronia', 0.5219330191612244),\n",
       " ('Cailfornia', 0.5049483180046082),\n",
       " ('Californa', 0.5044211149215698),\n",
       " ('Californian', 0.5039470195770264),\n",
       " ('Angeles', 0.5008695125579834),\n",
       " ('California.A', 0.4972369968891144),\n",
       " ('Californina', 0.4954446256160736),\n",
       " ('Califonia', 0.49203410744667053)]"
      ]
     },
     "execution_count": 12,
     "metadata": {},
     "output_type": "execute_result"
    }
   ],
   "source": [
    "analogy(model_gen, 'Google', 'California', 'Microsoft')"
   ]
  },
  {
   "cell_type": "markdown",
   "metadata": {},
   "source": [
    "### Odd-one-out Intrinsic Task"
   ]
  },
  {
   "cell_type": "code",
   "execution_count": 18,
   "metadata": {},
   "outputs": [
    {
     "name": "stdout",
     "output_type": "stream",
     "text": [
      "cereal\n"
     ]
    },
    {
     "name": "stderr",
     "output_type": "stream",
     "text": [
      "/home/abhishek/py_enviros/ir/lib/python3.7/site-packages/ipykernel_launcher.py:1: DeprecationWarning: Call to deprecated `doesnt_match` (Method will be removed in 4.0.0, use self.wv.doesnt_match() instead).\n",
      "  \"\"\"Entry point for launching an IPython kernel.\n",
      "/home/abhishek/py_enviros/ir/lib/python3.7/site-packages/gensim/models/keyedvectors.py:877: FutureWarning: arrays to stack must be passed as a \"sequence\" type such as list or tuple. Support for non-sequence iterables such as generators is deprecated as of NumPy 1.16 and will raise an error in the future.\n",
      "  vectors = vstack(self.word_vec(word, use_norm=True) for word in used_words).astype(REAL)\n"
     ]
    }
   ],
   "source": [
    "print(model_fin.doesnt_match(\"breakfast cereal dinner lunch\".split()))"
   ]
  },
  {
   "cell_type": "code",
   "execution_count": 3,
   "metadata": {},
   "outputs": [
    {
     "name": "stderr",
     "output_type": "stream",
     "text": [
      "/home/abhishek/py_enviros/ir/lib/python3.7/site-packages/ipykernel_launcher.py:1: DeprecationWarning: Call to deprecated `doesnt_match` (Method will be removed in 4.0.0, use self.wv.doesnt_match() instead).\n",
      "  \"\"\"Entry point for launching an IPython kernel.\n"
     ]
    },
    {
     "name": "stdout",
     "output_type": "stream",
     "text": [
      "Facebook\n"
     ]
    },
    {
     "name": "stderr",
     "output_type": "stream",
     "text": [
      "/home/abhishek/py_enviros/ir/lib/python3.7/site-packages/gensim/models/keyedvectors.py:877: FutureWarning: arrays to stack must be passed as a \"sequence\" type such as list or tuple. Support for non-sequence iterables such as generators is deprecated as of NumPy 1.16 and will raise an error in the future.\n",
      "  vectors = vstack(self.word_vec(word, use_norm=True) for word in used_words).astype(REAL)\n"
     ]
    }
   ],
   "source": [
    "print(model_fin.doesnt_match(\"Microsoft Google Facebook Netflix Apple\".split()))"
   ]
  },
  {
   "cell_type": "code",
   "execution_count": 14,
   "metadata": {},
   "outputs": [
    {
     "name": "stdout",
     "output_type": "stream",
     "text": [
      "Netflix\n"
     ]
    },
    {
     "name": "stderr",
     "output_type": "stream",
     "text": [
      "/home/abhishek/py_enviros/ir/lib/python3.7/site-packages/ipykernel_launcher.py:1: DeprecationWarning: Call to deprecated `doesnt_match` (Method will be removed in 4.0.0, use self.wv.doesnt_match() instead).\n",
      "  \"\"\"Entry point for launching an IPython kernel.\n"
     ]
    }
   ],
   "source": [
    "print(model_gen.doesnt_match(\"Microsoft Google Facebook Netflix Apple\".split()))"
   ]
  },
  {
   "cell_type": "code",
   "execution_count": 4,
   "metadata": {},
   "outputs": [
    {
     "name": "stdout",
     "output_type": "stream",
     "text": [
      "McDonald's\n"
     ]
    },
    {
     "name": "stderr",
     "output_type": "stream",
     "text": [
      "/home/abhishek/py_enviros/ir/lib/python3.7/site-packages/ipykernel_launcher.py:1: DeprecationWarning: Call to deprecated `doesnt_match` (Method will be removed in 4.0.0, use self.wv.doesnt_match() instead).\n",
      "  \"\"\"Entry point for launching an IPython kernel.\n"
     ]
    }
   ],
   "source": [
    "print(model_fin.doesnt_match(\"Guess McDonald's Darden Starbucks\".split()))"
   ]
  },
  {
   "cell_type": "code",
   "execution_count": 15,
   "metadata": {},
   "outputs": [
    {
     "name": "stdout",
     "output_type": "stream",
     "text": [
      "McDonald's\n"
     ]
    },
    {
     "name": "stderr",
     "output_type": "stream",
     "text": [
      "/home/abhishek/py_enviros/ir/lib/python3.7/site-packages/ipykernel_launcher.py:1: DeprecationWarning: Call to deprecated `doesnt_match` (Method will be removed in 4.0.0, use self.wv.doesnt_match() instead).\n",
      "  \"\"\"Entry point for launching an IPython kernel.\n"
     ]
    }
   ],
   "source": [
    "print(model_gen.doesnt_match(\"Guess McDonald's Darden Starbucks\".split()))"
   ]
  },
  {
   "cell_type": "code",
   "execution_count": 5,
   "metadata": {},
   "outputs": [
    {
     "name": "stdout",
     "output_type": "stream",
     "text": [
      "Cashflows\n"
     ]
    },
    {
     "name": "stderr",
     "output_type": "stream",
     "text": [
      "/home/abhishek/py_enviros/ir/lib/python3.7/site-packages/ipykernel_launcher.py:1: DeprecationWarning: Call to deprecated `doesnt_match` (Method will be removed in 4.0.0, use self.wv.doesnt_match() instead).\n",
      "  \"\"\"Entry point for launching an IPython kernel.\n"
     ]
    }
   ],
   "source": [
    "print(model_fin.doesnt_match(\"Inventory Receivables Payable Cashflows\".split()))  "
   ]
  },
  {
   "cell_type": "code",
   "execution_count": 16,
   "metadata": {},
   "outputs": [
    {
     "name": "stdout",
     "output_type": "stream",
     "text": [
      "Cashflows\n"
     ]
    },
    {
     "name": "stderr",
     "output_type": "stream",
     "text": [
      "/home/abhishek/py_enviros/ir/lib/python3.7/site-packages/ipykernel_launcher.py:1: DeprecationWarning: Call to deprecated `doesnt_match` (Method will be removed in 4.0.0, use self.wv.doesnt_match() instead).\n",
      "  \"\"\"Entry point for launching an IPython kernel.\n"
     ]
    }
   ],
   "source": [
    "print(model_gen.doesnt_match(\"Inventory Receivables Payable Cashflows\".split()))"
   ]
  }
 ],
 "metadata": {
  "kernelspec": {
   "display_name": "Python 3",
   "language": "python",
   "name": "python3"
  },
  "language_info": {
   "codemirror_mode": {
    "name": "ipython",
    "version": 3
   },
   "file_extension": ".py",
   "mimetype": "text/x-python",
   "name": "python",
   "nbconvert_exporter": "python",
   "pygments_lexer": "ipython3",
   "version": "3.7.9"
  }
 },
 "nbformat": 4,
 "nbformat_minor": 4
}
