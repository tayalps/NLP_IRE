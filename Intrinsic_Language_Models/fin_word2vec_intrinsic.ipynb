{
 "cells": [
  {
   "cell_type": "code",
   "execution_count": 1,
   "metadata": {},
   "outputs": [],
   "source": [
    "import gensim\n",
    "import os\n",
    "\n",
    "from tqdm import tqdm\n",
    "from gensim.models.keyedvectors import KeyedVectors\n",
    "\n",
    "path_10k = './data/10k_1900_org/'\n",
    "model_name = \"fin_word2vec\""
   ]
  },
  {
   "cell_type": "code",
   "execution_count": 2,
   "metadata": {},
   "outputs": [],
   "source": [
    "class MySentences(object):\n",
    "    def __init__(self, dirname):\n",
    "        self.dirname = dirname\n",
    "\n",
    "    def __iter__(self):\n",
    "        for fname in tqdm(os.listdir(self.dirname)):\n",
    "            for line in open(os.path.join(self.dirname, fname)):\n",
    "                yield line.split()\n",
    "                \n",
    "sentences = MySentences(path_10k)"
   ]
  },
  {
   "cell_type": "code",
   "execution_count": 4,
   "metadata": {},
   "outputs": [],
   "source": [
    "num_features = 300\n",
    "\n",
    "# Min number of word count to be considered in the Word2vec model. If your corpus is\n",
    "# small, reduce the min count. If you’re training with a large corpus, increase the min count.\n",
    "min_word_count = 3\n",
    "\n",
    "num_workers = 15   # CPU cores\n",
    "\n",
    "window_size = 6    # Context window\n",
    "\n",
    "subsampling = 1e-3     # Subsampling rate for frequent terms"
   ]
  },
  {
   "cell_type": "code",
   "execution_count": 6,
   "metadata": {},
   "outputs": [
    {
     "name": "stderr",
     "output_type": "stream",
     "text": [
      "100%|██████████| 33612/33612 [04:42<00:00, 118.93it/s]\n",
      "100%|██████████| 33612/33612 [22:38<00:00, 24.75it/s]\n",
      "100%|██████████| 33612/33612 [22:09<00:00, 25.28it/s]\n",
      "100%|██████████| 33612/33612 [22:03<00:00, 25.40it/s]\n",
      "100%|██████████| 33612/33612 [23:01<00:00, 24.34it/s]\n",
      "100%|██████████| 33612/33612 [24:03<00:00, 23.28it/s]\n"
     ]
    }
   ],
   "source": [
    "model_fin = gensim.models.Word2Vec(sentences,\n",
    "                workers=num_workers,\n",
    "                size=num_features,\n",
    "                min_count=min_word_count,\n",
    "                window=window_size,\n",
    "                sample=subsampling)"
   ]
  },
  {
   "cell_type": "code",
   "execution_count": 7,
   "metadata": {},
   "outputs": [],
   "source": [
    "model_fin.init_sims(replace=True)\n",
    "model_fin.save(model_name)"
   ]
  },
  {
   "cell_type": "code",
   "execution_count": 4,
   "metadata": {},
   "outputs": [],
   "source": [
    "model_fin = gensim.models.Word2Vec.load(model_name)"
   ]
  },
  {
   "cell_type": "code",
   "execution_count": 5,
   "metadata": {},
   "outputs": [],
   "source": [
    "general_word2vec_file_path = '/hdd/data/NLP_data/GoogleNews-vectors-negative300.bin.gz'\n",
    "model_gen = KeyedVectors.load_word2vec_format(general_word2vec_file_path, binary=True)"
   ]
  },
  {
   "cell_type": "code",
   "execution_count": 6,
   "metadata": {},
   "outputs": [
    {
     "name": "stderr",
     "output_type": "stream",
     "text": [
      "/home/abhishek/py_enviros/ir/lib/python3.7/site-packages/ipykernel_launcher.py:1: DeprecationWarning: Call to deprecated `most_similar` (Method will be removed in 4.0.0, use self.wv.most_similar() instead).\n",
      "  \"\"\"Entry point for launching an IPython kernel.\n"
     ]
    },
    {
     "data": {
      "text/plain": [
       "[('losses', 0.5062823295593262),\n",
       " ('reduction', 0.449474036693573),\n",
       " ('write-offs', 0.4352741837501526),\n",
       " ('pretax', 0.4253714680671692),\n",
       " ('catastrophic', 0.4217339754104614),\n",
       " ('Loss', 0.41880518198013306),\n",
       " ('claims', 0.410952091217041),\n",
       " ('adjusting', 0.4031469523906708),\n",
       " ('write-downs', 0.40068864822387695),\n",
       " ('realized', 0.3899797797203064)]"
      ]
     },
     "execution_count": 6,
     "metadata": {},
     "output_type": "execute_result"
    }
   ],
   "source": [
    "model_fin.most_similar('loss')"
   ]
  },
  {
   "cell_type": "code",
   "execution_count": 7,
   "metadata": {},
   "outputs": [
    {
     "data": {
      "text/plain": [
       "[('losses', 0.7114114761352539),\n",
       " ('losing', 0.5708736181259155),\n",
       " ('Loss', 0.5704946517944336),\n",
       " ('lost', 0.5399519801139832),\n",
       " ('setback', 0.535179615020752),\n",
       " ('defeat', 0.5325874090194702),\n",
       " ('losss', 0.49183201789855957),\n",
       " ('Losses', 0.4891048073768616),\n",
       " ('drubbing', 0.48261427879333496),\n",
       " ('lossof', 0.4781075119972229)]"
      ]
     },
     "execution_count": 7,
     "metadata": {},
     "output_type": "execute_result"
    }
   ],
   "source": [
    "model_gen.most_similar('loss')"
   ]
  },
  {
   "cell_type": "code",
   "execution_count": 9,
   "metadata": {},
   "outputs": [
    {
     "name": "stderr",
     "output_type": "stream",
     "text": [
      "/home/abhishek/py_enviros/ir/lib/python3.7/site-packages/ipykernel_launcher.py:1: DeprecationWarning: Call to deprecated `most_similar` (Method will be removed in 4.0.0, use self.wv.most_similar() instead).\n",
      "  \"\"\"Entry point for launching an IPython kernel.\n"
     ]
    },
    {
     "data": {
      "text/plain": [
       "[('seasonal', 0.831345796585083),\n",
       " ('Seasonality', 0.6415965557098389),\n",
       " ('Seasonal', 0.5762810707092285),\n",
       " ('cyclical', 0.5667065382003784),\n",
       " ('seasons', 0.5256400108337402),\n",
       " ('summer', 0.521816611289978),\n",
       " ('cyclicality', 0.5193940997123718),\n",
       " ('patterns', 0.5144165754318237),\n",
       " ('season', 0.5143308639526367),\n",
       " ('somewhat', 0.5067400932312012)]"
      ]
     },
     "execution_count": 9,
     "metadata": {},
     "output_type": "execute_result"
    }
   ],
   "source": [
    "model_fin.most_similar('seasonality')"
   ]
  },
  {
   "cell_type": "code",
   "execution_count": 10,
   "metadata": {},
   "outputs": [
    {
     "data": {
      "text/plain": [
       "[('seasonally', 0.6071540713310242),\n",
       " ('seasonally_slower', 0.6037262678146362),\n",
       " ('seasonally_weak', 0.5952291488647461),\n",
       " ('seasonally_weaker', 0.5834262371063232),\n",
       " ('seasonally_slowest', 0.5686658024787903),\n",
       " ('seasonal', 0.5668664574623108),\n",
       " ('seasonally_weakest', 0.5654483437538147),\n",
       " ('seasonal_fluctuations', 0.5628937482833862),\n",
       " ('gross_margins', 0.5598294734954834),\n",
       " ('seasonal_slowness', 0.556877613067627)]"
      ]
     },
     "execution_count": 10,
     "metadata": {},
     "output_type": "execute_result"
    }
   ],
   "source": [
    "model_gen.most_similar('seasonality')"
   ]
  },
  {
   "cell_type": "code",
   "execution_count": 11,
   "metadata": {},
   "outputs": [
    {
     "name": "stderr",
     "output_type": "stream",
     "text": [
      "/home/abhishek/py_enviros/ir/lib/python3.7/site-packages/ipykernel_launcher.py:1: DeprecationWarning: Call to deprecated `most_similar` (Method will be removed in 4.0.0, use self.wv.most_similar() instead).\n",
      "  \"\"\"Entry point for launching an IPython kernel.\n"
     ]
    },
    {
     "data": {
      "text/plain": [
       "[('risks', 0.6855504512786865),\n",
       " ('exposures', 0.5466366410255432),\n",
       " ('volatility', 0.47754788398742676),\n",
       " ('movements', 0.4771957993507385),\n",
       " ('exposure', 0.4766755998134613),\n",
       " ('sensitivity', 0.4718496799468994),\n",
       " ('portfolios', 0.46601906418800354),\n",
       " ('portfolio', 0.4542062282562256),\n",
       " ('sensitive', 0.44436657428741455),\n",
       " ('modeling', 0.4413449764251709)]"
      ]
     },
     "execution_count": 11,
     "metadata": {},
     "output_type": "execute_result"
    }
   ],
   "source": [
    "model_fin.most_similar('risk')"
   ]
  },
  {
   "cell_type": "code",
   "execution_count": 12,
   "metadata": {},
   "outputs": [
    {
     "data": {
      "text/plain": [
       "[('risks', 0.7139054536819458),\n",
       " ('Risk', 0.6394845843315125),\n",
       " ('probability', 0.5938692688941956),\n",
       " ('danger', 0.5917248725891113),\n",
       " ('likelihood', 0.5871132612228394),\n",
       " ('therisk', 0.526685357093811),\n",
       " ('risky', 0.5120391845703125),\n",
       " ('Risks', 0.4975811541080475),\n",
       " ('hazard', 0.48922520875930786),\n",
       " ('peril', 0.48811468482017517)]"
      ]
     },
     "execution_count": 12,
     "metadata": {},
     "output_type": "execute_result"
    }
   ],
   "source": [
    "model_gen.most_similar('risk')"
   ]
  },
  {
   "cell_type": "code",
   "execution_count": 13,
   "metadata": {},
   "outputs": [
    {
     "name": "stderr",
     "output_type": "stream",
     "text": [
      "/home/abhishek/py_enviros/ir/lib/python3.7/site-packages/ipykernel_launcher.py:1: DeprecationWarning: Call to deprecated `most_similar` (Method will be removed in 4.0.0, use self.wv.most_similar() instead).\n",
      "  \"\"\"Entry point for launching an IPython kernel.\n"
     ]
    },
    {
     "data": {
      "text/plain": [
       "[('Roku', 0.5481631755828857),\n",
       " ('HomeKit', 0.5420140027999878),\n",
       " ('Acer', 0.5328850746154785),\n",
       " ('Zynga', 0.5059128999710083),\n",
       " ('Muvee', 0.48369506001472473),\n",
       " ('Windows', 0.48292556405067444),\n",
       " ('iPads', 0.47787484526634216),\n",
       " ('LogMeIn', 0.47731736302375793),\n",
       " ('Fitbit', 0.47358956933021545),\n",
       " ('iOS', 0.47351932525634766)]"
      ]
     },
     "execution_count": 13,
     "metadata": {},
     "output_type": "execute_result"
    }
   ],
   "source": [
    "model_fin.most_similar('Apple')"
   ]
  },
  {
   "cell_type": "code",
   "execution_count": 14,
   "metadata": {},
   "outputs": [
    {
     "data": {
      "text/plain": [
       "[('Apple_AAPL', 0.7456985712051392),\n",
       " ('Apple_Nasdaq_AAPL', 0.7300410270690918),\n",
       " ('Apple_NASDAQ_AAPL', 0.7175089716911316),\n",
       " ('Apple_Computer', 0.7145973443984985),\n",
       " ('iPhone', 0.6924266219139099),\n",
       " ('Apple_NSDQ_AAPL', 0.6868604421615601),\n",
       " ('Steve_Jobs', 0.6758422255516052),\n",
       " ('iPad', 0.6580768823623657),\n",
       " ('Apple_nasdaq_AAPL', 0.6444970965385437),\n",
       " ('AAPL_PriceWatch_Alert', 0.6439753770828247)]"
      ]
     },
     "execution_count": 14,
     "metadata": {},
     "output_type": "execute_result"
    }
   ],
   "source": [
    "model_gen.most_similar('Apple')"
   ]
  },
  {
   "cell_type": "markdown",
   "metadata": {},
   "source": [
    "### Analogy Intrinsic Task"
   ]
  },
  {
   "cell_type": "code",
   "execution_count": 15,
   "metadata": {},
   "outputs": [],
   "source": [
    "def analogy(model, x1, x2, y1):\n",
    "    result = model.most_similar(positive=[y1, x2], negative=[x1])\n",
    "    return result"
   ]
  },
  {
   "cell_type": "code",
   "execution_count": 16,
   "metadata": {},
   "outputs": [
    {
     "name": "stderr",
     "output_type": "stream",
     "text": [
      "/home/abhishek/py_enviros/ir/lib/python3.7/site-packages/ipykernel_launcher.py:2: DeprecationWarning: Call to deprecated `most_similar` (Method will be removed in 4.0.0, use self.wv.most_similar() instead).\n",
      "  \n"
     ]
    },
    {
     "data": {
      "text/plain": [
       "[('Android', 0.5993649959564209),\n",
       " ('apps', 0.5661303997039795),\n",
       " ('downloadable', 0.5332924127578735),\n",
       " ('Apps', 0.5264043211936951),\n",
       " ('Macs', 0.5256156921386719),\n",
       " ('App', 0.524298906326294),\n",
       " ('Kindle', 0.5140968561172485),\n",
       " ('download', 0.5076683759689331),\n",
       " ('iPad', 0.5064690709114075),\n",
       " ('browser', 0.4977918565273285)]"
      ]
     },
     "execution_count": 16,
     "metadata": {},
     "output_type": "execute_result"
    }
   ],
   "source": [
    "analogy(model_fin, 'Apple', 'iOS', 'Google')"
   ]
  },
  {
   "cell_type": "code",
   "execution_count": 17,
   "metadata": {},
   "outputs": [
    {
     "data": {
      "text/plain": [
       "[('Gmail', 0.623252272605896),\n",
       " ('Firefox', 0.610449492931366),\n",
       " ('Google_Chrome_browser', 0.5981649160385132),\n",
       " ('Instant_Previews', 0.597310483455658),\n",
       " ('search_engine', 0.5957738161087036),\n",
       " ('Realtime_Search', 0.5949864983558655),\n",
       " ('Google_Maps', 0.5920776724815369),\n",
       " ('GoogleBot', 0.5913113355636597),\n",
       " ('GMail', 0.5819740891456604),\n",
       " ('GTalk', 0.581884503364563)]"
      ]
     },
     "execution_count": 17,
     "metadata": {},
     "output_type": "execute_result"
    }
   ],
   "source": [
    "analogy(model_gen, 'Apple', 'iOS', 'Google')"
   ]
  },
  {
   "cell_type": "code",
   "execution_count": 18,
   "metadata": {},
   "outputs": [
    {
     "name": "stderr",
     "output_type": "stream",
     "text": [
      "/home/abhishek/py_enviros/ir/lib/python3.7/site-packages/ipykernel_launcher.py:2: DeprecationWarning: Call to deprecated `most_similar` (Method will be removed in 4.0.0, use self.wv.most_similar() instead).\n",
      "  \n"
     ]
    },
    {
     "data": {
      "text/plain": [
       "[('Multi-Touch', 0.47000741958618164),\n",
       " ('phones', 0.4420347809791565),\n",
       " ('iOS', 0.44144952297210693),\n",
       " ('Mini-Note', 0.43403080105781555),\n",
       " ('Roku', 0.432131826877594),\n",
       " ('iBooks', 0.4201308488845825),\n",
       " ('iPads', 0.4152991771697998),\n",
       " ('iPhone', 0.4151184856891632),\n",
       " ('appliances', 0.4105103313922882),\n",
       " ('HomeKit', 0.40963250398635864)]"
      ]
     },
     "execution_count": 18,
     "metadata": {},
     "output_type": "execute_result"
    }
   ],
   "source": [
    "analogy(model_fin, 'Microsoft', 'Windows', 'Apple')"
   ]
  },
  {
   "cell_type": "code",
   "execution_count": 19,
   "metadata": {},
   "outputs": [
    {
     "data": {
      "text/plain": [
       "[('Macs', 0.6735683679580688),\n",
       " ('iMac', 0.6463401317596436),\n",
       " ('Mac_OS', 0.6407142877578735),\n",
       " ('iPhone', 0.6405883431434631),\n",
       " ('iPad', 0.6334643363952637),\n",
       " ('OS_X', 0.632135808467865),\n",
       " ('iBook', 0.626196563243866),\n",
       " ('iMacs', 0.6192452311515808),\n",
       " ('iOS', 0.6171784400939941),\n",
       " ('Mac_mini', 0.6111396551132202)]"
      ]
     },
     "execution_count": 19,
     "metadata": {},
     "output_type": "execute_result"
    }
   ],
   "source": [
    "analogy(model_gen, 'Microsoft', 'Windows', 'Apple')"
   ]
  },
  {
   "cell_type": "code",
   "execution_count": 20,
   "metadata": {},
   "outputs": [
    {
     "name": "stderr",
     "output_type": "stream",
     "text": [
      "/home/abhishek/py_enviros/ir/lib/python3.7/site-packages/ipykernel_launcher.py:2: DeprecationWarning: Call to deprecated `most_similar` (Method will be removed in 4.0.0, use self.wv.most_similar() instead).\n",
      "  \n"
     ]
    },
    {
     "data": {
      "text/plain": [
       "[('Ex21', 0.47667866945266724),\n",
       " ('MENEAR', 0.4631417393684387),\n",
       " ('ESRX', 0.4462171792984009),\n",
       " ('Goggins', 0.44502824544906616),\n",
       " ('Slessor', 0.44067633152008057),\n",
       " ('Peltzman', 0.4400343894958496),\n",
       " ('shutterfly', 0.4358164668083191),\n",
       " ('NakedApartments', 0.43540889024734497),\n",
       " ('$73.93', 0.4330419898033142),\n",
       " ('10533', 0.4322330355644226)]"
      ]
     },
     "execution_count": 20,
     "metadata": {},
     "output_type": "execute_result"
    }
   ],
   "source": [
    "analogy(model_fin, 'Microsoft', 'Nadella', 'Google') ###########"
   ]
  },
  {
   "cell_type": "code",
   "execution_count": 21,
   "metadata": {},
   "outputs": [
    {
     "data": {
      "text/plain": [
       "[('search_engine', 0.6103251576423645),\n",
       " ('Udi_Manber', 0.5701125860214233),\n",
       " ('search_engines', 0.542169451713562),\n",
       " ('Sukhinder_Singh_Cassidy', 0.5397337675094604),\n",
       " ('Baidu', 0.52626633644104),\n",
       " ('Susan_Wojcicki', 0.5186780691146851),\n",
       " ('Costolo', 0.5149146914482117),\n",
       " ('Google_GOOG', 0.512500524520874),\n",
       " ('Shashi_Seth', 0.5101230144500732),\n",
       " ('Ask_Jeeves', 0.5079712867736816)]"
      ]
     },
     "execution_count": 21,
     "metadata": {},
     "output_type": "execute_result"
    }
   ],
   "source": [
    "analogy(model_gen, 'Microsoft', 'Nadella', 'Google')"
   ]
  },
  {
   "cell_type": "code",
   "execution_count": 22,
   "metadata": {},
   "outputs": [
    {
     "name": "stderr",
     "output_type": "stream",
     "text": [
      "/home/abhishek/py_enviros/ir/lib/python3.7/site-packages/ipykernel_launcher.py:2: DeprecationWarning: Call to deprecated `most_similar` (Method will be removed in 4.0.0, use self.wv.most_similar() instead).\n",
      "  \n"
     ]
    },
    {
     "data": {
      "text/plain": [
       "[('apparel', 0.531299352645874),\n",
       " ('watches', 0.5268425941467285),\n",
       " ('boots', 0.49671846628189087),\n",
       " ('shirts', 0.4928165078163147),\n",
       " ('Lacoste', 0.47323545813560486),\n",
       " ('sweaters', 0.47144144773483276),\n",
       " ('leather', 0.4669017195701599),\n",
       " ('Couture', 0.4624824523925781),\n",
       " ('sportswear', 0.4598991870880127),\n",
       " ('Nautica', 0.45740416646003723)]"
      ]
     },
     "execution_count": 22,
     "metadata": {},
     "output_type": "execute_result"
    }
   ],
   "source": [
    "analogy(model_fin, 'Footlocker', 'footwear', 'Guess')"
   ]
  },
  {
   "cell_type": "code",
   "execution_count": 23,
   "metadata": {},
   "outputs": [
    {
     "data": {
      "text/plain": [
       "[('shoe', 0.47444984316825867),\n",
       " ('sandals', 0.44797807931900024),\n",
       " ('shoes', 0.4443754255771637),\n",
       " ('footware', 0.4354614019393921),\n",
       " ('apparel', 0.42583325505256653),\n",
       " ('clothing', 0.42472803592681885),\n",
       " ('Dansko_clogs', 0.4087808132171631),\n",
       " ('denims', 0.4050804674625397),\n",
       " ('denim', 0.40449780225753784),\n",
       " ('MC_Hammer_pants', 0.4019485116004944)]"
      ]
     },
     "execution_count": 23,
     "metadata": {},
     "output_type": "execute_result"
    }
   ],
   "source": [
    "analogy(model_gen, 'Footlocker', 'footwear', 'Guess')"
   ]
  },
  {
   "cell_type": "code",
   "execution_count": 24,
   "metadata": {},
   "outputs": [
    {
     "name": "stderr",
     "output_type": "stream",
     "text": [
      "/home/abhishek/py_enviros/ir/lib/python3.7/site-packages/ipykernel_launcher.py:2: DeprecationWarning: Call to deprecated `most_similar` (Method will be removed in 4.0.0, use self.wv.most_similar() instead).\n",
      "  \n"
     ]
    },
    {
     "data": {
      "text/plain": [
       "[('Minnesota', 0.5028643608093262),\n",
       " ('Texas', 0.49553221464157104),\n",
       " ('Georgia', 0.49167919158935547),\n",
       " ('Indiana', 0.4916401505470276),\n",
       " ('Florida', 0.4826250672340393),\n",
       " ('Washington', 0.4682881236076355),\n",
       " ('Oregon', 0.4650631844997406),\n",
       " ('Mississippi', 0.4469985365867615),\n",
       " ('Sylmar', 0.4395696520805359),\n",
       " ('Salt', 0.43903231620788574)]"
      ]
     },
     "execution_count": 24,
     "metadata": {},
     "output_type": "execute_result"
    }
   ],
   "source": [
    "analogy(model_fin, 'Google', 'California', 'Microsoft')"
   ]
  },
  {
   "cell_type": "code",
   "execution_count": 25,
   "metadata": {},
   "outputs": [
    {
     "data": {
      "text/plain": [
       "[('Southern_California', 0.6022380590438843),\n",
       " ('San_Diego', 0.5298261642456055),\n",
       " ('Calfornia', 0.528758704662323),\n",
       " ('Califonia', 0.5060601830482483),\n",
       " ('Gov._Arnold_Schwarzenegger', 0.4928062856197357),\n",
       " ('Calif.', 0.49020737409591675),\n",
       " ('Sacramento', 0.488997220993042),\n",
       " ('Califor_nia', 0.48835262656211853),\n",
       " ('Californians', 0.4864913821220398),\n",
       " ('Califronia', 0.4828268587589264)]"
      ]
     },
     "execution_count": 25,
     "metadata": {},
     "output_type": "execute_result"
    }
   ],
   "source": [
    "analogy(model_gen, 'Google', 'California', 'Microsoft')"
   ]
  },
  {
   "cell_type": "markdown",
   "metadata": {},
   "source": [
    "### Odd-one-out Intrinsic Task"
   ]
  },
  {
   "cell_type": "code",
   "execution_count": 42,
   "metadata": {},
   "outputs": [
    {
     "name": "stdout",
     "output_type": "stream",
     "text": [
      "cereal\n"
     ]
    },
    {
     "name": "stderr",
     "output_type": "stream",
     "text": [
      "/home/abhishek/py_enviros/ir/lib/python3.7/site-packages/ipykernel_launcher.py:1: DeprecationWarning: Call to deprecated `doesnt_match` (Method will be removed in 4.0.0, use self.wv.doesnt_match() instead).\n",
      "  \"\"\"Entry point for launching an IPython kernel.\n",
      "/home/abhishek/py_enviros/ir/lib/python3.7/site-packages/gensim/models/keyedvectors.py:877: FutureWarning: arrays to stack must be passed as a \"sequence\" type such as list or tuple. Support for non-sequence iterables such as generators is deprecated as of NumPy 1.16 and will raise an error in the future.\n",
      "  vectors = vstack(self.word_vec(word, use_norm=True) for word in used_words).astype(REAL)\n"
     ]
    }
   ],
   "source": [
    "print(model_fin.doesnt_match(\"breakfast cereal dinner lunch\".split()))"
   ]
  },
  {
   "cell_type": "code",
   "execution_count": 66,
   "metadata": {},
   "outputs": [
    {
     "name": "stdout",
     "output_type": "stream",
     "text": [
      "Apple\n"
     ]
    },
    {
     "name": "stderr",
     "output_type": "stream",
     "text": [
      "/home/abhishek/py_enviros/ir/lib/python3.7/site-packages/ipykernel_launcher.py:1: DeprecationWarning: Call to deprecated `doesnt_match` (Method will be removed in 4.0.0, use self.wv.doesnt_match() instead).\n",
      "  \"\"\"Entry point for launching an IPython kernel.\n"
     ]
    }
   ],
   "source": [
    "print(model_fin.doesnt_match(\"Microsoft Google Facebook Netflix Apple\".split()))"
   ]
  },
  {
   "cell_type": "code",
   "execution_count": 65,
   "metadata": {},
   "outputs": [
    {
     "name": "stdout",
     "output_type": "stream",
     "text": [
      "Facebook\n"
     ]
    }
   ],
   "source": [
    "print(model_gen.doesnt_match(\"Microsoft Google Facebook Netflix Apple\".split()))"
   ]
  },
  {
   "cell_type": "code",
   "execution_count": 49,
   "metadata": {},
   "outputs": [
    {
     "name": "stdout",
     "output_type": "stream",
     "text": [
      "Guess\n"
     ]
    },
    {
     "name": "stderr",
     "output_type": "stream",
     "text": [
      "/home/abhishek/py_enviros/ir/lib/python3.7/site-packages/ipykernel_launcher.py:1: DeprecationWarning: Call to deprecated `doesnt_match` (Method will be removed in 4.0.0, use self.wv.doesnt_match() instead).\n",
      "  \"\"\"Entry point for launching an IPython kernel.\n"
     ]
    }
   ],
   "source": [
    "print(model_fin.doesnt_match(\"Guess McDonald's Darden Starbucks\".split()))"
   ]
  },
  {
   "cell_type": "code",
   "execution_count": 50,
   "metadata": {},
   "outputs": [
    {
     "name": "stdout",
     "output_type": "stream",
     "text": [
      "Darden\n"
     ]
    }
   ],
   "source": [
    "print(model_gen.doesnt_match(\"Guess McDonald's Darden Starbucks\".split()))"
   ]
  },
  {
   "cell_type": "code",
   "execution_count": 51,
   "metadata": {},
   "outputs": [
    {
     "name": "stdout",
     "output_type": "stream",
     "text": [
      "Cashflows\n"
     ]
    },
    {
     "name": "stderr",
     "output_type": "stream",
     "text": [
      "/home/abhishek/py_enviros/ir/lib/python3.7/site-packages/ipykernel_launcher.py:1: DeprecationWarning: Call to deprecated `doesnt_match` (Method will be removed in 4.0.0, use self.wv.doesnt_match() instead).\n",
      "  \"\"\"Entry point for launching an IPython kernel.\n"
     ]
    }
   ],
   "source": [
    "print(model_fin.doesnt_match(\"Inventory Receivables Payable Cashflows\".split()))"
   ]
  },
  {
   "cell_type": "code",
   "execution_count": 52,
   "metadata": {},
   "outputs": [
    {
     "name": "stdout",
     "output_type": "stream",
     "text": [
      "Inventory\n"
     ]
    }
   ],
   "source": [
    "print(model_gen.doesnt_match(\"Inventory Receivables Payable Cashflows\".split()))"
   ]
  },
  {
   "cell_type": "markdown",
   "metadata": {},
   "source": [
    "### Vocab Size"
   ]
  },
  {
   "cell_type": "code",
   "execution_count": 71,
   "metadata": {},
   "outputs": [
    {
     "data": {
      "text/plain": [
       "493577"
      ]
     },
     "execution_count": 71,
     "metadata": {},
     "output_type": "execute_result"
    }
   ],
   "source": [
    "len(model_fin.wv.vocab)"
   ]
  },
  {
   "cell_type": "code",
   "execution_count": 72,
   "metadata": {},
   "outputs": [
    {
     "name": "stderr",
     "output_type": "stream",
     "text": [
      "/home/abhishek/py_enviros/ir/lib/python3.7/site-packages/ipykernel_launcher.py:1: DeprecationWarning: Call to deprecated `wv` (Attribute will be removed in 4.0.0, use self instead).\n",
      "  \"\"\"Entry point for launching an IPython kernel.\n"
     ]
    },
    {
     "data": {
      "text/plain": [
       "3000000"
      ]
     },
     "execution_count": 72,
     "metadata": {},
     "output_type": "execute_result"
    }
   ],
   "source": [
    "len(model_gen.wv.vocab)"
   ]
  },
  {
   "cell_type": "code",
   "execution_count": null,
   "metadata": {},
   "outputs": [],
   "source": []
  }
 ],
 "metadata": {
  "kernelspec": {
   "display_name": "Python 3",
   "language": "python",
   "name": "python3"
  },
  "language_info": {
   "codemirror_mode": {
    "name": "ipython",
    "version": 3
   },
   "file_extension": ".py",
   "mimetype": "text/x-python",
   "name": "python",
   "nbconvert_exporter": "python",
   "pygments_lexer": "ipython3",
   "version": "3.7.9"
  }
 },
 "nbformat": 4,
 "nbformat_minor": 4
}
