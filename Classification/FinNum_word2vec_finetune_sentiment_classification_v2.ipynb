{
 "cells": [
  {
   "cell_type": "code",
   "execution_count": null,
   "metadata": {
    "colab": {
     "base_uri": "https://localhost:8080/"
    },
    "id": "v6uGjdgV7fCe",
    "outputId": "027ca3e1-ce09-4686-b8f0-a50eefc680e3"
   },
   "outputs": [
    {
     "name": "stdout",
     "output_type": "stream",
     "text": [
      "Mounted at /content/drive\n"
     ]
    }
   ],
   "source": [
    "#mount the drive\n",
    "from google.colab import drive\n",
    "drive.mount('/content/drive', force_remount=True)"
   ]
  },
  {
   "cell_type": "code",
   "execution_count": null,
   "metadata": {
    "id": "W_QIxD3R68bz"
   },
   "outputs": [],
   "source": [
    "import gensim\n",
    "from tqdm import tqdm\n",
    "import os\n",
    "from gensim.models.fasttext import FastText"
   ]
  },
  {
   "cell_type": "code",
   "execution_count": null,
   "metadata": {
    "id": "NAqYXr7FA0g8"
   },
   "outputs": [],
   "source": [
    "# For array, dataset, and visualizing\n",
    "import numpy as np\n",
    "import pandas as pd\n",
    "import seaborn as sns\n",
    "import matplotlib.pyplot as plt"
   ]
  },
  {
   "cell_type": "code",
   "execution_count": null,
   "metadata": {
    "colab": {
     "base_uri": "https://localhost:8080/"
    },
    "id": "oFt1hjeWCoW6",
    "outputId": "93847f27-2201-4f0d-8a61-c1c63f07f555"
   },
   "outputs": [
    {
     "name": "stdout",
     "output_type": "stream",
     "text": [
      "[nltk_data] Downloading package stopwords to /root/nltk_data...\n",
      "[nltk_data]   Unzipping corpora/stopwords.zip.\n",
      "[nltk_data] Downloading package punkt to /root/nltk_data...\n",
      "[nltk_data]   Unzipping tokenizers/punkt.zip.\n"
     ]
    }
   ],
   "source": [
    "#For Pre-Processing\n",
    "from tqdm import tqdm\n",
    "import nltk\n",
    "from nltk.corpus import stopwords\n",
    "nltk.download('stopwords')\n",
    "nltk.download('punkt')\n",
    "from nltk.tokenize import RegexpTokenizer \n",
    "from nltk.tokenize import word_tokenize"
   ]
  },
  {
   "cell_type": "code",
   "execution_count": null,
   "metadata": {
    "id": "3M0vxqtwCYx5"
   },
   "outputs": [],
   "source": [
    "from keras.preprocessing.text import Tokenizer\n",
    "from keras.preprocessing import sequence\n",
    "MAX_NB_WORDS = 500000\n",
    "tokenizer = RegexpTokenizer(r'\\w+')\n",
    "stop_words = set(stopwords.words('english'))\n",
    "stop_words.update(['.', ',', '\"', \"'\", ':', ';', '(', ')', '[', ']', '{', '}'])"
   ]
  },
  {
   "cell_type": "code",
   "execution_count": null,
   "metadata": {
    "colab": {
     "base_uri": "https://localhost:8080/"
    },
    "id": "4x7lf4c170Uh",
    "outputId": "0a24dd03-7395-4fcc-811a-5333b3f7d7ac"
   },
   "outputs": [
    {
     "name": "stdout",
     "output_type": "stream",
     "text": [
      "/content/drive/My Drive/iiit_ire/word2vec_fasttext\n"
     ]
    }
   ],
   "source": [
    "cd  \"/content/drive/My Drive/iiit_ire/word2vec_fasttext\""
   ]
  },
  {
   "cell_type": "code",
   "execution_count": null,
   "metadata": {
    "id": "8BYamGHe68cM"
   },
   "outputs": [],
   "source": [
    "model_name = \"./fin_word2vec\""
   ]
  },
  {
   "cell_type": "code",
   "execution_count": null,
   "metadata": {
    "id": "sy9eB1TY68cc"
   },
   "outputs": [],
   "source": [
    "model = gensim.models.Word2Vec.load(model_name)"
   ]
  },
  {
   "cell_type": "code",
   "execution_count": null,
   "metadata": {
    "colab": {
     "base_uri": "https://localhost:8080/"
    },
    "id": "ILoV9y1n68dN",
    "outputId": "19d6ea42-d1c4-4f9a-c7d5-708986b96128"
   },
   "outputs": [
    {
     "name": "stdout",
     "output_type": "stream",
     "text": [
      "(7187, 5) (1044, 5)\n"
     ]
    }
   ],
   "source": [
    "import json \n",
    "traind=[]\n",
    "vald=[]\n",
    "dir = \"/content/drive/My Drive/iiit_ire/data/\"\n",
    "# Opening JSON file \n",
    "with open(dir+'FinNum_training_v3.json',) as f: \n",
    "  traind = json.load(f) \n",
    "with open(dir+'FinNum_dev_v3.json',) as f: \n",
    "  vald = json.load(f) \n",
    "\n",
    "train = pd.DataFrame(traind) \n",
    "val = pd.DataFrame(vald) \n",
    "print(train.shape, val.shape)\n"
   ]
  },
  {
   "cell_type": "code",
   "execution_count": null,
   "metadata": {
    "id": "F47Y00aM9Ehu"
   },
   "outputs": [],
   "source": [
    "cols = ['tweet', 'relation']\n",
    "train = train[cols]\n",
    "val = val[cols]"
   ]
  },
  {
   "cell_type": "code",
   "execution_count": null,
   "metadata": {
    "colab": {
     "base_uri": "https://localhost:8080/"
    },
    "id": "Pa31Mnm_9LOu",
    "outputId": "dccd5bed-65d5-4ec5-a1c7-23c123b179b3"
   },
   "outputs": [
    {
     "name": "stdout",
     "output_type": "stream",
     "text": [
      "1    5827\n",
      "0    1360\n",
      "Name: relation, dtype: int64\n",
      "1    850\n",
      "0    194\n",
      "Name: relation, dtype: int64\n"
     ]
    }
   ],
   "source": [
    "print(train.relation.value_counts())\n",
    "print(val.relation.value_counts())"
   ]
  },
  {
   "cell_type": "code",
   "execution_count": null,
   "metadata": {
    "colab": {
     "base_uri": "https://localhost:8080/",
     "height": 202
    },
    "id": "Ph9biJ1D9OhI",
    "outputId": "c188a35f-8e03-41d4-f58d-11c3f58ff927"
   },
   "outputs": [
    {
     "data": {
      "text/html": [
       "<div>\n",
       "<style scoped>\n",
       "    .dataframe tbody tr th:only-of-type {\n",
       "        vertical-align: middle;\n",
       "    }\n",
       "\n",
       "    .dataframe tbody tr th {\n",
       "        vertical-align: top;\n",
       "    }\n",
       "\n",
       "    .dataframe thead th {\n",
       "        text-align: right;\n",
       "    }\n",
       "</style>\n",
       "<table border=\"1\" class=\"dataframe\">\n",
       "  <thead>\n",
       "    <tr style=\"text-align: right;\">\n",
       "      <th></th>\n",
       "      <th>tweet</th>\n",
       "      <th>relation</th>\n",
       "    </tr>\n",
       "  </thead>\n",
       "  <tbody>\n",
       "    <tr>\n",
       "      <th>0</th>\n",
       "      <td>$XXII Scott Gottlieb, Commissioner of FDA spee...</td>\n",
       "      <td>1</td>\n",
       "    </tr>\n",
       "    <tr>\n",
       "      <th>1</th>\n",
       "      <td>$TSLA Maybe they calculate that 7ct energy pri...</td>\n",
       "      <td>1</td>\n",
       "    </tr>\n",
       "    <tr>\n",
       "      <th>2</th>\n",
       "      <td>$RAD about 9 million more shares than the 90 d...</td>\n",
       "      <td>1</td>\n",
       "    </tr>\n",
       "    <tr>\n",
       "      <th>3</th>\n",
       "      <td>$DPW that was quite a roller coaster. Glad it ...</td>\n",
       "      <td>1</td>\n",
       "    </tr>\n",
       "    <tr>\n",
       "      <th>4</th>\n",
       "      <td>$GILD Good thing the market sets new record hi...</td>\n",
       "      <td>1</td>\n",
       "    </tr>\n",
       "  </tbody>\n",
       "</table>\n",
       "</div>"
      ],
      "text/plain": [
       "                                               tweet  relation\n",
       "0  $XXII Scott Gottlieb, Commissioner of FDA spee...         1\n",
       "1  $TSLA Maybe they calculate that 7ct energy pri...         1\n",
       "2  $RAD about 9 million more shares than the 90 d...         1\n",
       "3  $DPW that was quite a roller coaster. Glad it ...         1\n",
       "4  $GILD Good thing the market sets new record hi...         1"
      ]
     },
     "execution_count": 12,
     "metadata": {
      "tags": []
     },
     "output_type": "execute_result"
    }
   ],
   "source": [
    "train.head()"
   ]
  },
  {
   "cell_type": "code",
   "execution_count": null,
   "metadata": {
    "colab": {
     "base_uri": "https://localhost:8080/",
     "height": 351
    },
    "id": "hPry2ixQA7f4",
    "outputId": "ccea91bb-69da-418b-8c82-25139c7d2024"
   },
   "outputs": [
    {
     "name": "stderr",
     "output_type": "stream",
     "text": [
      "/usr/local/lib/python3.6/dist-packages/seaborn/distributions.py:2551: FutureWarning: `distplot` is a deprecated function and will be removed in a future version. Please adapt your code to use either `displot` (a figure-level function with similar flexibility) or `histplot` (an axes-level function for histograms).\n",
      "  warnings.warn(msg, FutureWarning)\n"
     ]
    },
    {
     "data": {
      "image/png": "[encoded data removed]",
      "text/plain": [
       "<Figure size 432x288 with 1 Axes>"
      ]
     },
     "metadata": {
      "needs_background": "light",
      "tags": []
     },
     "output_type": "display_data"
    }
   ],
   "source": [
    "train['tweet_len'] = train.tweet.apply(lambda words: len(words.split(\" \")))\n",
    "max_seq_len = np.round(train.tweet_len.mean() + 2*train.tweet_len.std()).astype(int)\n",
    "\n",
    "sns.distplot(train.tweet_len, hist=True, kde=True, color='b', label='tweets size len')\n",
    "plt.axvline(x=max_seq_len, color='k', linestyle='--', label='max len')\n",
    "plt.title('comment length'); plt.legend()\n",
    "plt.show()"
   ]
  },
  {
   "cell_type": "code",
   "execution_count": null,
   "metadata": {
    "colab": {
     "base_uri": "https://localhost:8080/"
    },
    "id": "1AfVsZ_m9tp9",
    "outputId": "5a061f50-7041-4382-c01d-1bef5aba977d"
   },
   "outputs": [
    {
     "name": "stderr",
     "output_type": "stream",
     "text": [
      "100%|██████████| 7187/7187 [00:02<00:00, 3129.34it/s]\n",
      "100%|██████████| 1044/1044 [00:00<00:00, 3457.25it/s]\n"
     ]
    },
    {
     "name": "stdout",
     "output_type": "stream",
     "text": [
      "Tokenizing: \n",
      "dictionary size:  12136\n"
     ]
    }
   ],
   "source": [
    "label_dict = {}\n",
    "for index, possible_label in enumerate(train.relation.unique()):\n",
    "    label_dict[possible_label] = index\n",
    "\n",
    "l_train = train.tweet.tolist()\n",
    "l_test = val.tweet.tolist()\n",
    "num_classes = len(label_dict)\n",
    "\n",
    "\n",
    "clean_train = []\n",
    "for doc in tqdm(l_train):\n",
    "  tokens = word_tokenize(doc)\n",
    "  filtered = [word for word in tokens if word not in stop_words]\n",
    "  clean_train.append(\" \".join(filtered))\n",
    "\n",
    "\n",
    "clean_test = []\n",
    "for doc in tqdm(l_test):\n",
    "  tokens = word_tokenize(doc)\n",
    "  filtered = [word for word in tokens if word not in stop_words]\n",
    "  clean_test.append(\" \".join(filtered))\n",
    "\n",
    "print(\"Tokenizing: \")\n",
    "tokenizer = Tokenizer(num_words=MAX_NB_WORDS, lower=True, char_level=False)\n",
    "tokenizer.fit_on_texts(clean_train + clean_test)  \n",
    "word_seq_train = tokenizer.texts_to_sequences(clean_train)\n",
    "word_seq_test = tokenizer.texts_to_sequences(clean_test)\n",
    "word_index = tokenizer.word_index\n",
    "print(\"dictionary size: \", len(word_index))\n",
    "\n",
    "word_seq_train = sequence.pad_sequences(word_seq_train, maxlen=max_seq_len)\n",
    "word_seq_test = sequence.pad_sequences(word_seq_test, maxlen=max_seq_len)"
   ]
  },
  {
   "cell_type": "code",
   "execution_count": null,
   "metadata": {
    "colab": {
     "base_uri": "https://localhost:8080/"
    },
    "id": "SCzC2wDyF6_k",
    "outputId": "000e8f52-5231-42dd-83f4-eaf4fb913f4f"
   },
   "outputs": [
    {
     "data": {
      "text/plain": [
       "array([   0,    0,    0,    0,    0,    0,    0,    0,    0,    0,    0,\n",
       "          0,    0,    0,    0,    0, 8249,  157,  309,  234,  191,    9,\n",
       "          7, 1350,   54,   46,    1,   11,  358,   14, 2245], dtype=int32)"
      ]
     },
     "execution_count": 15,
     "metadata": {
      "tags": []
     },
     "output_type": "execute_result"
    }
   ],
   "source": [
    "word_seq_train[10]"
   ]
  },
  {
   "cell_type": "code",
   "execution_count": null,
   "metadata": {
    "id": "Pqp3_jxLDuQd"
   },
   "outputs": [],
   "source": [
    "\n",
    "#model parameters\n",
    "num_filters = 64 \n",
    "embed_dim = 300 \n",
    "weight_decay = 1e-4"
   ]
  },
  {
   "cell_type": "code",
   "execution_count": null,
   "metadata": {
    "id": "Iv1_Yw15FpUh"
   },
   "outputs": [],
   "source": [
    "def get_embedding(word):\n",
    "    try:\n",
    "        embedding=model[word]\n",
    "    except:\n",
    "        embedding=np.zeros((embed_dim,))\n",
    "    return embedding"
   ]
  },
  {
   "cell_type": "code",
   "execution_count": null,
   "metadata": {
    "colab": {
     "base_uri": "https://localhost:8080/"
    },
    "id": "D4WY-6neGZii",
    "outputId": "e19559f2-eef2-47a5-86d0-2e21944c9740"
   },
   "outputs": [
    {
     "name": "stdout",
     "output_type": "stream",
     "text": [
      "preparing embedding matrix...\n"
     ]
    },
    {
     "name": "stderr",
     "output_type": "stream",
     "text": [
      "/usr/local/lib/python3.6/dist-packages/ipykernel_launcher.py:3: DeprecationWarning: Call to deprecated `__getitem__` (Method will be removed in 4.0.0, use self.wv.__getitem__() instead).\n",
      "  This is separate from the ipykernel package so we can avoid doing imports until\n"
     ]
    },
    {
     "name": "stdout",
     "output_type": "stream",
     "text": [
      "number of null word embeddings: 5582\n"
     ]
    }
   ],
   "source": [
    "#embedding matrix\n",
    "\n",
    "print('preparing embedding matrix...')\n",
    "\n",
    "words_not_found = []\n",
    "nb_words = min(MAX_NB_WORDS, len(word_index)+1)\n",
    "embedding_matrix = np.zeros((nb_words, embed_dim))\n",
    "\n",
    "for word, i in word_index.items():\n",
    "    if i >= nb_words:\n",
    "        continue\n",
    "    embedding_vector = get_embedding(word)\n",
    "    if (embedding_vector is not None) and len(embedding_vector) > 0:\n",
    "        # words not found in embedding index will be all-zeros.\n",
    "        embedding_matrix[i] = embedding_vector\n",
    "        if np.sum(embedding_vector) == 0:\n",
    "          words_not_found.append(word)\n",
    "print('number of null word embeddings: %d' % np.sum(np.sum(embedding_matrix, axis=1) == 0))"
   ]
  },
  {
   "cell_type": "code",
   "execution_count": null,
   "metadata": {
    "colab": {
     "base_uri": "https://localhost:8080/"
    },
    "id": "tKi8vtOKGs7w",
    "outputId": "9dee9005-53e7-4c7a-a2de-21803f97b834"
   },
   "outputs": [
    {
     "name": "stdout",
     "output_type": "stream",
     "text": [
      "['of', 'will', 'investoralmanac', 'u', 'to', 'gdxj', 'lol', 'er', 'on', \"'ll\", 'friday', 'vs', 'now', 'jd', 'hmny', 'just', 'roku', 'b', 'monday', 'trxc', 'uvxy', 'bzun', 'nugt', 'drys', 'my', 'no', '09', 'tlt', 'dcix', 'you', 'for', 'up', '08', 'but', 'uup', 'nflx', 'e', 'wti', 'that', 'slv', 'at', 'what', 'is', 'xlf', 'ibb', 'wstl', 'r', '05', 'q3', 'not']\n"
     ]
    }
   ],
   "source": [
    "print(words_not_found[50:100])"
   ]
  },
  {
   "cell_type": "code",
   "execution_count": null,
   "metadata": {
    "id": "dmahh384KZhQ"
   },
   "outputs": [],
   "source": [
    "import keras\n",
    "from keras import optimizers\n",
    "from keras import backend as K\n",
    "from keras import regularizers\n",
    "from keras.models import Sequential\n",
    "from keras.layers import Dense, Activation, Dropout, Flatten\n",
    "from tensorflow.keras.layers import Embedding, LSTM, Dense, Dropout, Bidirectional"
   ]
  },
  {
   "cell_type": "code",
   "execution_count": null,
   "metadata": {
    "id": "Otek0U9AOtvc"
   },
   "outputs": [],
   "source": [
    "# avoid model to overwrite\n",
    "keras.backend.clear_session()"
   ]
  },
  {
   "cell_type": "code",
   "execution_count": null,
   "metadata": {
    "colab": {
     "base_uri": "https://localhost:8080/"
    },
    "id": "k18dZ2bbKAwm",
    "outputId": "703aa6cf-80d2-4539-99e1-9cd9d2ec9a06"
   },
   "outputs": [
    {
     "name": "stdout",
     "output_type": "stream",
     "text": [
      "Model: \"sequential\"\n",
      "_________________________________________________________________\n",
      "Layer (type)                 Output Shape              Param #   \n",
      "=================================================================\n",
      "embedding (Embedding)        (None, 31, 300)           3641100   \n",
      "_________________________________________________________________\n",
      "dropout (Dropout)            (None, 31, 300)           0         \n",
      "_________________________________________________________________\n",
      "bidirectional (Bidirectional (None, 31, 512)           1140736   \n",
      "_________________________________________________________________\n",
      "dropout_1 (Dropout)          (None, 31, 512)           0         \n",
      "_________________________________________________________________\n",
      "bidirectional_1 (Bidirection (None, 31, 512)           1574912   \n",
      "_________________________________________________________________\n",
      "dropout_2 (Dropout)          (None, 31, 512)           0         \n",
      "_________________________________________________________________\n",
      "bidirectional_2 (Bidirection (None, 512)               1574912   \n",
      "_________________________________________________________________\n",
      "dense (Dense)                (None, 1024)              525312    \n",
      "_________________________________________________________________\n",
      "dropout_3 (Dropout)          (None, 1024)              0         \n",
      "_________________________________________________________________\n",
      "dense_1 (Dense)              (None, 64)                65600     \n",
      "_________________________________________________________________\n",
      "dense_2 (Dense)              (None, 1)                 65        \n",
      "=================================================================\n",
      "Total params: 8,522,637\n",
      "Trainable params: 4,881,537\n",
      "Non-trainable params: 3,641,100\n",
      "_________________________________________________________________\n"
     ]
    }
   ],
   "source": [
    "from keras.layers import BatchNormalization\n",
    "import tensorflow as tf\n",
    "\n",
    "model = tf.keras.Sequential()\n",
    "\n",
    "model.add(Embedding(nb_words,embed_dim,input_length=max_seq_len, weights=[embedding_matrix],trainable=False))\n",
    "model.add(Dropout(0.2))\n",
    "model.add(Bidirectional(LSTM(256,return_sequences= True)))\n",
    "model.add(Dropout(0.3))\n",
    "model.add(Bidirectional(LSTM(256,return_sequences= True)))\n",
    "model.add(Dropout(0.3))\n",
    "model.add(Bidirectional(LSTM(256)))\n",
    "model.add(Dense(1024,activation='relu'))\n",
    "model.add(Dropout(0.3))\n",
    "model.add(Dense(64,activation='relu'))\n",
    "model.add(Dense(1,activation='sigmoid'))\n",
    "model.summary()"
   ]
  },
  {
   "cell_type": "code",
   "execution_count": null,
   "metadata": {
    "id": "OkMGerayKSPP"
   },
   "outputs": [],
   "source": [
    "from keras.optimizers import RMSprop\n",
    "from keras.callbacks import ModelCheckpoint\n",
    "from tensorflow.keras.callbacks import EarlyStopping\n",
    "from tensorflow.keras.optimizers import Adam\n",
    "\n",
    "model.compile(loss='binary_crossentropy', optimizer=Adam(lr=.0002), metrics=['accuracy'])"
   ]
  },
  {
   "cell_type": "code",
   "execution_count": null,
   "metadata": {
    "colab": {
     "base_uri": "https://localhost:8080/"
    },
    "id": "eIhET-vOYtcq",
    "outputId": "8f9b0f83-2f73-4aea-a01d-6e305a98049b"
   },
   "outputs": [
    {
     "name": "stdout",
     "output_type": "stream",
     "text": [
      "/content/drive/My Drive/iiit_ire/word2vec_fasttext\n"
     ]
    }
   ],
   "source": [
    "!pwd"
   ]
  },
  {
   "cell_type": "code",
   "execution_count": null,
   "metadata": {
    "id": "u8Vq-UGgYmQT"
   },
   "outputs": [],
   "source": [
    "checkpoint = ModelCheckpoint('word2vec_sent_weights.best.hdf5',\n",
    "                             verbose=1,\n",
    "                             save_weights_only=True,\n",
    "                             monitor = 'val_accuracy',\n",
    "                             mode='max',\n",
    "                             save_best_only=True)"
   ]
  },
  {
   "cell_type": "code",
   "execution_count": null,
   "metadata": {
    "colab": {
     "base_uri": "https://localhost:8080/"
    },
    "id": "OFuryH4ZKypq",
    "outputId": "f3c2ff75-ebf1-43ad-b5ca-16ec0b83920b"
   },
   "outputs": [
    {
     "name": "stdout",
     "output_type": "stream",
     "text": [
      "Epoch 1/30\n",
      "113/113 [==============================] - ETA: 0s - loss: 0.4696 - accuracy: 0.8087\n",
      "Epoch 00001: val_accuracy improved from -inf to 0.82759, saving model to word2vec_sent_weights.best.hdf5\n",
      "113/113 [==============================] - 13s 115ms/step - loss: 0.4696 - accuracy: 0.8087 - val_loss: 0.3913 - val_accuracy: 0.8276\n",
      "Epoch 2/30\n",
      "113/113 [==============================] - ETA: 0s - loss: 0.3896 - accuracy: 0.8375\n",
      "Epoch 00002: val_accuracy improved from 0.82759 to 0.84579, saving model to word2vec_sent_weights.best.hdf5\n",
      "113/113 [==============================] - 10s 85ms/step - loss: 0.3896 - accuracy: 0.8375 - val_loss: 0.3785 - val_accuracy: 0.8458\n",
      "Epoch 3/30\n",
      "113/113 [==============================] - ETA: 0s - loss: 0.3712 - accuracy: 0.8476\n",
      "Epoch 00003: val_accuracy improved from 0.84579 to 0.86398, saving model to word2vec_sent_weights.best.hdf5\n",
      "113/113 [==============================] - 10s 91ms/step - loss: 0.3712 - accuracy: 0.8476 - val_loss: 0.3650 - val_accuracy: 0.8640\n",
      "Epoch 4/30\n",
      "113/113 [==============================] - ETA: 0s - loss: 0.3566 - accuracy: 0.8543\n",
      "Epoch 00004: val_accuracy did not improve from 0.86398\n",
      "113/113 [==============================] - 9s 84ms/step - loss: 0.3566 - accuracy: 0.8543 - val_loss: 0.3891 - val_accuracy: 0.8448\n",
      "Epoch 5/30\n",
      "113/113 [==============================] - ETA: 0s - loss: 0.3397 - accuracy: 0.8589\n",
      "Epoch 00005: val_accuracy did not improve from 0.86398\n",
      "113/113 [==============================] - 9s 84ms/step - loss: 0.3397 - accuracy: 0.8589 - val_loss: 0.3864 - val_accuracy: 0.8410\n",
      "Epoch 6/30\n",
      "113/113 [==============================] - ETA: 0s - loss: 0.3325 - accuracy: 0.8625\n",
      "Epoch 00006: val_accuracy did not improve from 0.86398\n",
      "113/113 [==============================] - 10s 84ms/step - loss: 0.3325 - accuracy: 0.8625 - val_loss: 0.3775 - val_accuracy: 0.8525\n",
      "Epoch 7/30\n",
      "113/113 [==============================] - ETA: 0s - loss: 0.3261 - accuracy: 0.8684\n",
      "Epoch 00007: val_accuracy did not improve from 0.86398\n",
      "113/113 [==============================] - 10s 84ms/step - loss: 0.3261 - accuracy: 0.8684 - val_loss: 0.3847 - val_accuracy: 0.8554\n",
      "Epoch 8/30\n",
      "113/113 [==============================] - ETA: 0s - loss: 0.3247 - accuracy: 0.8698\n",
      "Epoch 00008: val_accuracy did not improve from 0.86398\n",
      "113/113 [==============================] - 10s 84ms/step - loss: 0.3247 - accuracy: 0.8698 - val_loss: 0.3808 - val_accuracy: 0.8487\n",
      "Epoch 9/30\n",
      "113/113 [==============================] - ETA: 0s - loss: 0.3174 - accuracy: 0.8742\n",
      "Epoch 00009: val_accuracy did not improve from 0.86398\n",
      "113/113 [==============================] - 9s 84ms/step - loss: 0.3174 - accuracy: 0.8742 - val_loss: 0.3857 - val_accuracy: 0.8487\n",
      "Epoch 10/30\n",
      "113/113 [==============================] - ETA: 0s - loss: 0.3063 - accuracy: 0.8788\n",
      "Epoch 00010: val_accuracy did not improve from 0.86398\n",
      "113/113 [==============================] - 9s 84ms/step - loss: 0.3063 - accuracy: 0.8788 - val_loss: 0.3939 - val_accuracy: 0.8487\n",
      "Epoch 11/30\n",
      "113/113 [==============================] - ETA: 0s - loss: 0.2965 - accuracy: 0.8847\n",
      "Epoch 00011: val_accuracy did not improve from 0.86398\n",
      "113/113 [==============================] - 10s 84ms/step - loss: 0.2965 - accuracy: 0.8847 - val_loss: 0.3947 - val_accuracy: 0.8477\n",
      "Epoch 12/30\n",
      "113/113 [==============================] - ETA: 0s - loss: 0.2895 - accuracy: 0.8840\n",
      "Epoch 00012: val_accuracy did not improve from 0.86398\n",
      "113/113 [==============================] - 9s 84ms/step - loss: 0.2895 - accuracy: 0.8840 - val_loss: 0.3723 - val_accuracy: 0.8544\n",
      "Epoch 13/30\n",
      "113/113 [==============================] - ETA: 0s - loss: 0.2830 - accuracy: 0.8865\n",
      "Epoch 00013: val_accuracy did not improve from 0.86398\n",
      "113/113 [==============================] - 9s 84ms/step - loss: 0.2830 - accuracy: 0.8865 - val_loss: 0.3982 - val_accuracy: 0.8534\n"
     ]
    }
   ],
   "source": [
    "es_callback = EarlyStopping(monitor='val_accuracy', patience=10, mode=\"max\")\n",
    "#training params\n",
    "batch_size = 64 \n",
    "num_epochs = 30\n",
    "\n",
    "history = model.fit(word_seq_train, train.relation.values, batch_size=batch_size,\n",
    "          epochs=num_epochs, validation_data=(word_seq_test, val.relation.values), \n",
    "          callbacks=[es_callback, checkpoint])#, steps_per_epoch=train.shape[0] // batch_size,\n",
    "          # shuffle=False)"
   ]
  },
  {
   "cell_type": "code",
   "execution_count": null,
   "metadata": {
    "colab": {
     "base_uri": "https://localhost:8080/",
     "height": 295
    },
    "id": "50AkTs_3MCCN",
    "outputId": "78ab39eb-3c1d-45af-f91f-ca5ce5f28e9b"
   },
   "outputs": [
    {
     "data": {
      "image/png": "[encoded data removed]",
      "text/plain": [
       "<Figure size 432x288 with 1 Axes>"
      ]
     },
     "metadata": {
      "needs_background": "light",
      "tags": []
     },
     "output_type": "display_data"
    }
   ],
   "source": [
    "#generate plots\n",
    "plt.figure()\n",
    "plt.plot(history.history['loss'], lw=2.0, color='b', label='train')\n",
    "plt.plot(history.history['val_loss'], lw=2.0, color='r', label='val')\n",
    "plt.title('Loss')\n",
    "plt.xlabel('Epochs')\n",
    "plt.ylabel('Cross-Entropy Loss')\n",
    "plt.legend(loc='upper right')\n",
    "plt.show()"
   ]
  },
  {
   "cell_type": "code",
   "execution_count": null,
   "metadata": {
    "colab": {
     "base_uri": "https://localhost:8080/",
     "height": 295
    },
    "id": "HrnldxkeOSuI",
    "outputId": "e328a5e7-c4d8-4470-c74e-38fe59fa1751"
   },
   "outputs": [
    {
     "data": {
      "image/png": "[encoded data removed]",
      "text/plain": [
       "<Figure size 432x288 with 1 Axes>"
      ]
     },
     "metadata": {
      "needs_background": "light",
      "tags": []
     },
     "output_type": "display_data"
    }
   ],
   "source": [
    "plt.figure()\n",
    "plt.plot(history.history['accuracy'], lw=2.0, color='b', label='train')\n",
    "plt.plot(history.history['val_accuracy'], lw=2.0, color='r', label='val')\n",
    "plt.title('Accuracy')\n",
    "plt.xlabel('Epochs')\n",
    "plt.ylabel('Accuracy')\n",
    "plt.legend(loc='upper left')\n",
    "plt.show()"
   ]
  },
  {
   "cell_type": "code",
   "execution_count": null,
   "metadata": {
    "id": "VYerrU8CZ0sb"
   },
   "outputs": [],
   "source": [
    "\n",
    "model.load_weights('word2vec_sent_weights.best.hdf5')"
   ]
  },
  {
   "cell_type": "code",
   "execution_count": null,
   "metadata": {
    "colab": {
     "base_uri": "https://localhost:8080/"
    },
    "id": "lRwp0-QfOrQj",
    "outputId": "58d057f2-02c9-49c7-ad88-487e1bfc8801"
   },
   "outputs": [
    {
     "name": "stdout",
     "output_type": "stream",
     "text": [
      "WARNING:tensorflow:From <ipython-input-30-4ae8255381c2>:1: Sequential.predict_classes (from tensorflow.python.keras.engine.sequential) is deprecated and will be removed after 2021-01-01.\n",
      "Instructions for updating:\n",
      "Please use instead:* `np.argmax(model.predict(x), axis=-1)`,   if your model does multi-class classification   (e.g. if it uses a `softmax` last-layer activation).* `(model.predict(x) > 0.5).astype(\"int32\")`,   if your model does binary classification   (e.g. if it uses a `sigmoid` last-layer activation).\n"
     ]
    }
   ],
   "source": [
    "predictions = model.predict_classes(word_seq_test)"
   ]
  },
  {
   "cell_type": "code",
   "execution_count": null,
   "metadata": {
    "colab": {
     "base_uri": "https://localhost:8080/"
    },
    "id": "MHxUX6QHZtOB",
    "outputId": "91448f2a-2d8a-427f-d744-cf5224f89608"
   },
   "outputs": [
    {
     "data": {
      "text/plain": [
       "array([1, 1, 1, 1, 1, 1, 1, 1, 1, 1], dtype=int32)"
      ]
     },
     "execution_count": 31,
     "metadata": {
      "tags": []
     },
     "output_type": "execute_result"
    }
   ],
   "source": [
    "predictions[:10].ravel()"
   ]
  },
  {
   "cell_type": "code",
   "execution_count": null,
   "metadata": {
    "colab": {
     "base_uri": "https://localhost:8080/"
    },
    "id": "4UG7O8zhZvuW",
    "outputId": "3df88557-8445-42bb-e66e-d89372f35d0d"
   },
   "outputs": [
    {
     "data": {
      "text/plain": [
       "array([1, 1, 1, 1, 1, 1, 1, 1, 1, 1])"
      ]
     },
     "execution_count": 32,
     "metadata": {
      "tags": []
     },
     "output_type": "execute_result"
    }
   ],
   "source": [
    "np.array(train.relation.values[:10])"
   ]
  },
  {
   "cell_type": "code",
   "execution_count": null,
   "metadata": {
    "colab": {
     "base_uri": "https://localhost:8080/"
    },
    "id": "on9RuFzBTGPs",
    "outputId": "e3ae9c94-b7d5-41ca-ee70-c29cc00d5710"
   },
   "outputs": [
    {
     "name": "stdout",
     "output_type": "stream",
     "text": [
      "/content/drive/My Drive/iiit_ire/word2vec_fasttext\n"
     ]
    }
   ],
   "source": [
    "!pwd"
   ]
  },
  {
   "cell_type": "code",
   "execution_count": null,
   "metadata": {
    "id": "L5YFFRYjRDFC"
   },
   "outputs": [],
   "source": [
    "val['pred'] = predictions.ravel()\n",
    "val.to_csv(\"word2vec_finetune_classification.csv\")"
   ]
  },
  {
   "cell_type": "code",
   "execution_count": null,
   "metadata": {
    "colab": {
     "base_uri": "https://localhost:8080/"
    },
    "id": "BjS4jJjpa7kp",
    "outputId": "b2253985-bcff-4a31-f7ea-ce7856dc4d82"
   },
   "outputs": [
    {
     "name": "stdout",
     "output_type": "stream",
     "text": [
      "[[ 84 110]\n",
      " [ 32 818]]\n",
      "              precision    recall  f1-score   support\n",
      "\n",
      "           0       0.72      0.43      0.54       194\n",
      "           1       0.88      0.96      0.92       850\n",
      "\n",
      "    accuracy                           0.86      1044\n",
      "   macro avg       0.80      0.70      0.73      1044\n",
      "weighted avg       0.85      0.86      0.85      1044\n",
      "\n"
     ]
    }
   ],
   "source": [
    "from sklearn.metrics import confusion_matrix\n",
    "from sklearn.metrics import classification_report\n",
    "print(confusion_matrix(np.array(val.relation.values), predictions.ravel(), labels=[0,1]))\n",
    "print(classification_report(np.array(val.relation.values), predictions.ravel()))"
   ]
  },
  {
   "cell_type": "code",
   "execution_count": null,
   "metadata": {
    "colab": {
     "base_uri": "https://localhost:8080/"
    },
    "id": "7YtpaqNDcM9j",
    "outputId": "92abc0e4-9958-450a-acc3-6355a2700755"
   },
   "outputs": [
    {
     "name": "stdout",
     "output_type": "stream",
     "text": [
      "[[ 710  650]\n",
      " [ 365 5462]]\n",
      "              precision    recall  f1-score   support\n",
      "\n",
      "           0       0.66      0.52      0.58      1360\n",
      "           1       0.89      0.94      0.91      5827\n",
      "\n",
      "    accuracy                           0.86      7187\n",
      "   macro avg       0.78      0.73      0.75      7187\n",
      "weighted avg       0.85      0.86      0.85      7187\n",
      "\n"
     ]
    }
   ],
   "source": [
    "predictions = model.predict_classes(word_seq_train)\n",
    "print(confusion_matrix(np.array(train.relation.values), predictions.ravel(), labels=[0,1]))\n",
    "print(classification_report(np.array(train.relation.values), predictions.ravel()))"
   ]
  },
  {
   "cell_type": "code",
   "execution_count": null,
   "metadata": {
    "id": "jKHR7RG-fNAg"
   },
   "outputs": [],
   "source": []
  }
 ],
 "metadata": {
  "accelerator": "GPU",
  "colab": {
   "collapsed_sections": [],
   "name": "fin_word2vec_finetune.ipynb",
   "provenance": []
  },
  "kernelspec": {
   "display_name": "Python 3",
   "language": "python",
   "name": "python3"
  },
  "language_info": {
   "codemirror_mode": {
    "name": "ipython",
    "version": 3
   },
   "file_extension": ".py",
   "mimetype": "text/x-python",
   "name": "python",
   "nbconvert_exporter": "python",
   "pygments_lexer": "ipython3",
   "version": "3.8.3"
  }
 },
 "nbformat": 4,
 "nbformat_minor": 1
}
