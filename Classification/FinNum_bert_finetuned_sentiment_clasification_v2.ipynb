{
 "cells": [
  {
   "cell_type": "markdown",
   "metadata": {
    "Collapsed": "false",
    "id": "sv72A6q_8B0U"
   },
   "source": [
    "# Sentiment Analysis using finetuned BERT model on financial documents 10K\n"
   ]
  },
  {
   "cell_type": "code",
   "execution_count": 1,
   "metadata": {
    "Collapsed": "false",
    "id": "4IZv2XJM8B0b"
   },
   "outputs": [],
   "source": [
    "import torch\n",
    "import pandas as pd\n",
    "from tqdm.notebook import tqdm"
   ]
  },
  {
   "cell_type": "code",
   "execution_count": 2,
   "metadata": {
    "colab": {
     "base_uri": "https://localhost:8080/"
    },
    "id": "XCxDygL89CQQ",
    "outputId": "09efc544-09d3-4a0b-e5d5-b8805e966434"
   },
   "outputs": [
    {
     "name": "stdout",
     "output_type": "stream",
     "text": [
      "Mounted at /content/drive\n"
     ]
    }
   ],
   "source": [
    "#mount the drive\n",
    "from google.colab import drive\n",
    "drive.mount('/content/drive', force_remount=True)"
   ]
  },
  {
   "cell_type": "code",
   "execution_count": 3,
   "metadata": {
    "Collapsed": "false",
    "colab": {
     "base_uri": "https://localhost:8080/"
    },
    "id": "SRK0cI1w8B0f",
    "outputId": "9090b735-e27c-4bf6-ebc7-f42d5775eb06"
   },
   "outputs": [
    {
     "name": "stdout",
     "output_type": "stream",
     "text": [
      "(7187, 5) (1044, 5)\n"
     ]
    }
   ],
   "source": [
    "import json \n",
    "traind=[]\n",
    "vald=[]\n",
    "dir = \"/content/drive/My Drive/praveen_iiit_hyd_ire_class/ten_k_project_work/data/\"\n",
    "# Opening JSON file \n",
    "with open(dir+'FinNum_training_v3.json',) as f: \n",
    "  traind = json.load(f) \n",
    "with open(dir+'FinNum_dev_v3.json',) as f: \n",
    "  vald = json.load(f) \n",
    "\n",
    "train = pd.DataFrame(traind) \n",
    "val = pd.DataFrame(vald) \n",
    "print(train.shape, val.shape)\n"
   ]
  },
  {
   "cell_type": "code",
   "execution_count": 4,
   "metadata": {
    "colab": {
     "base_uri": "https://localhost:8080/",
     "height": 110
    },
    "id": "LfOca6n1BYp8",
    "outputId": "4eb5fe1a-8723-4e9b-d713-999eda6c26ad"
   },
   "outputs": [
    {
     "data": {
      "text/html": [
       "<div>\n",
       "<style scoped>\n",
       "    .dataframe tbody tr th:only-of-type {\n",
       "        vertical-align: middle;\n",
       "    }\n",
       "\n",
       "    .dataframe tbody tr th {\n",
       "        vertical-align: top;\n",
       "    }\n",
       "\n",
       "    .dataframe thead th {\n",
       "        text-align: right;\n",
       "    }\n",
       "</style>\n",
       "<table border=\"1\" class=\"dataframe\">\n",
       "  <thead>\n",
       "    <tr style=\"text-align: right;\">\n",
       "      <th></th>\n",
       "      <th>tweet</th>\n",
       "      <th>target_num</th>\n",
       "      <th>offset</th>\n",
       "      <th>target_cashtag</th>\n",
       "      <th>relation</th>\n",
       "    </tr>\n",
       "  </thead>\n",
       "  <tbody>\n",
       "    <tr>\n",
       "      <th>0</th>\n",
       "      <td>$XXII Scott Gottlieb, Commissioner of FDA spee...</td>\n",
       "      <td>3</td>\n",
       "      <td>74</td>\n",
       "      <td>XXII</td>\n",
       "      <td>1</td>\n",
       "    </tr>\n",
       "    <tr>\n",
       "      <th>1</th>\n",
       "      <td>$TSLA Maybe they calculate that 7ct energy pri...</td>\n",
       "      <td>7</td>\n",
       "      <td>32</td>\n",
       "      <td>TSLA</td>\n",
       "      <td>1</td>\n",
       "    </tr>\n",
       "  </tbody>\n",
       "</table>\n",
       "</div>"
      ],
      "text/plain": [
       "                                               tweet  ... relation\n",
       "0  $XXII Scott Gottlieb, Commissioner of FDA spee...  ...        1\n",
       "1  $TSLA Maybe they calculate that 7ct energy pri...  ...        1\n",
       "\n",
       "[2 rows x 5 columns]"
      ]
     },
     "execution_count": 4,
     "metadata": {
      "tags": []
     },
     "output_type": "execute_result"
    }
   ],
   "source": [
    "train.head(2)"
   ]
  },
  {
   "cell_type": "code",
   "execution_count": 5,
   "metadata": {
    "colab": {
     "base_uri": "https://localhost:8080/",
     "height": 110
    },
    "id": "5CpJt29VBalA",
    "outputId": "4696dd6b-565c-4ddc-fd4d-ec81896a9f53"
   },
   "outputs": [
    {
     "data": {
      "text/html": [
       "<div>\n",
       "<style scoped>\n",
       "    .dataframe tbody tr th:only-of-type {\n",
       "        vertical-align: middle;\n",
       "    }\n",
       "\n",
       "    .dataframe tbody tr th {\n",
       "        vertical-align: top;\n",
       "    }\n",
       "\n",
       "    .dataframe thead th {\n",
       "        text-align: right;\n",
       "    }\n",
       "</style>\n",
       "<table border=\"1\" class=\"dataframe\">\n",
       "  <thead>\n",
       "    <tr style=\"text-align: right;\">\n",
       "      <th></th>\n",
       "      <th>tweet</th>\n",
       "      <th>target_num</th>\n",
       "      <th>offset</th>\n",
       "      <th>target_cashtag</th>\n",
       "      <th>relation</th>\n",
       "    </tr>\n",
       "  </thead>\n",
       "  <tbody>\n",
       "    <tr>\n",
       "      <th>0</th>\n",
       "      <td>$CAT My ST alert at $121 now up a nice 19% if ...</td>\n",
       "      <td>121</td>\n",
       "      <td>21</td>\n",
       "      <td>CAT</td>\n",
       "      <td>1</td>\n",
       "    </tr>\n",
       "    <tr>\n",
       "      <th>1</th>\n",
       "      <td>$CYTR Wondering if i should rather add Jul/Sep...</td>\n",
       "      <td>1</td>\n",
       "      <td>47</td>\n",
       "      <td>CYTR</td>\n",
       "      <td>1</td>\n",
       "    </tr>\n",
       "  </tbody>\n",
       "</table>\n",
       "</div>"
      ],
      "text/plain": [
       "                                               tweet  ... relation\n",
       "0  $CAT My ST alert at $121 now up a nice 19% if ...  ...        1\n",
       "1  $CYTR Wondering if i should rather add Jul/Sep...  ...        1\n",
       "\n",
       "[2 rows x 5 columns]"
      ]
     },
     "execution_count": 5,
     "metadata": {
      "tags": []
     },
     "output_type": "execute_result"
    }
   ],
   "source": [
    "val.head(2)"
   ]
  },
  {
   "cell_type": "code",
   "execution_count": 6,
   "metadata": {
    "colab": {
     "base_uri": "https://localhost:8080/"
    },
    "id": "BZbP4hLi_sWC",
    "outputId": "a6662719-6689-4076-95ce-a43ba73e0c62"
   },
   "outputs": [
    {
     "name": "stdout",
     "output_type": "stream",
     "text": [
      "<class 'pandas.core.frame.DataFrame'>\n",
      "RangeIndex: 7187 entries, 0 to 7186\n",
      "Data columns (total 5 columns):\n",
      " #   Column          Non-Null Count  Dtype \n",
      "---  ------          --------------  ----- \n",
      " 0   tweet           7187 non-null   object\n",
      " 1   target_num      7187 non-null   object\n",
      " 2   offset          7187 non-null   int64 \n",
      " 3   target_cashtag  7187 non-null   object\n",
      " 4   relation        7187 non-null   int64 \n",
      "dtypes: int64(2), object(3)\n",
      "memory usage: 280.9+ KB\n",
      "<class 'pandas.core.frame.DataFrame'>\n",
      "RangeIndex: 1044 entries, 0 to 1043\n",
      "Data columns (total 5 columns):\n",
      " #   Column          Non-Null Count  Dtype \n",
      "---  ------          --------------  ----- \n",
      " 0   tweet           1044 non-null   object\n",
      " 1   target_num      1044 non-null   object\n",
      " 2   offset          1044 non-null   int64 \n",
      " 3   target_cashtag  1044 non-null   object\n",
      " 4   relation        1044 non-null   int64 \n",
      "dtypes: int64(2), object(3)\n",
      "memory usage: 40.9+ KB\n"
     ]
    },
    {
     "data": {
      "text/plain": [
       "(None, None)"
      ]
     },
     "execution_count": 6,
     "metadata": {
      "tags": []
     },
     "output_type": "execute_result"
    }
   ],
   "source": [
    "train.info(), val.info()"
   ]
  },
  {
   "cell_type": "code",
   "execution_count": 7,
   "metadata": {
    "id": "kaKydZxD_zwo"
   },
   "outputs": [],
   "source": [
    "cols = ['tweet', 'relation']\n",
    "train = train[cols]\n",
    "val = val[cols]"
   ]
  },
  {
   "cell_type": "code",
   "execution_count": 8,
   "metadata": {
    "Collapsed": "false",
    "colab": {
     "base_uri": "https://localhost:8080/"
    },
    "id": "zbfv7z_38B0n",
    "outputId": "d7c7d3a9-20c9-41fb-ad0f-c8b2124b385c"
   },
   "outputs": [
    {
     "name": "stdout",
     "output_type": "stream",
     "text": [
      "1    5827\n",
      "0    1360\n",
      "Name: relation, dtype: int64\n",
      "1    850\n",
      "0    194\n",
      "Name: relation, dtype: int64\n"
     ]
    }
   ],
   "source": [
    "print(train.relation.value_counts())\n",
    "print(val.relation.value_counts())"
   ]
  },
  {
   "cell_type": "code",
   "execution_count": 9,
   "metadata": {
    "id": "6X4Uw-ZpOzmc"
   },
   "outputs": [],
   "source": [
    "label_dict = {}\n",
    "for index, possible_label in enumerate(train.relation.unique()):\n",
    "    label_dict[possible_label] = index"
   ]
  },
  {
   "cell_type": "code",
   "execution_count": 10,
   "metadata": {
    "colab": {
     "base_uri": "https://localhost:8080/"
    },
    "id": "TYc151KlO-Yx",
    "outputId": "f9abed0d-42c8-48bc-ba42-3e380d69cfb4"
   },
   "outputs": [
    {
     "data": {
      "text/plain": [
       "({0: 1, 1: 0}, 2)"
      ]
     },
     "execution_count": 10,
     "metadata": {
      "tags": []
     },
     "output_type": "execute_result"
    }
   ],
   "source": [
    "label_dict, len(label_dict)"
   ]
  },
  {
   "cell_type": "markdown",
   "metadata": {
    "Collapsed": "false",
    "id": "KwHth1HS8B1C"
   },
   "source": [
    "## Training/Validation Split"
   ]
  },
  {
   "cell_type": "code",
   "execution_count": 11,
   "metadata": {
    "Collapsed": "false",
    "id": "5gf-8P2c8B1D"
   },
   "outputs": [],
   "source": [
    "from sklearn.model_selection import train_test_split"
   ]
  },
  {
   "cell_type": "code",
   "execution_count": 12,
   "metadata": {
    "Collapsed": "false",
    "id": "iE14PW7l8B1G"
   },
   "outputs": [],
   "source": [
    "X_train, X_val, y_train, y_val = train['tweet'], val['tweet'], train['relation'], val['relation']"
   ]
  },
  {
   "cell_type": "markdown",
   "metadata": {
    "Collapsed": "false",
    "id": "ywWKa-iT8B1j"
   },
   "source": [
    "## Loading Tokenizer and Encoding our Data"
   ]
  },
  {
   "cell_type": "code",
   "execution_count": 13,
   "metadata": {
    "colab": {
     "base_uri": "https://localhost:8080/"
    },
    "id": "E722DOGNE9D_",
    "outputId": "1529dbca-1663-4efc-98a1-d29d84737e56"
   },
   "outputs": [
    {
     "name": "stdout",
     "output_type": "stream",
     "text": [
      "Collecting transformers\n",
      "\u001b[?25l  Downloading https://files.pythonhosted.org/packages/3a/83/e74092e7f24a08d751aa59b37a9fc572b2e4af3918cb66f7766c3affb1b4/transformers-3.5.1-py3-none-any.whl (1.3MB)\n",
      "\r",
      "\u001b[K     |▎                               | 10kB 21.3MB/s eta 0:00:01\r",
      "\u001b[K     |▌                               | 20kB 29.0MB/s eta 0:00:01\r",
      "\u001b[K     |▊                               | 30kB 34.0MB/s eta 0:00:01\r",
      "\u001b[K     |█                               | 40kB 29.8MB/s eta 0:00:01\r",
      "\u001b[K     |█▎                              | 51kB 27.9MB/s eta 0:00:01\r",
      "\u001b[K     |█▌                              | 61kB 22.5MB/s eta 0:00:01\r",
      "\u001b[K     |█▊                              | 71kB 24.2MB/s eta 0:00:01\r",
      "\u001b[K     |██                              | 81kB 20.6MB/s eta 0:00:01\r",
      "\u001b[K     |██▎                             | 92kB 19.4MB/s eta 0:00:01\r",
      "\u001b[K     |██▌                             | 102kB 19.4MB/s eta 0:00:01\r",
      "\u001b[K     |██▊                             | 112kB 19.4MB/s eta 0:00:01\r",
      "\u001b[K     |███                             | 122kB 19.4MB/s eta 0:00:01\r",
      "\u001b[K     |███▎                            | 133kB 19.4MB/s eta 0:00:01\r",
      "\u001b[K     |███▌                            | 143kB 19.4MB/s eta 0:00:01\r",
      "\u001b[K     |███▉                            | 153kB 19.4MB/s eta 0:00:01\r",
      "\u001b[K     |████                            | 163kB 19.4MB/s eta 0:00:01\r",
      "\u001b[K     |████▎                           | 174kB 19.4MB/s eta 0:00:01\r",
      "\u001b[K     |████▌                           | 184kB 19.4MB/s eta 0:00:01\r",
      "\u001b[K     |████▉                           | 194kB 19.4MB/s eta 0:00:01\r",
      "\u001b[K     |█████                           | 204kB 19.4MB/s eta 0:00:01\r",
      "\u001b[K     |█████▎                          | 215kB 19.4MB/s eta 0:00:01\r",
      "\u001b[K     |█████▌                          | 225kB 19.4MB/s eta 0:00:01\r",
      "\u001b[K     |█████▉                          | 235kB 19.4MB/s eta 0:00:01\r",
      "\u001b[K     |██████                          | 245kB 19.4MB/s eta 0:00:01\r",
      "\u001b[K     |██████▎                         | 256kB 19.4MB/s eta 0:00:01\r",
      "\u001b[K     |██████▌                         | 266kB 19.4MB/s eta 0:00:01\r",
      "\u001b[K     |██████▉                         | 276kB 19.4MB/s eta 0:00:01\r",
      "\u001b[K     |███████                         | 286kB 19.4MB/s eta 0:00:01\r",
      "\u001b[K     |███████▎                        | 296kB 19.4MB/s eta 0:00:01\r",
      "\u001b[K     |███████▋                        | 307kB 19.4MB/s eta 0:00:01\r",
      "\u001b[K     |███████▉                        | 317kB 19.4MB/s eta 0:00:01\r",
      "\u001b[K     |████████                        | 327kB 19.4MB/s eta 0:00:01\r",
      "\u001b[K     |████████▎                       | 337kB 19.4MB/s eta 0:00:01\r",
      "\u001b[K     |████████▋                       | 348kB 19.4MB/s eta 0:00:01\r",
      "\u001b[K     |████████▉                       | 358kB 19.4MB/s eta 0:00:01\r",
      "\u001b[K     |█████████                       | 368kB 19.4MB/s eta 0:00:01\r",
      "\u001b[K     |█████████▎                      | 378kB 19.4MB/s eta 0:00:01\r",
      "\u001b[K     |█████████▋                      | 389kB 19.4MB/s eta 0:00:01\r",
      "\u001b[K     |█████████▉                      | 399kB 19.4MB/s eta 0:00:01\r",
      "\u001b[K     |██████████                      | 409kB 19.4MB/s eta 0:00:01\r",
      "\u001b[K     |██████████▎                     | 419kB 19.4MB/s eta 0:00:01\r",
      "\u001b[K     |██████████▋                     | 430kB 19.4MB/s eta 0:00:01\r",
      "\u001b[K     |██████████▉                     | 440kB 19.4MB/s eta 0:00:01\r",
      "\u001b[K     |███████████                     | 450kB 19.4MB/s eta 0:00:01\r",
      "\u001b[K     |███████████▍                    | 460kB 19.4MB/s eta 0:00:01\r",
      "\u001b[K     |███████████▋                    | 471kB 19.4MB/s eta 0:00:01\r",
      "\u001b[K     |███████████▉                    | 481kB 19.4MB/s eta 0:00:01\r",
      "\u001b[K     |████████████                    | 491kB 19.4MB/s eta 0:00:01\r",
      "\u001b[K     |████████████▍                   | 501kB 19.4MB/s eta 0:00:01\r",
      "\u001b[K     |████████████▋                   | 512kB 19.4MB/s eta 0:00:01\r",
      "\u001b[K     |████████████▉                   | 522kB 19.4MB/s eta 0:00:01\r",
      "\u001b[K     |█████████████                   | 532kB 19.4MB/s eta 0:00:01\r",
      "\u001b[K     |█████████████▍                  | 542kB 19.4MB/s eta 0:00:01\r",
      "\u001b[K     |█████████████▋                  | 552kB 19.4MB/s eta 0:00:01\r",
      "\u001b[K     |█████████████▉                  | 563kB 19.4MB/s eta 0:00:01\r",
      "\u001b[K     |██████████████                  | 573kB 19.4MB/s eta 0:00:01\r",
      "\u001b[K     |██████████████▍                 | 583kB 19.4MB/s eta 0:00:01\r",
      "\u001b[K     |██████████████▋                 | 593kB 19.4MB/s eta 0:00:01\r",
      "\u001b[K     |██████████████▉                 | 604kB 19.4MB/s eta 0:00:01\r",
      "\u001b[K     |███████████████▏                | 614kB 19.4MB/s eta 0:00:01\r",
      "\u001b[K     |███████████████▍                | 624kB 19.4MB/s eta 0:00:01\r",
      "\u001b[K     |███████████████▋                | 634kB 19.4MB/s eta 0:00:01\r",
      "\u001b[K     |███████████████▉                | 645kB 19.4MB/s eta 0:00:01\r",
      "\u001b[K     |████████████████▏               | 655kB 19.4MB/s eta 0:00:01\r",
      "\u001b[K     |████████████████▍               | 665kB 19.4MB/s eta 0:00:01\r",
      "\u001b[K     |████████████████▋               | 675kB 19.4MB/s eta 0:00:01\r",
      "\u001b[K     |████████████████▉               | 686kB 19.4MB/s eta 0:00:01\r",
      "\u001b[K     |█████████████████▏              | 696kB 19.4MB/s eta 0:00:01\r",
      "\u001b[K     |█████████████████▍              | 706kB 19.4MB/s eta 0:00:01\r",
      "\u001b[K     |█████████████████▋              | 716kB 19.4MB/s eta 0:00:01\r",
      "\u001b[K     |██████████████████              | 727kB 19.4MB/s eta 0:00:01\r",
      "\u001b[K     |██████████████████▏             | 737kB 19.4MB/s eta 0:00:01\r",
      "\u001b[K     |██████████████████▍             | 747kB 19.4MB/s eta 0:00:01\r",
      "\u001b[K     |██████████████████▋             | 757kB 19.4MB/s eta 0:00:01\r",
      "\u001b[K     |███████████████████             | 768kB 19.4MB/s eta 0:00:01\r",
      "\u001b[K     |███████████████████▏            | 778kB 19.4MB/s eta 0:00:01\r",
      "\u001b[K     |███████████████████▍            | 788kB 19.4MB/s eta 0:00:01\r",
      "\u001b[K     |███████████████████▋            | 798kB 19.4MB/s eta 0:00:01\r",
      "\u001b[K     |████████████████████            | 808kB 19.4MB/s eta 0:00:01\r",
      "\u001b[K     |████████████████████▏           | 819kB 19.4MB/s eta 0:00:01\r",
      "\u001b[K     |████████████████████▍           | 829kB 19.4MB/s eta 0:00:01\r",
      "\u001b[K     |████████████████████▋           | 839kB 19.4MB/s eta 0:00:01\r",
      "\u001b[K     |█████████████████████           | 849kB 19.4MB/s eta 0:00:01\r",
      "\u001b[K     |█████████████████████▏          | 860kB 19.4MB/s eta 0:00:01\r",
      "\u001b[K     |█████████████████████▍          | 870kB 19.4MB/s eta 0:00:01\r",
      "\u001b[K     |█████████████████████▊          | 880kB 19.4MB/s eta 0:00:01\r",
      "\u001b[K     |██████████████████████          | 890kB 19.4MB/s eta 0:00:01\r",
      "\u001b[K     |██████████████████████▏         | 901kB 19.4MB/s eta 0:00:01\r",
      "\u001b[K     |██████████████████████▍         | 911kB 19.4MB/s eta 0:00:01\r",
      "\u001b[K     |██████████████████████▊         | 921kB 19.4MB/s eta 0:00:01\r",
      "\u001b[K     |███████████████████████         | 931kB 19.4MB/s eta 0:00:01\r",
      "\u001b[K     |███████████████████████▏        | 942kB 19.4MB/s eta 0:00:01\r",
      "\u001b[K     |███████████████████████▍        | 952kB 19.4MB/s eta 0:00:01\r",
      "\u001b[K     |███████████████████████▊        | 962kB 19.4MB/s eta 0:00:01\r",
      "\u001b[K     |████████████████████████        | 972kB 19.4MB/s eta 0:00:01\r",
      "\u001b[K     |████████████████████████▏       | 983kB 19.4MB/s eta 0:00:01\r",
      "\u001b[K     |████████████████████████▍       | 993kB 19.4MB/s eta 0:00:01\r",
      "\u001b[K     |████████████████████████▊       | 1.0MB 19.4MB/s eta 0:00:01\r",
      "\u001b[K     |█████████████████████████       | 1.0MB 19.4MB/s eta 0:00:01\r",
      "\u001b[K     |█████████████████████████▏      | 1.0MB 19.4MB/s eta 0:00:01\r",
      "\u001b[K     |█████████████████████████▌      | 1.0MB 19.4MB/s eta 0:00:01\r",
      "\u001b[K     |█████████████████████████▊      | 1.0MB 19.4MB/s eta 0:00:01\r",
      "\u001b[K     |██████████████████████████      | 1.1MB 19.4MB/s eta 0:00:01\r",
      "\u001b[K     |██████████████████████████▏     | 1.1MB 19.4MB/s eta 0:00:01\r",
      "\u001b[K     |██████████████████████████▌     | 1.1MB 19.4MB/s eta 0:00:01\r",
      "\u001b[K     |██████████████████████████▊     | 1.1MB 19.4MB/s eta 0:00:01\r",
      "\u001b[K     |███████████████████████████     | 1.1MB 19.4MB/s eta 0:00:01\r",
      "\u001b[K     |███████████████████████████▏    | 1.1MB 19.4MB/s eta 0:00:01\r",
      "\u001b[K     |███████████████████████████▌    | 1.1MB 19.4MB/s eta 0:00:01\r",
      "\u001b[K     |███████████████████████████▊    | 1.1MB 19.4MB/s eta 0:00:01\r",
      "\u001b[K     |████████████████████████████    | 1.1MB 19.4MB/s eta 0:00:01\r",
      "\u001b[K     |████████████████████████████▏   | 1.1MB 19.4MB/s eta 0:00:01\r",
      "\u001b[K     |████████████████████████████▌   | 1.2MB 19.4MB/s eta 0:00:01\r",
      "\u001b[K     |████████████████████████████▊   | 1.2MB 19.4MB/s eta 0:00:01\r",
      "\u001b[K     |█████████████████████████████   | 1.2MB 19.4MB/s eta 0:00:01\r",
      "\u001b[K     |█████████████████████████████▎  | 1.2MB 19.4MB/s eta 0:00:01\r",
      "\u001b[K     |█████████████████████████████▌  | 1.2MB 19.4MB/s eta 0:00:01\r",
      "\u001b[K     |█████████████████████████████▊  | 1.2MB 19.4MB/s eta 0:00:01\r",
      "\u001b[K     |██████████████████████████████  | 1.2MB 19.4MB/s eta 0:00:01\r",
      "\u001b[K     |██████████████████████████████▎ | 1.2MB 19.4MB/s eta 0:00:01\r",
      "\u001b[K     |██████████████████████████████▌ | 1.2MB 19.4MB/s eta 0:00:01\r",
      "\u001b[K     |██████████████████████████████▊ | 1.2MB 19.4MB/s eta 0:00:01\r",
      "\u001b[K     |███████████████████████████████ | 1.3MB 19.4MB/s eta 0:00:01\r",
      "\u001b[K     |███████████████████████████████▎| 1.3MB 19.4MB/s eta 0:00:01\r",
      "\u001b[K     |███████████████████████████████▌| 1.3MB 19.4MB/s eta 0:00:01\r",
      "\u001b[K     |███████████████████████████████▊| 1.3MB 19.4MB/s eta 0:00:01\r",
      "\u001b[K     |████████████████████████████████| 1.3MB 19.4MB/s eta 0:00:01\r",
      "\u001b[K     |████████████████████████████████| 1.3MB 19.4MB/s \n",
      "\u001b[?25hRequirement already satisfied: packaging in /usr/local/lib/python3.6/dist-packages (from transformers) (20.4)\n",
      "Collecting sentencepiece==0.1.91\n",
      "\u001b[?25l  Downloading https://files.pythonhosted.org/packages/d4/a4/d0a884c4300004a78cca907a6ff9a5e9fe4f090f5d95ab341c53d28cbc58/sentencepiece-0.1.91-cp36-cp36m-manylinux1_x86_64.whl (1.1MB)\n",
      "\u001b[K     |████████████████████████████████| 1.1MB 48.9MB/s \n",
      "\u001b[?25hRequirement already satisfied: dataclasses; python_version < \"3.7\" in /usr/local/lib/python3.6/dist-packages (from transformers) (0.7)\n",
      "Requirement already satisfied: protobuf in /usr/local/lib/python3.6/dist-packages (from transformers) (3.12.4)\n",
      "Requirement already satisfied: tqdm>=4.27 in /usr/local/lib/python3.6/dist-packages (from transformers) (4.41.1)\n",
      "Collecting sacremoses\n",
      "\u001b[?25l  Downloading https://files.pythonhosted.org/packages/7d/34/09d19aff26edcc8eb2a01bed8e98f13a1537005d31e95233fd48216eed10/sacremoses-0.0.43.tar.gz (883kB)\n",
      "\u001b[K     |████████████████████████████████| 890kB 54.5MB/s \n",
      "\u001b[?25hRequirement already satisfied: requests in /usr/local/lib/python3.6/dist-packages (from transformers) (2.23.0)\n",
      "Requirement already satisfied: filelock in /usr/local/lib/python3.6/dist-packages (from transformers) (3.0.12)\n",
      "Requirement already satisfied: numpy in /usr/local/lib/python3.6/dist-packages (from transformers) (1.18.5)\n",
      "Requirement already satisfied: regex!=2019.12.17 in /usr/local/lib/python3.6/dist-packages (from transformers) (2019.12.20)\n",
      "Collecting tokenizers==0.9.3\n",
      "\u001b[?25l  Downloading https://files.pythonhosted.org/packages/4c/34/b39eb9994bc3c999270b69c9eea40ecc6f0e97991dba28282b9fd32d44ee/tokenizers-0.9.3-cp36-cp36m-manylinux1_x86_64.whl (2.9MB)\n",
      "\u001b[K     |████████████████████████████████| 2.9MB 49.7MB/s \n",
      "\u001b[?25hRequirement already satisfied: six in /usr/local/lib/python3.6/dist-packages (from packaging->transformers) (1.15.0)\n",
      "Requirement already satisfied: pyparsing>=2.0.2 in /usr/local/lib/python3.6/dist-packages (from packaging->transformers) (2.4.7)\n",
      "Requirement already satisfied: setuptools in /usr/local/lib/python3.6/dist-packages (from protobuf->transformers) (50.3.2)\n",
      "Requirement already satisfied: click in /usr/local/lib/python3.6/dist-packages (from sacremoses->transformers) (7.1.2)\n",
      "Requirement already satisfied: joblib in /usr/local/lib/python3.6/dist-packages (from sacremoses->transformers) (0.17.0)\n",
      "Requirement already satisfied: urllib3!=1.25.0,!=1.25.1,<1.26,>=1.21.1 in /usr/local/lib/python3.6/dist-packages (from requests->transformers) (1.24.3)\n",
      "Requirement already satisfied: certifi>=2017.4.17 in /usr/local/lib/python3.6/dist-packages (from requests->transformers) (2020.6.20)\n",
      "Requirement already satisfied: chardet<4,>=3.0.2 in /usr/local/lib/python3.6/dist-packages (from requests->transformers) (3.0.4)\n",
      "Requirement already satisfied: idna<3,>=2.5 in /usr/local/lib/python3.6/dist-packages (from requests->transformers) (2.10)\n",
      "Building wheels for collected packages: sacremoses\n",
      "  Building wheel for sacremoses (setup.py) ... \u001b[?25l\u001b[?25hdone\n",
      "  Created wheel for sacremoses: filename=sacremoses-0.0.43-cp36-none-any.whl size=893257 sha256=bcd04a244fdf94bb931b9a4b0c4016b18b884acca48e01700fc724d92262d848\n",
      "  Stored in directory: /root/.cache/pip/wheels/29/3c/fd/7ce5c3f0666dab31a50123635e6fb5e19ceb42ce38d4e58f45\n",
      "Successfully built sacremoses\n",
      "Installing collected packages: sentencepiece, sacremoses, tokenizers, transformers\n",
      "Successfully installed sacremoses-0.0.43 sentencepiece-0.1.91 tokenizers-0.9.3 transformers-3.5.1\n"
     ]
    }
   ],
   "source": [
    "!pip install transformers"
   ]
  },
  {
   "cell_type": "code",
   "execution_count": 14,
   "metadata": {
    "Collapsed": "false",
    "id": "KOJ8ulRl8B1k"
   },
   "outputs": [],
   "source": [
    "from transformers import BertTokenizer\n",
    "from torch.utils.data import TensorDataset"
   ]
  },
  {
   "cell_type": "code",
   "execution_count": 15,
   "metadata": {
    "id": "uAXhkgalF4c0"
   },
   "outputs": [],
   "source": [
    "modeldir = \"/content/drive/My Drive/praveen_iiit_hyd_ire_class/ten_k_project_work/tenkBERTv2Cased/\""
   ]
  },
  {
   "cell_type": "code",
   "execution_count": 16,
   "metadata": {
    "Collapsed": "false",
    "colab": {
     "base_uri": "https://localhost:8080/",
     "height": 67,
     "referenced_widgets": [
      "ad80a46af27f4c8297ab0d33ef3f287d",
      "59aff35774634788a005fe8ce342ee34",
      "ecb182b1a95240aeb49ac0479e72d455",
      "11c43aa422684511a9d54087ff9b4487",
      "498cb6ae760b4008ad7557411629b90f",
      "749abdb71d3845338ca7c3ed4a6681b9",
      "7e2ce88320ad4059a898cd2896020d3f",
      "f86a5effd48a49c982fae4b57b8b7fe1"
     ]
    },
    "id": "F3iUh4ot8B1r",
    "outputId": "523f0d03-8edb-485f-c33b-67c12af08b17"
   },
   "outputs": [
    {
     "data": {
      "application/vnd.jupyter.widget-view+json": {
       "model_id": "ad80a46af27f4c8297ab0d33ef3f287d",
       "version_major": 2,
       "version_minor": 0
      },
      "text/plain": [
       "HBox(children=(FloatProgress(value=0.0, description='Downloading', max=213450.0, style=ProgressStyle(descripti…"
      ]
     },
     "metadata": {
      "tags": []
     },
     "output_type": "display_data"
    },
    {
     "name": "stdout",
     "output_type": "stream",
     "text": [
      "\n"
     ]
    }
   ],
   "source": [
    "from transformers import BertTokenizer\n",
    "tokenizer = BertTokenizer.from_pretrained('bert-base-cased')\n"
   ]
  },
  {
   "cell_type": "code",
   "execution_count": 17,
   "metadata": {
    "Collapsed": "false",
    "colab": {
     "base_uri": "https://localhost:8080/"
    },
    "id": "_OR6pydz8B1w",
    "outputId": "35b100bd-015e-4c5b-8101-947543b82740"
   },
   "outputs": [
    {
     "name": "stderr",
     "output_type": "stream",
     "text": [
      "Truncation was not explicitly activated but `max_length` is provided a specific value, please use `truncation=True` to explicitly truncate examples to max length. Defaulting to 'longest_first' truncation strategy. If you encode pairs of sequences (GLUE-style) with the tokenizer you can select this strategy more precisely by providing a specific strategy to `truncation`.\n",
      "/usr/local/lib/python3.6/dist-packages/transformers/tokenization_utils_base.py:2022: FutureWarning: The `pad_to_max_length` argument is deprecated and will be removed in a future version, use `padding=True` or `padding='longest'` to pad to the longest sequence in the batch, or use `padding='max_length'` to pad to a max length. In this case, you can give a specific length with `max_length` (e.g. `max_length=45`) or leave max_length to None to pad to the maximal input size of the model (e.g. 512 for Bert).\n",
      "  FutureWarning,\n"
     ]
    }
   ],
   "source": [
    "encoded_data_train = tokenizer.batch_encode_plus(\n",
    "    train.tweet.values, \n",
    "    add_special_tokens=True, \n",
    "    return_attention_mask=True, \n",
    "    pad_to_max_length=True, \n",
    "    max_length=32, \n",
    "    return_tensors='pt'\n",
    ")\n",
    "\n",
    "encoded_data_val = tokenizer.batch_encode_plus(\n",
    "    val.tweet.values, \n",
    "    add_special_tokens=True, \n",
    "    return_attention_mask=True, \n",
    "    pad_to_max_length=True, \n",
    "    max_length=32, \n",
    "    return_tensors='pt'\n",
    ")\n",
    "\n",
    "\n",
    "input_ids_train = encoded_data_train['input_ids']\n",
    "attention_masks_train = encoded_data_train['attention_mask']\n",
    "labels_train = torch.tensor(train.relation.values)\n",
    "\n",
    "input_ids_val = encoded_data_val['input_ids']\n",
    "attention_masks_val = encoded_data_val['attention_mask']\n",
    "labels_val = torch.tensor(val.relation.values)"
   ]
  },
  {
   "cell_type": "code",
   "execution_count": 18,
   "metadata": {
    "Collapsed": "false",
    "id": "mO8pioyH8B12"
   },
   "outputs": [],
   "source": [
    "dataset_train = TensorDataset(input_ids_train, attention_masks_train, labels_train)\n",
    "dataset_val = TensorDataset(input_ids_val, attention_masks_val, labels_val)"
   ]
  },
  {
   "cell_type": "code",
   "execution_count": 19,
   "metadata": {
    "Collapsed": "false",
    "colab": {
     "base_uri": "https://localhost:8080/"
    },
    "id": "-vb9-oM38B18",
    "outputId": "c3a3a730-240f-4fe7-dfe3-ba80595121d2"
   },
   "outputs": [
    {
     "data": {
      "text/plain": [
       "(7187, 1044)"
      ]
     },
     "execution_count": 19,
     "metadata": {
      "tags": []
     },
     "output_type": "execute_result"
    }
   ],
   "source": [
    "len(dataset_train), len(dataset_val)"
   ]
  },
  {
   "cell_type": "markdown",
   "metadata": {
    "Collapsed": "false",
    "id": "Mm1lP0468B2G"
   },
   "source": [
    "## Setting up BERT Pretrained Model"
   ]
  },
  {
   "cell_type": "code",
   "execution_count": 20,
   "metadata": {
    "Collapsed": "false",
    "id": "eITaOyw68B2I"
   },
   "outputs": [],
   "source": [
    "from transformers import BertForSequenceClassification"
   ]
  },
  {
   "cell_type": "code",
   "execution_count": 21,
   "metadata": {
    "Collapsed": "false",
    "colab": {
     "base_uri": "https://localhost:8080/"
    },
    "id": "iSi1N1oG8B2N",
    "outputId": "3d118929-298c-4a1a-f412-bc9523c75ecc"
   },
   "outputs": [
    {
     "name": "stderr",
     "output_type": "stream",
     "text": [
      "Some weights of the model checkpoint at /content/drive/My Drive/praveen_iiit_hyd_ire_class/ten_k_project_work/tenkBERTv2Cased/ were not used when initializing BertForSequenceClassification: ['cls.predictions.bias', 'cls.predictions.transform.dense.weight', 'cls.predictions.transform.dense.bias', 'cls.predictions.transform.LayerNorm.weight', 'cls.predictions.transform.LayerNorm.bias', 'cls.predictions.decoder.weight', 'cls.predictions.decoder.bias']\n",
      "- This IS expected if you are initializing BertForSequenceClassification from the checkpoint of a model trained on another task or with another architecture (e.g. initializing a BertForSequenceClassification model from a BertForPreTraining model).\n",
      "- This IS NOT expected if you are initializing BertForSequenceClassification from the checkpoint of a model that you expect to be exactly identical (initializing a BertForSequenceClassification model from a BertForSequenceClassification model).\n",
      "Some weights of BertForSequenceClassification were not initialized from the model checkpoint at /content/drive/My Drive/praveen_iiit_hyd_ire_class/ten_k_project_work/tenkBERTv2Cased/ and are newly initialized: ['bert.pooler.dense.weight', 'bert.pooler.dense.bias', 'classifier.weight', 'classifier.bias']\n",
      "You should probably TRAIN this model on a down-stream task to be able to use it for predictions and inference.\n"
     ]
    }
   ],
   "source": [
    "model = BertForSequenceClassification.from_pretrained(modeldir,\n",
    "                                                      num_labels=len(label_dict),\n",
    "                                                      output_attentions=False,\n",
    "                                                      output_hidden_states=False)\n",
    "\n"
   ]
  },
  {
   "cell_type": "markdown",
   "metadata": {
    "Collapsed": "false",
    "id": "jWlICZF58B2U"
   },
   "source": [
    "## Creating Data Loaders"
   ]
  },
  {
   "cell_type": "code",
   "execution_count": 22,
   "metadata": {
    "Collapsed": "false",
    "id": "i0Dt7YKX8B2V"
   },
   "outputs": [],
   "source": [
    "from torch.utils.data import DataLoader, RandomSampler, SequentialSampler"
   ]
  },
  {
   "cell_type": "code",
   "execution_count": 23,
   "metadata": {
    "Collapsed": "false",
    "id": "tl48R3wv8B2b"
   },
   "outputs": [],
   "source": [
    "batch_size = 32\n",
    "\n",
    "dataloader_train = DataLoader(dataset_train, \n",
    "                              sampler=RandomSampler(dataset_train), \n",
    "                              batch_size=batch_size)\n",
    "\n",
    "dataloader_validation = DataLoader(dataset_val, \n",
    "                                   sampler=SequentialSampler(dataset_val), \n",
    "                                   batch_size=batch_size)"
   ]
  },
  {
   "cell_type": "markdown",
   "metadata": {
    "Collapsed": "false",
    "id": "SUj88P0h8B2g"
   },
   "source": [
    "## Setting Up Optimiser and Scheduler"
   ]
  },
  {
   "cell_type": "code",
   "execution_count": 24,
   "metadata": {
    "Collapsed": "false",
    "id": "Rzy_sM6i8B2h"
   },
   "outputs": [],
   "source": [
    "from transformers import AdamW, get_linear_schedule_with_warmup"
   ]
  },
  {
   "cell_type": "code",
   "execution_count": 25,
   "metadata": {
    "Collapsed": "false",
    "id": "S-DseD4L8B2m"
   },
   "outputs": [],
   "source": [
    "optimizer = AdamW(model.parameters(),\n",
    "                  lr=1e-5, \n",
    "                  eps=1e-8)"
   ]
  },
  {
   "cell_type": "code",
   "execution_count": 26,
   "metadata": {
    "Collapsed": "false",
    "id": "Ck1n-Sgs8B2t"
   },
   "outputs": [],
   "source": [
    "epochs = 2\n",
    "\n",
    "scheduler = get_linear_schedule_with_warmup(optimizer, \n",
    "                                            num_warmup_steps=0,\n",
    "                                            num_training_steps=len(dataloader_train)*epochs)"
   ]
  },
  {
   "cell_type": "markdown",
   "metadata": {
    "Collapsed": "false",
    "id": "QxIix4QE8B2x"
   },
   "source": [
    "## Defining our Performance Metrics"
   ]
  },
  {
   "cell_type": "markdown",
   "metadata": {
    "Collapsed": "false",
    "id": "9qNOy85W8B2y"
   },
   "source": [
    "*Accuracy* metric approach originally used in accuracy function in [this tutorial](https://mccormickml.com/2019/07/22/BERT-fine-tuning/#41-bertforsequenceclassification)."
   ]
  },
  {
   "cell_type": "code",
   "execution_count": 27,
   "metadata": {
    "Collapsed": "false",
    "id": "MwUM9UJq8B2z"
   },
   "outputs": [],
   "source": [
    "import numpy as np"
   ]
  },
  {
   "cell_type": "code",
   "execution_count": 28,
   "metadata": {
    "Collapsed": "false",
    "id": "AYQYO65b8B3D"
   },
   "outputs": [],
   "source": [
    "from sklearn.metrics import f1_score"
   ]
  },
  {
   "cell_type": "code",
   "execution_count": 29,
   "metadata": {
    "Collapsed": "false",
    "id": "utkBPpyk8B3H"
   },
   "outputs": [],
   "source": [
    "def f1_score_func(preds, labels):\n",
    "    preds_flat = np.argmax(preds, axis=1).flatten()\n",
    "    labels_flat = labels.flatten()\n",
    "    return f1_score(labels_flat, preds_flat, average='weighted')"
   ]
  },
  {
   "cell_type": "code",
   "execution_count": 30,
   "metadata": {
    "Collapsed": "false",
    "id": "OiURsnSj8B3L"
   },
   "outputs": [],
   "source": [
    "def accuracy_per_class(preds, labels):\n",
    "    label_dict_inverse = {v: k for k, v in label_dict.items()}\n",
    "    \n",
    "    preds_flat = np.argmax(preds, axis=1).flatten()\n",
    "    labels_flat = labels.flatten()\n",
    "\n",
    "    for label in np.unique(labels_flat):\n",
    "        y_preds = preds_flat[labels_flat==label]\n",
    "        y_true = labels_flat[labels_flat==label]\n",
    "        print(f'Class: {label_dict_inverse[label]}')\n",
    "        print(f'Accuracy: {len(y_preds[y_preds==label])}/{len(y_true)}\\n')"
   ]
  },
  {
   "cell_type": "markdown",
   "metadata": {
    "Collapsed": "false",
    "id": "lJWTwiBn8B3Q"
   },
   "source": [
    "## Creating our Training Loop"
   ]
  },
  {
   "cell_type": "markdown",
   "metadata": {
    "Collapsed": "false",
    "id": "Fbm8Fz6E8B3Q"
   },
   "source": [
    "Approach adapted from an older version of HuggingFace's `run_glue.py` script. Accessible [here](https://github.com/huggingface/transformers/blob/5bfcd0485ece086ebcbed2d008813037968a9e58/examples/run_glue.py#L128)."
   ]
  },
  {
   "cell_type": "code",
   "execution_count": 31,
   "metadata": {
    "Collapsed": "false",
    "id": "B7gSj9oG8B3R"
   },
   "outputs": [],
   "source": [
    "import random\n",
    "\n",
    "seed_val = 17\n",
    "random.seed(seed_val)\n",
    "np.random.seed(seed_val)\n",
    "torch.manual_seed(seed_val)\n",
    "torch.cuda.manual_seed_all(seed_val)"
   ]
  },
  {
   "cell_type": "code",
   "execution_count": 32,
   "metadata": {
    "Collapsed": "false",
    "colab": {
     "base_uri": "https://localhost:8080/"
    },
    "id": "_E0yEEnp8B3T",
    "outputId": "5bf7a651-e033-4fb0-a85e-410bfe9fdbaf"
   },
   "outputs": [
    {
     "name": "stdout",
     "output_type": "stream",
     "text": [
      "cuda\n"
     ]
    }
   ],
   "source": [
    "device = torch.device('cuda' if torch.cuda.is_available() else 'cpu')\n",
    "model.to(device)\n",
    "\n",
    "print(device)"
   ]
  },
  {
   "cell_type": "code",
   "execution_count": 33,
   "metadata": {
    "Collapsed": "false",
    "id": "1IyT19nI8B3W"
   },
   "outputs": [],
   "source": [
    "def evaluate(dataloader_val):\n",
    "\n",
    "    model.eval()\n",
    "    \n",
    "    loss_val_total = 0\n",
    "    predictions, true_vals = [], []\n",
    "    \n",
    "    for batch in dataloader_val:\n",
    "        \n",
    "        batch = tuple(b.to(device) for b in batch)\n",
    "        \n",
    "        inputs = {'input_ids':      batch[0],\n",
    "                  'attention_mask': batch[1],\n",
    "                  'labels':         batch[2],\n",
    "                 }\n",
    "\n",
    "        with torch.no_grad():        \n",
    "            outputs = model(**inputs)\n",
    "            \n",
    "        loss = outputs[0]\n",
    "        logits = outputs[1]\n",
    "        loss_val_total += loss.item()\n",
    "\n",
    "        logits = logits.detach().cpu().numpy()\n",
    "        label_ids = inputs['labels'].cpu().numpy()\n",
    "        predictions.append(logits)\n",
    "        true_vals.append(label_ids)\n",
    "    \n",
    "    loss_val_avg = loss_val_total/len(dataloader_val) \n",
    "    \n",
    "    predictions = np.concatenate(predictions, axis=0)\n",
    "    true_vals = np.concatenate(true_vals, axis=0)\n",
    "            \n",
    "    return loss_val_avg, predictions, true_vals"
   ]
  },
  {
   "cell_type": "code",
   "execution_count": 40,
   "metadata": {
    "Collapsed": "false",
    "colab": {
     "base_uri": "https://localhost:8080/",
     "height": 240,
     "referenced_widgets": [
      "3cb65fa55d6f421fb1c91223fc5fbd03",
      "ee032be2ba0942829a7e10ff42c09d7f",
      "a23322cebccd48b0b3d3f346d9eb7e33",
      "7f6f03dd1b6340fbad5de636bda59bff",
      "cc8fe8db24c44bba899ec1a1abe30af7",
      "2890f97f5b15406fb78c6a70c01f1d28",
      "150ff651ff32409b9e6b81e2beb0623e",
      "bf58ba57f5be491d823195c335ead886",
      "0cccd293d4a342048c9ff2df486225c6",
      "08111b956e3345d68454adcd4fdf8db2",
      "b047042c5e594597ac921dbf38ae8b01",
      "4314725353214ac89ef3932f823ed8e0",
      "425f64dc3844454299d0604c33c40ca2",
      "2c6fe5bd211f4d8fa93ee406491231c6",
      "b176288b225e45feab7538d47b82c481",
      "57f5d07c7c984430bebf8d645bc801ea",
      "6f3294e391fa4417922554599a652668",
      "a4a8f59ee8ad49cb8241af6efa8d030e",
      "70c140daac254e078ffaa40c4a5251e0",
      "8f2fe04136fd41ffa5c09a61eb1e5c1f",
      "78677148cb9947bb98d48c11d20a1737",
      "4db99fb59b374a45b374a197d930f627",
      "531e9d7493444abea37035ba0463123b",
      "1068c643613f41c3b1d91afede07c920"
     ]
    },
    "id": "4uzIhYoM8B3Z",
    "outputId": "e2297b24-02b8-4699-e6c9-6f107956169f"
   },
   "outputs": [
    {
     "data": {
      "application/vnd.jupyter.widget-view+json": {
       "model_id": "3cb65fa55d6f421fb1c91223fc5fbd03",
       "version_major": 2,
       "version_minor": 0
      },
      "text/plain": [
       "HBox(children=(FloatProgress(value=0.0, max=2.0), HTML(value='')))"
      ]
     },
     "metadata": {
      "tags": []
     },
     "output_type": "display_data"
    },
    {
     "data": {
      "application/vnd.jupyter.widget-view+json": {
       "model_id": "0cccd293d4a342048c9ff2df486225c6",
       "version_major": 2,
       "version_minor": 0
      },
      "text/plain": [
       "HBox(children=(FloatProgress(value=0.0, description='Epoch 1', max=225.0, style=ProgressStyle(description_widt…"
      ]
     },
     "metadata": {
      "tags": []
     },
     "output_type": "display_data"
    },
    {
     "name": "stdout",
     "output_type": "stream",
     "text": [
      "\r\n",
      "Epoch 1\n",
      "Training loss: 0.27026990705066256\n",
      "Validation loss: 0.2875134902018489\n",
      "F1 Score (Weighted): 0.8801451751681237\n"
     ]
    },
    {
     "data": {
      "application/vnd.jupyter.widget-view+json": {
       "model_id": "6f3294e391fa4417922554599a652668",
       "version_major": 2,
       "version_minor": 0
      },
      "text/plain": [
       "HBox(children=(FloatProgress(value=0.0, description='Epoch 2', max=225.0, style=ProgressStyle(description_widt…"
      ]
     },
     "metadata": {
      "tags": []
     },
     "output_type": "display_data"
    },
    {
     "name": "stdout",
     "output_type": "stream",
     "text": [
      "\r\n",
      "Epoch 2\n",
      "Training loss: 0.2684775272674031\n",
      "Validation loss: 0.2875134902018489\n",
      "F1 Score (Weighted): 0.8801451751681237\n",
      "\n"
     ]
    }
   ],
   "source": [
    "for epoch in tqdm(range(1, epochs+1)):\n",
    "    \n",
    "    model.train()\n",
    "    \n",
    "    loss_train_total = 0\n",
    "\n",
    "    progress_bar = tqdm(dataloader_train, desc='Epoch {:1d}'.format(epoch), leave=False, disable=False)\n",
    "    for batch in progress_bar:\n",
    "\n",
    "        model.zero_grad()\n",
    "        \n",
    "        batch = tuple(b.to(device) for b in batch)\n",
    "        \n",
    "        inputs = {'input_ids':      batch[0],\n",
    "                  'attention_mask': batch[1],\n",
    "                  'labels':         batch[2],\n",
    "                 }       \n",
    "\n",
    "        outputs = model(**inputs)\n",
    "        \n",
    "        loss = outputs[0]\n",
    "        loss_train_total += loss.item()\n",
    "        loss.backward()\n",
    "\n",
    "        torch.nn.utils.clip_grad_norm_(model.parameters(), 1.0)\n",
    "\n",
    "        optimizer.step()\n",
    "        scheduler.step()\n",
    "        \n",
    "        progress_bar.set_postfix({'training_loss': '{:.3f}'.format(loss.item()/len(batch))})\n",
    "         \n",
    "        \n",
    "    torch.save(model.state_dict(), f'finetuned_BERT_epoch_{epoch}.model')\n",
    "        \n",
    "    tqdm.write(f'\\nEpoch {epoch}')\n",
    "    \n",
    "    loss_train_avg = loss_train_total/len(dataloader_train)            \n",
    "    tqdm.write(f'Training loss: {loss_train_avg}')\n",
    "    \n",
    "    val_loss, predictions, true_vals = evaluate(dataloader_validation)\n",
    "    val_f1 = f1_score_func(predictions, true_vals)\n",
    "    tqdm.write(f'Validation loss: {val_loss}')\n",
    "    tqdm.write(f'F1 Score (Weighted): {val_f1}')"
   ]
  },
  {
   "cell_type": "code",
   "execution_count": 35,
   "metadata": {
    "Collapsed": "false",
    "id": "aQI2qpwL8B3j"
   },
   "outputs": [],
   "source": [
    "_, predictions, true_vals = evaluate(dataloader_validation)"
   ]
  },
  {
   "cell_type": "code",
   "execution_count": 37,
   "metadata": {
    "Collapsed": "false",
    "id": "KNKuvGlH8B3q"
   },
   "outputs": [],
   "source": [
    "from sklearn.metrics import confusion_matrix\n",
    "from sklearn.metrics import classification_report\n",
    "\n",
    "def print_report(true_vals, predictions):\n",
    "  preds_flat = np.argmax(predictions, axis=1).flatten()\n",
    "  labels_flat = true_vals.flatten()\n",
    "  print(confusion_matrix(labels_flat, preds_flat, labels=[0,1]))\n",
    "  \n",
    "  target_names = ['Positive', 'Negative']\n",
    "  print(classification_report(labels_flat, preds_flat, target_names=target_names))\n",
    "  return"
   ]
  },
  {
   "cell_type": "code",
   "execution_count": 38,
   "metadata": {
    "colab": {
     "base_uri": "https://localhost:8080/"
    },
    "id": "G8uJ5X4LgnNu",
    "outputId": "5c0aebb1-8e7c-472f-a252-46b786c98852"
   },
   "outputs": [
    {
     "name": "stdout",
     "output_type": "stream",
     "text": [
      "[[ 770  590]\n",
      " [ 129 5698]]\n",
      "              precision    recall  f1-score   support\n",
      "\n",
      "    Positive       0.86      0.57      0.68      1360\n",
      "    Negative       0.91      0.98      0.94      5827\n",
      "\n",
      "    accuracy                           0.90      7187\n",
      "   macro avg       0.88      0.77      0.81      7187\n",
      "weighted avg       0.90      0.90      0.89      7187\n",
      "\n"
     ]
    }
   ],
   "source": [
    "_, predictions, true_vals = evaluate(dataloader_train)\n",
    "print_report(true_vals, predictions)"
   ]
  },
  {
   "cell_type": "code",
   "execution_count": 39,
   "metadata": {
    "colab": {
     "base_uri": "https://localhost:8080/"
    },
    "id": "Ezsb2UQNgqDl",
    "outputId": "ae2d2d66-d26f-43ec-aad8-95c41fb0d7af"
   },
   "outputs": [
    {
     "name": "stdout",
     "output_type": "stream",
     "text": [
      "[[ 87 107]\n",
      " [  1 849]]\n",
      "              precision    recall  f1-score   support\n",
      "\n",
      "    Positive       0.99      0.45      0.62       194\n",
      "    Negative       0.89      1.00      0.94       850\n",
      "\n",
      "    accuracy                           0.90      1044\n",
      "   macro avg       0.94      0.72      0.78      1044\n",
      "weighted avg       0.91      0.90      0.88      1044\n",
      "\n"
     ]
    }
   ],
   "source": [
    "_, predictions, true_vals = evaluate(dataloader_validation)\n",
    "print_report(true_vals, predictions)"
   ]
  },
  {
   "cell_type": "code",
   "execution_count": 39,
   "metadata": {
    "id": "VuMwwbahoU_k"
   },
   "outputs": [],
   "source": []
  }
 ],
 "metadata": {
  "accelerator": "GPU",
  "colab": {
   "collapsed_sections": [],
   "name": "Copy of finetuned_bert_cased_sentiment.ipynb",
   "provenance": []
  },
  "kernelspec": {
   "display_name": "Python 3",
   "language": "python",
   "name": "python3"
  },
  "language_info": {
   "codemirror_mode": {
    "name": "ipython",
    "version": 3
   },
   "file_extension": ".py",
   "mimetype": "text/x-python",
   "name": "python",
   "nbconvert_exporter": "python",
   "pygments_lexer": "ipython3",
   "version": "3.8.3"
  },
  "widgets": {
   "application/vnd.jupyter.widget-state+json": {
    "08111b956e3345d68454adcd4fdf8db2": {
     "model_module": "@jupyter-widgets/base",
     "model_name": "LayoutModel",
     "state": {
      "_model_module": "@jupyter-widgets/base",
      "_model_module_version": "1.2.0",
      "_model_name": "LayoutModel",
      "_view_count": null,
      "_view_module": "@jupyter-widgets/base",
      "_view_module_version": "1.2.0",
      "_view_name": "LayoutView",
      "align_content": null,
      "align_items": null,
      "align_self": null,
      "border": null,
      "bottom": null,
      "display": null,
      "flex": null,
      "flex_flow": null,
      "grid_area": null,
      "grid_auto_columns": null,
      "grid_auto_flow": null,
      "grid_auto_rows": null,
      "grid_column": null,
      "grid_gap": null,
      "grid_row": null,
      "grid_template_areas": null,
      "grid_template_columns": null,
      "grid_template_rows": null,
      "height": null,
      "justify_content": null,
      "justify_items": null,
      "left": null,
      "margin": null,
      "max_height": null,
      "max_width": null,
      "min_height": null,
      "min_width": null,
      "object_fit": null,
      "object_position": null,
      "order": null,
      "overflow": null,
      "overflow_x": null,
      "overflow_y": null,
      "padding": null,
      "right": null,
      "top": null,
      "visibility": null,
      "width": null
     }
    },
    "0cccd293d4a342048c9ff2df486225c6": {
     "model_module": "@jupyter-widgets/controls",
     "model_name": "HBoxModel",
     "state": {
      "_dom_classes": [],
      "_model_module": "@jupyter-widgets/controls",
      "_model_module_version": "1.5.0",
      "_model_name": "HBoxModel",
      "_view_count": null,
      "_view_module": "@jupyter-widgets/controls",
      "_view_module_version": "1.5.0",
      "_view_name": "HBoxView",
      "box_style": "",
      "children": [
       "IPY_MODEL_b047042c5e594597ac921dbf38ae8b01",
       "IPY_MODEL_4314725353214ac89ef3932f823ed8e0"
      ],
      "layout": "IPY_MODEL_08111b956e3345d68454adcd4fdf8db2"
     }
    },
    "1068c643613f41c3b1d91afede07c920": {
     "model_module": "@jupyter-widgets/base",
     "model_name": "LayoutModel",
     "state": {
      "_model_module": "@jupyter-widgets/base",
      "_model_module_version": "1.2.0",
      "_model_name": "LayoutModel",
      "_view_count": null,
      "_view_module": "@jupyter-widgets/base",
      "_view_module_version": "1.2.0",
      "_view_name": "LayoutView",
      "align_content": null,
      "align_items": null,
      "align_self": null,
      "border": null,
      "bottom": null,
      "display": null,
      "flex": null,
      "flex_flow": null,
      "grid_area": null,
      "grid_auto_columns": null,
      "grid_auto_flow": null,
      "grid_auto_rows": null,
      "grid_column": null,
      "grid_gap": null,
      "grid_row": null,
      "grid_template_areas": null,
      "grid_template_columns": null,
      "grid_template_rows": null,
      "height": null,
      "justify_content": null,
      "justify_items": null,
      "left": null,
      "margin": null,
      "max_height": null,
      "max_width": null,
      "min_height": null,
      "min_width": null,
      "object_fit": null,
      "object_position": null,
      "order": null,
      "overflow": null,
      "overflow_x": null,
      "overflow_y": null,
      "padding": null,
      "right": null,
      "top": null,
      "visibility": null,
      "width": null
     }
    },
    "11c43aa422684511a9d54087ff9b4487": {
     "model_module": "@jupyter-widgets/controls",
     "model_name": "HTMLModel",
     "state": {
      "_dom_classes": [],
      "_model_module": "@jupyter-widgets/controls",
      "_model_module_version": "1.5.0",
      "_model_name": "HTMLModel",
      "_view_count": null,
      "_view_module": "@jupyter-widgets/controls",
      "_view_module_version": "1.5.0",
      "_view_name": "HTMLView",
      "description": "",
      "description_tooltip": null,
      "layout": "IPY_MODEL_f86a5effd48a49c982fae4b57b8b7fe1",
      "placeholder": "​",
      "style": "IPY_MODEL_7e2ce88320ad4059a898cd2896020d3f",
      "value": " 213k/213k [00:00&lt;00:00, 2.10MB/s]"
     }
    },
    "150ff651ff32409b9e6b81e2beb0623e": {
     "model_module": "@jupyter-widgets/controls",
     "model_name": "DescriptionStyleModel",
     "state": {
      "_model_module": "@jupyter-widgets/controls",
      "_model_module_version": "1.5.0",
      "_model_name": "DescriptionStyleModel",
      "_view_count": null,
      "_view_module": "@jupyter-widgets/base",
      "_view_module_version": "1.2.0",
      "_view_name": "StyleView",
      "description_width": ""
     }
    },
    "2890f97f5b15406fb78c6a70c01f1d28": {
     "model_module": "@jupyter-widgets/base",
     "model_name": "LayoutModel",
     "state": {
      "_model_module": "@jupyter-widgets/base",
      "_model_module_version": "1.2.0",
      "_model_name": "LayoutModel",
      "_view_count": null,
      "_view_module": "@jupyter-widgets/base",
      "_view_module_version": "1.2.0",
      "_view_name": "LayoutView",
      "align_content": null,
      "align_items": null,
      "align_self": null,
      "border": null,
      "bottom": null,
      "display": null,
      "flex": null,
      "flex_flow": null,
      "grid_area": null,
      "grid_auto_columns": null,
      "grid_auto_flow": null,
      "grid_auto_rows": null,
      "grid_column": null,
      "grid_gap": null,
      "grid_row": null,
      "grid_template_areas": null,
      "grid_template_columns": null,
      "grid_template_rows": null,
      "height": null,
      "justify_content": null,
      "justify_items": null,
      "left": null,
      "margin": null,
      "max_height": null,
      "max_width": null,
      "min_height": null,
      "min_width": null,
      "object_fit": null,
      "object_position": null,
      "order": null,
      "overflow": null,
      "overflow_x": null,
      "overflow_y": null,
      "padding": null,
      "right": null,
      "top": null,
      "visibility": null,
      "width": null
     }
    },
    "2c6fe5bd211f4d8fa93ee406491231c6": {
     "model_module": "@jupyter-widgets/base",
     "model_name": "LayoutModel",
     "state": {
      "_model_module": "@jupyter-widgets/base",
      "_model_module_version": "1.2.0",
      "_model_name": "LayoutModel",
      "_view_count": null,
      "_view_module": "@jupyter-widgets/base",
      "_view_module_version": "1.2.0",
      "_view_name": "LayoutView",
      "align_content": null,
      "align_items": null,
      "align_self": null,
      "border": null,
      "bottom": null,
      "display": null,
      "flex": null,
      "flex_flow": null,
      "grid_area": null,
      "grid_auto_columns": null,
      "grid_auto_flow": null,
      "grid_auto_rows": null,
      "grid_column": null,
      "grid_gap": null,
      "grid_row": null,
      "grid_template_areas": null,
      "grid_template_columns": null,
      "grid_template_rows": null,
      "height": null,
      "justify_content": null,
      "justify_items": null,
      "left": null,
      "margin": null,
      "max_height": null,
      "max_width": null,
      "min_height": null,
      "min_width": null,
      "object_fit": null,
      "object_position": null,
      "order": null,
      "overflow": null,
      "overflow_x": null,
      "overflow_y": null,
      "padding": null,
      "right": null,
      "top": null,
      "visibility": null,
      "width": null
     }
    },
    "3cb65fa55d6f421fb1c91223fc5fbd03": {
     "model_module": "@jupyter-widgets/controls",
     "model_name": "HBoxModel",
     "state": {
      "_dom_classes": [],
      "_model_module": "@jupyter-widgets/controls",
      "_model_module_version": "1.5.0",
      "_model_name": "HBoxModel",
      "_view_count": null,
      "_view_module": "@jupyter-widgets/controls",
      "_view_module_version": "1.5.0",
      "_view_name": "HBoxView",
      "box_style": "",
      "children": [
       "IPY_MODEL_a23322cebccd48b0b3d3f346d9eb7e33",
       "IPY_MODEL_7f6f03dd1b6340fbad5de636bda59bff"
      ],
      "layout": "IPY_MODEL_ee032be2ba0942829a7e10ff42c09d7f"
     }
    },
    "425f64dc3844454299d0604c33c40ca2": {
     "model_module": "@jupyter-widgets/controls",
     "model_name": "ProgressStyleModel",
     "state": {
      "_model_module": "@jupyter-widgets/controls",
      "_model_module_version": "1.5.0",
      "_model_name": "ProgressStyleModel",
      "_view_count": null,
      "_view_module": "@jupyter-widgets/base",
      "_view_module_version": "1.2.0",
      "_view_name": "StyleView",
      "bar_color": null,
      "description_width": "initial"
     }
    },
    "4314725353214ac89ef3932f823ed8e0": {
     "model_module": "@jupyter-widgets/controls",
     "model_name": "HTMLModel",
     "state": {
      "_dom_classes": [],
      "_model_module": "@jupyter-widgets/controls",
      "_model_module_version": "1.5.0",
      "_model_name": "HTMLModel",
      "_view_count": null,
      "_view_module": "@jupyter-widgets/controls",
      "_view_module_version": "1.5.0",
      "_view_name": "HTMLView",
      "description": "",
      "description_tooltip": null,
      "layout": "IPY_MODEL_57f5d07c7c984430bebf8d645bc801ea",
      "placeholder": "​",
      "style": "IPY_MODEL_b176288b225e45feab7538d47b82c481",
      "value": " 225/225 [05:17&lt;00:00,  1.28s/it, training_loss=0.119]"
     }
    },
    "498cb6ae760b4008ad7557411629b90f": {
     "model_module": "@jupyter-widgets/controls",
     "model_name": "ProgressStyleModel",
     "state": {
      "_model_module": "@jupyter-widgets/controls",
      "_model_module_version": "1.5.0",
      "_model_name": "ProgressStyleModel",
      "_view_count": null,
      "_view_module": "@jupyter-widgets/base",
      "_view_module_version": "1.2.0",
      "_view_name": "StyleView",
      "bar_color": null,
      "description_width": "initial"
     }
    },
    "4db99fb59b374a45b374a197d930f627": {
     "model_module": "@jupyter-widgets/base",
     "model_name": "LayoutModel",
     "state": {
      "_model_module": "@jupyter-widgets/base",
      "_model_module_version": "1.2.0",
      "_model_name": "LayoutModel",
      "_view_count": null,
      "_view_module": "@jupyter-widgets/base",
      "_view_module_version": "1.2.0",
      "_view_name": "LayoutView",
      "align_content": null,
      "align_items": null,
      "align_self": null,
      "border": null,
      "bottom": null,
      "display": null,
      "flex": null,
      "flex_flow": null,
      "grid_area": null,
      "grid_auto_columns": null,
      "grid_auto_flow": null,
      "grid_auto_rows": null,
      "grid_column": null,
      "grid_gap": null,
      "grid_row": null,
      "grid_template_areas": null,
      "grid_template_columns": null,
      "grid_template_rows": null,
      "height": null,
      "justify_content": null,
      "justify_items": null,
      "left": null,
      "margin": null,
      "max_height": null,
      "max_width": null,
      "min_height": null,
      "min_width": null,
      "object_fit": null,
      "object_position": null,
      "order": null,
      "overflow": null,
      "overflow_x": null,
      "overflow_y": null,
      "padding": null,
      "right": null,
      "top": null,
      "visibility": null,
      "width": null
     }
    },
    "531e9d7493444abea37035ba0463123b": {
     "model_module": "@jupyter-widgets/controls",
     "model_name": "DescriptionStyleModel",
     "state": {
      "_model_module": "@jupyter-widgets/controls",
      "_model_module_version": "1.5.0",
      "_model_name": "DescriptionStyleModel",
      "_view_count": null,
      "_view_module": "@jupyter-widgets/base",
      "_view_module_version": "1.2.0",
      "_view_name": "StyleView",
      "description_width": ""
     }
    },
    "57f5d07c7c984430bebf8d645bc801ea": {
     "model_module": "@jupyter-widgets/base",
     "model_name": "LayoutModel",
     "state": {
      "_model_module": "@jupyter-widgets/base",
      "_model_module_version": "1.2.0",
      "_model_name": "LayoutModel",
      "_view_count": null,
      "_view_module": "@jupyter-widgets/base",
      "_view_module_version": "1.2.0",
      "_view_name": "LayoutView",
      "align_content": null,
      "align_items": null,
      "align_self": null,
      "border": null,
      "bottom": null,
      "display": null,
      "flex": null,
      "flex_flow": null,
      "grid_area": null,
      "grid_auto_columns": null,
      "grid_auto_flow": null,
      "grid_auto_rows": null,
      "grid_column": null,
      "grid_gap": null,
      "grid_row": null,
      "grid_template_areas": null,
      "grid_template_columns": null,
      "grid_template_rows": null,
      "height": null,
      "justify_content": null,
      "justify_items": null,
      "left": null,
      "margin": null,
      "max_height": null,
      "max_width": null,
      "min_height": null,
      "min_width": null,
      "object_fit": null,
      "object_position": null,
      "order": null,
      "overflow": null,
      "overflow_x": null,
      "overflow_y": null,
      "padding": null,
      "right": null,
      "top": null,
      "visibility": null,
      "width": null
     }
    },
    "59aff35774634788a005fe8ce342ee34": {
     "model_module": "@jupyter-widgets/base",
     "model_name": "LayoutModel",
     "state": {
      "_model_module": "@jupyter-widgets/base",
      "_model_module_version": "1.2.0",
      "_model_name": "LayoutModel",
      "_view_count": null,
      "_view_module": "@jupyter-widgets/base",
      "_view_module_version": "1.2.0",
      "_view_name": "LayoutView",
      "align_content": null,
      "align_items": null,
      "align_self": null,
      "border": null,
      "bottom": null,
      "display": null,
      "flex": null,
      "flex_flow": null,
      "grid_area": null,
      "grid_auto_columns": null,
      "grid_auto_flow": null,
      "grid_auto_rows": null,
      "grid_column": null,
      "grid_gap": null,
      "grid_row": null,
      "grid_template_areas": null,
      "grid_template_columns": null,
      "grid_template_rows": null,
      "height": null,
      "justify_content": null,
      "justify_items": null,
      "left": null,
      "margin": null,
      "max_height": null,
      "max_width": null,
      "min_height": null,
      "min_width": null,
      "object_fit": null,
      "object_position": null,
      "order": null,
      "overflow": null,
      "overflow_x": null,
      "overflow_y": null,
      "padding": null,
      "right": null,
      "top": null,
      "visibility": null,
      "width": null
     }
    },
    "6f3294e391fa4417922554599a652668": {
     "model_module": "@jupyter-widgets/controls",
     "model_name": "HBoxModel",
     "state": {
      "_dom_classes": [],
      "_model_module": "@jupyter-widgets/controls",
      "_model_module_version": "1.5.0",
      "_model_name": "HBoxModel",
      "_view_count": null,
      "_view_module": "@jupyter-widgets/controls",
      "_view_module_version": "1.5.0",
      "_view_name": "HBoxView",
      "box_style": "",
      "children": [
       "IPY_MODEL_70c140daac254e078ffaa40c4a5251e0",
       "IPY_MODEL_8f2fe04136fd41ffa5c09a61eb1e5c1f"
      ],
      "layout": "IPY_MODEL_a4a8f59ee8ad49cb8241af6efa8d030e"
     }
    },
    "70c140daac254e078ffaa40c4a5251e0": {
     "model_module": "@jupyter-widgets/controls",
     "model_name": "FloatProgressModel",
     "state": {
      "_dom_classes": [],
      "_model_module": "@jupyter-widgets/controls",
      "_model_module_version": "1.5.0",
      "_model_name": "FloatProgressModel",
      "_view_count": null,
      "_view_module": "@jupyter-widgets/controls",
      "_view_module_version": "1.5.0",
      "_view_name": "ProgressView",
      "bar_style": "",
      "description": "Epoch 2: 100%",
      "description_tooltip": null,
      "layout": "IPY_MODEL_4db99fb59b374a45b374a197d930f627",
      "max": 225,
      "min": 0,
      "orientation": "horizontal",
      "style": "IPY_MODEL_78677148cb9947bb98d48c11d20a1737",
      "value": 225
     }
    },
    "749abdb71d3845338ca7c3ed4a6681b9": {
     "model_module": "@jupyter-widgets/base",
     "model_name": "LayoutModel",
     "state": {
      "_model_module": "@jupyter-widgets/base",
      "_model_module_version": "1.2.0",
      "_model_name": "LayoutModel",
      "_view_count": null,
      "_view_module": "@jupyter-widgets/base",
      "_view_module_version": "1.2.0",
      "_view_name": "LayoutView",
      "align_content": null,
      "align_items": null,
      "align_self": null,
      "border": null,
      "bottom": null,
      "display": null,
      "flex": null,
      "flex_flow": null,
      "grid_area": null,
      "grid_auto_columns": null,
      "grid_auto_flow": null,
      "grid_auto_rows": null,
      "grid_column": null,
      "grid_gap": null,
      "grid_row": null,
      "grid_template_areas": null,
      "grid_template_columns": null,
      "grid_template_rows": null,
      "height": null,
      "justify_content": null,
      "justify_items": null,
      "left": null,
      "margin": null,
      "max_height": null,
      "max_width": null,
      "min_height": null,
      "min_width": null,
      "object_fit": null,
      "object_position": null,
      "order": null,
      "overflow": null,
      "overflow_x": null,
      "overflow_y": null,
      "padding": null,
      "right": null,
      "top": null,
      "visibility": null,
      "width": null
     }
    },
    "78677148cb9947bb98d48c11d20a1737": {
     "model_module": "@jupyter-widgets/controls",
     "model_name": "ProgressStyleModel",
     "state": {
      "_model_module": "@jupyter-widgets/controls",
      "_model_module_version": "1.5.0",
      "_model_name": "ProgressStyleModel",
      "_view_count": null,
      "_view_module": "@jupyter-widgets/base",
      "_view_module_version": "1.2.0",
      "_view_name": "StyleView",
      "bar_color": null,
      "description_width": "initial"
     }
    },
    "7e2ce88320ad4059a898cd2896020d3f": {
     "model_module": "@jupyter-widgets/controls",
     "model_name": "DescriptionStyleModel",
     "state": {
      "_model_module": "@jupyter-widgets/controls",
      "_model_module_version": "1.5.0",
      "_model_name": "DescriptionStyleModel",
      "_view_count": null,
      "_view_module": "@jupyter-widgets/base",
      "_view_module_version": "1.2.0",
      "_view_name": "StyleView",
      "description_width": ""
     }
    },
    "7f6f03dd1b6340fbad5de636bda59bff": {
     "model_module": "@jupyter-widgets/controls",
     "model_name": "HTMLModel",
     "state": {
      "_dom_classes": [],
      "_model_module": "@jupyter-widgets/controls",
      "_model_module_version": "1.5.0",
      "_model_name": "HTMLModel",
      "_view_count": null,
      "_view_module": "@jupyter-widgets/controls",
      "_view_module_version": "1.5.0",
      "_view_name": "HTMLView",
      "description": "",
      "description_tooltip": null,
      "layout": "IPY_MODEL_bf58ba57f5be491d823195c335ead886",
      "placeholder": "​",
      "style": "IPY_MODEL_150ff651ff32409b9e6b81e2beb0623e",
      "value": " 2/2 [11:19&lt;00:00, 339.55s/it]"
     }
    },
    "8f2fe04136fd41ffa5c09a61eb1e5c1f": {
     "model_module": "@jupyter-widgets/controls",
     "model_name": "HTMLModel",
     "state": {
      "_dom_classes": [],
      "_model_module": "@jupyter-widgets/controls",
      "_model_module_version": "1.5.0",
      "_model_name": "HTMLModel",
      "_view_count": null,
      "_view_module": "@jupyter-widgets/controls",
      "_view_module_version": "1.5.0",
      "_view_name": "HTMLView",
      "description": "",
      "description_tooltip": null,
      "layout": "IPY_MODEL_1068c643613f41c3b1d91afede07c920",
      "placeholder": "​",
      "style": "IPY_MODEL_531e9d7493444abea37035ba0463123b",
      "value": " 225/225 [05:23&lt;00:00,  1.27s/it, training_loss=0.050]"
     }
    },
    "a23322cebccd48b0b3d3f346d9eb7e33": {
     "model_module": "@jupyter-widgets/controls",
     "model_name": "FloatProgressModel",
     "state": {
      "_dom_classes": [],
      "_model_module": "@jupyter-widgets/controls",
      "_model_module_version": "1.5.0",
      "_model_name": "FloatProgressModel",
      "_view_count": null,
      "_view_module": "@jupyter-widgets/controls",
      "_view_module_version": "1.5.0",
      "_view_name": "ProgressView",
      "bar_style": "success",
      "description": "100%",
      "description_tooltip": null,
      "layout": "IPY_MODEL_2890f97f5b15406fb78c6a70c01f1d28",
      "max": 2,
      "min": 0,
      "orientation": "horizontal",
      "style": "IPY_MODEL_cc8fe8db24c44bba899ec1a1abe30af7",
      "value": 2
     }
    },
    "a4a8f59ee8ad49cb8241af6efa8d030e": {
     "model_module": "@jupyter-widgets/base",
     "model_name": "LayoutModel",
     "state": {
      "_model_module": "@jupyter-widgets/base",
      "_model_module_version": "1.2.0",
      "_model_name": "LayoutModel",
      "_view_count": null,
      "_view_module": "@jupyter-widgets/base",
      "_view_module_version": "1.2.0",
      "_view_name": "LayoutView",
      "align_content": null,
      "align_items": null,
      "align_self": null,
      "border": null,
      "bottom": null,
      "display": null,
      "flex": null,
      "flex_flow": null,
      "grid_area": null,
      "grid_auto_columns": null,
      "grid_auto_flow": null,
      "grid_auto_rows": null,
      "grid_column": null,
      "grid_gap": null,
      "grid_row": null,
      "grid_template_areas": null,
      "grid_template_columns": null,
      "grid_template_rows": null,
      "height": null,
      "justify_content": null,
      "justify_items": null,
      "left": null,
      "margin": null,
      "max_height": null,
      "max_width": null,
      "min_height": null,
      "min_width": null,
      "object_fit": null,
      "object_position": null,
      "order": null,
      "overflow": null,
      "overflow_x": null,
      "overflow_y": null,
      "padding": null,
      "right": null,
      "top": null,
      "visibility": null,
      "width": null
     }
    },
    "ad80a46af27f4c8297ab0d33ef3f287d": {
     "model_module": "@jupyter-widgets/controls",
     "model_name": "HBoxModel",
     "state": {
      "_dom_classes": [],
      "_model_module": "@jupyter-widgets/controls",
      "_model_module_version": "1.5.0",
      "_model_name": "HBoxModel",
      "_view_count": null,
      "_view_module": "@jupyter-widgets/controls",
      "_view_module_version": "1.5.0",
      "_view_name": "HBoxView",
      "box_style": "",
      "children": [
       "IPY_MODEL_ecb182b1a95240aeb49ac0479e72d455",
       "IPY_MODEL_11c43aa422684511a9d54087ff9b4487"
      ],
      "layout": "IPY_MODEL_59aff35774634788a005fe8ce342ee34"
     }
    },
    "b047042c5e594597ac921dbf38ae8b01": {
     "model_module": "@jupyter-widgets/controls",
     "model_name": "FloatProgressModel",
     "state": {
      "_dom_classes": [],
      "_model_module": "@jupyter-widgets/controls",
      "_model_module_version": "1.5.0",
      "_model_name": "FloatProgressModel",
      "_view_count": null,
      "_view_module": "@jupyter-widgets/controls",
      "_view_module_version": "1.5.0",
      "_view_name": "ProgressView",
      "bar_style": "",
      "description": "Epoch 1: 100%",
      "description_tooltip": null,
      "layout": "IPY_MODEL_2c6fe5bd211f4d8fa93ee406491231c6",
      "max": 225,
      "min": 0,
      "orientation": "horizontal",
      "style": "IPY_MODEL_425f64dc3844454299d0604c33c40ca2",
      "value": 225
     }
    },
    "b176288b225e45feab7538d47b82c481": {
     "model_module": "@jupyter-widgets/controls",
     "model_name": "DescriptionStyleModel",
     "state": {
      "_model_module": "@jupyter-widgets/controls",
      "_model_module_version": "1.5.0",
      "_model_name": "DescriptionStyleModel",
      "_view_count": null,
      "_view_module": "@jupyter-widgets/base",
      "_view_module_version": "1.2.0",
      "_view_name": "StyleView",
      "description_width": ""
     }
    },
    "bf58ba57f5be491d823195c335ead886": {
     "model_module": "@jupyter-widgets/base",
     "model_name": "LayoutModel",
     "state": {
      "_model_module": "@jupyter-widgets/base",
      "_model_module_version": "1.2.0",
      "_model_name": "LayoutModel",
      "_view_count": null,
      "_view_module": "@jupyter-widgets/base",
      "_view_module_version": "1.2.0",
      "_view_name": "LayoutView",
      "align_content": null,
      "align_items": null,
      "align_self": null,
      "border": null,
      "bottom": null,
      "display": null,
      "flex": null,
      "flex_flow": null,
      "grid_area": null,
      "grid_auto_columns": null,
      "grid_auto_flow": null,
      "grid_auto_rows": null,
      "grid_column": null,
      "grid_gap": null,
      "grid_row": null,
      "grid_template_areas": null,
      "grid_template_columns": null,
      "grid_template_rows": null,
      "height": null,
      "justify_content": null,
      "justify_items": null,
      "left": null,
      "margin": null,
      "max_height": null,
      "max_width": null,
      "min_height": null,
      "min_width": null,
      "object_fit": null,
      "object_position": null,
      "order": null,
      "overflow": null,
      "overflow_x": null,
      "overflow_y": null,
      "padding": null,
      "right": null,
      "top": null,
      "visibility": null,
      "width": null
     }
    },
    "cc8fe8db24c44bba899ec1a1abe30af7": {
     "model_module": "@jupyter-widgets/controls",
     "model_name": "ProgressStyleModel",
     "state": {
      "_model_module": "@jupyter-widgets/controls",
      "_model_module_version": "1.5.0",
      "_model_name": "ProgressStyleModel",
      "_view_count": null,
      "_view_module": "@jupyter-widgets/base",
      "_view_module_version": "1.2.0",
      "_view_name": "StyleView",
      "bar_color": null,
      "description_width": "initial"
     }
    },
    "ecb182b1a95240aeb49ac0479e72d455": {
     "model_module": "@jupyter-widgets/controls",
     "model_name": "FloatProgressModel",
     "state": {
      "_dom_classes": [],
      "_model_module": "@jupyter-widgets/controls",
      "_model_module_version": "1.5.0",
      "_model_name": "FloatProgressModel",
      "_view_count": null,
      "_view_module": "@jupyter-widgets/controls",
      "_view_module_version": "1.5.0",
      "_view_name": "ProgressView",
      "bar_style": "success",
      "description": "Downloading: 100%",
      "description_tooltip": null,
      "layout": "IPY_MODEL_749abdb71d3845338ca7c3ed4a6681b9",
      "max": 213450,
      "min": 0,
      "orientation": "horizontal",
      "style": "IPY_MODEL_498cb6ae760b4008ad7557411629b90f",
      "value": 213450
     }
    },
    "ee032be2ba0942829a7e10ff42c09d7f": {
     "model_module": "@jupyter-widgets/base",
     "model_name": "LayoutModel",
     "state": {
      "_model_module": "@jupyter-widgets/base",
      "_model_module_version": "1.2.0",
      "_model_name": "LayoutModel",
      "_view_count": null,
      "_view_module": "@jupyter-widgets/base",
      "_view_module_version": "1.2.0",
      "_view_name": "LayoutView",
      "align_content": null,
      "align_items": null,
      "align_self": null,
      "border": null,
      "bottom": null,
      "display": null,
      "flex": null,
      "flex_flow": null,
      "grid_area": null,
      "grid_auto_columns": null,
      "grid_auto_flow": null,
      "grid_auto_rows": null,
      "grid_column": null,
      "grid_gap": null,
      "grid_row": null,
      "grid_template_areas": null,
      "grid_template_columns": null,
      "grid_template_rows": null,
      "height": null,
      "justify_content": null,
      "justify_items": null,
      "left": null,
      "margin": null,
      "max_height": null,
      "max_width": null,
      "min_height": null,
      "min_width": null,
      "object_fit": null,
      "object_position": null,
      "order": null,
      "overflow": null,
      "overflow_x": null,
      "overflow_y": null,
      "padding": null,
      "right": null,
      "top": null,
      "visibility": null,
      "width": null
     }
    },
    "f86a5effd48a49c982fae4b57b8b7fe1": {
     "model_module": "@jupyter-widgets/base",
     "model_name": "LayoutModel",
     "state": {
      "_model_module": "@jupyter-widgets/base",
      "_model_module_version": "1.2.0",
      "_model_name": "LayoutModel",
      "_view_count": null,
      "_view_module": "@jupyter-widgets/base",
      "_view_module_version": "1.2.0",
      "_view_name": "LayoutView",
      "align_content": null,
      "align_items": null,
      "align_self": null,
      "border": null,
      "bottom": null,
      "display": null,
      "flex": null,
      "flex_flow": null,
      "grid_area": null,
      "grid_auto_columns": null,
      "grid_auto_flow": null,
      "grid_auto_rows": null,
      "grid_column": null,
      "grid_gap": null,
      "grid_row": null,
      "grid_template_areas": null,
      "grid_template_columns": null,
      "grid_template_rows": null,
      "height": null,
      "justify_content": null,
      "justify_items": null,
      "left": null,
      "margin": null,
      "max_height": null,
      "max_width": null,
      "min_height": null,
      "min_width": null,
      "object_fit": null,
      "object_position": null,
      "order": null,
      "overflow": null,
      "overflow_x": null,
      "overflow_y": null,
      "padding": null,
      "right": null,
      "top": null,
      "visibility": null,
      "width": null
     }
    }
   }
  }
 },
 "nbformat": 4,
 "nbformat_minor": 1
}
