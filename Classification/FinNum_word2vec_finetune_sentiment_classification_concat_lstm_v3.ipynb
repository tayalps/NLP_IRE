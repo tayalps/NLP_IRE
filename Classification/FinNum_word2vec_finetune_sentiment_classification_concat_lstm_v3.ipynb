{
  "nbformat": 4,
  "nbformat_minor": 0,
  "metadata": {
    "accelerator": "GPU",
    "colab": {
      "name": "FinNum_word2vec_finetune_sentiment_classification_concat_lstm_v3.ipynb",
      "provenance": [],
      "collapsed_sections": []
    },
    "kernelspec": {
      "display_name": "Python 3",
      "language": "python",
      "name": "python3"
    },
    "language_info": {
      "codemirror_mode": {
        "name": "ipython",
        "version": 3
      },
      "file_extension": ".py",
      "mimetype": "text/x-python",
      "name": "python",
      "nbconvert_exporter": "python",
      "pygments_lexer": "ipython3",
      "version": "3.8.3"
    }
  },
  "cells": [
    {
      "cell_type": "code",
      "metadata": {
        "colab": {
          "base_uri": "https://localhost:8080/"
        },
        "id": "v6uGjdgV7fCe",
        "outputId": "31271030-76ae-40a2-c73f-8493675ff26d"
      },
      "source": [
        "#mount the drive\n",
        "from google.colab import drive\n",
        "drive.mount('/content/drive', force_remount=True)"
      ],
      "execution_count": 1,
      "outputs": [
        {
          "output_type": "stream",
          "text": [
            "Mounted at /content/drive\n"
          ],
          "name": "stdout"
        }
      ]
    },
    {
      "cell_type": "code",
      "metadata": {
        "id": "W_QIxD3R68bz"
      },
      "source": [
        "import gensim\n",
        "from tqdm import tqdm\n",
        "import os\n",
        "from gensim.models.fasttext import FastText"
      ],
      "execution_count": 2,
      "outputs": []
    },
    {
      "cell_type": "code",
      "metadata": {
        "id": "NAqYXr7FA0g8"
      },
      "source": [
        "# For array, dataset, and visualizing\n",
        "import numpy as np\n",
        "import pandas as pd\n",
        "import seaborn as sns\n",
        "import matplotlib.pyplot as plt"
      ],
      "execution_count": 3,
      "outputs": []
    },
    {
      "cell_type": "code",
      "metadata": {
        "colab": {
          "base_uri": "https://localhost:8080/"
        },
        "id": "oFt1hjeWCoW6",
        "outputId": "5cdfb08e-d3a5-4f7e-db56-a864fc8b34e8"
      },
      "source": [
        "#For Pre-Processing\n",
        "from tqdm import tqdm\n",
        "import nltk\n",
        "from nltk.corpus import stopwords\n",
        "nltk.download('stopwords')\n",
        "nltk.download('punkt')\n",
        "from nltk.tokenize import RegexpTokenizer \n",
        "from nltk.tokenize import word_tokenize"
      ],
      "execution_count": 4,
      "outputs": [
        {
          "output_type": "stream",
          "text": [
            "[nltk_data] Downloading package stopwords to /root/nltk_data...\n",
            "[nltk_data]   Package stopwords is already up-to-date!\n",
            "[nltk_data] Downloading package punkt to /root/nltk_data...\n",
            "[nltk_data]   Package punkt is already up-to-date!\n"
          ],
          "name": "stdout"
        }
      ]
    },
    {
      "cell_type": "code",
      "metadata": {
        "id": "3M0vxqtwCYx5"
      },
      "source": [
        "from keras.preprocessing.text import Tokenizer\n",
        "from keras.preprocessing import sequence\n",
        "MAX_NB_WORDS = 500000\n",
        "tokenizer = RegexpTokenizer(r'\\w+')\n",
        "stop_words = set(stopwords.words('english'))\n",
        "stop_words.update(['.', ',', '\"', \"'\", ':', ';', '(', ')', '[', ']', '{', '}'])"
      ],
      "execution_count": 5,
      "outputs": []
    },
    {
      "cell_type": "code",
      "metadata": {
        "colab": {
          "base_uri": "https://localhost:8080/"
        },
        "id": "4x7lf4c170Uh",
        "outputId": "ddcd03bd-d4d8-4129-f6b5-719a2aaa26b0"
      },
      "source": [
        "cd  /content/drive/My Drive/praveen_iiit_hyd_ire_class/ten_k_project_work/pretrain_models/word2vec_fasttext"
      ],
      "execution_count": 6,
      "outputs": [
        {
          "output_type": "stream",
          "text": [
            "/content/drive/.shortcut-targets-by-id/1bAH82a4OCCwO_0oYQxNKaht5KBDdKQGA/word2vec_fasttext\n"
          ],
          "name": "stdout"
        }
      ]
    },
    {
      "cell_type": "code",
      "metadata": {
        "id": "8BYamGHe68cM"
      },
      "source": [
        "model_name = \"./fin_word2vec\""
      ],
      "execution_count": 7,
      "outputs": []
    },
    {
      "cell_type": "code",
      "metadata": {
        "id": "sy9eB1TY68cc"
      },
      "source": [
        "model = gensim.models.Word2Vec.load(model_name)"
      ],
      "execution_count": 8,
      "outputs": []
    },
    {
      "cell_type": "code",
      "metadata": {
        "colab": {
          "base_uri": "https://localhost:8080/"
        },
        "id": "ILoV9y1n68dN",
        "outputId": "51866167-c358-43b6-a881-2ec44850aab7"
      },
      "source": [
        "import json \n",
        "traind=[]\n",
        "vald=[]\n",
        "dir = \"/content/drive/My Drive/praveen_iiit_hyd_ire_class/ten_k_project_work/data/\"\n",
        "# Opening JSON file \n",
        "with open(dir+'FinNum_training_v3.json',) as f: \n",
        "  traind = json.load(f) \n",
        "with open(dir+'FinNum_dev_v3.json',) as f: \n",
        "  vald = json.load(f) \n",
        "\n",
        "train = pd.DataFrame(traind) \n",
        "val = pd.DataFrame(vald) \n",
        "print(train.shape, val.shape)\n",
        "train = train.sample(frac = 1)\n",
        "val = val.sample(frac = 1)\n"
      ],
      "execution_count": 9,
      "outputs": [
        {
          "output_type": "stream",
          "text": [
            "(7187, 5) (1044, 5)\n"
          ],
          "name": "stdout"
        }
      ]
    },
    {
      "cell_type": "code",
      "metadata": {
        "colab": {
          "base_uri": "https://localhost:8080/",
          "height": 204
        },
        "id": "vE6IYJrGv1h8",
        "outputId": "f04541ca-dd36-4233-8d57-7ddc8eb16000"
      },
      "source": [
        "train.head()"
      ],
      "execution_count": 10,
      "outputs": [
        {
          "output_type": "execute_result",
          "data": {
            "text/html": [
              "<div>\n",
              "<style scoped>\n",
              "    .dataframe tbody tr th:only-of-type {\n",
              "        vertical-align: middle;\n",
              "    }\n",
              "\n",
              "    .dataframe tbody tr th {\n",
              "        vertical-align: top;\n",
              "    }\n",
              "\n",
              "    .dataframe thead th {\n",
              "        text-align: right;\n",
              "    }\n",
              "</style>\n",
              "<table border=\"1\" class=\"dataframe\">\n",
              "  <thead>\n",
              "    <tr style=\"text-align: right;\">\n",
              "      <th></th>\n",
              "      <th>tweet</th>\n",
              "      <th>target_num</th>\n",
              "      <th>offset</th>\n",
              "      <th>target_cashtag</th>\n",
              "      <th>relation</th>\n",
              "    </tr>\n",
              "  </thead>\n",
              "  <tbody>\n",
              "    <tr>\n",
              "      <th>2023</th>\n",
              "      <td>$ETH.X $BTC.X $LTC.X $BCH.X What happened to E...</td>\n",
              "      <td>2</td>\n",
              "      <td>118</td>\n",
              "      <td>ETH.X</td>\n",
              "      <td>1</td>\n",
              "    </tr>\n",
              "    <tr>\n",
              "      <th>3622</th>\n",
              "      <td>$GILD ASK meeting Dec 9 / 25,000 attendees Yes...</td>\n",
              "      <td>101</td>\n",
              "      <td>102</td>\n",
              "      <td>NVS</td>\n",
              "      <td>1</td>\n",
              "    </tr>\n",
              "    <tr>\n",
              "      <th>2007</th>\n",
              "      <td>$NQ_F $QQQ ‪‪Recap: ‬Today's report bias+1 bul...</td>\n",
              "      <td>17</td>\n",
              "      <td>62</td>\n",
              "      <td>QQQ</td>\n",
              "      <td>1</td>\n",
              "    </tr>\n",
              "    <tr>\n",
              "      <th>2057</th>\n",
              "      <td>$NVDA has become a chip God.  Think $INTC in t...</td>\n",
              "      <td>1990</td>\n",
              "      <td>59</td>\n",
              "      <td>NVDA</td>\n",
              "      <td>1</td>\n",
              "    </tr>\n",
              "    <tr>\n",
              "      <th>1018</th>\n",
              "      <td>$MBOT Initial dip netted me a few more @ $1.20...</td>\n",
              "      <td>1.20</td>\n",
              "      <td>42</td>\n",
              "      <td>MBOT</td>\n",
              "      <td>1</td>\n",
              "    </tr>\n",
              "  </tbody>\n",
              "</table>\n",
              "</div>"
            ],
            "text/plain": [
              "                                                  tweet  ... relation\n",
              "2023  $ETH.X $BTC.X $LTC.X $BCH.X What happened to E...  ...        1\n",
              "3622  $GILD ASK meeting Dec 9 / 25,000 attendees Yes...  ...        1\n",
              "2007  $NQ_F $QQQ ‪‪Recap: ‬Today's report bias+1 bul...  ...        1\n",
              "2057  $NVDA has become a chip God.  Think $INTC in t...  ...        1\n",
              "1018  $MBOT Initial dip netted me a few more @ $1.20...  ...        1\n",
              "\n",
              "[5 rows x 5 columns]"
            ]
          },
          "metadata": {
            "tags": []
          },
          "execution_count": 10
        }
      ]
    },
    {
      "cell_type": "code",
      "metadata": {
        "id": "WCTUXbkev05V"
      },
      "source": [
        "train['aux'] = '$'+train.target_cashtag+\"-\"+train.target_num\n",
        "val['aux'] = '$'+val.target_cashtag+\"-\"+val.target_num\n"
      ],
      "execution_count": 11,
      "outputs": []
    },
    {
      "cell_type": "code",
      "metadata": {
        "colab": {
          "base_uri": "https://localhost:8080/",
          "height": 204
        },
        "id": "hQE0ZFJkwNtt",
        "outputId": "6ab111ab-44e2-42d9-edea-bea936eb5124"
      },
      "source": [
        "train.head()"
      ],
      "execution_count": 12,
      "outputs": [
        {
          "output_type": "execute_result",
          "data": {
            "text/html": [
              "<div>\n",
              "<style scoped>\n",
              "    .dataframe tbody tr th:only-of-type {\n",
              "        vertical-align: middle;\n",
              "    }\n",
              "\n",
              "    .dataframe tbody tr th {\n",
              "        vertical-align: top;\n",
              "    }\n",
              "\n",
              "    .dataframe thead th {\n",
              "        text-align: right;\n",
              "    }\n",
              "</style>\n",
              "<table border=\"1\" class=\"dataframe\">\n",
              "  <thead>\n",
              "    <tr style=\"text-align: right;\">\n",
              "      <th></th>\n",
              "      <th>tweet</th>\n",
              "      <th>target_num</th>\n",
              "      <th>offset</th>\n",
              "      <th>target_cashtag</th>\n",
              "      <th>relation</th>\n",
              "      <th>aux</th>\n",
              "    </tr>\n",
              "  </thead>\n",
              "  <tbody>\n",
              "    <tr>\n",
              "      <th>2023</th>\n",
              "      <td>$ETH.X $BTC.X $LTC.X $BCH.X What happened to E...</td>\n",
              "      <td>2</td>\n",
              "      <td>118</td>\n",
              "      <td>ETH.X</td>\n",
              "      <td>1</td>\n",
              "      <td>$ETH.X-2</td>\n",
              "    </tr>\n",
              "    <tr>\n",
              "      <th>3622</th>\n",
              "      <td>$GILD ASK meeting Dec 9 / 25,000 attendees Yes...</td>\n",
              "      <td>101</td>\n",
              "      <td>102</td>\n",
              "      <td>NVS</td>\n",
              "      <td>1</td>\n",
              "      <td>$NVS-101</td>\n",
              "    </tr>\n",
              "    <tr>\n",
              "      <th>2007</th>\n",
              "      <td>$NQ_F $QQQ ‪‪Recap: ‬Today's report bias+1 bul...</td>\n",
              "      <td>17</td>\n",
              "      <td>62</td>\n",
              "      <td>QQQ</td>\n",
              "      <td>1</td>\n",
              "      <td>$QQQ-17</td>\n",
              "    </tr>\n",
              "    <tr>\n",
              "      <th>2057</th>\n",
              "      <td>$NVDA has become a chip God.  Think $INTC in t...</td>\n",
              "      <td>1990</td>\n",
              "      <td>59</td>\n",
              "      <td>NVDA</td>\n",
              "      <td>1</td>\n",
              "      <td>$NVDA-1990</td>\n",
              "    </tr>\n",
              "    <tr>\n",
              "      <th>1018</th>\n",
              "      <td>$MBOT Initial dip netted me a few more @ $1.20...</td>\n",
              "      <td>1.20</td>\n",
              "      <td>42</td>\n",
              "      <td>MBOT</td>\n",
              "      <td>1</td>\n",
              "      <td>$MBOT-1.20</td>\n",
              "    </tr>\n",
              "  </tbody>\n",
              "</table>\n",
              "</div>"
            ],
            "text/plain": [
              "                                                  tweet  ...         aux\n",
              "2023  $ETH.X $BTC.X $LTC.X $BCH.X What happened to E...  ...    $ETH.X-2\n",
              "3622  $GILD ASK meeting Dec 9 / 25,000 attendees Yes...  ...    $NVS-101\n",
              "2007  $NQ_F $QQQ ‪‪Recap: ‬Today's report bias+1 bul...  ...     $QQQ-17\n",
              "2057  $NVDA has become a chip God.  Think $INTC in t...  ...  $NVDA-1990\n",
              "1018  $MBOT Initial dip netted me a few more @ $1.20...  ...  $MBOT-1.20\n",
              "\n",
              "[5 rows x 6 columns]"
            ]
          },
          "metadata": {
            "tags": []
          },
          "execution_count": 12
        }
      ]
    },
    {
      "cell_type": "code",
      "metadata": {
        "id": "F47Y00aM9Ehu"
      },
      "source": [
        "cols = ['tweet', 'aux', 'relation' ]\n",
        "train = train[cols]\n",
        "val = val[cols]"
      ],
      "execution_count": 13,
      "outputs": []
    },
    {
      "cell_type": "code",
      "metadata": {
        "colab": {
          "base_uri": "https://localhost:8080/"
        },
        "id": "Pa31Mnm_9LOu",
        "outputId": "36ba8223-c1eb-4b77-8041-9a0fecd8003c"
      },
      "source": [
        "print(train.relation.value_counts())\n",
        "print(val.relation.value_counts())"
      ],
      "execution_count": 14,
      "outputs": [
        {
          "output_type": "stream",
          "text": [
            "1    5827\n",
            "0    1360\n",
            "Name: relation, dtype: int64\n",
            "1    850\n",
            "0    194\n",
            "Name: relation, dtype: int64\n"
          ],
          "name": "stdout"
        }
      ]
    },
    {
      "cell_type": "code",
      "metadata": {
        "colab": {
          "base_uri": "https://localhost:8080/",
          "height": 204
        },
        "id": "Ph9biJ1D9OhI",
        "outputId": "445a92ed-01ef-45e0-f3bd-bab467806168"
      },
      "source": [
        "train.head()"
      ],
      "execution_count": 15,
      "outputs": [
        {
          "output_type": "execute_result",
          "data": {
            "text/html": [
              "<div>\n",
              "<style scoped>\n",
              "    .dataframe tbody tr th:only-of-type {\n",
              "        vertical-align: middle;\n",
              "    }\n",
              "\n",
              "    .dataframe tbody tr th {\n",
              "        vertical-align: top;\n",
              "    }\n",
              "\n",
              "    .dataframe thead th {\n",
              "        text-align: right;\n",
              "    }\n",
              "</style>\n",
              "<table border=\"1\" class=\"dataframe\">\n",
              "  <thead>\n",
              "    <tr style=\"text-align: right;\">\n",
              "      <th></th>\n",
              "      <th>tweet</th>\n",
              "      <th>aux</th>\n",
              "      <th>relation</th>\n",
              "    </tr>\n",
              "  </thead>\n",
              "  <tbody>\n",
              "    <tr>\n",
              "      <th>2023</th>\n",
              "      <td>$ETH.X $BTC.X $LTC.X $BCH.X What happened to E...</td>\n",
              "      <td>$ETH.X-2</td>\n",
              "      <td>1</td>\n",
              "    </tr>\n",
              "    <tr>\n",
              "      <th>3622</th>\n",
              "      <td>$GILD ASK meeting Dec 9 / 25,000 attendees Yes...</td>\n",
              "      <td>$NVS-101</td>\n",
              "      <td>1</td>\n",
              "    </tr>\n",
              "    <tr>\n",
              "      <th>2007</th>\n",
              "      <td>$NQ_F $QQQ ‪‪Recap: ‬Today's report bias+1 bul...</td>\n",
              "      <td>$QQQ-17</td>\n",
              "      <td>1</td>\n",
              "    </tr>\n",
              "    <tr>\n",
              "      <th>2057</th>\n",
              "      <td>$NVDA has become a chip God.  Think $INTC in t...</td>\n",
              "      <td>$NVDA-1990</td>\n",
              "      <td>1</td>\n",
              "    </tr>\n",
              "    <tr>\n",
              "      <th>1018</th>\n",
              "      <td>$MBOT Initial dip netted me a few more @ $1.20...</td>\n",
              "      <td>$MBOT-1.20</td>\n",
              "      <td>1</td>\n",
              "    </tr>\n",
              "  </tbody>\n",
              "</table>\n",
              "</div>"
            ],
            "text/plain": [
              "                                                  tweet         aux  relation\n",
              "2023  $ETH.X $BTC.X $LTC.X $BCH.X What happened to E...    $ETH.X-2         1\n",
              "3622  $GILD ASK meeting Dec 9 / 25,000 attendees Yes...    $NVS-101         1\n",
              "2007  $NQ_F $QQQ ‪‪Recap: ‬Today's report bias+1 bul...     $QQQ-17         1\n",
              "2057  $NVDA has become a chip God.  Think $INTC in t...  $NVDA-1990         1\n",
              "1018  $MBOT Initial dip netted me a few more @ $1.20...  $MBOT-1.20         1"
            ]
          },
          "metadata": {
            "tags": []
          },
          "execution_count": 15
        }
      ]
    },
    {
      "cell_type": "code",
      "metadata": {
        "colab": {
          "base_uri": "https://localhost:8080/",
          "height": 350
        },
        "id": "hPry2ixQA7f4",
        "outputId": "3b116d1d-3e9e-41e7-ccb1-19bc55a6eaa4"
      },
      "source": [
        "train['tweet_len'] = train.tweet.apply(lambda words: len(words.split(\" \")))\n",
        "max_seq_len = np.round(train.tweet_len.mean() + 2*train.tweet_len.std()).astype(int)\n",
        "\n",
        "sns.distplot(train.tweet_len, hist=True, kde=True, color='b', label='tweets size len')\n",
        "plt.axvline(x=max_seq_len, color='k', linestyle='--', label='max len')\n",
        "plt.title('comment length'); plt.legend()\n",
        "plt.show()"
      ],
      "execution_count": 16,
      "outputs": [
        {
          "output_type": "stream",
          "text": [
            "/usr/local/lib/python3.6/dist-packages/seaborn/distributions.py:2551: FutureWarning: `distplot` is a deprecated function and will be removed in a future version. Please adapt your code to use either `displot` (a figure-level function with similar flexibility) or `histplot` (an axes-level function for histograms).\n",
            "  warnings.warn(msg, FutureWarning)\n"
          ],
          "name": "stderr"
        },
        {
          "output_type": "display_data",
          "data": {
            "image/png": "[encoded data removed]",
            "text/plain": [
              "<Figure size 432x288 with 1 Axes>"
            ]
          },
          "metadata": {
            "tags": [],
            "needs_background": "light"
          }
        }
      ]
    },
    {
      "cell_type": "code",
      "metadata": {
        "colab": {
          "base_uri": "https://localhost:8080/"
        },
        "id": "1AfVsZ_m9tp9",
        "outputId": "f6709d84-1b1c-490a-a482-36234e209d90"
      },
      "source": [
        "label_dict = {}\n",
        "for index, possible_label in enumerate(train.relation.unique()):\n",
        "    label_dict[possible_label] = index\n",
        "\n",
        "l_train = train.tweet.tolist()\n",
        "aux_train = train.aux.tolist()\n",
        "l_test = val.tweet.tolist()\n",
        "aux_test = val.aux.tolist()\n",
        "num_classes = len(label_dict)\n",
        "\n",
        "\n",
        "clean_train = []\n",
        "for doc in tqdm(l_train):\n",
        "  tokens = word_tokenize(doc)\n",
        "  filtered = [word for word in tokens if word not in stop_words]\n",
        "  clean_train.append(\" \".join(filtered))\n",
        "\n",
        "clean_train_aux = []\n",
        "for doc in tqdm(aux_train):\n",
        "  tokens = word_tokenize(doc)\n",
        "  filtered = [word for word in tokens if word not in stop_words]\n",
        "  clean_train_aux.append(\" \".join(filtered))\n",
        "\n",
        "\n",
        "clean_test = []\n",
        "for doc in tqdm(l_test):\n",
        "  tokens = word_tokenize(doc)\n",
        "  filtered = [word for word in tokens if word not in stop_words]\n",
        "  clean_test.append(\" \".join(filtered))\n",
        "\n",
        "clean_test_aux = []\n",
        "for doc in tqdm(aux_test):\n",
        "  tokens = word_tokenize(doc)\n",
        "  filtered = [word for word in tokens if word not in stop_words]\n",
        "  clean_test_aux.append(\" \".join(filtered))\n",
        "\n",
        "print(\"Tokenizing: \")\n",
        "tokenizer = Tokenizer(num_words=MAX_NB_WORDS, lower=True, char_level=False)\n",
        "tokenizer.fit_on_texts(clean_train + clean_train_aux+ clean_test+clean_test_aux)  \n",
        "\n",
        "word_seq_train = tokenizer.texts_to_sequences(clean_train)\n",
        "word_seq_train_aux = tokenizer.texts_to_sequences(clean_train_aux)\n",
        "word_seq_test = tokenizer.texts_to_sequences(clean_test)\n",
        "word_seq_test_aux = tokenizer.texts_to_sequences(clean_test_aux)\n",
        "\n",
        "word_index = tokenizer.word_index\n",
        "print(\"dictionary size: \", len(word_index))\n",
        "\n",
        "word_seq_train = sequence.pad_sequences(word_seq_train, maxlen=max_seq_len)\n",
        "word_seq_test = sequence.pad_sequences(word_seq_test, maxlen=max_seq_len)\n",
        "word_seq_train_aux = sequence.pad_sequences(word_seq_train_aux, maxlen=max_seq_len)\n",
        "word_seq_test_aux = sequence.pad_sequences(word_seq_test_aux, maxlen=max_seq_len)"
      ],
      "execution_count": 17,
      "outputs": [
        {
          "output_type": "stream",
          "text": [
            "100%|██████████| 7187/7187 [00:01<00:00, 4026.27it/s]\n",
            "100%|██████████| 7187/7187 [00:00<00:00, 15576.26it/s]\n",
            "100%|██████████| 1044/1044 [00:00<00:00, 4551.08it/s]\n",
            "100%|██████████| 1044/1044 [00:00<00:00, 15986.35it/s]\n"
          ],
          "name": "stderr"
        },
        {
          "output_type": "stream",
          "text": [
            "Tokenizing: \n",
            "dictionary size:  12180\n"
          ],
          "name": "stdout"
        }
      ]
    },
    {
      "cell_type": "code",
      "metadata": {
        "colab": {
          "base_uri": "https://localhost:8080/"
        },
        "id": "SCzC2wDyF6_k",
        "outputId": "4b7d33fe-420f-40f4-9e74-6f16552b2499"
      },
      "source": [
        "word_seq_train[10]"
      ],
      "execution_count": 18,
      "outputs": [
        {
          "output_type": "execute_result",
          "data": {
            "text/plain": [
              "array([   0,    0,    0,    0,    0,    0,    0,    0,    0,    0,  446,\n",
              "        550,  832,  353,  394,  332,  594,    6,  856,  111, 3655,  446,\n",
              "       1861,    2,  899,  353,  446,  205, 1339,  856,  111], dtype=int32)"
            ]
          },
          "metadata": {
            "tags": []
          },
          "execution_count": 18
        }
      ]
    },
    {
      "cell_type": "code",
      "metadata": {
        "id": "Pqp3_jxLDuQd"
      },
      "source": [
        "\n",
        "#model parameters\n",
        "num_filters = 64 \n",
        "embed_dim = 300 \n",
        "weight_decay = 1e-4"
      ],
      "execution_count": 19,
      "outputs": []
    },
    {
      "cell_type": "code",
      "metadata": {
        "colab": {
          "base_uri": "https://localhost:8080/"
        },
        "id": "w31Mb7wYxpbi",
        "outputId": "e43f083e-a12f-4f69-87ee-703f3a61f80f"
      },
      "source": [
        "#load char model\n",
        "!pip install chars2vec"
      ],
      "execution_count": 20,
      "outputs": [
        {
          "output_type": "stream",
          "text": [
            "Requirement already satisfied: chars2vec in /usr/local/lib/python3.6/dist-packages (0.1.7)\n"
          ],
          "name": "stdout"
        }
      ]
    },
    {
      "cell_type": "code",
      "metadata": {
        "id": "XM9mPfx4xxbb"
      },
      "source": [
        "import chars2vec\n",
        "c2v_model = chars2vec.load_model('eng_300')"
      ],
      "execution_count": 21,
      "outputs": []
    },
    {
      "cell_type": "code",
      "metadata": {
        "id": "Iv1_Yw15FpUh"
      },
      "source": [
        "def get_embedding(word):\n",
        "    try:\n",
        "        embedding=model[word]\n",
        "    except:\n",
        "        embedding=c2v_model.vectorize_words([word])#np.zeros((embed_dim,))\n",
        "    return embedding"
      ],
      "execution_count": 22,
      "outputs": []
    },
    {
      "cell_type": "code",
      "metadata": {
        "id": "AZHWQctlygTd"
      },
      "source": [
        "#for word, i in word_index.items():\n",
        "#    if i >= nb_words:\n",
        "#        continue\n",
        "#    print(word)"
      ],
      "execution_count": 23,
      "outputs": []
    },
    {
      "cell_type": "code",
      "metadata": {
        "colab": {
          "base_uri": "https://localhost:8080/"
        },
        "id": "D4WY-6neGZii",
        "outputId": "a793a09d-daa4-4cba-8373-47c16b61a6f6"
      },
      "source": [
        "#embedding matrix\n",
        "\n",
        "print('preparing embedding matrix...')\n",
        "\n",
        "words_not_found = []\n",
        "nb_words = min(MAX_NB_WORDS, len(word_index)+1)\n",
        "embedding_matrix = np.zeros((nb_words, embed_dim))\n",
        "\n",
        "for word, i in word_index.items():\n",
        "    if i >= nb_words:\n",
        "        continue\n",
        "    embedding_vector = get_embedding(word)\n",
        "    if (embedding_vector is not None) and len(embedding_vector) > 0:\n",
        "        # words not found in embedding index will be all-zeros.\n",
        "        embedding_matrix[i] = embedding_vector\n",
        "        if np.sum(embedding_vector) == 0:\n",
        "          words_not_found.append(word)\n",
        "print('number of null word embeddings: %d' % np.sum(np.sum(embedding_matrix, axis=1) == 0))"
      ],
      "execution_count": 24,
      "outputs": [
        {
          "output_type": "stream",
          "text": [
            "preparing embedding matrix...\n"
          ],
          "name": "stdout"
        },
        {
          "output_type": "stream",
          "text": [
            "/usr/local/lib/python3.6/dist-packages/ipykernel_launcher.py:3: DeprecationWarning: Call to deprecated `__getitem__` (Method will be removed in 4.0.0, use self.wv.__getitem__() instead).\n",
            "  This is separate from the ipykernel package so we can avoid doing imports until\n"
          ],
          "name": "stderr"
        },
        {
          "output_type": "stream",
          "text": [
            "number of null word embeddings: 1\n"
          ],
          "name": "stdout"
        }
      ]
    },
    {
      "cell_type": "code",
      "metadata": {
        "colab": {
          "base_uri": "https://localhost:8080/"
        },
        "id": "tKi8vtOKGs7w",
        "outputId": "5eeb765b-700f-4b88-f279-bd819b8c4687"
      },
      "source": [
        "print(words_not_found[50:100])"
      ],
      "execution_count": 25,
      "outputs": [
        {
          "output_type": "stream",
          "text": [
            "[]\n"
          ],
          "name": "stdout"
        }
      ]
    },
    {
      "cell_type": "code",
      "metadata": {
        "id": "dmahh384KZhQ"
      },
      "source": [
        "import keras\n",
        "from keras import optimizers\n",
        "from keras import backend as K\n",
        "from keras import regularizers\n",
        "from keras.models import Sequential\n",
        "from keras.layers import Dense, Activation, Dropout, Flatten, concatenate, add, merge, multiply, dot\n",
        "from tensorflow.keras.layers import Embedding, LSTM, Dense, Dropout, Bidirectional, Concatenate, Input, TimeDistributed"
      ],
      "execution_count": 26,
      "outputs": []
    },
    {
      "cell_type": "code",
      "metadata": {
        "id": "Otek0U9AOtvc"
      },
      "source": [
        "# avoid model to overwrite\n",
        "keras.backend.clear_session()"
      ],
      "execution_count": 27,
      "outputs": []
    },
    {
      "cell_type": "code",
      "metadata": {
        "colab": {
          "base_uri": "https://localhost:8080/"
        },
        "id": "ZNv9_KA30N6z",
        "outputId": "2342891b-2815-4661-e85f-b5a962730488"
      },
      "source": [
        "import tensorflow as tf\n",
        "tf.config.run_functions_eagerly(True)\n",
        "\n",
        "sentence_in = Input(shape=(max_seq_len, ), dtype='int32', name=\"tweet\")\n",
        "sent_embedding_layer = Embedding(nb_words,embed_dim,input_length=max_seq_len, weights=[embedding_matrix],trainable=False) (sentence_in)\n",
        "lstm_sentence = Bidirectional(LSTM(256))(sent_embedding_layer)\n",
        "\n",
        "\n",
        "\n",
        "aspects_in = Input(shape=(max_seq_len,), dtype='int32', name=\"aux\")\n",
        "aspects_embedding_layer = Embedding(nb_words,embed_dim,input_length=max_seq_len, weights=[embedding_matrix],trainable=False) (aspects_in)\n",
        "lstm_aspects = Bidirectional(LSTM(256))(aspects_embedding_layer)\n",
        "\n",
        "\n",
        "x = concatenate([lstm_sentence, lstm_aspects])\n",
        "\n",
        "x = Dense(1024,activation='relu')(x)\n",
        "x=  Dropout(.3) (x)\n",
        "x = Dense(128,activation='relu')(x)\n",
        "\n",
        "preds = Dense(1,activation= 'sigmoid')(x)\n",
        "\n",
        "model = tf.keras.Model(inputs=[sentence_in, aspects_in], outputs=preds)\n",
        "\n",
        "dot_img_file = '/content/drive/My Drive/praveen_iiit_hyd_ire_class/ten_k_project_work/data/model_classif_lstm_concat.png'\n",
        "tf.keras.utils.plot_model(model, to_file=dot_img_file, show_shapes=True)\n",
        "\n",
        "model.summary()"
      ],
      "execution_count": 42,
      "outputs": [
        {
          "output_type": "stream",
          "text": [
            "Model: \"functional_3\"\n",
            "__________________________________________________________________________________________________\n",
            "Layer (type)                    Output Shape         Param #     Connected to                     \n",
            "==================================================================================================\n",
            "tweet (InputLayer)              [(None, 31)]         0                                            \n",
            "__________________________________________________________________________________________________\n",
            "aux (InputLayer)                [(None, 31)]         0                                            \n",
            "__________________________________________________________________________________________________\n",
            "embedding_2 (Embedding)         (None, 31, 300)      3654300     tweet[0][0]                      \n",
            "__________________________________________________________________________________________________\n",
            "embedding_3 (Embedding)         (None, 31, 300)      3654300     aux[0][0]                        \n",
            "__________________________________________________________________________________________________\n",
            "bidirectional_2 (Bidirectional) (None, 512)          1140736     embedding_2[0][0]                \n",
            "__________________________________________________________________________________________________\n",
            "bidirectional_3 (Bidirectional) (None, 512)          1140736     embedding_3[0][0]                \n",
            "__________________________________________________________________________________________________\n",
            "concatenate_1 (Concatenate)     (None, 1024)         0           bidirectional_2[0][0]            \n",
            "                                                                 bidirectional_3[0][0]            \n",
            "__________________________________________________________________________________________________\n",
            "dense_3 (Dense)                 (None, 1024)         1049600     concatenate_1[0][0]              \n",
            "__________________________________________________________________________________________________\n",
            "dropout_1 (Dropout)             (None, 1024)         0           dense_3[0][0]                    \n",
            "__________________________________________________________________________________________________\n",
            "dense_4 (Dense)                 (None, 128)          131200      dropout_1[0][0]                  \n",
            "__________________________________________________________________________________________________\n",
            "dense_5 (Dense)                 (None, 1)            129         dense_4[0][0]                    \n",
            "==================================================================================================\n",
            "Total params: 10,771,001\n",
            "Trainable params: 3,462,401\n",
            "Non-trainable params: 7,308,600\n",
            "__________________________________________________________________________________________________\n"
          ],
          "name": "stdout"
        }
      ]
    },
    {
      "cell_type": "code",
      "metadata": {
        "id": "k18dZ2bbKAwm"
      },
      "source": [
        "if 0:\n",
        "  from keras.layers import BatchNormalization\n",
        "  import tensorflow as tf\n",
        "\n",
        "  model = tf.keras.Sequential()\n",
        "\n",
        "  model.add(Embedding(nb_words,embed_dim,input_length=max_seq_len, weights=[embedding_matrix],trainable=False))\n",
        "  model.add(Dropout(0.2))\n",
        "  model.add(Bidirectional(LSTM(256,return_sequences= True)))\n",
        "  model.add(Dropout(0.3))\n",
        "  model.add(Bidirectional(LSTM(256,return_sequences= True)))\n",
        "  model.add(Dropout(0.3))\n",
        "  model.add(Bidirectional(LSTM(256)))\n",
        "  model.add(Dense(1024,activation='relu'))\n",
        "  model.add(Dropout(0.3))\n",
        "  model.add(Dense(64,activation='relu'))\n",
        "  model.add(Dense(1,activation='sigmoid'))\n",
        "  model.summary()"
      ],
      "execution_count": 29,
      "outputs": []
    },
    {
      "cell_type": "code",
      "metadata": {
        "id": "OkMGerayKSPP"
      },
      "source": [
        "from keras.optimizers import RMSprop\n",
        "from keras.callbacks import ModelCheckpoint\n",
        "from tensorflow.keras.callbacks import EarlyStopping\n",
        "from tensorflow.keras.optimizers import Adam, SGD\n",
        "\n",
        "model.compile(loss='binary_crossentropy', optimizer=Adam(lr=1e-3), metrics=['accuracy'])"
      ],
      "execution_count": 30,
      "outputs": []
    },
    {
      "cell_type": "code",
      "metadata": {
        "colab": {
          "base_uri": "https://localhost:8080/"
        },
        "id": "eIhET-vOYtcq",
        "outputId": "74f468ba-eb71-4193-fc88-a212616866d6"
      },
      "source": [
        "!pwd"
      ],
      "execution_count": 31,
      "outputs": [
        {
          "output_type": "stream",
          "text": [
            "/content/drive/.shortcut-targets-by-id/1bAH82a4OCCwO_0oYQxNKaht5KBDdKQGA/word2vec_fasttext\n"
          ],
          "name": "stdout"
        }
      ]
    },
    {
      "cell_type": "code",
      "metadata": {
        "id": "u8Vq-UGgYmQT"
      },
      "source": [
        "checkpoint = ModelCheckpoint('word2vec_finetune_classification_weights_lstm_v3.best.hdf5',\n",
        "                             verbose=1,\n",
        "                             save_weights_only=True,\n",
        "                             monitor = 'val_loss',\n",
        "                             mode='min',\n",
        "                             save_best_only=True)\n",
        "es_callback = EarlyStopping(monitor='val_loss', patience=5, mode=\"min\")"
      ],
      "execution_count": 32,
      "outputs": []
    },
    {
      "cell_type": "code",
      "metadata": {
        "colab": {
          "base_uri": "https://localhost:8080/"
        },
        "id": "OFuryH4ZKypq",
        "outputId": "17542332-403b-410f-fdba-def15d8fd88f"
      },
      "source": [
        "#es_callback = EarlyStopping(monitor='val_accuracy', patience=10, mode=\"max\")\n",
        "#training params\n",
        "batch_size = 32 \n",
        "num_epochs = 30\n",
        "\n",
        "history = model.fit([word_seq_train, word_seq_train_aux], train.relation.values, batch_size=batch_size,\n",
        "          epochs=num_epochs, validation_data=([word_seq_test, word_seq_test_aux], val.relation.values),\n",
        "          callbacks=[es_callback, checkpoint])"
      ],
      "execution_count": 33,
      "outputs": [
        {
          "output_type": "stream",
          "text": [
            "Epoch 1/30\n"
          ],
          "name": "stdout"
        },
        {
          "output_type": "stream",
          "text": [
            "/usr/local/lib/python3.6/dist-packages/tensorflow/python/data/ops/dataset_ops.py:3350: UserWarning: Even though the tf.config.experimental_run_functions_eagerly option is set, this option does not apply to tf.data functions. tf.data functions are still traced and executed as graphs.\n",
            "  \"Even though the tf.config.experimental_run_functions_eagerly \"\n"
          ],
          "name": "stderr"
        },
        {
          "output_type": "stream",
          "text": [
            "225/225 [==============================] - ETA: 0s - loss: 0.4237 - accuracy: 0.8158\n",
            "Epoch 00001: val_loss improved from inf to 0.33929, saving model to word2vec_finetune_classification_weights_lstm_v3.best.hdf5\n",
            "225/225 [==============================] - 10s 44ms/step - loss: 0.4237 - accuracy: 0.8158 - val_loss: 0.3393 - val_accuracy: 0.8238\n",
            "Epoch 2/30\n",
            "224/225 [============================>.] - ETA: 0s - loss: 0.3520 - accuracy: 0.8499\n",
            "Epoch 00002: val_loss improved from 0.33929 to 0.28046, saving model to word2vec_finetune_classification_weights_lstm_v3.best.hdf5\n",
            "225/225 [==============================] - 10s 46ms/step - loss: 0.3519 - accuracy: 0.8500 - val_loss: 0.2805 - val_accuracy: 0.8812\n",
            "Epoch 3/30\n",
            "224/225 [============================>.] - ETA: 0s - loss: 0.2893 - accuracy: 0.8786\n",
            "Epoch 00003: val_loss did not improve from 0.28046\n",
            "225/225 [==============================] - 10s 45ms/step - loss: 0.2893 - accuracy: 0.8787 - val_loss: 0.3328 - val_accuracy: 0.8669\n",
            "Epoch 4/30\n",
            "225/225 [==============================] - ETA: 0s - loss: 0.2384 - accuracy: 0.9048\n",
            "Epoch 00004: val_loss did not improve from 0.28046\n",
            "225/225 [==============================] - 10s 45ms/step - loss: 0.2384 - accuracy: 0.9048 - val_loss: 0.4642 - val_accuracy: 0.8477\n",
            "Epoch 5/30\n",
            "224/225 [============================>.] - ETA: 0s - loss: 0.1968 - accuracy: 0.9233\n",
            "Epoch 00005: val_loss did not improve from 0.28046\n",
            "225/225 [==============================] - 10s 46ms/step - loss: 0.1969 - accuracy: 0.9231 - val_loss: 0.3620 - val_accuracy: 0.8611\n",
            "Epoch 6/30\n",
            "225/225 [==============================] - ETA: 0s - loss: 0.1614 - accuracy: 0.9370\n",
            "Epoch 00006: val_loss did not improve from 0.28046\n",
            "225/225 [==============================] - 10s 46ms/step - loss: 0.1614 - accuracy: 0.9370 - val_loss: 0.4350 - val_accuracy: 0.8688\n",
            "Epoch 7/30\n",
            "225/225 [==============================] - ETA: 0s - loss: 0.1289 - accuracy: 0.9514\n",
            "Epoch 00007: val_loss did not improve from 0.28046\n",
            "225/225 [==============================] - 10s 46ms/step - loss: 0.1289 - accuracy: 0.9514 - val_loss: 0.4745 - val_accuracy: 0.8640\n"
          ],
          "name": "stdout"
        }
      ]
    },
    {
      "cell_type": "code",
      "metadata": {
        "colab": {
          "base_uri": "https://localhost:8080/",
          "height": 295
        },
        "id": "50AkTs_3MCCN",
        "outputId": "849511d1-3ff8-4fb1-f9ef-73f587af9f42"
      },
      "source": [
        "#generate plots\n",
        "plt.figure()\n",
        "plt.plot(history.history['loss'], lw=2.0, color='b', label='train')\n",
        "plt.plot(history.history['val_loss'], lw=2.0, color='r', label='val')\n",
        "plt.title('Loss')\n",
        "plt.xlabel('Epochs')\n",
        "plt.ylabel('Cross-Entropy Loss')\n",
        "plt.legend(loc='upper right')\n",
        "plt.show()"
      ],
      "execution_count": 34,
      "outputs": [
        {
          "output_type": "display_data",
          "data": {
            "image/png": "[encoded data removed]",
            "text/plain": [
              "<Figure size 432x288 with 1 Axes>"
            ]
          },
          "metadata": {
            "tags": [],
            "needs_background": "light"
          }
        }
      ]
    },
    {
      "cell_type": "code",
      "metadata": {
        "colab": {
          "base_uri": "https://localhost:8080/",
          "height": 295
        },
        "id": "HrnldxkeOSuI",
        "outputId": "f28bfdb5-7ea1-4941-95c4-5f89a3d1fd45"
      },
      "source": [
        "plt.figure()\n",
        "plt.plot(history.history['accuracy'], lw=2.0, color='b', label='train')\n",
        "plt.plot(history.history['val_accuracy'], lw=2.0, color='r', label='val')\n",
        "plt.title('Accuracy')\n",
        "plt.xlabel('Epochs')\n",
        "plt.ylabel('Accuracy')\n",
        "plt.legend(loc='upper left')\n",
        "plt.show()"
      ],
      "execution_count": 35,
      "outputs": [
        {
          "output_type": "display_data",
          "data": {
            "image/png": "[encoded data removed]",
            "text/plain": [
              "<Figure size 432x288 with 1 Axes>"
            ]
          },
          "metadata": {
            "tags": [],
            "needs_background": "light"
          }
        }
      ]
    },
    {
      "cell_type": "code",
      "metadata": {
        "id": "VYerrU8CZ0sb"
      },
      "source": [
        "\n",
        "model.load_weights('word2vec_finetune_classification_weights_lstm_v3.best.hdf5')"
      ],
      "execution_count": 36,
      "outputs": []
    },
    {
      "cell_type": "code",
      "metadata": {
        "id": "lRwp0-QfOrQj",
        "colab": {
          "base_uri": "https://localhost:8080/"
        },
        "outputId": "3c26a5c9-cefd-4720-ad30-bfd3c1c60212"
      },
      "source": [
        "predictions = model.predict([word_seq_test, word_seq_test_aux])\n",
        "predictions = (predictions > 0.5).astype('int32')\n",
        "predictions = predictions.ravel()"
      ],
      "execution_count": 37,
      "outputs": [
        {
          "output_type": "stream",
          "text": [
            "/usr/local/lib/python3.6/dist-packages/tensorflow/python/data/ops/dataset_ops.py:3350: UserWarning: Even though the tf.config.experimental_run_functions_eagerly option is set, this option does not apply to tf.data functions. tf.data functions are still traced and executed as graphs.\n",
            "  \"Even though the tf.config.experimental_run_functions_eagerly \"\n"
          ],
          "name": "stderr"
        }
      ]
    },
    {
      "cell_type": "code",
      "metadata": {
        "id": "yV8dCIhKhJx1"
      },
      "source": [
        "dir = \"/content/drive/My Drive/praveen_iiit_hyd_ire_class/ten_k_project_work/data/\""
      ],
      "execution_count": 38,
      "outputs": []
    },
    {
      "cell_type": "code",
      "metadata": {
        "id": "L5YFFRYjRDFC"
      },
      "source": [
        "val['pred'] = predictions\n",
        "val.to_csv(dir+\"word2vec_finetune_classification_v3_concat_lstm.csv\")"
      ],
      "execution_count": 39,
      "outputs": []
    },
    {
      "cell_type": "code",
      "metadata": {
        "colab": {
          "base_uri": "https://localhost:8080/"
        },
        "id": "BjS4jJjpa7kp",
        "outputId": "549113bd-bec3-428f-df4c-abc9166d05d1"
      },
      "source": [
        "from sklearn.metrics import confusion_matrix\n",
        "from sklearn.metrics import classification_report\n",
        "print(confusion_matrix(np.array(val.relation.values), predictions, labels=[0,1]))\n",
        "print(classification_report(np.array(val.relation.values), predictions))"
      ],
      "execution_count": 40,
      "outputs": [
        {
          "output_type": "stream",
          "text": [
            "[[ 90 104]\n",
            " [ 20 830]]\n",
            "              precision    recall  f1-score   support\n",
            "\n",
            "           0       0.82      0.46      0.59       194\n",
            "           1       0.89      0.98      0.93       850\n",
            "\n",
            "    accuracy                           0.88      1044\n",
            "   macro avg       0.85      0.72      0.76      1044\n",
            "weighted avg       0.88      0.88      0.87      1044\n",
            "\n"
          ],
          "name": "stdout"
        }
      ]
    },
    {
      "cell_type": "code",
      "metadata": {
        "colab": {
          "base_uri": "https://localhost:8080/"
        },
        "id": "7YtpaqNDcM9j",
        "outputId": "cd48e43f-c5b2-4ad2-bc9f-59c2673ecde8"
      },
      "source": [
        "predictions = model.predict([word_seq_train, word_seq_train_aux])\n",
        "predictions = predictions.ravel()\n",
        "predictions = [1 if pred>.5 else 0 for pred in predictions]\n",
        "print(confusion_matrix(np.array(train.relation.values), predictions, labels=[0,1]))\n",
        "print(classification_report(np.array(train.relation.values), predictions))"
      ],
      "execution_count": 41,
      "outputs": [
        {
          "output_type": "stream",
          "text": [
            "/usr/local/lib/python3.6/dist-packages/tensorflow/python/data/ops/dataset_ops.py:3350: UserWarning: Even though the tf.config.experimental_run_functions_eagerly option is set, this option does not apply to tf.data functions. tf.data functions are still traced and executed as graphs.\n",
            "  \"Even though the tf.config.experimental_run_functions_eagerly \"\n"
          ],
          "name": "stderr"
        },
        {
          "output_type": "stream",
          "text": [
            "[[ 909  451]\n",
            " [ 315 5512]]\n",
            "              precision    recall  f1-score   support\n",
            "\n",
            "           0       0.74      0.67      0.70      1360\n",
            "           1       0.92      0.95      0.94      5827\n",
            "\n",
            "    accuracy                           0.89      7187\n",
            "   macro avg       0.83      0.81      0.82      7187\n",
            "weighted avg       0.89      0.89      0.89      7187\n",
            "\n"
          ],
          "name": "stdout"
        }
      ]
    },
    {
      "cell_type": "code",
      "metadata": {
        "id": "jKHR7RG-fNAg"
      },
      "source": [
        ""
      ],
      "execution_count": 41,
      "outputs": []
    }
  ]
}