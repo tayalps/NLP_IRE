{
 "cells": [
  {
   "cell_type": "code",
   "execution_count": null,
   "metadata": {
    "colab": {
     "base_uri": "https://localhost:8080/"
    },
    "id": "v6uGjdgV7fCe",
    "outputId": "91e8eccf-bb91-43da-bcb7-b7eed2ce0294"
   },
   "outputs": [
    {
     "name": "stdout",
     "output_type": "stream",
     "text": [
      "Mounted at /content/drive\n"
     ]
    }
   ],
   "source": [
    "#mount the drive\n",
    "from google.colab import drive\n",
    "drive.mount('/content/drive', force_remount=True)"
   ]
  },
  {
   "cell_type": "code",
   "execution_count": null,
   "metadata": {
    "id": "W_QIxD3R68bz"
   },
   "outputs": [],
   "source": [
    "import gensim\n",
    "from tqdm import tqdm\n",
    "import os\n",
    "from gensim.models.fasttext import FastText"
   ]
  },
  {
   "cell_type": "code",
   "execution_count": null,
   "metadata": {
    "id": "NAqYXr7FA0g8"
   },
   "outputs": [],
   "source": [
    "# For array, dataset, and visualizing\n",
    "import numpy as np\n",
    "import pandas as pd\n",
    "import seaborn as sns\n",
    "import matplotlib.pyplot as plt"
   ]
  },
  {
   "cell_type": "code",
   "execution_count": null,
   "metadata": {
    "colab": {
     "base_uri": "https://localhost:8080/"
    },
    "id": "oFt1hjeWCoW6",
    "outputId": "88087044-043b-4c7b-ebc2-210a4f49d421"
   },
   "outputs": [
    {
     "name": "stdout",
     "output_type": "stream",
     "text": [
      "[nltk_data] Downloading package stopwords to /root/nltk_data...\n",
      "[nltk_data]   Unzipping corpora/stopwords.zip.\n",
      "[nltk_data] Downloading package punkt to /root/nltk_data...\n",
      "[nltk_data]   Unzipping tokenizers/punkt.zip.\n"
     ]
    }
   ],
   "source": [
    "#For Pre-Processing\n",
    "from tqdm import tqdm\n",
    "import nltk\n",
    "from nltk.corpus import stopwords\n",
    "nltk.download('stopwords')\n",
    "nltk.download('punkt')\n",
    "from nltk.tokenize import RegexpTokenizer \n",
    "from nltk.tokenize import word_tokenize"
   ]
  },
  {
   "cell_type": "code",
   "execution_count": null,
   "metadata": {
    "id": "3M0vxqtwCYx5"
   },
   "outputs": [],
   "source": [
    "from keras.preprocessing.text import Tokenizer\n",
    "from keras.preprocessing import sequence\n",
    "MAX_NB_WORDS = 500000\n",
    "tokenizer = RegexpTokenizer(r'\\w+')\n",
    "stop_words = set(stopwords.words('english'))\n",
    "stop_words.update(['.', ',', '\"', \"'\", ':', ';', '(', ')', '[', ']', '{', '}'])"
   ]
  },
  {
   "cell_type": "code",
   "execution_count": null,
   "metadata": {
    "colab": {
     "base_uri": "https://localhost:8080/"
    },
    "id": "4x7lf4c170Uh",
    "outputId": "94e43e40-0ac3-4624-bc54-a4a88793d574"
   },
   "outputs": [
    {
     "name": "stdout",
     "output_type": "stream",
     "text": [
      "/content/drive/My Drive/iiit_ire/word2vec_fasttext\n"
     ]
    }
   ],
   "source": [
    "cd  \"/content/drive/My Drive/iiit_ire/word2vec_fasttext\""
   ]
  },
  {
   "cell_type": "code",
   "execution_count": null,
   "metadata": {
    "id": "8BYamGHe68cM"
   },
   "outputs": [],
   "source": [
    "model_name = \"./fin_fastText\""
   ]
  },
  {
   "cell_type": "code",
   "execution_count": null,
   "metadata": {
    "id": "sy9eB1TY68cc"
   },
   "outputs": [],
   "source": [
    "model = FastText.load(model_name)"
   ]
  },
  {
   "cell_type": "code",
   "execution_count": null,
   "metadata": {
    "colab": {
     "base_uri": "https://localhost:8080/"
    },
    "id": "ILoV9y1n68dN",
    "outputId": "c80e6a7c-8d8c-408b-b35d-fd8682b4d6a3"
   },
   "outputs": [
    {
     "name": "stdout",
     "output_type": "stream",
     "text": [
      "(7187, 5) (1044, 5)\n"
     ]
    }
   ],
   "source": [
    "import json \n",
    "traind=[]\n",
    "vald=[]\n",
    "dir = \"/content/drive/My Drive/iiit_ire/data/\"\n",
    "# Opening JSON file \n",
    "with open(dir+'FinNum_training_v3.json',) as f: \n",
    "  traind = json.load(f) \n",
    "with open(dir+'FinNum_dev_v3.json',) as f: \n",
    "  vald = json.load(f) \n",
    "\n",
    "train = pd.DataFrame(traind) \n",
    "val = pd.DataFrame(vald) \n",
    "print(train.shape, val.shape)\n"
   ]
  },
  {
   "cell_type": "code",
   "execution_count": null,
   "metadata": {
    "id": "F47Y00aM9Ehu"
   },
   "outputs": [],
   "source": [
    "#cols = ['tweet', 'relation']\n",
    "#train = train[cols]\n",
    "#val = val[cols]"
   ]
  },
  {
   "cell_type": "code",
   "execution_count": null,
   "metadata": {
    "colab": {
     "base_uri": "https://localhost:8080/"
    },
    "id": "Pa31Mnm_9LOu",
    "outputId": "47977b6f-e459-40df-9e6c-ee7d3ec238bc"
   },
   "outputs": [
    {
     "name": "stdout",
     "output_type": "stream",
     "text": [
      "1    5827\n",
      "0    1360\n",
      "Name: relation, dtype: int64\n",
      "1    850\n",
      "0    194\n",
      "Name: relation, dtype: int64\n"
     ]
    }
   ],
   "source": [
    "print(train.relation.value_counts())\n",
    "print(val.relation.value_counts())"
   ]
  },
  {
   "cell_type": "code",
   "execution_count": null,
   "metadata": {
    "colab": {
     "base_uri": "https://localhost:8080/",
     "height": 202
    },
    "id": "Ph9biJ1D9OhI",
    "outputId": "99203dd8-8f56-4dd9-d334-27270167f360"
   },
   "outputs": [
    {
     "data": {
      "text/html": [
       "<div>\n",
       "<style scoped>\n",
       "    .dataframe tbody tr th:only-of-type {\n",
       "        vertical-align: middle;\n",
       "    }\n",
       "\n",
       "    .dataframe tbody tr th {\n",
       "        vertical-align: top;\n",
       "    }\n",
       "\n",
       "    .dataframe thead th {\n",
       "        text-align: right;\n",
       "    }\n",
       "</style>\n",
       "<table border=\"1\" class=\"dataframe\">\n",
       "  <thead>\n",
       "    <tr style=\"text-align: right;\">\n",
       "      <th></th>\n",
       "      <th>tweet</th>\n",
       "      <th>target_num</th>\n",
       "      <th>offset</th>\n",
       "      <th>target_cashtag</th>\n",
       "      <th>relation</th>\n",
       "    </tr>\n",
       "  </thead>\n",
       "  <tbody>\n",
       "    <tr>\n",
       "      <th>0</th>\n",
       "      <td>$XXII Scott Gottlieb, Commissioner of FDA spee...</td>\n",
       "      <td>3</td>\n",
       "      <td>74</td>\n",
       "      <td>XXII</td>\n",
       "      <td>1</td>\n",
       "    </tr>\n",
       "    <tr>\n",
       "      <th>1</th>\n",
       "      <td>$TSLA Maybe they calculate that 7ct energy pri...</td>\n",
       "      <td>7</td>\n",
       "      <td>32</td>\n",
       "      <td>TSLA</td>\n",
       "      <td>1</td>\n",
       "    </tr>\n",
       "    <tr>\n",
       "      <th>2</th>\n",
       "      <td>$RAD about 9 million more shares than the 90 d...</td>\n",
       "      <td>9</td>\n",
       "      <td>11</td>\n",
       "      <td>RAD</td>\n",
       "      <td>1</td>\n",
       "    </tr>\n",
       "    <tr>\n",
       "      <th>3</th>\n",
       "      <td>$DPW that was quite a roller coaster. Glad it ...</td>\n",
       "      <td>5</td>\n",
       "      <td>69</td>\n",
       "      <td>DPW</td>\n",
       "      <td>1</td>\n",
       "    </tr>\n",
       "    <tr>\n",
       "      <th>4</th>\n",
       "      <td>$GILD Good thing the market sets new record hi...</td>\n",
       "      <td>10</td>\n",
       "      <td>88</td>\n",
       "      <td>GILD</td>\n",
       "      <td>1</td>\n",
       "    </tr>\n",
       "  </tbody>\n",
       "</table>\n",
       "</div>"
      ],
      "text/plain": [
       "                                               tweet  ... relation\n",
       "0  $XXII Scott Gottlieb, Commissioner of FDA spee...  ...        1\n",
       "1  $TSLA Maybe they calculate that 7ct energy pri...  ...        1\n",
       "2  $RAD about 9 million more shares than the 90 d...  ...        1\n",
       "3  $DPW that was quite a roller coaster. Glad it ...  ...        1\n",
       "4  $GILD Good thing the market sets new record hi...  ...        1\n",
       "\n",
       "[5 rows x 5 columns]"
      ]
     },
     "execution_count": 12,
     "metadata": {
      "tags": []
     },
     "output_type": "execute_result"
    }
   ],
   "source": [
    "train.head()"
   ]
  },
  {
   "cell_type": "code",
   "execution_count": null,
   "metadata": {
    "colab": {
     "base_uri": "https://localhost:8080/",
     "height": 351
    },
    "id": "hPry2ixQA7f4",
    "outputId": "aae3a7f8-8e39-4a03-9324-777c4609ef11"
   },
   "outputs": [
    {
     "name": "stderr",
     "output_type": "stream",
     "text": [
      "/usr/local/lib/python3.6/dist-packages/seaborn/distributions.py:2551: FutureWarning: `distplot` is a deprecated function and will be removed in a future version. Please adapt your code to use either `displot` (a figure-level function with similar flexibility) or `histplot` (an axes-level function for histograms).\n",
      "  warnings.warn(msg, FutureWarning)\n"
     ]
    },
    {
     "data": {
      "image/png": "[encoded data removed]",
      "text/plain": [
       "<Figure size 432x288 with 1 Axes>"
      ]
     },
     "metadata": {
      "needs_background": "light",
      "tags": []
     },
     "output_type": "display_data"
    }
   ],
   "source": [
    "train['tweet_len'] = train.tweet.apply(lambda words: len(words.split(\" \")))\n",
    "max_seq_len = np.round(train.tweet_len.mean() + 2*train.tweet_len.std()).astype(int)\n",
    "\n",
    "sns.distplot(train.tweet_len, hist=True, kde=True, color='b', label='tweets size len')\n",
    "plt.axvline(x=max_seq_len, color='k', linestyle='--', label='max len')\n",
    "plt.title('comment length'); plt.legend()\n",
    "plt.show()"
   ]
  },
  {
   "cell_type": "code",
   "execution_count": null,
   "metadata": {
    "colab": {
     "base_uri": "https://localhost:8080/"
    },
    "id": "1AfVsZ_m9tp9",
    "outputId": "a72262f6-0f69-4bec-b848-ffa96127cd96"
   },
   "outputs": [
    {
     "name": "stderr",
     "output_type": "stream",
     "text": [
      "100%|██████████| 7187/7187 [00:01<00:00, 3979.69it/s]\n",
      "100%|██████████| 1044/1044 [00:00<00:00, 4538.63it/s]\n"
     ]
    },
    {
     "name": "stdout",
     "output_type": "stream",
     "text": [
      "Tokenizing: \n",
      "dictionary size:  12136\n"
     ]
    }
   ],
   "source": [
    "label_dict = {}\n",
    "for index, possible_label in enumerate(train.relation.unique()):\n",
    "    label_dict[possible_label] = index\n",
    "\n",
    "l_train = train.tweet.tolist()\n",
    "l_test = val.tweet.tolist()\n",
    "num_classes = len(label_dict)\n",
    "\n",
    "\n",
    "clean_train = []\n",
    "for doc in tqdm(l_train):\n",
    "  tokens = word_tokenize(doc)\n",
    "  filtered = [word for word in tokens if word not in stop_words]\n",
    "  clean_train.append(\" \".join(filtered))\n",
    "\n",
    "\n",
    "clean_test = []\n",
    "for doc in tqdm(l_test):\n",
    "  tokens = word_tokenize(doc)\n",
    "  filtered = [word for word in tokens if word not in stop_words]\n",
    "  clean_test.append(\" \".join(filtered))\n",
    "\n",
    "print(\"Tokenizing: \")\n",
    "tokenizer = Tokenizer(num_words=MAX_NB_WORDS, lower=True, char_level=False)\n",
    "tokenizer.fit_on_texts(clean_train + clean_test)  \n",
    "word_seq_train = tokenizer.texts_to_sequences(clean_train)\n",
    "word_seq_test = tokenizer.texts_to_sequences(clean_test)\n",
    "word_index = tokenizer.word_index\n",
    "print(\"dictionary size: \", len(word_index))\n",
    "\n",
    "word_seq_train = sequence.pad_sequences(word_seq_train, maxlen=max_seq_len)\n",
    "word_seq_test = sequence.pad_sequences(word_seq_test, maxlen=max_seq_len)"
   ]
  },
  {
   "cell_type": "code",
   "execution_count": null,
   "metadata": {
    "colab": {
     "base_uri": "https://localhost:8080/"
    },
    "id": "SCzC2wDyF6_k",
    "outputId": "dde373b4-9d2a-4c70-cc03-6e66eb2ace38"
   },
   "outputs": [
    {
     "data": {
      "text/plain": [
       "array([   0,    0,    0,    0,    0,    0,    0,    0,    0,    0,    0,\n",
       "          0,    0,    0,    0,    0, 8249,  157,  309,  234,  191,    9,\n",
       "          7, 1350,   54,   46,    1,   11,  358,   14, 2245], dtype=int32)"
      ]
     },
     "execution_count": 15,
     "metadata": {
      "tags": []
     },
     "output_type": "execute_result"
    }
   ],
   "source": [
    "word_seq_train[10]"
   ]
  },
  {
   "cell_type": "code",
   "execution_count": null,
   "metadata": {
    "id": "Pqp3_jxLDuQd"
   },
   "outputs": [],
   "source": [
    "\n",
    "#model parameters\n",
    "num_filters = 64 \n",
    "embed_dim = 300 \n",
    "weight_decay = 1e-4"
   ]
  },
  {
   "cell_type": "code",
   "execution_count": null,
   "metadata": {
    "id": "Iv1_Yw15FpUh"
   },
   "outputs": [],
   "source": [
    "def get_embedding(word):\n",
    "    try:\n",
    "        embedding=model[word]\n",
    "    except:\n",
    "        embedding=np.zeros((embed_dim,))\n",
    "    return embedding"
   ]
  },
  {
   "cell_type": "code",
   "execution_count": null,
   "metadata": {
    "colab": {
     "base_uri": "https://localhost:8080/"
    },
    "id": "D4WY-6neGZii",
    "outputId": "0c458ced-165f-4f03-fbc7-74d0fd72e633"
   },
   "outputs": [
    {
     "name": "stdout",
     "output_type": "stream",
     "text": [
      "preparing embedding matrix...\n"
     ]
    },
    {
     "name": "stderr",
     "output_type": "stream",
     "text": [
      "/usr/local/lib/python3.6/dist-packages/ipykernel_launcher.py:3: DeprecationWarning: Call to deprecated `__getitem__` (Method will be removed in 4.0.0, use self.wv.__getitem__() instead).\n",
      "  This is separate from the ipykernel package so we can avoid doing imports until\n"
     ]
    },
    {
     "name": "stdout",
     "output_type": "stream",
     "text": [
      "number of null word embeddings: 5582\n"
     ]
    }
   ],
   "source": [
    "#embedding matrix\n",
    "\n",
    "print('preparing embedding matrix...')\n",
    "\n",
    "words_not_found = []\n",
    "nb_words = min(MAX_NB_WORDS, len(word_index)+1)\n",
    "embedding_matrix = np.zeros((nb_words, embed_dim))\n",
    "\n",
    "for word, i in word_index.items():\n",
    "    if i >= nb_words:\n",
    "        continue\n",
    "    embedding_vector = get_embedding(word)\n",
    "    if (embedding_vector is not None) and len(embedding_vector) > 0:\n",
    "        # words not found in embedding index will be all-zeros.\n",
    "        embedding_matrix[i] = embedding_vector\n",
    "        if np.sum(embedding_vector) == 0:\n",
    "          words_not_found.append(word)\n",
    "print('number of null word embeddings: %d' % np.sum(np.sum(embedding_matrix, axis=1) == 0))"
   ]
  },
  {
   "cell_type": "code",
   "execution_count": null,
   "metadata": {
    "colab": {
     "base_uri": "https://localhost:8080/"
    },
    "id": "tKi8vtOKGs7w",
    "outputId": "9635daaa-2851-4235-ab5b-f1fbcf3457bc"
   },
   "outputs": [
    {
     "name": "stdout",
     "output_type": "stream",
     "text": [
      "['of', 'will', 'investoralmanac', 'u', 'to', 'gdxj', 'lol', 'er', 'on', \"'ll\", 'friday', 'vs', 'now', 'jd', 'hmny', 'just', 'roku', 'b', 'monday', 'trxc', 'uvxy', 'bzun', 'nugt', 'drys', 'my', 'no', '09', 'tlt', 'dcix', 'you', 'for', 'up', '08', 'but', 'uup', 'nflx', 'e', 'wti', 'that', 'slv', 'at', 'what', 'is', 'xlf', 'ibb', 'wstl', 'r', '05', 'q3', 'not']\n"
     ]
    }
   ],
   "source": [
    "print(words_not_found[50:100])"
   ]
  },
  {
   "cell_type": "code",
   "execution_count": null,
   "metadata": {
    "id": "dmahh384KZhQ"
   },
   "outputs": [],
   "source": [
    "import keras\n",
    "from keras import optimizers\n",
    "from keras import backend as K\n",
    "from keras import regularizers\n",
    "from keras.models import Sequential\n",
    "from keras.layers import Dense, Activation, Dropout, Flatten\n",
    "from tensorflow.keras.layers import Embedding, LSTM, Dense, Dropout, Bidirectional"
   ]
  },
  {
   "cell_type": "code",
   "execution_count": null,
   "metadata": {
    "id": "Otek0U9AOtvc"
   },
   "outputs": [],
   "source": [
    "# avoid model to overwrite\n",
    "keras.backend.clear_session()"
   ]
  },
  {
   "cell_type": "code",
   "execution_count": null,
   "metadata": {
    "colab": {
     "base_uri": "https://localhost:8080/"
    },
    "id": "k18dZ2bbKAwm",
    "outputId": "2e6a3127-c73d-4ab7-f4a3-8fc5934cd609"
   },
   "outputs": [
    {
     "name": "stdout",
     "output_type": "stream",
     "text": [
      "Model: \"sequential\"\n",
      "_________________________________________________________________\n",
      "Layer (type)                 Output Shape              Param #   \n",
      "=================================================================\n",
      "embedding (Embedding)        (None, 31, 300)           3641100   \n",
      "_________________________________________________________________\n",
      "bidirectional (Bidirectional (None, 31, 512)           1140736   \n",
      "_________________________________________________________________\n",
      "dropout (Dropout)            (None, 31, 512)           0         \n",
      "_________________________________________________________________\n",
      "bidirectional_1 (Bidirection (None, 31, 512)           1574912   \n",
      "_________________________________________________________________\n",
      "dropout_1 (Dropout)          (None, 31, 512)           0         \n",
      "_________________________________________________________________\n",
      "bidirectional_2 (Bidirection (None, 512)               1574912   \n",
      "_________________________________________________________________\n",
      "dense (Dense)                (None, 1024)              525312    \n",
      "_________________________________________________________________\n",
      "dense_1 (Dense)              (None, 64)                65600     \n",
      "_________________________________________________________________\n",
      "dense_2 (Dense)              (None, 1)                 65        \n",
      "=================================================================\n",
      "Total params: 8,522,637\n",
      "Trainable params: 4,881,537\n",
      "Non-trainable params: 3,641,100\n",
      "_________________________________________________________________\n"
     ]
    }
   ],
   "source": [
    "from keras.layers import BatchNormalization\n",
    "import tensorflow as tf\n",
    "\n",
    "model = tf.keras.Sequential()\n",
    "\n",
    "model.add(Embedding(nb_words,embed_dim,input_length=max_seq_len, weights=[embedding_matrix],trainable=False))\n",
    "model.add(Bidirectional(LSTM(256,return_sequences= True)))\n",
    "model.add(Dropout(0.4))\n",
    "model.add(Bidirectional(LSTM(256,return_sequences= True)))\n",
    "model.add(Dropout(0.3))\n",
    "model.add(Bidirectional(LSTM(256)))\n",
    "model.add(Dense(1024,activation='relu'))\n",
    "model.add(Dense(64,activation='relu'))\n",
    "model.add(Dense(1,activation='sigmoid'))\n",
    "model.summary()"
   ]
  },
  {
   "cell_type": "code",
   "execution_count": null,
   "metadata": {
    "id": "OkMGerayKSPP"
   },
   "outputs": [],
   "source": [
    "from keras.optimizers import RMSprop\n",
    "from keras.callbacks import ModelCheckpoint\n",
    "from tensorflow.keras.callbacks import EarlyStopping\n",
    "from tensorflow.keras.optimizers import Adam\n",
    "\n",
    "model.compile(loss='binary_crossentropy', optimizer=Adam(lr=.0002), metrics=['accuracy'])"
   ]
  },
  {
   "cell_type": "code",
   "execution_count": null,
   "metadata": {
    "colab": {
     "base_uri": "https://localhost:8080/"
    },
    "id": "eIhET-vOYtcq",
    "outputId": "692dde2b-232a-4291-a949-3477ee4ccb9a"
   },
   "outputs": [
    {
     "name": "stdout",
     "output_type": "stream",
     "text": [
      "/content/drive/My Drive/iiit_ire/word2vec_fasttext\n"
     ]
    }
   ],
   "source": [
    "!pwd"
   ]
  },
  {
   "cell_type": "code",
   "execution_count": null,
   "metadata": {
    "id": "u8Vq-UGgYmQT"
   },
   "outputs": [],
   "source": [
    "checkpoint = ModelCheckpoint('fasttext_sent_weights.best.hdf5',\n",
    "                             verbose=1,\n",
    "                             save_weights_only=True,\n",
    "                             monitor = 'val_accuracy',\n",
    "                             mode='max',\n",
    "                             save_best_only=True)"
   ]
  },
  {
   "cell_type": "code",
   "execution_count": null,
   "metadata": {
    "colab": {
     "base_uri": "https://localhost:8080/"
    },
    "id": "OFuryH4ZKypq",
    "outputId": "60300133-f7a2-4008-f114-bab0051f53d5"
   },
   "outputs": [
    {
     "name": "stdout",
     "output_type": "stream",
     "text": [
      "Epoch 1/30\n",
      "113/113 [==============================] - ETA: 0s - loss: 0.4696 - accuracy: 0.8109\n",
      "Epoch 00001: val_accuracy improved from -inf to 0.83333, saving model to fasttext_sent_weights.best.hdf5\n",
      "113/113 [==============================] - 6s 54ms/step - loss: 0.4696 - accuracy: 0.8109 - val_loss: 0.3906 - val_accuracy: 0.8333\n",
      "Epoch 2/30\n",
      "111/113 [============================>.] - ETA: 0s - loss: 0.3965 - accuracy: 0.8359\n",
      "Epoch 00002: val_accuracy improved from 0.83333 to 0.84100, saving model to fasttext_sent_weights.best.hdf5\n",
      "113/113 [==============================] - 4s 31ms/step - loss: 0.3960 - accuracy: 0.8358 - val_loss: 0.3842 - val_accuracy: 0.8410\n",
      "Epoch 3/30\n",
      "111/113 [============================>.] - ETA: 0s - loss: 0.3697 - accuracy: 0.8511\n",
      "Epoch 00003: val_accuracy improved from 0.84100 to 0.84962, saving model to fasttext_sent_weights.best.hdf5\n",
      "113/113 [==============================] - 4s 31ms/step - loss: 0.3691 - accuracy: 0.8513 - val_loss: 0.3698 - val_accuracy: 0.8496\n",
      "Epoch 4/30\n",
      "111/113 [============================>.] - ETA: 0s - loss: 0.3513 - accuracy: 0.8611\n",
      "Epoch 00004: val_accuracy did not improve from 0.84962\n",
      "113/113 [==============================] - 3s 30ms/step - loss: 0.3518 - accuracy: 0.8610 - val_loss: 0.3729 - val_accuracy: 0.8448\n",
      "Epoch 5/30\n",
      "111/113 [============================>.] - ETA: 0s - loss: 0.3357 - accuracy: 0.8699\n",
      "Epoch 00005: val_accuracy improved from 0.84962 to 0.85345, saving model to fasttext_sent_weights.best.hdf5\n",
      "113/113 [==============================] - 4s 31ms/step - loss: 0.3364 - accuracy: 0.8696 - val_loss: 0.3875 - val_accuracy: 0.8534\n",
      "Epoch 6/30\n",
      "111/113 [============================>.] - ETA: 0s - loss: 0.3244 - accuracy: 0.8740\n",
      "Epoch 00006: val_accuracy did not improve from 0.85345\n",
      "113/113 [==============================] - 3s 30ms/step - loss: 0.3261 - accuracy: 0.8732 - val_loss: 0.3843 - val_accuracy: 0.8429\n",
      "Epoch 7/30\n",
      "111/113 [============================>.] - ETA: 0s - loss: 0.3039 - accuracy: 0.8811\n",
      "Epoch 00007: val_accuracy did not improve from 0.85345\n",
      "113/113 [==============================] - 3s 30ms/step - loss: 0.3038 - accuracy: 0.8808 - val_loss: 0.3982 - val_accuracy: 0.8448\n",
      "Epoch 8/30\n",
      "111/113 [============================>.] - ETA: 0s - loss: 0.2922 - accuracy: 0.8825\n",
      "Epoch 00008: val_accuracy did not improve from 0.85345\n",
      "113/113 [==============================] - 3s 30ms/step - loss: 0.2917 - accuracy: 0.8827 - val_loss: 0.3749 - val_accuracy: 0.8525\n",
      "Epoch 9/30\n",
      "111/113 [============================>.] - ETA: 0s - loss: 0.2780 - accuracy: 0.8909\n",
      "Epoch 00009: val_accuracy did not improve from 0.85345\n",
      "113/113 [==============================] - 3s 30ms/step - loss: 0.2787 - accuracy: 0.8905 - val_loss: 0.4086 - val_accuracy: 0.8506\n",
      "Epoch 10/30\n",
      "111/113 [============================>.] - ETA: 0s - loss: 0.2653 - accuracy: 0.8950\n",
      "Epoch 00010: val_accuracy did not improve from 0.85345\n",
      "113/113 [==============================] - 3s 30ms/step - loss: 0.2648 - accuracy: 0.8955 - val_loss: 0.3764 - val_accuracy: 0.8506\n",
      "Epoch 11/30\n",
      "111/113 [============================>.] - ETA: 0s - loss: 0.2558 - accuracy: 0.8999\n",
      "Epoch 00011: val_accuracy did not improve from 0.85345\n",
      "113/113 [==============================] - 3s 30ms/step - loss: 0.2553 - accuracy: 0.9004 - val_loss: 0.4297 - val_accuracy: 0.8448\n",
      "Epoch 12/30\n",
      "113/113 [==============================] - ETA: 0s - loss: 0.2373 - accuracy: 0.9097\n",
      "Epoch 00012: val_accuracy did not improve from 0.85345\n",
      "113/113 [==============================] - 3s 30ms/step - loss: 0.2373 - accuracy: 0.9097 - val_loss: 0.5023 - val_accuracy: 0.8170\n",
      "Epoch 13/30\n",
      "111/113 [============================>.] - ETA: 0s - loss: 0.2369 - accuracy: 0.9116\n",
      "Epoch 00013: val_accuracy did not improve from 0.85345\n",
      "113/113 [==============================] - 3s 30ms/step - loss: 0.2377 - accuracy: 0.9114 - val_loss: 0.4470 - val_accuracy: 0.8352\n",
      "Epoch 14/30\n",
      "111/113 [============================>.] - ETA: 0s - loss: 0.2279 - accuracy: 0.9129\n",
      "Epoch 00014: val_accuracy did not improve from 0.85345\n",
      "113/113 [==============================] - 3s 30ms/step - loss: 0.2284 - accuracy: 0.9129 - val_loss: 0.4215 - val_accuracy: 0.8420\n",
      "Epoch 15/30\n",
      "111/113 [============================>.] - ETA: 0s - loss: 0.2187 - accuracy: 0.9179\n",
      "Epoch 00015: val_accuracy did not improve from 0.85345\n",
      "113/113 [==============================] - 3s 30ms/step - loss: 0.2190 - accuracy: 0.9180 - val_loss: 0.4263 - val_accuracy: 0.8525\n"
     ]
    }
   ],
   "source": [
    "es_callback = EarlyStopping(monitor='val_accuracy', patience=10, mode=\"max\")\n",
    "#training params\n",
    "batch_size = 64 \n",
    "num_epochs = 30\n",
    "\n",
    "history = model.fit(word_seq_train, train.relation.values, batch_size=batch_size,\n",
    "          epochs=num_epochs, validation_data=(word_seq_test, val.relation.values), \n",
    "          callbacks=[es_callback, checkpoint])#, steps_per_epoch=train.shape[0] // batch_size,\n",
    "          # shuffle=False)"
   ]
  },
  {
   "cell_type": "code",
   "execution_count": null,
   "metadata": {
    "colab": {
     "base_uri": "https://localhost:8080/",
     "height": 295
    },
    "id": "50AkTs_3MCCN",
    "outputId": "7920274e-a2e6-4056-be8b-684c3c9791cb"
   },
   "outputs": [
    {
     "data": {
      "image/png": "[encoded data removed]",
      "text/plain": [
       "<Figure size 432x288 with 1 Axes>"
      ]
     },
     "metadata": {
      "needs_background": "light",
      "tags": []
     },
     "output_type": "display_data"
    }
   ],
   "source": [
    "#generate plots\n",
    "plt.figure()\n",
    "plt.plot(history.history['loss'], lw=2.0, color='b', label='train')\n",
    "plt.plot(history.history['val_loss'], lw=2.0, color='r', label='val')\n",
    "plt.title('Loss')\n",
    "plt.xlabel('Epochs')\n",
    "plt.ylabel('Cross-Entropy Loss')\n",
    "plt.legend(loc='upper right')\n",
    "plt.show()"
   ]
  },
  {
   "cell_type": "code",
   "execution_count": null,
   "metadata": {
    "colab": {
     "base_uri": "https://localhost:8080/",
     "height": 295
    },
    "id": "HrnldxkeOSuI",
    "outputId": "202afeb9-33c6-48fc-aab9-9e9a7235f31d"
   },
   "outputs": [
    {
     "data": {
      "image/png": "[encoded data removed]",
      "text/plain": [
       "<Figure size 432x288 with 1 Axes>"
      ]
     },
     "metadata": {
      "needs_background": "light",
      "tags": []
     },
     "output_type": "display_data"
    }
   ],
   "source": [
    "plt.figure()\n",
    "plt.plot(history.history['accuracy'], lw=2.0, color='b', label='train')\n",
    "plt.plot(history.history['val_accuracy'], lw=2.0, color='r', label='val')\n",
    "plt.title('Accuracy')\n",
    "plt.xlabel('Epochs')\n",
    "plt.ylabel('Accuracy')\n",
    "plt.legend(loc='upper left')\n",
    "plt.show()"
   ]
  },
  {
   "cell_type": "code",
   "execution_count": null,
   "metadata": {
    "id": "VYerrU8CZ0sb"
   },
   "outputs": [],
   "source": [
    "\n",
    "model.load_weights('fasttext_sent_weights.best.hdf5')"
   ]
  },
  {
   "cell_type": "code",
   "execution_count": null,
   "metadata": {
    "id": "lRwp0-QfOrQj"
   },
   "outputs": [],
   "source": [
    "predictions = model.predict_classes(word_seq_test)"
   ]
  },
  {
   "cell_type": "code",
   "execution_count": null,
   "metadata": {
    "colab": {
     "base_uri": "https://localhost:8080/"
    },
    "id": "MHxUX6QHZtOB",
    "outputId": "aeedefcf-788a-48a0-cb55-c44c5bbeef49"
   },
   "outputs": [
    {
     "data": {
      "text/plain": [
       "array([1, 1, 1, 1, 1, 1, 1, 1, 1, 1], dtype=int32)"
      ]
     },
     "execution_count": 36,
     "metadata": {
      "tags": []
     },
     "output_type": "execute_result"
    }
   ],
   "source": [
    "predictions[:10].ravel()"
   ]
  },
  {
   "cell_type": "code",
   "execution_count": null,
   "metadata": {
    "colab": {
     "base_uri": "https://localhost:8080/"
    },
    "id": "4UG7O8zhZvuW",
    "outputId": "840ecb8b-34ce-4ad6-c88a-d3d3f07e8d79"
   },
   "outputs": [
    {
     "data": {
      "text/plain": [
       "array([1, 1, 1, 1, 1, 1, 1, 1, 1, 1])"
      ]
     },
     "execution_count": 37,
     "metadata": {
      "tags": []
     },
     "output_type": "execute_result"
    }
   ],
   "source": [
    "np.array(train.relation.values[:10])"
   ]
  },
  {
   "cell_type": "code",
   "execution_count": null,
   "metadata": {
    "colab": {
     "base_uri": "https://localhost:8080/"
    },
    "id": "-6TUcjrmY-Ir",
    "outputId": "d0c30db7-8b95-4686-f6bf-97ef1c280ff6"
   },
   "outputs": [
    {
     "name": "stdout",
     "output_type": "stream",
     "text": [
      "/content/drive/My Drive/iiit_ire/word2vec_fasttext\n"
     ]
    }
   ],
   "source": [
    "!pwd"
   ]
  },
  {
   "cell_type": "code",
   "execution_count": null,
   "metadata": {
    "id": "Flup8EdQYyyZ"
   },
   "outputs": [],
   "source": [
    "#val['pred'] = predictions.ravel()\n",
    "#val.to_csv(\"fin_FastText_finetune_classification.csv\")"
   ]
  },
  {
   "cell_type": "code",
   "execution_count": null,
   "metadata": {
    "colab": {
     "base_uri": "https://localhost:8080/"
    },
    "id": "BjS4jJjpa7kp",
    "outputId": "0be5953b-ee10-47fb-bbdd-aa0f9a0cde05"
   },
   "outputs": [
    {
     "name": "stdout",
     "output_type": "stream",
     "text": [
      "[[ 49 145]\n",
      " [  8 842]]\n",
      "              precision    recall  f1-score   support\n",
      "\n",
      "           0       0.86      0.25      0.39       194\n",
      "           1       0.85      0.99      0.92       850\n",
      "\n",
      "    accuracy                           0.85      1044\n",
      "   macro avg       0.86      0.62      0.65      1044\n",
      "weighted avg       0.85      0.85      0.82      1044\n",
      "\n"
     ]
    }
   ],
   "source": [
    "from sklearn.metrics import confusion_matrix\n",
    "from sklearn.metrics import classification_report\n",
    "print(confusion_matrix(np.array(val.relation.values), predictions.ravel(), labels=[0,1]))\n",
    "print(classification_report(np.array(val.relation.values), predictions.ravel()))"
   ]
  },
  {
   "cell_type": "code",
   "execution_count": null,
   "metadata": {
    "colab": {
     "base_uri": "https://localhost:8080/"
    },
    "id": "VLDr3GvXWlFK",
    "outputId": "2359c798-9072-4b78-f83c-b9973daee2c1"
   },
   "outputs": [
    {
     "name": "stdout",
     "output_type": "stream",
     "text": [
      "[[ 460  900]\n",
      " [  74 5753]]\n",
      "              precision    recall  f1-score   support\n",
      "\n",
      "           0       0.86      0.34      0.49      1360\n",
      "           1       0.86      0.99      0.92      5827\n",
      "\n",
      "    accuracy                           0.86      7187\n",
      "   macro avg       0.86      0.66      0.70      7187\n",
      "weighted avg       0.86      0.86      0.84      7187\n",
      "\n"
     ]
    }
   ],
   "source": [
    "predictions = model.predict_classes(word_seq_train)\n",
    "print(confusion_matrix(np.array(train.relation.values), predictions.ravel(), labels=[0,1]))\n",
    "print(classification_report(np.array(train.relation.values), predictions.ravel()))"
   ]
  },
  {
   "cell_type": "code",
   "execution_count": null,
   "metadata": {
    "id": "7YtpaqNDcM9j"
   },
   "outputs": [],
   "source": []
  }
 ],
 "metadata": {
  "accelerator": "GPU",
  "colab": {
   "collapsed_sections": [],
   "name": "fin_FastText_finetune.ipynb",
   "provenance": []
  },
  "kernelspec": {
   "display_name": "Python 3",
   "language": "python",
   "name": "python3"
  },
  "language_info": {
   "codemirror_mode": {
    "name": "ipython",
    "version": 3
   },
   "file_extension": ".py",
   "mimetype": "text/x-python",
   "name": "python",
   "nbconvert_exporter": "python",
   "pygments_lexer": "ipython3",
   "version": "3.8.3"
  }
 },
 "nbformat": 4,
 "nbformat_minor": 1
}
