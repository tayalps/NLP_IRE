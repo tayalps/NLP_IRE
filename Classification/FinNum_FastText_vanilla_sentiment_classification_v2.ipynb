{
 "cells": [
  {
   "cell_type": "code",
   "execution_count": 1,
   "metadata": {
    "colab": {
     "base_uri": "https://localhost:8080/"
    },
    "id": "v6uGjdgV7fCe",
    "outputId": "79ad557f-7206-4e33-b3a9-89e8ed474100"
   },
   "outputs": [
    {
     "name": "stdout",
     "output_type": "stream",
     "text": [
      "Mounted at /content/drive\n"
     ]
    }
   ],
   "source": [
    "#mount the drive\n",
    "from google.colab import drive\n",
    "drive.mount('/content/drive', force_remount=True)"
   ]
  },
  {
   "cell_type": "code",
   "execution_count": 2,
   "metadata": {
    "id": "W_QIxD3R68bz"
   },
   "outputs": [],
   "source": [
    "import gensim\n",
    "from tqdm import tqdm\n",
    "import os\n",
    "from gensim.models.fasttext import FastText"
   ]
  },
  {
   "cell_type": "code",
   "execution_count": 3,
   "metadata": {
    "id": "NAqYXr7FA0g8"
   },
   "outputs": [],
   "source": [
    "# For array, dataset, and visualizing\n",
    "import numpy as np\n",
    "import pandas as pd\n",
    "import seaborn as sns\n",
    "import matplotlib.pyplot as plt"
   ]
  },
  {
   "cell_type": "code",
   "execution_count": 4,
   "metadata": {
    "colab": {
     "base_uri": "https://localhost:8080/"
    },
    "id": "oFt1hjeWCoW6",
    "outputId": "9d8010f1-465f-4609-b245-52efb22d47e5"
   },
   "outputs": [
    {
     "name": "stdout",
     "output_type": "stream",
     "text": [
      "[nltk_data] Downloading package stopwords to /root/nltk_data...\n",
      "[nltk_data]   Unzipping corpora/stopwords.zip.\n",
      "[nltk_data] Downloading package punkt to /root/nltk_data...\n",
      "[nltk_data]   Unzipping tokenizers/punkt.zip.\n"
     ]
    }
   ],
   "source": [
    "#For Pre-Processing\n",
    "from tqdm import tqdm\n",
    "import nltk\n",
    "from nltk.corpus import stopwords\n",
    "nltk.download('stopwords')\n",
    "nltk.download('punkt')\n",
    "from nltk.tokenize import RegexpTokenizer \n",
    "from nltk.tokenize import word_tokenize"
   ]
  },
  {
   "cell_type": "code",
   "execution_count": 5,
   "metadata": {
    "id": "3M0vxqtwCYx5"
   },
   "outputs": [],
   "source": [
    "from keras.preprocessing.text import Tokenizer\n",
    "from keras.preprocessing import sequence\n",
    "MAX_NB_WORDS = 500000\n",
    "tokenizer = RegexpTokenizer(r'\\w+')\n",
    "stop_words = set(stopwords.words('english'))\n",
    "stop_words.update(['.', ',', '\"', \"'\", ':', ';', '(', ')', '[', ']', '{', '}'])"
   ]
  },
  {
   "cell_type": "code",
   "execution_count": 6,
   "metadata": {
    "colab": {
     "base_uri": "https://localhost:8080/"
    },
    "id": "4x7lf4c170Uh",
    "outputId": "bf92829d-ea65-4044-ade4-411faa6c1786"
   },
   "outputs": [
    {
     "name": "stdout",
     "output_type": "stream",
     "text": [
      "/content/drive/My Drive/iiit_ire/word2vec_fasttext\n"
     ]
    }
   ],
   "source": [
    "cd  \"/content/drive/My Drive/iiit_ire/word2vec_fasttext\""
   ]
  },
  {
   "cell_type": "code",
   "execution_count": 7,
   "metadata": {
    "colab": {
     "base_uri": "https://localhost:8080/"
    },
    "id": "8BYamGHe68cM",
    "outputId": "9b14d899-f25d-4703-db83-13e8cd4c4cd7"
   },
   "outputs": [
    {
     "name": "stdout",
     "output_type": "stream",
     "text": [
      "Cloning into 'fastText'...\n",
      "remote: Enumerating objects: 3854, done.\u001b[K\n",
      "remote: Total 3854 (delta 0), reused 0 (delta 0), pack-reused 3854\u001b[K\n",
      "Receiving objects: 100% (3854/3854), 8.23 MiB | 11.57 MiB/s, done.\n",
      "Resolving deltas: 100% (2416/2416), done.\n",
      "Checking out files: 100% (526/526), done.\n"
     ]
    }
   ],
   "source": [
    "!git clone https://github.com/facebookresearch/fastText.git"
   ]
  },
  {
   "cell_type": "code",
   "execution_count": 8,
   "metadata": {
    "colab": {
     "base_uri": "https://localhost:8080/"
    },
    "id": "VEx4W1mUaCt3",
    "outputId": "b40e7744-4ec7-4b68-e19c-a0f355f808ad"
   },
   "outputs": [
    {
     "name": "stdout",
     "output_type": "stream",
     "text": [
      "/content/drive/My Drive/iiit_ire/word2vec_fasttext/fastText\n"
     ]
    }
   ],
   "source": [
    "cd fastText"
   ]
  },
  {
   "cell_type": "code",
   "execution_count": 9,
   "metadata": {
    "colab": {
     "base_uri": "https://localhost:8080/"
    },
    "id": "vp_5zxZgaE3e",
    "outputId": "b9e3fac3-893f-4311-fe9b-eed8c2ecca10"
   },
   "outputs": [
    {
     "name": "stdout",
     "output_type": "stream",
     "text": [
      "Processing /content/drive/My Drive/iiit_ire/word2vec_fasttext/fastText\n",
      "Requirement already satisfied: pybind11>=2.2 in /usr/local/lib/python3.6/dist-packages (from fasttext==0.9.2) (2.6.1)\n",
      "Requirement already satisfied: setuptools>=0.7.0 in /usr/local/lib/python3.6/dist-packages (from fasttext==0.9.2) (50.3.2)\n",
      "Requirement already satisfied: numpy in /usr/local/lib/python3.6/dist-packages (from fasttext==0.9.2) (1.18.5)\n",
      "Building wheels for collected packages: fasttext\n",
      "  Building wheel for fasttext (setup.py) ... \u001b[?25l\u001b[?25hdone\n",
      "  Created wheel for fasttext: filename=fasttext-0.9.2-cp36-cp36m-linux_x86_64.whl size=3036521 sha256=2661b14ea233d463d08543362e9b23f2e1d1ec57b75ac642fd86987edd1b89ff\n",
      "  Stored in directory: /tmp/pip-ephem-wheel-cache-jykzxlsc/wheels/c3/71/39/353bce606e68b88140086c528e8cd0e5d22d99ce438cf266b0\n",
      "Successfully built fasttext\n",
      "Installing collected packages: fasttext\n",
      "Successfully installed fasttext-0.9.2\n"
     ]
    }
   ],
   "source": [
    "!pip install ."
   ]
  },
  {
   "cell_type": "code",
   "execution_count": 10,
   "metadata": {
    "colab": {
     "base_uri": "https://localhost:8080/"
    },
    "id": "cDvD56AjaHQa",
    "outputId": "ff1e528b-cce6-4b86-a8c9-8d22dbda0851"
   },
   "outputs": [
    {
     "name": "stdout",
     "output_type": "stream",
     "text": [
      "/content/drive/My Drive/iiit_ire/word2vec_fasttext/fastText\n"
     ]
    }
   ],
   "source": [
    "!pwd"
   ]
  },
  {
   "cell_type": "code",
   "execution_count": 11,
   "metadata": {
    "id": "DdKeNk0PaH8O"
   },
   "outputs": [],
   "source": [
    "import fasttext.util"
   ]
  },
  {
   "cell_type": "code",
   "execution_count": 12,
   "metadata": {
    "id": "YRkC1HycaLjf"
   },
   "outputs": [],
   "source": [
    "#import fasttext.util\n",
    "model = fasttext.load_model('../wiki.simple.bin')"
   ]
  },
  {
   "cell_type": "code",
   "execution_count": 13,
   "metadata": {
    "colab": {
     "base_uri": "https://localhost:8080/"
    },
    "id": "ILoV9y1n68dN",
    "outputId": "cd6f5c41-cc14-42a5-e294-d5ad93b330e6"
   },
   "outputs": [
    {
     "name": "stdout",
     "output_type": "stream",
     "text": [
      "(7187, 5) (1044, 5)\n"
     ]
    }
   ],
   "source": [
    "import json \n",
    "traind=[]\n",
    "vald=[]\n",
    "dir = \"/content/drive/My Drive/iiit_ire/data/\"\n",
    "# Opening JSON file \n",
    "with open(dir+'FinNum_training_v3.json',) as f: \n",
    "  traind = json.load(f) \n",
    "with open(dir+'FinNum_dev_v3.json',) as f: \n",
    "  vald = json.load(f) \n",
    "\n",
    "train = pd.DataFrame(traind) \n",
    "val = pd.DataFrame(vald) \n",
    "print(train.shape, val.shape)\n"
   ]
  },
  {
   "cell_type": "code",
   "execution_count": 14,
   "metadata": {
    "id": "F47Y00aM9Ehu"
   },
   "outputs": [],
   "source": [
    "#cols = ['tweet', 'relation']\n",
    "#train = train[cols]\n",
    "#val = val[cols]"
   ]
  },
  {
   "cell_type": "code",
   "execution_count": 15,
   "metadata": {
    "colab": {
     "base_uri": "https://localhost:8080/"
    },
    "id": "Pa31Mnm_9LOu",
    "outputId": "7a70656d-f650-4d65-9af7-e8caee93ba19"
   },
   "outputs": [
    {
     "name": "stdout",
     "output_type": "stream",
     "text": [
      "1    5827\n",
      "0    1360\n",
      "Name: relation, dtype: int64\n",
      "1    850\n",
      "0    194\n",
      "Name: relation, dtype: int64\n"
     ]
    }
   ],
   "source": [
    "print(train.relation.value_counts())\n",
    "print(val.relation.value_counts())"
   ]
  },
  {
   "cell_type": "code",
   "execution_count": 16,
   "metadata": {
    "colab": {
     "base_uri": "https://localhost:8080/",
     "height": 202
    },
    "id": "Ph9biJ1D9OhI",
    "outputId": "c67266e4-9a47-49a9-efd0-07c6d2280cc4"
   },
   "outputs": [
    {
     "data": {
      "text/html": [
       "<div>\n",
       "<style scoped>\n",
       "    .dataframe tbody tr th:only-of-type {\n",
       "        vertical-align: middle;\n",
       "    }\n",
       "\n",
       "    .dataframe tbody tr th {\n",
       "        vertical-align: top;\n",
       "    }\n",
       "\n",
       "    .dataframe thead th {\n",
       "        text-align: right;\n",
       "    }\n",
       "</style>\n",
       "<table border=\"1\" class=\"dataframe\">\n",
       "  <thead>\n",
       "    <tr style=\"text-align: right;\">\n",
       "      <th></th>\n",
       "      <th>tweet</th>\n",
       "      <th>target_num</th>\n",
       "      <th>offset</th>\n",
       "      <th>target_cashtag</th>\n",
       "      <th>relation</th>\n",
       "    </tr>\n",
       "  </thead>\n",
       "  <tbody>\n",
       "    <tr>\n",
       "      <th>0</th>\n",
       "      <td>$XXII Scott Gottlieb, Commissioner of FDA spee...</td>\n",
       "      <td>3</td>\n",
       "      <td>74</td>\n",
       "      <td>XXII</td>\n",
       "      <td>1</td>\n",
       "    </tr>\n",
       "    <tr>\n",
       "      <th>1</th>\n",
       "      <td>$TSLA Maybe they calculate that 7ct energy pri...</td>\n",
       "      <td>7</td>\n",
       "      <td>32</td>\n",
       "      <td>TSLA</td>\n",
       "      <td>1</td>\n",
       "    </tr>\n",
       "    <tr>\n",
       "      <th>2</th>\n",
       "      <td>$RAD about 9 million more shares than the 90 d...</td>\n",
       "      <td>9</td>\n",
       "      <td>11</td>\n",
       "      <td>RAD</td>\n",
       "      <td>1</td>\n",
       "    </tr>\n",
       "    <tr>\n",
       "      <th>3</th>\n",
       "      <td>$DPW that was quite a roller coaster. Glad it ...</td>\n",
       "      <td>5</td>\n",
       "      <td>69</td>\n",
       "      <td>DPW</td>\n",
       "      <td>1</td>\n",
       "    </tr>\n",
       "    <tr>\n",
       "      <th>4</th>\n",
       "      <td>$GILD Good thing the market sets new record hi...</td>\n",
       "      <td>10</td>\n",
       "      <td>88</td>\n",
       "      <td>GILD</td>\n",
       "      <td>1</td>\n",
       "    </tr>\n",
       "  </tbody>\n",
       "</table>\n",
       "</div>"
      ],
      "text/plain": [
       "                                               tweet  ... relation\n",
       "0  $XXII Scott Gottlieb, Commissioner of FDA spee...  ...        1\n",
       "1  $TSLA Maybe they calculate that 7ct energy pri...  ...        1\n",
       "2  $RAD about 9 million more shares than the 90 d...  ...        1\n",
       "3  $DPW that was quite a roller coaster. Glad it ...  ...        1\n",
       "4  $GILD Good thing the market sets new record hi...  ...        1\n",
       "\n",
       "[5 rows x 5 columns]"
      ]
     },
     "execution_count": 16,
     "metadata": {
      "tags": []
     },
     "output_type": "execute_result"
    }
   ],
   "source": [
    "train.head()"
   ]
  },
  {
   "cell_type": "code",
   "execution_count": 17,
   "metadata": {
    "colab": {
     "base_uri": "https://localhost:8080/",
     "height": 351
    },
    "id": "hPry2ixQA7f4",
    "outputId": "2a5ed3a6-6a37-4270-b10b-30c52178a817"
   },
   "outputs": [
    {
     "name": "stderr",
     "output_type": "stream",
     "text": [
      "/usr/local/lib/python3.6/dist-packages/seaborn/distributions.py:2551: FutureWarning: `distplot` is a deprecated function and will be removed in a future version. Please adapt your code to use either `displot` (a figure-level function with similar flexibility) or `histplot` (an axes-level function for histograms).\n",
      "  warnings.warn(msg, FutureWarning)\n"
     ]
    },
    {
     "data": {
      "image/png": "[encoded data removed]",
      "text/plain": [
       "<Figure size 432x288 with 1 Axes>"
      ]
     },
     "metadata": {
      "needs_background": "light",
      "tags": []
     },
     "output_type": "display_data"
    }
   ],
   "source": [
    "train['tweet_len'] = train.tweet.apply(lambda words: len(words.split(\" \")))\n",
    "max_seq_len = np.round(train.tweet_len.mean() + 2*train.tweet_len.std()).astype(int)\n",
    "\n",
    "sns.distplot(train.tweet_len, hist=True, kde=True, color='b', label='tweets size len')\n",
    "plt.axvline(x=max_seq_len, color='k', linestyle='--', label='max len')\n",
    "plt.title('comment length'); plt.legend()\n",
    "plt.show()"
   ]
  },
  {
   "cell_type": "code",
   "execution_count": 18,
   "metadata": {
    "colab": {
     "base_uri": "https://localhost:8080/"
    },
    "id": "1AfVsZ_m9tp9",
    "outputId": "f34a2adf-c402-47eb-f3c2-4576199f445a"
   },
   "outputs": [
    {
     "name": "stderr",
     "output_type": "stream",
     "text": [
      "100%|██████████| 7187/7187 [00:01<00:00, 3627.22it/s]\n",
      "100%|██████████| 1044/1044 [00:00<00:00, 3828.48it/s]\n"
     ]
    },
    {
     "name": "stdout",
     "output_type": "stream",
     "text": [
      "Tokenizing: \n",
      "dictionary size:  12136\n"
     ]
    }
   ],
   "source": [
    "label_dict = {}\n",
    "for index, possible_label in enumerate(train.relation.unique()):\n",
    "    label_dict[possible_label] = index\n",
    "\n",
    "l_train = train.tweet.tolist()\n",
    "l_test = val.tweet.tolist()\n",
    "num_classes = len(label_dict)\n",
    "\n",
    "\n",
    "clean_train = []\n",
    "for doc in tqdm(l_train):\n",
    "  tokens = word_tokenize(doc)\n",
    "  filtered = [word for word in tokens if word not in stop_words]\n",
    "  clean_train.append(\" \".join(filtered))\n",
    "\n",
    "\n",
    "clean_test = []\n",
    "for doc in tqdm(l_test):\n",
    "  tokens = word_tokenize(doc)\n",
    "  filtered = [word for word in tokens if word not in stop_words]\n",
    "  clean_test.append(\" \".join(filtered))\n",
    "\n",
    "print(\"Tokenizing: \")\n",
    "tokenizer = Tokenizer(num_words=MAX_NB_WORDS, lower=True, char_level=False)\n",
    "tokenizer.fit_on_texts(clean_train + clean_test)  \n",
    "word_seq_train = tokenizer.texts_to_sequences(clean_train)\n",
    "word_seq_test = tokenizer.texts_to_sequences(clean_test)\n",
    "word_index = tokenizer.word_index\n",
    "print(\"dictionary size: \", len(word_index))\n",
    "\n",
    "word_seq_train = sequence.pad_sequences(word_seq_train, maxlen=max_seq_len)\n",
    "word_seq_test = sequence.pad_sequences(word_seq_test, maxlen=max_seq_len)"
   ]
  },
  {
   "cell_type": "code",
   "execution_count": 19,
   "metadata": {
    "colab": {
     "base_uri": "https://localhost:8080/"
    },
    "id": "SCzC2wDyF6_k",
    "outputId": "13925ee6-b40e-47d9-ab6b-c295f0dcc964"
   },
   "outputs": [
    {
     "data": {
      "text/plain": [
       "array([   0,    0,    0,    0,    0,    0,    0,    0,    0,    0,    0,\n",
       "          0,    0,    0,    0,    0, 8249,  157,  309,  234,  191,    9,\n",
       "          7, 1350,   54,   46,    1,   11,  358,   14, 2245], dtype=int32)"
      ]
     },
     "execution_count": 19,
     "metadata": {
      "tags": []
     },
     "output_type": "execute_result"
    }
   ],
   "source": [
    "word_seq_train[10]"
   ]
  },
  {
   "cell_type": "code",
   "execution_count": 20,
   "metadata": {
    "id": "Pqp3_jxLDuQd"
   },
   "outputs": [],
   "source": [
    "\n",
    "#model parameters\n",
    "num_filters = 64 \n",
    "embed_dim = 300 \n",
    "weight_decay = 1e-4"
   ]
  },
  {
   "cell_type": "code",
   "execution_count": 21,
   "metadata": {
    "id": "Iv1_Yw15FpUh"
   },
   "outputs": [],
   "source": [
    "def get_embedding(word):\n",
    "    try:\n",
    "        embedding=model[word]\n",
    "    except:\n",
    "        embedding=np.zeros((embed_dim,))\n",
    "    return embedding"
   ]
  },
  {
   "cell_type": "code",
   "execution_count": 22,
   "metadata": {
    "colab": {
     "base_uri": "https://localhost:8080/"
    },
    "id": "D4WY-6neGZii",
    "outputId": "43821ee0-d67f-45ac-c823-545bf86606db"
   },
   "outputs": [
    {
     "name": "stdout",
     "output_type": "stream",
     "text": [
      "preparing embedding matrix...\n",
      "number of null word embeddings: 1\n"
     ]
    }
   ],
   "source": [
    "#embedding matrix\n",
    "\n",
    "print('preparing embedding matrix...')\n",
    "\n",
    "words_not_found = []\n",
    "nb_words = min(MAX_NB_WORDS, len(word_index)+1)\n",
    "embedding_matrix = np.zeros((nb_words, embed_dim))\n",
    "\n",
    "for word, i in word_index.items():\n",
    "    if i >= nb_words:\n",
    "        continue\n",
    "    embedding_vector = get_embedding(word)\n",
    "    if (embedding_vector is not None) and len(embedding_vector) > 0:\n",
    "        # words not found in embedding index will be all-zeros.\n",
    "        embedding_matrix[i] = embedding_vector\n",
    "        if np.sum(embedding_vector) == 0:\n",
    "          words_not_found.append(word)\n",
    "print('number of null word embeddings: %d' % np.sum(np.sum(embedding_matrix, axis=1) == 0))"
   ]
  },
  {
   "cell_type": "code",
   "execution_count": 23,
   "metadata": {
    "colab": {
     "base_uri": "https://localhost:8080/"
    },
    "id": "tKi8vtOKGs7w",
    "outputId": "0d792a4d-73a3-4467-f589-69132d52e983"
   },
   "outputs": [
    {
     "name": "stdout",
     "output_type": "stream",
     "text": [
      "[]\n"
     ]
    }
   ],
   "source": [
    "print(words_not_found[50:100])"
   ]
  },
  {
   "cell_type": "code",
   "execution_count": 24,
   "metadata": {
    "id": "dmahh384KZhQ"
   },
   "outputs": [],
   "source": [
    "import keras\n",
    "from keras import optimizers\n",
    "from keras import backend as K\n",
    "from keras import regularizers\n",
    "from keras.models import Sequential\n",
    "from keras.layers import Dense, Activation, Dropout, Flatten\n",
    "from tensorflow.keras.layers import Embedding, LSTM, Dense, Dropout, Bidirectional"
   ]
  },
  {
   "cell_type": "code",
   "execution_count": 74,
   "metadata": {
    "id": "Otek0U9AOtvc"
   },
   "outputs": [],
   "source": [
    "# avoid model to overwrite\n",
    "keras.backend.clear_session()"
   ]
  },
  {
   "cell_type": "code",
   "execution_count": 75,
   "metadata": {
    "colab": {
     "base_uri": "https://localhost:8080/"
    },
    "id": "k18dZ2bbKAwm",
    "outputId": "63455017-4276-41be-d394-1e69351d2978"
   },
   "outputs": [
    {
     "name": "stdout",
     "output_type": "stream",
     "text": [
      "Model: \"sequential\"\n",
      "_________________________________________________________________\n",
      "Layer (type)                 Output Shape              Param #   \n",
      "=================================================================\n",
      "embedding (Embedding)        (None, 31, 300)           3641100   \n",
      "_________________________________________________________________\n",
      "bidirectional (Bidirectional (None, 31, 512)           1140736   \n",
      "_________________________________________________________________\n",
      "dropout (Dropout)            (None, 31, 512)           0         \n",
      "_________________________________________________________________\n",
      "bidirectional_1 (Bidirection (None, 31, 512)           1574912   \n",
      "_________________________________________________________________\n",
      "dropout_1 (Dropout)          (None, 31, 512)           0         \n",
      "_________________________________________________________________\n",
      "bidirectional_2 (Bidirection (None, 512)               1574912   \n",
      "_________________________________________________________________\n",
      "dense (Dense)                (None, 1024)              525312    \n",
      "_________________________________________________________________\n",
      "dense_1 (Dense)              (None, 64)                65600     \n",
      "_________________________________________________________________\n",
      "dense_2 (Dense)              (None, 1)                 65        \n",
      "=================================================================\n",
      "Total params: 8,522,637\n",
      "Trainable params: 4,881,537\n",
      "Non-trainable params: 3,641,100\n",
      "_________________________________________________________________\n"
     ]
    }
   ],
   "source": [
    "from keras.layers import BatchNormalization\n",
    "import tensorflow as tf\n",
    "\n",
    "model = tf.keras.Sequential()\n",
    "\n",
    "model.add(Embedding(nb_words,embed_dim,input_length=max_seq_len, weights=[embedding_matrix],trainable=False))\n",
    "model.add(Bidirectional(LSTM(256,return_sequences= True)))\n",
    "model.add(Dropout(0.4))\n",
    "model.add(Bidirectional(LSTM(256,return_sequences= True)))\n",
    "model.add(Dropout(0.3))\n",
    "model.add(Bidirectional(LSTM(256)))\n",
    "model.add(Dense(1024,activation='relu'))\n",
    "model.add(Dense(64,activation='relu'))\n",
    "model.add(Dense(1,activation='sigmoid'))\n",
    "model.summary()"
   ]
  },
  {
   "cell_type": "code",
   "execution_count": 76,
   "metadata": {
    "id": "OkMGerayKSPP"
   },
   "outputs": [],
   "source": [
    "from keras.optimizers import RMSprop\n",
    "from keras.callbacks import ModelCheckpoint\n",
    "from tensorflow.keras.callbacks import EarlyStopping\n",
    "from tensorflow.keras.optimizers import Adam\n",
    "\n",
    "model.compile(loss='binary_crossentropy', optimizer=Adam(lr=.0002), metrics=['accuracy'])"
   ]
  },
  {
   "cell_type": "code",
   "execution_count": 77,
   "metadata": {
    "colab": {
     "base_uri": "https://localhost:8080/"
    },
    "id": "eIhET-vOYtcq",
    "outputId": "32500de6-ac67-4e9f-e8fa-fcefec55513c"
   },
   "outputs": [
    {
     "name": "stdout",
     "output_type": "stream",
     "text": [
      "/content/drive/My Drive/iiit_ire/word2vec_fasttext/fastText\n"
     ]
    }
   ],
   "source": [
    "!pwd"
   ]
  },
  {
   "cell_type": "code",
   "execution_count": 78,
   "metadata": {
    "id": "u8Vq-UGgYmQT"
   },
   "outputs": [],
   "source": [
    "checkpoint = ModelCheckpoint('fasttext_sent_vanilla_weights.best.hdf5',\n",
    "                             verbose=1,\n",
    "                             save_weights_only=True,\n",
    "                             monitor = 'val_accuracy',\n",
    "                             mode='max',\n",
    "                             save_best_only=True)"
   ]
  },
  {
   "cell_type": "code",
   "execution_count": 79,
   "metadata": {
    "colab": {
     "base_uri": "https://localhost:8080/"
    },
    "id": "OFuryH4ZKypq",
    "outputId": "05a0d39a-d2aa-4cdb-d0a3-07888a730163"
   },
   "outputs": [
    {
     "name": "stdout",
     "output_type": "stream",
     "text": [
      "Epoch 1/30\n",
      "111/113 [============================>.] - ETA: 0s - loss: 0.4671 - accuracy: 0.8164\n",
      "Epoch 00001: val_accuracy improved from -inf to 0.86782, saving model to fasttext_sent_vanilla_weights.best.hdf5\n",
      "113/113 [==============================] - 5s 47ms/step - loss: 0.4666 - accuracy: 0.8165 - val_loss: 0.3374 - val_accuracy: 0.8678\n",
      "Epoch 2/30\n",
      "111/113 [============================>.] - ETA: 0s - loss: 0.3876 - accuracy: 0.8425\n",
      "Epoch 00002: val_accuracy did not improve from 0.86782\n",
      "113/113 [==============================] - 3s 29ms/step - loss: 0.3870 - accuracy: 0.8429 - val_loss: 0.3437 - val_accuracy: 0.8611\n",
      "Epoch 3/30\n",
      "111/113 [============================>.] - ETA: 0s - loss: 0.3478 - accuracy: 0.8570\n",
      "Epoch 00003: val_accuracy improved from 0.86782 to 0.87165, saving model to fasttext_sent_vanilla_weights.best.hdf5\n",
      "113/113 [==============================] - 3s 31ms/step - loss: 0.3467 - accuracy: 0.8575 - val_loss: 0.3344 - val_accuracy: 0.8716\n",
      "Epoch 4/30\n",
      "111/113 [============================>.] - ETA: 0s - loss: 0.3183 - accuracy: 0.8729\n",
      "Epoch 00004: val_accuracy did not improve from 0.87165\n",
      "113/113 [==============================] - 3s 29ms/step - loss: 0.3184 - accuracy: 0.8728 - val_loss: 0.3452 - val_accuracy: 0.8707\n",
      "Epoch 5/30\n",
      "111/113 [============================>.] - ETA: 0s - loss: 0.2857 - accuracy: 0.8865\n",
      "Epoch 00005: val_accuracy did not improve from 0.87165\n",
      "113/113 [==============================] - 3s 29ms/step - loss: 0.2861 - accuracy: 0.8862 - val_loss: 0.3758 - val_accuracy: 0.8554\n",
      "Epoch 6/30\n",
      "111/113 [============================>.] - ETA: 0s - loss: 0.2496 - accuracy: 0.9026\n",
      "Epoch 00006: val_accuracy did not improve from 0.87165\n",
      "113/113 [==============================] - 3s 30ms/step - loss: 0.2491 - accuracy: 0.9026 - val_loss: 0.3634 - val_accuracy: 0.8602\n",
      "Epoch 7/30\n",
      "111/113 [============================>.] - ETA: 0s - loss: 0.2340 - accuracy: 0.9064\n",
      "Epoch 00007: val_accuracy did not improve from 0.87165\n",
      "113/113 [==============================] - 3s 29ms/step - loss: 0.2344 - accuracy: 0.9061 - val_loss: 0.3926 - val_accuracy: 0.8592\n",
      "Epoch 8/30\n",
      "111/113 [============================>.] - ETA: 0s - loss: 0.2087 - accuracy: 0.9186\n",
      "Epoch 00008: val_accuracy did not improve from 0.87165\n",
      "113/113 [==============================] - 3s 29ms/step - loss: 0.2085 - accuracy: 0.9186 - val_loss: 0.4912 - val_accuracy: 0.8554\n",
      "Epoch 9/30\n",
      "111/113 [============================>.] - ETA: 0s - loss: 0.1931 - accuracy: 0.9258\n",
      "Epoch 00009: val_accuracy did not improve from 0.87165\n",
      "113/113 [==============================] - 3s 30ms/step - loss: 0.1931 - accuracy: 0.9257 - val_loss: 0.4206 - val_accuracy: 0.8602\n",
      "Epoch 10/30\n",
      "113/113 [==============================] - ETA: 0s - loss: 0.1709 - accuracy: 0.9352\n",
      "Epoch 00010: val_accuracy did not improve from 0.87165\n",
      "113/113 [==============================] - 3s 29ms/step - loss: 0.1709 - accuracy: 0.9352 - val_loss: 0.4800 - val_accuracy: 0.8305\n",
      "Epoch 11/30\n",
      "111/113 [============================>.] - ETA: 0s - loss: 0.1605 - accuracy: 0.9382\n",
      "Epoch 00011: val_accuracy did not improve from 0.87165\n",
      "113/113 [==============================] - 3s 30ms/step - loss: 0.1612 - accuracy: 0.9381 - val_loss: 0.5004 - val_accuracy: 0.8534\n",
      "Epoch 12/30\n",
      "113/113 [==============================] - ETA: 0s - loss: 0.1604 - accuracy: 0.9386\n",
      "Epoch 00012: val_accuracy did not improve from 0.87165\n",
      "113/113 [==============================] - 3s 30ms/step - loss: 0.1604 - accuracy: 0.9386 - val_loss: 0.6322 - val_accuracy: 0.8458\n",
      "Epoch 13/30\n",
      "111/113 [============================>.] - ETA: 0s - loss: 0.1287 - accuracy: 0.9495\n",
      "Epoch 00013: val_accuracy did not improve from 0.87165\n",
      "113/113 [==============================] - 3s 30ms/step - loss: 0.1281 - accuracy: 0.9496 - val_loss: 0.5460 - val_accuracy: 0.8573\n"
     ]
    }
   ],
   "source": [
    "es_callback = EarlyStopping(monitor='val_accuracy', patience=10, mode=\"max\")\n",
    "#training params\n",
    "batch_size = 64 \n",
    "num_epochs = 30\n",
    "\n",
    "history = model.fit(word_seq_train, train.relation.values, batch_size=batch_size,\n",
    "          epochs=num_epochs, validation_data=(word_seq_test, val.relation.values), \n",
    "          callbacks=[es_callback, checkpoint])#, steps_per_epoch=train.shape[0] // batch_size,\n",
    "          # shuffle=False)"
   ]
  },
  {
   "cell_type": "code",
   "execution_count": 80,
   "metadata": {
    "colab": {
     "base_uri": "https://localhost:8080/",
     "height": 295
    },
    "id": "50AkTs_3MCCN",
    "outputId": "00c6abe4-6851-425d-83fd-b38e5a80d888"
   },
   "outputs": [
    {
     "data": {
      "image/png": "[encoded data removed]",
      "text/plain": [
       "<Figure size 432x288 with 1 Axes>"
      ]
     },
     "metadata": {
      "needs_background": "light",
      "tags": []
     },
     "output_type": "display_data"
    }
   ],
   "source": [
    "#generate plots\n",
    "plt.figure()\n",
    "plt.plot(history.history['loss'], lw=2.0, color='b', label='train')\n",
    "plt.plot(history.history['val_loss'], lw=2.0, color='r', label='val')\n",
    "plt.title('Loss')\n",
    "plt.xlabel('Epochs')\n",
    "plt.ylabel('Cross-Entropy Loss')\n",
    "plt.legend(loc='upper right')\n",
    "plt.show()"
   ]
  },
  {
   "cell_type": "code",
   "execution_count": 81,
   "metadata": {
    "colab": {
     "base_uri": "https://localhost:8080/",
     "height": 295
    },
    "id": "HrnldxkeOSuI",
    "outputId": "74e5bc70-7a83-4c4e-e4de-8c0fb22c0d20"
   },
   "outputs": [
    {
     "data": {
      "image/png": "[encoded data removed]",
      "text/plain": [
       "<Figure size 432x288 with 1 Axes>"
      ]
     },
     "metadata": {
      "needs_background": "light",
      "tags": []
     },
     "output_type": "display_data"
    }
   ],
   "source": [
    "plt.figure()\n",
    "plt.plot(history.history['accuracy'], lw=2.0, color='b', label='train')\n",
    "plt.plot(history.history['val_accuracy'], lw=2.0, color='r', label='val')\n",
    "plt.title('Accuracy')\n",
    "plt.xlabel('Epochs')\n",
    "plt.ylabel('Accuracy')\n",
    "plt.legend(loc='upper left')\n",
    "plt.show()"
   ]
  },
  {
   "cell_type": "code",
   "execution_count": 82,
   "metadata": {
    "id": "VYerrU8CZ0sb"
   },
   "outputs": [],
   "source": [
    "\n",
    "model.load_weights('fasttext_sent_vanilla_weights.best.hdf5')"
   ]
  },
  {
   "cell_type": "code",
   "execution_count": 83,
   "metadata": {
    "id": "lRwp0-QfOrQj"
   },
   "outputs": [],
   "source": [
    "predictions = model.predict_classes(word_seq_test)"
   ]
  },
  {
   "cell_type": "code",
   "execution_count": 84,
   "metadata": {
    "colab": {
     "base_uri": "https://localhost:8080/"
    },
    "id": "MHxUX6QHZtOB",
    "outputId": "40038211-daa9-45fa-8e8c-7418e6a9329c"
   },
   "outputs": [
    {
     "data": {
      "text/plain": [
       "array([1, 1, 1, 1, 1, 1, 1, 1, 1, 1], dtype=int32)"
      ]
     },
     "execution_count": 84,
     "metadata": {
      "tags": []
     },
     "output_type": "execute_result"
    }
   ],
   "source": [
    "predictions[:10].ravel()"
   ]
  },
  {
   "cell_type": "code",
   "execution_count": 85,
   "metadata": {
    "colab": {
     "base_uri": "https://localhost:8080/"
    },
    "id": "4UG7O8zhZvuW",
    "outputId": "13a85599-6bbe-42cf-ec1d-990f06b79ec6"
   },
   "outputs": [
    {
     "data": {
      "text/plain": [
       "array([1, 1, 1, 1, 1, 1, 1, 1, 1, 1])"
      ]
     },
     "execution_count": 85,
     "metadata": {
      "tags": []
     },
     "output_type": "execute_result"
    }
   ],
   "source": [
    "np.array(train.relation.values[:10])"
   ]
  },
  {
   "cell_type": "code",
   "execution_count": 86,
   "metadata": {
    "colab": {
     "base_uri": "https://localhost:8080/"
    },
    "id": "-6TUcjrmY-Ir",
    "outputId": "6c7edd11-ffe0-4f33-bb4c-3ca13ecc3b32"
   },
   "outputs": [
    {
     "name": "stdout",
     "output_type": "stream",
     "text": [
      "/content/drive/My Drive/iiit_ire/word2vec_fasttext/fastText\n"
     ]
    }
   ],
   "source": [
    "!pwd"
   ]
  },
  {
   "cell_type": "code",
   "execution_count": 87,
   "metadata": {
    "id": "Flup8EdQYyyZ"
   },
   "outputs": [],
   "source": [
    "val['pred'] = predictions.ravel()\n",
    "val.to_csv(\"fin_FastText_vanilla_classification.csv\")"
   ]
  },
  {
   "cell_type": "code",
   "execution_count": 88,
   "metadata": {
    "colab": {
     "base_uri": "https://localhost:8080/"
    },
    "id": "BjS4jJjpa7kp",
    "outputId": "06b9c259-e710-408e-9aca-62243ff65e87"
   },
   "outputs": [
    {
     "name": "stdout",
     "output_type": "stream",
     "text": [
      "[[ 79 115]\n",
      " [ 19 831]]\n",
      "              precision    recall  f1-score   support\n",
      "\n",
      "           0       0.81      0.41      0.54       194\n",
      "           1       0.88      0.98      0.93       850\n",
      "\n",
      "    accuracy                           0.87      1044\n",
      "   macro avg       0.84      0.69      0.73      1044\n",
      "weighted avg       0.86      0.87      0.85      1044\n",
      "\n"
     ]
    }
   ],
   "source": [
    "from sklearn.metrics import confusion_matrix\n",
    "from sklearn.metrics import classification_report\n",
    "print(confusion_matrix(np.array(val.relation.values), predictions.ravel(), labels=[0,1]))\n",
    "print(classification_report(np.array(val.relation.values), predictions.ravel()))"
   ]
  },
  {
   "cell_type": "code",
   "execution_count": 89,
   "metadata": {
    "colab": {
     "base_uri": "https://localhost:8080/"
    },
    "id": "VLDr3GvXWlFK",
    "outputId": "ada9cb43-b539-4242-e5b7-22f2f22de8dc"
   },
   "outputs": [
    {
     "name": "stdout",
     "output_type": "stream",
     "text": [
      "[[ 818  542]\n",
      " [ 307 5520]]\n",
      "              precision    recall  f1-score   support\n",
      "\n",
      "           0       0.73      0.60      0.66      1360\n",
      "           1       0.91      0.95      0.93      5827\n",
      "\n",
      "    accuracy                           0.88      7187\n",
      "   macro avg       0.82      0.77      0.79      7187\n",
      "weighted avg       0.88      0.88      0.88      7187\n",
      "\n"
     ]
    }
   ],
   "source": [
    "predictions = model.predict_classes(word_seq_train)\n",
    "print(confusion_matrix(np.array(train.relation.values), predictions.ravel(), labels=[0,1]))\n",
    "print(classification_report(np.array(train.relation.values), predictions.ravel()))"
   ]
  },
  {
   "cell_type": "code",
   "execution_count": 40,
   "metadata": {
    "id": "7YtpaqNDcM9j"
   },
   "outputs": [],
   "source": []
  }
 ],
 "metadata": {
  "accelerator": "GPU",
  "colab": {
   "collapsed_sections": [],
   "name": "fin_FastText_finetune_vanila.ipynb",
   "provenance": []
  },
  "kernelspec": {
   "display_name": "Python 3",
   "language": "python",
   "name": "python3"
  },
  "language_info": {
   "codemirror_mode": {
    "name": "ipython",
    "version": 3
   },
   "file_extension": ".py",
   "mimetype": "text/x-python",
   "name": "python",
   "nbconvert_exporter": "python",
   "pygments_lexer": "ipython3",
   "version": "3.8.3"
  }
 },
 "nbformat": 4,
 "nbformat_minor": 1
}
