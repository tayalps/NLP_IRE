{
 "cells": [
  {
   "cell_type": "code",
   "execution_count": 1,
   "metadata": {
    "colab": {
     "base_uri": "https://localhost:8080/"
    },
    "id": "v6uGjdgV7fCe",
    "outputId": "a2df10e7-bc83-48e1-9884-f5aa99e5a66a"
   },
   "outputs": [
    {
     "name": "stdout",
     "output_type": "stream",
     "text": [
      "Mounted at /content/drive\n"
     ]
    }
   ],
   "source": [
    "#mount the drive\n",
    "from google.colab import drive\n",
    "drive.mount('/content/drive', force_remount=True)"
   ]
  },
  {
   "cell_type": "code",
   "execution_count": 2,
   "metadata": {
    "id": "W_QIxD3R68bz"
   },
   "outputs": [],
   "source": [
    "import gensim\n",
    "from tqdm import tqdm\n",
    "import os\n",
    "from gensim.models.fasttext import FastText"
   ]
  },
  {
   "cell_type": "code",
   "execution_count": 3,
   "metadata": {
    "id": "NAqYXr7FA0g8"
   },
   "outputs": [],
   "source": [
    "# For array, dataset, and visualizing\n",
    "import numpy as np\n",
    "import pandas as pd\n",
    "import seaborn as sns\n",
    "import matplotlib.pyplot as plt"
   ]
  },
  {
   "cell_type": "code",
   "execution_count": 4,
   "metadata": {
    "colab": {
     "base_uri": "https://localhost:8080/"
    },
    "id": "oFt1hjeWCoW6",
    "outputId": "2d2da00a-8d17-4e45-ea60-f0566ce1584e"
   },
   "outputs": [
    {
     "name": "stdout",
     "output_type": "stream",
     "text": [
      "[nltk_data] Downloading package stopwords to /root/nltk_data...\n",
      "[nltk_data]   Unzipping corpora/stopwords.zip.\n",
      "[nltk_data] Downloading package punkt to /root/nltk_data...\n",
      "[nltk_data]   Unzipping tokenizers/punkt.zip.\n"
     ]
    }
   ],
   "source": [
    "#For Pre-Processing\n",
    "from tqdm import tqdm\n",
    "import nltk\n",
    "from nltk.corpus import stopwords\n",
    "nltk.download('stopwords')\n",
    "nltk.download('punkt')\n",
    "from nltk.tokenize import RegexpTokenizer \n",
    "from nltk.tokenize import word_tokenize"
   ]
  },
  {
   "cell_type": "code",
   "execution_count": 5,
   "metadata": {
    "id": "3M0vxqtwCYx5"
   },
   "outputs": [],
   "source": [
    "from keras.preprocessing.text import Tokenizer\n",
    "from keras.preprocessing import sequence\n",
    "MAX_NB_WORDS = 500000\n",
    "tokenizer = RegexpTokenizer(r'\\w+')\n",
    "stop_words = set(stopwords.words('english'))\n",
    "stop_words.update(['.', ',', '\"', \"'\", ':', ';', '(', ')', '[', ']', '{', '}'])"
   ]
  },
  {
   "cell_type": "code",
   "execution_count": 6,
   "metadata": {
    "colab": {
     "base_uri": "https://localhost:8080/"
    },
    "id": "4x7lf4c170Uh",
    "outputId": "926ba839-f43a-4a6e-e513-02d454d4d40e"
   },
   "outputs": [
    {
     "name": "stdout",
     "output_type": "stream",
     "text": [
      "/content/drive/My Drive/iiit_ire/word2vec_fasttext\n"
     ]
    }
   ],
   "source": [
    "cd  \"/content/drive/My Drive/iiit_ire/word2vec_fasttext\""
   ]
  },
  {
   "cell_type": "code",
   "execution_count": 7,
   "metadata": {
    "colab": {
     "base_uri": "https://localhost:8080/"
    },
    "id": "8BYamGHe68cM",
    "outputId": "8b1741f4-b827-47b7-dd78-e20ff426a0b6"
   },
   "outputs": [
    {
     "name": "stdout",
     "output_type": "stream",
     "text": [
      "[=================================================-] 99.0% 1646.4/1662.8MB downloaded\n"
     ]
    }
   ],
   "source": [
    "import gensim.downloader as api\n",
    "\n",
    "model = api.load('word2vec-google-news-300')"
   ]
  },
  {
   "cell_type": "code",
   "execution_count": 7,
   "metadata": {
    "id": "sy9eB1TY68cc"
   },
   "outputs": [],
   "source": []
  },
  {
   "cell_type": "code",
   "execution_count": 8,
   "metadata": {
    "colab": {
     "base_uri": "https://localhost:8080/"
    },
    "id": "ILoV9y1n68dN",
    "outputId": "8d274973-d3d7-40ad-c1c6-2caee7ecd323"
   },
   "outputs": [
    {
     "name": "stdout",
     "output_type": "stream",
     "text": [
      "(7187, 5) (1044, 5)\n"
     ]
    }
   ],
   "source": [
    "import json \n",
    "traind=[]\n",
    "vald=[]\n",
    "dir = \"/content/drive/My Drive/iiit_ire/data/\"\n",
    "# Opening JSON file \n",
    "with open(dir+'FinNum_training_v3.json',) as f: \n",
    "  traind = json.load(f) \n",
    "with open(dir+'FinNum_dev_v3.json',) as f: \n",
    "  vald = json.load(f) \n",
    "\n",
    "train = pd.DataFrame(traind) \n",
    "val = pd.DataFrame(vald) \n",
    "print(train.shape, val.shape)\n"
   ]
  },
  {
   "cell_type": "code",
   "execution_count": 9,
   "metadata": {
    "id": "F47Y00aM9Ehu"
   },
   "outputs": [],
   "source": [
    "cols = ['tweet', 'relation']\n",
    "train = train[cols]\n",
    "val = val[cols]"
   ]
  },
  {
   "cell_type": "code",
   "execution_count": 10,
   "metadata": {
    "colab": {
     "base_uri": "https://localhost:8080/"
    },
    "id": "Pa31Mnm_9LOu",
    "outputId": "4f83477b-727d-4a23-cad5-fadfdfb790b9"
   },
   "outputs": [
    {
     "name": "stdout",
     "output_type": "stream",
     "text": [
      "1    5827\n",
      "0    1360\n",
      "Name: relation, dtype: int64\n",
      "1    850\n",
      "0    194\n",
      "Name: relation, dtype: int64\n"
     ]
    }
   ],
   "source": [
    "print(train.relation.value_counts())\n",
    "print(val.relation.value_counts())"
   ]
  },
  {
   "cell_type": "code",
   "execution_count": 11,
   "metadata": {
    "colab": {
     "base_uri": "https://localhost:8080/",
     "height": 202
    },
    "id": "Ph9biJ1D9OhI",
    "outputId": "a05dae26-0992-457f-f67b-8fe36ec50024"
   },
   "outputs": [
    {
     "data": {
      "text/html": [
       "<div>\n",
       "<style scoped>\n",
       "    .dataframe tbody tr th:only-of-type {\n",
       "        vertical-align: middle;\n",
       "    }\n",
       "\n",
       "    .dataframe tbody tr th {\n",
       "        vertical-align: top;\n",
       "    }\n",
       "\n",
       "    .dataframe thead th {\n",
       "        text-align: right;\n",
       "    }\n",
       "</style>\n",
       "<table border=\"1\" class=\"dataframe\">\n",
       "  <thead>\n",
       "    <tr style=\"text-align: right;\">\n",
       "      <th></th>\n",
       "      <th>tweet</th>\n",
       "      <th>relation</th>\n",
       "    </tr>\n",
       "  </thead>\n",
       "  <tbody>\n",
       "    <tr>\n",
       "      <th>0</th>\n",
       "      <td>$XXII Scott Gottlieb, Commissioner of FDA spee...</td>\n",
       "      <td>1</td>\n",
       "    </tr>\n",
       "    <tr>\n",
       "      <th>1</th>\n",
       "      <td>$TSLA Maybe they calculate that 7ct energy pri...</td>\n",
       "      <td>1</td>\n",
       "    </tr>\n",
       "    <tr>\n",
       "      <th>2</th>\n",
       "      <td>$RAD about 9 million more shares than the 90 d...</td>\n",
       "      <td>1</td>\n",
       "    </tr>\n",
       "    <tr>\n",
       "      <th>3</th>\n",
       "      <td>$DPW that was quite a roller coaster. Glad it ...</td>\n",
       "      <td>1</td>\n",
       "    </tr>\n",
       "    <tr>\n",
       "      <th>4</th>\n",
       "      <td>$GILD Good thing the market sets new record hi...</td>\n",
       "      <td>1</td>\n",
       "    </tr>\n",
       "  </tbody>\n",
       "</table>\n",
       "</div>"
      ],
      "text/plain": [
       "                                               tweet  relation\n",
       "0  $XXII Scott Gottlieb, Commissioner of FDA spee...         1\n",
       "1  $TSLA Maybe they calculate that 7ct energy pri...         1\n",
       "2  $RAD about 9 million more shares than the 90 d...         1\n",
       "3  $DPW that was quite a roller coaster. Glad it ...         1\n",
       "4  $GILD Good thing the market sets new record hi...         1"
      ]
     },
     "execution_count": 11,
     "metadata": {
      "tags": []
     },
     "output_type": "execute_result"
    }
   ],
   "source": [
    "train.head()"
   ]
  },
  {
   "cell_type": "code",
   "execution_count": 12,
   "metadata": {
    "colab": {
     "base_uri": "https://localhost:8080/",
     "height": 351
    },
    "id": "hPry2ixQA7f4",
    "outputId": "f93995e8-6be0-4c2f-beae-158c4ce13676"
   },
   "outputs": [
    {
     "name": "stderr",
     "output_type": "stream",
     "text": [
      "/usr/local/lib/python3.6/dist-packages/seaborn/distributions.py:2551: FutureWarning: `distplot` is a deprecated function and will be removed in a future version. Please adapt your code to use either `displot` (a figure-level function with similar flexibility) or `histplot` (an axes-level function for histograms).\n",
      "  warnings.warn(msg, FutureWarning)\n"
     ]
    },
    {
     "data": {
      "image/png": "[encoded data removed]",
      "text/plain": [
       "<Figure size 432x288 with 1 Axes>"
      ]
     },
     "metadata": {
      "needs_background": "light",
      "tags": []
     },
     "output_type": "display_data"
    }
   ],
   "source": [
    "train['tweet_len'] = train.tweet.apply(lambda words: len(words.split(\" \")))\n",
    "max_seq_len = np.round(train.tweet_len.mean() + 2*train.tweet_len.std()).astype(int)\n",
    "\n",
    "sns.distplot(train.tweet_len, hist=True, kde=True, color='b', label='tweets size len')\n",
    "plt.axvline(x=max_seq_len, color='k', linestyle='--', label='max len')\n",
    "plt.title('comment length'); plt.legend()\n",
    "plt.show()"
   ]
  },
  {
   "cell_type": "code",
   "execution_count": 13,
   "metadata": {
    "colab": {
     "base_uri": "https://localhost:8080/"
    },
    "id": "1AfVsZ_m9tp9",
    "outputId": "e9dddff1-de43-4fce-dcea-d3273ba65c8b"
   },
   "outputs": [
    {
     "name": "stderr",
     "output_type": "stream",
     "text": [
      "100%|██████████| 7187/7187 [00:01<00:00, 3695.96it/s]\n",
      "100%|██████████| 1044/1044 [00:00<00:00, 3873.37it/s]\n"
     ]
    },
    {
     "name": "stdout",
     "output_type": "stream",
     "text": [
      "Tokenizing: \n",
      "dictionary size:  12136\n"
     ]
    }
   ],
   "source": [
    "label_dict = {}\n",
    "for index, possible_label in enumerate(train.relation.unique()):\n",
    "    label_dict[possible_label] = index\n",
    "\n",
    "l_train = train.tweet.tolist()\n",
    "l_test = val.tweet.tolist()\n",
    "num_classes = len(label_dict)\n",
    "\n",
    "\n",
    "clean_train = []\n",
    "for doc in tqdm(l_train):\n",
    "  tokens = word_tokenize(doc)\n",
    "  filtered = [word for word in tokens if word not in stop_words]\n",
    "  clean_train.append(\" \".join(filtered))\n",
    "\n",
    "\n",
    "clean_test = []\n",
    "for doc in tqdm(l_test):\n",
    "  tokens = word_tokenize(doc)\n",
    "  filtered = [word for word in tokens if word not in stop_words]\n",
    "  clean_test.append(\" \".join(filtered))\n",
    "\n",
    "print(\"Tokenizing: \")\n",
    "tokenizer = Tokenizer(num_words=MAX_NB_WORDS, lower=True, char_level=False)\n",
    "tokenizer.fit_on_texts(clean_train + clean_test)  \n",
    "word_seq_train = tokenizer.texts_to_sequences(clean_train)\n",
    "word_seq_test = tokenizer.texts_to_sequences(clean_test)\n",
    "word_index = tokenizer.word_index\n",
    "print(\"dictionary size: \", len(word_index))\n",
    "\n",
    "word_seq_train = sequence.pad_sequences(word_seq_train, maxlen=max_seq_len)\n",
    "word_seq_test = sequence.pad_sequences(word_seq_test, maxlen=max_seq_len)"
   ]
  },
  {
   "cell_type": "code",
   "execution_count": 14,
   "metadata": {
    "colab": {
     "base_uri": "https://localhost:8080/"
    },
    "id": "SCzC2wDyF6_k",
    "outputId": "cc86d291-8bcc-4b84-8ee4-8bdb68cd3652"
   },
   "outputs": [
    {
     "data": {
      "text/plain": [
       "array([   0,    0,    0,    0,    0,    0,    0,    0,    0,    0,    0,\n",
       "          0,    0,    0,    0,    0, 8249,  157,  309,  234,  191,    9,\n",
       "          7, 1350,   54,   46,    1,   11,  358,   14, 2245], dtype=int32)"
      ]
     },
     "execution_count": 14,
     "metadata": {
      "tags": []
     },
     "output_type": "execute_result"
    }
   ],
   "source": [
    "word_seq_train[10]"
   ]
  },
  {
   "cell_type": "code",
   "execution_count": 15,
   "metadata": {
    "id": "Pqp3_jxLDuQd"
   },
   "outputs": [],
   "source": [
    "\n",
    "#model parameters\n",
    "num_filters = 64 \n",
    "embed_dim = 300 \n",
    "weight_decay = 1e-4"
   ]
  },
  {
   "cell_type": "code",
   "execution_count": 16,
   "metadata": {
    "id": "Iv1_Yw15FpUh"
   },
   "outputs": [],
   "source": [
    "def get_embedding(word):\n",
    "    try:\n",
    "        embedding=model[word]\n",
    "    except:\n",
    "        embedding=np.zeros((embed_dim,))\n",
    "    return embedding"
   ]
  },
  {
   "cell_type": "code",
   "execution_count": 17,
   "metadata": {
    "colab": {
     "base_uri": "https://localhost:8080/"
    },
    "id": "D4WY-6neGZii",
    "outputId": "cb9b256f-3213-4e11-efe5-003de70f4bb9"
   },
   "outputs": [
    {
     "name": "stdout",
     "output_type": "stream",
     "text": [
      "preparing embedding matrix...\n",
      "number of null word embeddings: 4675\n"
     ]
    }
   ],
   "source": [
    "#embedding matrix\n",
    "\n",
    "print('preparing embedding matrix...')\n",
    "\n",
    "words_not_found = []\n",
    "nb_words = min(MAX_NB_WORDS, len(word_index)+1)\n",
    "embedding_matrix = np.zeros((nb_words, embed_dim))\n",
    "\n",
    "for word, i in word_index.items():\n",
    "    if i >= nb_words:\n",
    "        continue\n",
    "    embedding_vector = get_embedding(word)\n",
    "    if (embedding_vector is not None) and len(embedding_vector) > 0:\n",
    "        # words not found in embedding index will be all-zeros.\n",
    "        embedding_matrix[i] = embedding_vector\n",
    "        if np.sum(embedding_vector) == 0:\n",
    "          words_not_found.append(word)\n",
    "print('number of null word embeddings: %d' % np.sum(np.sum(embedding_matrix, axis=1) == 0))"
   ]
  },
  {
   "cell_type": "code",
   "execution_count": 18,
   "metadata": {
    "colab": {
     "base_uri": "https://localhost:8080/"
    },
    "id": "tKi8vtOKGs7w",
    "outputId": "d905e5b1-cca2-4ff4-b0e0-027908c6ed78"
   },
   "outputs": [
    {
     "name": "stdout",
     "output_type": "stream",
     "text": [
      "['to', 'gdxj', 'seekingalpha', '33', 'hmny', '45', '21', 'trxc', 'uvxy', '70', 'bzun', 'nugt', '35', '300', '09', '67', 'tlt', '90', 'dcix', '32', '52', '28', '08', 'uup', 'nflx', '23', '27', 'wti', '55', 'slv', 'xlf', 'ibb', 'wstl', '05', '31', '48', 'chfs', '2016', 'glbs', 'intc', '04', 'dgaz', 'xrp', 'teum', 'eoy', 'vrx', 'xnet', '10k', '400', '57']\n"
     ]
    }
   ],
   "source": [
    "print(words_not_found[50:100])"
   ]
  },
  {
   "cell_type": "code",
   "execution_count": 19,
   "metadata": {
    "id": "dmahh384KZhQ"
   },
   "outputs": [],
   "source": [
    "import keras\n",
    "from keras import optimizers\n",
    "from keras import backend as K\n",
    "from keras import regularizers\n",
    "from keras.models import Sequential\n",
    "from keras.layers import Dense, Activation, Dropout, Flatten\n",
    "from tensorflow.keras.layers import Embedding, LSTM, Dense, Dropout, Bidirectional"
   ]
  },
  {
   "cell_type": "code",
   "execution_count": 30,
   "metadata": {
    "id": "Otek0U9AOtvc"
   },
   "outputs": [],
   "source": [
    "# avoid model to overwrite\n",
    "keras.backend.clear_session()"
   ]
  },
  {
   "cell_type": "code",
   "execution_count": 31,
   "metadata": {
    "colab": {
     "base_uri": "https://localhost:8080/"
    },
    "id": "k18dZ2bbKAwm",
    "outputId": "74f5f36f-ea99-44ab-9d27-89e7f2829bde"
   },
   "outputs": [
    {
     "name": "stdout",
     "output_type": "stream",
     "text": [
      "Model: \"sequential\"\n",
      "_________________________________________________________________\n",
      "Layer (type)                 Output Shape              Param #   \n",
      "=================================================================\n",
      "embedding (Embedding)        (None, 31, 300)           3641100   \n",
      "_________________________________________________________________\n",
      "dropout (Dropout)            (None, 31, 300)           0         \n",
      "_________________________________________________________________\n",
      "bidirectional (Bidirectional (None, 31, 512)           1140736   \n",
      "_________________________________________________________________\n",
      "dropout_1 (Dropout)          (None, 31, 512)           0         \n",
      "_________________________________________________________________\n",
      "bidirectional_1 (Bidirection (None, 31, 512)           1574912   \n",
      "_________________________________________________________________\n",
      "dropout_2 (Dropout)          (None, 31, 512)           0         \n",
      "_________________________________________________________________\n",
      "bidirectional_2 (Bidirection (None, 512)               1574912   \n",
      "_________________________________________________________________\n",
      "dense (Dense)                (None, 1024)              525312    \n",
      "_________________________________________________________________\n",
      "dropout_3 (Dropout)          (None, 1024)              0         \n",
      "_________________________________________________________________\n",
      "dense_1 (Dense)              (None, 64)                65600     \n",
      "_________________________________________________________________\n",
      "dense_2 (Dense)              (None, 1)                 65        \n",
      "=================================================================\n",
      "Total params: 8,522,637\n",
      "Trainable params: 4,881,537\n",
      "Non-trainable params: 3,641,100\n",
      "_________________________________________________________________\n"
     ]
    }
   ],
   "source": [
    "from keras.layers import BatchNormalization\n",
    "import tensorflow as tf\n",
    "\n",
    "model = tf.keras.Sequential()\n",
    "\n",
    "model.add(Embedding(nb_words,embed_dim,input_length=max_seq_len, weights=[embedding_matrix],trainable=False))\n",
    "model.add(Dropout(0.2))\n",
    "model.add(Bidirectional(LSTM(256,return_sequences= True)))\n",
    "model.add(Dropout(0.3))\n",
    "model.add(Bidirectional(LSTM(256,return_sequences= True)))\n",
    "model.add(Dropout(0.3))\n",
    "model.add(Bidirectional(LSTM(256)))\n",
    "model.add(Dense(1024,activation='relu'))\n",
    "model.add(Dropout(0.3))\n",
    "model.add(Dense(64,activation='relu'))\n",
    "model.add(Dense(1,activation='sigmoid'))\n",
    "model.summary()"
   ]
  },
  {
   "cell_type": "code",
   "execution_count": 32,
   "metadata": {
    "id": "OkMGerayKSPP"
   },
   "outputs": [],
   "source": [
    "from keras.optimizers import RMSprop\n",
    "from keras.callbacks import ModelCheckpoint\n",
    "from tensorflow.keras.callbacks import EarlyStopping\n",
    "from tensorflow.keras.optimizers import Adam\n",
    "\n",
    "model.compile(loss='binary_crossentropy', optimizer=Adam(lr=.0002), metrics=['accuracy'])"
   ]
  },
  {
   "cell_type": "code",
   "execution_count": 33,
   "metadata": {
    "colab": {
     "base_uri": "https://localhost:8080/"
    },
    "id": "eIhET-vOYtcq",
    "outputId": "3d3b6878-0b10-4c95-e74d-06a0a3d3d02f"
   },
   "outputs": [
    {
     "name": "stdout",
     "output_type": "stream",
     "text": [
      "/content/drive/My Drive/iiit_ire/word2vec_fasttext\n"
     ]
    }
   ],
   "source": [
    "!pwd"
   ]
  },
  {
   "cell_type": "code",
   "execution_count": 34,
   "metadata": {
    "id": "u8Vq-UGgYmQT"
   },
   "outputs": [],
   "source": [
    "checkpoint = ModelCheckpoint('word2vec_vanilla_sent_weights.best.hdf5',\n",
    "                             verbose=1,\n",
    "                             save_weights_only=True,\n",
    "                             monitor = 'val_accuracy',\n",
    "                             mode='max',\n",
    "                             save_best_only=True)"
   ]
  },
  {
   "cell_type": "code",
   "execution_count": 35,
   "metadata": {
    "colab": {
     "base_uri": "https://localhost:8080/"
    },
    "id": "OFuryH4ZKypq",
    "outputId": "68bbe482-8eb4-4f88-d205-8aae939db1ad"
   },
   "outputs": [
    {
     "name": "stdout",
     "output_type": "stream",
     "text": [
      "Epoch 1/30\n",
      "111/113 [============================>.] - ETA: 0s - loss: 0.4513 - accuracy: 0.8163\n",
      "Epoch 00001: val_accuracy improved from -inf to 0.85632, saving model to word2vec_vanilla_sent_weights.best.hdf5\n",
      "113/113 [==============================] - 5s 48ms/step - loss: 0.4510 - accuracy: 0.8159 - val_loss: 0.3486 - val_accuracy: 0.8563\n",
      "Epoch 2/30\n",
      "113/113 [==============================] - ETA: 0s - loss: 0.3854 - accuracy: 0.8439\n",
      "Epoch 00002: val_accuracy improved from 0.85632 to 0.86207, saving model to word2vec_vanilla_sent_weights.best.hdf5\n",
      "113/113 [==============================] - 4s 32ms/step - loss: 0.3854 - accuracy: 0.8439 - val_loss: 0.3432 - val_accuracy: 0.8621\n",
      "Epoch 3/30\n",
      "111/113 [============================>.] - ETA: 0s - loss: 0.3572 - accuracy: 0.8604\n",
      "Epoch 00003: val_accuracy did not improve from 0.86207\n",
      "113/113 [==============================] - 3s 30ms/step - loss: 0.3571 - accuracy: 0.8603 - val_loss: 0.3557 - val_accuracy: 0.8563\n",
      "Epoch 4/30\n",
      "113/113 [==============================] - ETA: 0s - loss: 0.3358 - accuracy: 0.8636\n",
      "Epoch 00004: val_accuracy did not improve from 0.86207\n",
      "113/113 [==============================] - 3s 31ms/step - loss: 0.3358 - accuracy: 0.8636 - val_loss: 0.3513 - val_accuracy: 0.8544\n",
      "Epoch 5/30\n",
      "113/113 [==============================] - ETA: 0s - loss: 0.3196 - accuracy: 0.8724\n",
      "Epoch 00005: val_accuracy did not improve from 0.86207\n",
      "113/113 [==============================] - 3s 31ms/step - loss: 0.3196 - accuracy: 0.8724 - val_loss: 0.3665 - val_accuracy: 0.8592\n",
      "Epoch 6/30\n",
      "113/113 [==============================] - ETA: 0s - loss: 0.3075 - accuracy: 0.8767\n",
      "Epoch 00006: val_accuracy did not improve from 0.86207\n",
      "113/113 [==============================] - 3s 30ms/step - loss: 0.3075 - accuracy: 0.8767 - val_loss: 0.3794 - val_accuracy: 0.8525\n",
      "Epoch 7/30\n",
      "111/113 [============================>.] - ETA: 0s - loss: 0.3020 - accuracy: 0.8819\n",
      "Epoch 00007: val_accuracy did not improve from 0.86207\n",
      "113/113 [==============================] - 3s 30ms/step - loss: 0.3017 - accuracy: 0.8820 - val_loss: 0.3781 - val_accuracy: 0.8582\n",
      "Epoch 8/30\n",
      "113/113 [==============================] - ETA: 0s - loss: 0.2836 - accuracy: 0.8888\n",
      "Epoch 00008: val_accuracy did not improve from 0.86207\n",
      "113/113 [==============================] - 3s 31ms/step - loss: 0.2836 - accuracy: 0.8888 - val_loss: 0.3558 - val_accuracy: 0.8496\n",
      "Epoch 9/30\n",
      "113/113 [==============================] - ETA: 0s - loss: 0.2745 - accuracy: 0.8919\n",
      "Epoch 00009: val_accuracy did not improve from 0.86207\n",
      "113/113 [==============================] - 3s 31ms/step - loss: 0.2745 - accuracy: 0.8919 - val_loss: 0.3783 - val_accuracy: 0.8534\n",
      "Epoch 10/30\n",
      "113/113 [==============================] - ETA: 0s - loss: 0.2632 - accuracy: 0.8958\n",
      "Epoch 00010: val_accuracy did not improve from 0.86207\n",
      "113/113 [==============================] - 3s 31ms/step - loss: 0.2632 - accuracy: 0.8958 - val_loss: 0.4094 - val_accuracy: 0.8420\n",
      "Epoch 11/30\n",
      "113/113 [==============================] - ETA: 0s - loss: 0.2466 - accuracy: 0.9036\n",
      "Epoch 00011: val_accuracy did not improve from 0.86207\n",
      "113/113 [==============================] - 4s 31ms/step - loss: 0.2466 - accuracy: 0.9036 - val_loss: 0.4245 - val_accuracy: 0.8544\n",
      "Epoch 12/30\n",
      "113/113 [==============================] - ETA: 0s - loss: 0.2404 - accuracy: 0.9026\n",
      "Epoch 00012: val_accuracy did not improve from 0.86207\n",
      "113/113 [==============================] - 4s 31ms/step - loss: 0.2404 - accuracy: 0.9026 - val_loss: 0.4367 - val_accuracy: 0.8525\n"
     ]
    }
   ],
   "source": [
    "es_callback = EarlyStopping(monitor='val_accuracy', patience=10, mode=\"max\")\n",
    "#training params\n",
    "batch_size = 64 \n",
    "num_epochs = 30\n",
    "\n",
    "history = model.fit(word_seq_train, train.relation.values, batch_size=batch_size,\n",
    "          epochs=num_epochs, validation_data=(word_seq_test, val.relation.values), \n",
    "          callbacks=[es_callback, checkpoint])#, steps_per_epoch=train.shape[0] // batch_size,\n",
    "          # shuffle=False)"
   ]
  },
  {
   "cell_type": "code",
   "execution_count": 26,
   "metadata": {
    "colab": {
     "base_uri": "https://localhost:8080/",
     "height": 295
    },
    "id": "50AkTs_3MCCN",
    "outputId": "a7031992-5341-454b-82f4-9b2cf003f05b"
   },
   "outputs": [
    {
     "data": {
      "image/png": "[encoded data removed]",
      "text/plain": [
       "<Figure size 432x288 with 1 Axes>"
      ]
     },
     "metadata": {
      "needs_background": "light",
      "tags": []
     },
     "output_type": "display_data"
    }
   ],
   "source": [
    "#generate plots\n",
    "plt.figure()\n",
    "plt.plot(history.history['loss'], lw=2.0, color='b', label='train')\n",
    "plt.plot(history.history['val_loss'], lw=2.0, color='r', label='val')\n",
    "plt.title('Loss')\n",
    "plt.xlabel('Epochs')\n",
    "plt.ylabel('Cross-Entropy Loss')\n",
    "plt.legend(loc='upper right')\n",
    "plt.show()"
   ]
  },
  {
   "cell_type": "code",
   "execution_count": 27,
   "metadata": {
    "colab": {
     "base_uri": "https://localhost:8080/",
     "height": 295
    },
    "id": "HrnldxkeOSuI",
    "outputId": "f519362a-5d3f-4179-d279-27620a5bf192"
   },
   "outputs": [
    {
     "data": {
      "image/png": "[encoded data removed]",
      "text/plain": [
       "<Figure size 432x288 with 1 Axes>"
      ]
     },
     "metadata": {
      "needs_background": "light",
      "tags": []
     },
     "output_type": "display_data"
    }
   ],
   "source": [
    "plt.figure()\n",
    "plt.plot(history.history['accuracy'], lw=2.0, color='b', label='train')\n",
    "plt.plot(history.history['val_accuracy'], lw=2.0, color='r', label='val')\n",
    "plt.title('Accuracy')\n",
    "plt.xlabel('Epochs')\n",
    "plt.ylabel('Accuracy')\n",
    "plt.legend(loc='upper left')\n",
    "plt.show()"
   ]
  },
  {
   "cell_type": "code",
   "execution_count": 36,
   "metadata": {
    "id": "VYerrU8CZ0sb"
   },
   "outputs": [],
   "source": [
    "\n",
    "model.load_weights('word2vec_vanilla_sent_weights.best.hdf5')"
   ]
  },
  {
   "cell_type": "code",
   "execution_count": 44,
   "metadata": {
    "id": "lRwp0-QfOrQj"
   },
   "outputs": [],
   "source": [
    "predictions = model.predict_classes(word_seq_test)"
   ]
  },
  {
   "cell_type": "code",
   "execution_count": 38,
   "metadata": {
    "colab": {
     "base_uri": "https://localhost:8080/"
    },
    "id": "MHxUX6QHZtOB",
    "outputId": "8d1b3a07-0249-4763-d6f9-81d9f8b778d5"
   },
   "outputs": [
    {
     "data": {
      "text/plain": [
       "array([1, 1, 1, 1, 1, 1, 1, 1, 1, 0], dtype=int32)"
      ]
     },
     "execution_count": 38,
     "metadata": {
      "tags": []
     },
     "output_type": "execute_result"
    }
   ],
   "source": [
    "predictions[:10].ravel()"
   ]
  },
  {
   "cell_type": "code",
   "execution_count": 39,
   "metadata": {
    "colab": {
     "base_uri": "https://localhost:8080/"
    },
    "id": "4UG7O8zhZvuW",
    "outputId": "65738088-32c8-4616-b153-a101ab9f0981"
   },
   "outputs": [
    {
     "data": {
      "text/plain": [
       "array([1, 1, 1, 1, 1, 1, 1, 1, 1, 1])"
      ]
     },
     "execution_count": 39,
     "metadata": {
      "tags": []
     },
     "output_type": "execute_result"
    }
   ],
   "source": [
    "np.array(train.relation.values[:10])"
   ]
  },
  {
   "cell_type": "code",
   "execution_count": 40,
   "metadata": {
    "colab": {
     "base_uri": "https://localhost:8080/"
    },
    "id": "BjS4jJjpa7kp",
    "outputId": "9e14d925-8179-47d1-8af9-7989a3feefa6"
   },
   "outputs": [
    {
     "name": "stdout",
     "output_type": "stream",
     "text": [
      "[[ 60 134]\n",
      " [ 10 840]]\n",
      "              precision    recall  f1-score   support\n",
      "\n",
      "           0       0.86      0.31      0.45       194\n",
      "           1       0.86      0.99      0.92       850\n",
      "\n",
      "    accuracy                           0.86      1044\n",
      "   macro avg       0.86      0.65      0.69      1044\n",
      "weighted avg       0.86      0.86      0.83      1044\n",
      "\n"
     ]
    }
   ],
   "source": [
    "from sklearn.metrics import confusion_matrix\n",
    "from sklearn.metrics import classification_report\n",
    "print(confusion_matrix(np.array(val.relation.values), predictions.ravel(), labels=[0,1]))\n",
    "print(classification_report(np.array(val.relation.values), predictions.ravel()))"
   ]
  },
  {
   "cell_type": "code",
   "execution_count": 41,
   "metadata": {
    "colab": {
     "base_uri": "https://localhost:8080/"
    },
    "id": "7YtpaqNDcM9j",
    "outputId": "03ed8fbc-408a-4f3c-87d8-2956a21e1684"
   },
   "outputs": [
    {
     "name": "stdout",
     "output_type": "stream",
     "text": [
      "[[ 612  748]\n",
      " [ 241 5586]]\n",
      "              precision    recall  f1-score   support\n",
      "\n",
      "           0       0.72      0.45      0.55      1360\n",
      "           1       0.88      0.96      0.92      5827\n",
      "\n",
      "    accuracy                           0.86      7187\n",
      "   macro avg       0.80      0.70      0.74      7187\n",
      "weighted avg       0.85      0.86      0.85      7187\n",
      "\n"
     ]
    }
   ],
   "source": [
    "predictions = model.predict_classes(word_seq_train)\n",
    "print(confusion_matrix(np.array(train.relation.values), predictions.ravel(), labels=[0,1]))\n",
    "print(classification_report(np.array(train.relation.values), predictions.ravel()))"
   ]
  },
  {
   "cell_type": "code",
   "execution_count": null,
   "metadata": {
    "id": "xAIxYhXHQauM"
   },
   "outputs": [],
   "source": []
  }
 ],
 "metadata": {
  "accelerator": "GPU",
  "colab": {
   "collapsed_sections": [],
   "name": "fin_word2vec_finetune_vanilla.ipynb",
   "provenance": []
  },
  "kernelspec": {
   "display_name": "Python 3",
   "language": "python",
   "name": "python3"
  },
  "language_info": {
   "codemirror_mode": {
    "name": "ipython",
    "version": 3
   },
   "file_extension": ".py",
   "mimetype": "text/x-python",
   "name": "python",
   "nbconvert_exporter": "python",
   "pygments_lexer": "ipython3",
   "version": "3.8.3"
  }
 },
 "nbformat": 4,
 "nbformat_minor": 1
}
