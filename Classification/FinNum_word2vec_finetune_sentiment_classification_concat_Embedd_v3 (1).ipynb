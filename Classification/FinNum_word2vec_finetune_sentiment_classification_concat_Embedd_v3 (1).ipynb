{
  "nbformat": 4,
  "nbformat_minor": 0,
  "metadata": {
    "accelerator": "GPU",
    "colab": {
      "name": "FinNum_word2vec_finetune_sentiment_classification_concat_Embedd_v3.ipynb",
      "provenance": [],
      "collapsed_sections": []
    },
    "kernelspec": {
      "display_name": "Python 3",
      "language": "python",
      "name": "python3"
    },
    "language_info": {
      "codemirror_mode": {
        "name": "ipython",
        "version": 3
      },
      "file_extension": ".py",
      "mimetype": "text/x-python",
      "name": "python",
      "nbconvert_exporter": "python",
      "pygments_lexer": "ipython3",
      "version": "3.8.3"
    }
  },
  "cells": [
    {
      "cell_type": "code",
      "metadata": {
        "colab": {
          "base_uri": "https://localhost:8080/"
        },
        "id": "v6uGjdgV7fCe",
        "outputId": "f454867d-a40b-45e6-d67e-4ecaf52472e8"
      },
      "source": [
        "#mount the drive\n",
        "from google.colab import drive\n",
        "drive.mount('/content/drive', force_remount=True)"
      ],
      "execution_count": 1,
      "outputs": [
        {
          "output_type": "stream",
          "text": [
            "Mounted at /content/drive\n"
          ],
          "name": "stdout"
        }
      ]
    },
    {
      "cell_type": "code",
      "metadata": {
        "id": "W_QIxD3R68bz"
      },
      "source": [
        "import gensim\n",
        "from tqdm import tqdm\n",
        "import os\n",
        "from gensim.models.fasttext import FastText"
      ],
      "execution_count": 2,
      "outputs": []
    },
    {
      "cell_type": "code",
      "metadata": {
        "id": "NAqYXr7FA0g8"
      },
      "source": [
        "# For array, dataset, and visualizing\n",
        "import numpy as np\n",
        "import pandas as pd\n",
        "import seaborn as sns\n",
        "import matplotlib.pyplot as plt"
      ],
      "execution_count": 3,
      "outputs": []
    },
    {
      "cell_type": "code",
      "metadata": {
        "colab": {
          "base_uri": "https://localhost:8080/"
        },
        "id": "oFt1hjeWCoW6",
        "outputId": "7f78d201-84f3-4f4d-c16b-28445199fa6a"
      },
      "source": [
        "#For Pre-Processing\n",
        "from tqdm import tqdm\n",
        "import nltk\n",
        "from nltk.corpus import stopwords\n",
        "nltk.download('stopwords')\n",
        "nltk.download('punkt')\n",
        "from nltk.tokenize import RegexpTokenizer \n",
        "from nltk.tokenize import word_tokenize"
      ],
      "execution_count": 4,
      "outputs": [
        {
          "output_type": "stream",
          "text": [
            "[nltk_data] Downloading package stopwords to /root/nltk_data...\n",
            "[nltk_data]   Unzipping corpora/stopwords.zip.\n",
            "[nltk_data] Downloading package punkt to /root/nltk_data...\n",
            "[nltk_data]   Unzipping tokenizers/punkt.zip.\n"
          ],
          "name": "stdout"
        }
      ]
    },
    {
      "cell_type": "code",
      "metadata": {
        "id": "3M0vxqtwCYx5"
      },
      "source": [
        "from keras.preprocessing.text import Tokenizer\n",
        "from keras.preprocessing import sequence\n",
        "MAX_NB_WORDS = 500000\n",
        "tokenizer = RegexpTokenizer(r'\\w+')\n",
        "stop_words = set(stopwords.words('english'))\n",
        "stop_words.update(['.', ',', '\"', \"'\", ':', ';', '(', ')', '[', ']', '{', '}'])"
      ],
      "execution_count": 5,
      "outputs": []
    },
    {
      "cell_type": "code",
      "metadata": {
        "colab": {
          "base_uri": "https://localhost:8080/"
        },
        "id": "4x7lf4c170Uh",
        "outputId": "b2c53250-98d8-4a0a-baa1-0f58b64d6b5d"
      },
      "source": [
        "cd  /content/drive/My Drive/praveen_iiit_hyd_ire_class/ten_k_project_work/pretrain_models/word2vec_fasttext"
      ],
      "execution_count": 6,
      "outputs": [
        {
          "output_type": "stream",
          "text": [
            "/content/drive/.shortcut-targets-by-id/1bAH82a4OCCwO_0oYQxNKaht5KBDdKQGA/word2vec_fasttext\n"
          ],
          "name": "stdout"
        }
      ]
    },
    {
      "cell_type": "code",
      "metadata": {
        "id": "8BYamGHe68cM"
      },
      "source": [
        "model_name = \"./fin_word2vec\""
      ],
      "execution_count": 7,
      "outputs": []
    },
    {
      "cell_type": "code",
      "metadata": {
        "id": "sy9eB1TY68cc"
      },
      "source": [
        "model = gensim.models.Word2Vec.load(model_name)"
      ],
      "execution_count": 8,
      "outputs": []
    },
    {
      "cell_type": "code",
      "metadata": {
        "colab": {
          "base_uri": "https://localhost:8080/"
        },
        "id": "ILoV9y1n68dN",
        "outputId": "9198f0d3-5370-49d3-8339-ae40060fd4c1"
      },
      "source": [
        "import json \n",
        "traind=[]\n",
        "vald=[]\n",
        "dir = \"/content/drive/My Drive/praveen_iiit_hyd_ire_class/ten_k_project_work/data/\"\n",
        "# Opening JSON file \n",
        "with open(dir+'FinNum_training_v3.json',) as f: \n",
        "  traind = json.load(f) \n",
        "with open(dir+'FinNum_dev_v3.json',) as f: \n",
        "  vald = json.load(f) \n",
        "\n",
        "train = pd.DataFrame(traind) \n",
        "val = pd.DataFrame(vald) \n",
        "print(train.shape, val.shape)\n",
        "train = train.sample(frac = 1)\n",
        "val = val.sample(frac = 1)\n"
      ],
      "execution_count": 9,
      "outputs": [
        {
          "output_type": "stream",
          "text": [
            "(7187, 5) (1044, 5)\n"
          ],
          "name": "stdout"
        }
      ]
    },
    {
      "cell_type": "code",
      "metadata": {
        "colab": {
          "base_uri": "https://localhost:8080/",
          "height": 204
        },
        "id": "vE6IYJrGv1h8",
        "outputId": "cd97cdac-077b-4dd7-f80e-adc241973baf"
      },
      "source": [
        "train.head()"
      ],
      "execution_count": 10,
      "outputs": [
        {
          "output_type": "execute_result",
          "data": {
            "text/html": [
              "<div>\n",
              "<style scoped>\n",
              "    .dataframe tbody tr th:only-of-type {\n",
              "        vertical-align: middle;\n",
              "    }\n",
              "\n",
              "    .dataframe tbody tr th {\n",
              "        vertical-align: top;\n",
              "    }\n",
              "\n",
              "    .dataframe thead th {\n",
              "        text-align: right;\n",
              "    }\n",
              "</style>\n",
              "<table border=\"1\" class=\"dataframe\">\n",
              "  <thead>\n",
              "    <tr style=\"text-align: right;\">\n",
              "      <th></th>\n",
              "      <th>tweet</th>\n",
              "      <th>target_num</th>\n",
              "      <th>offset</th>\n",
              "      <th>target_cashtag</th>\n",
              "      <th>relation</th>\n",
              "    </tr>\n",
              "  </thead>\n",
              "  <tbody>\n",
              "    <tr>\n",
              "      <th>6647</th>\n",
              "      <td>My watchlists for monday 27 Nov 2017 are as fo...</td>\n",
              "      <td>27</td>\n",
              "      <td>25</td>\n",
              "      <td>lc</td>\n",
              "      <td>0</td>\n",
              "    </tr>\n",
              "    <tr>\n",
              "      <th>1747</th>\n",
              "      <td>Biotechs w/ news I’m bullish &amp;amp; buying call...</td>\n",
              "      <td>10</td>\n",
              "      <td>64</td>\n",
              "      <td>FBIO</td>\n",
              "      <td>1</td>\n",
              "    </tr>\n",
              "    <tr>\n",
              "      <th>4696</th>\n",
              "      <td>$UVXY vix at 9.5 , oil will break down so all ...</td>\n",
              "      <td>9.5</td>\n",
              "      <td>13</td>\n",
              "      <td>UVXY</td>\n",
              "      <td>1</td>\n",
              "    </tr>\n",
              "    <tr>\n",
              "      <th>6561</th>\n",
              "      <td>$BB BlackBerry at Digital Times\\nPart 2: A Can...</td>\n",
              "      <td>2</td>\n",
              "      <td>37</td>\n",
              "      <td>BB.CA</td>\n",
              "      <td>0</td>\n",
              "    </tr>\n",
              "    <tr>\n",
              "      <th>6033</th>\n",
              "      <td>$SLB $RIG $MRO $CVX $XOM  The only trades gett...</td>\n",
              "      <td>25</td>\n",
              "      <td>128</td>\n",
              "      <td>XOM</td>\n",
              "      <td>0</td>\n",
              "    </tr>\n",
              "  </tbody>\n",
              "</table>\n",
              "</div>"
            ],
            "text/plain": [
              "                                                  tweet  ... relation\n",
              "6647  My watchlists for monday 27 Nov 2017 are as fo...  ...        0\n",
              "1747  Biotechs w/ news I’m bullish &amp; buying call...  ...        1\n",
              "4696  $UVXY vix at 9.5 , oil will break down so all ...  ...        1\n",
              "6561  $BB BlackBerry at Digital Times\\nPart 2: A Can...  ...        0\n",
              "6033  $SLB $RIG $MRO $CVX $XOM  The only trades gett...  ...        0\n",
              "\n",
              "[5 rows x 5 columns]"
            ]
          },
          "metadata": {
            "tags": []
          },
          "execution_count": 10
        }
      ]
    },
    {
      "cell_type": "code",
      "metadata": {
        "id": "WCTUXbkev05V"
      },
      "source": [
        "train['aux'] = '$'+train.target_cashtag+\"-\"+train.target_num\n",
        "val['aux'] = '$'+val.target_cashtag+\"-\"+val.target_num\n"
      ],
      "execution_count": 11,
      "outputs": []
    },
    {
      "cell_type": "code",
      "metadata": {
        "colab": {
          "base_uri": "https://localhost:8080/",
          "height": 204
        },
        "id": "hQE0ZFJkwNtt",
        "outputId": "d976a36f-7ebf-449f-9196-b206f338b17b"
      },
      "source": [
        "train.head()"
      ],
      "execution_count": 12,
      "outputs": [
        {
          "output_type": "execute_result",
          "data": {
            "text/html": [
              "<div>\n",
              "<style scoped>\n",
              "    .dataframe tbody tr th:only-of-type {\n",
              "        vertical-align: middle;\n",
              "    }\n",
              "\n",
              "    .dataframe tbody tr th {\n",
              "        vertical-align: top;\n",
              "    }\n",
              "\n",
              "    .dataframe thead th {\n",
              "        text-align: right;\n",
              "    }\n",
              "</style>\n",
              "<table border=\"1\" class=\"dataframe\">\n",
              "  <thead>\n",
              "    <tr style=\"text-align: right;\">\n",
              "      <th></th>\n",
              "      <th>tweet</th>\n",
              "      <th>target_num</th>\n",
              "      <th>offset</th>\n",
              "      <th>target_cashtag</th>\n",
              "      <th>relation</th>\n",
              "      <th>aux</th>\n",
              "    </tr>\n",
              "  </thead>\n",
              "  <tbody>\n",
              "    <tr>\n",
              "      <th>6647</th>\n",
              "      <td>My watchlists for monday 27 Nov 2017 are as fo...</td>\n",
              "      <td>27</td>\n",
              "      <td>25</td>\n",
              "      <td>lc</td>\n",
              "      <td>0</td>\n",
              "      <td>$lc-27</td>\n",
              "    </tr>\n",
              "    <tr>\n",
              "      <th>1747</th>\n",
              "      <td>Biotechs w/ news I’m bullish &amp;amp; buying call...</td>\n",
              "      <td>10</td>\n",
              "      <td>64</td>\n",
              "      <td>FBIO</td>\n",
              "      <td>1</td>\n",
              "      <td>$FBIO-10</td>\n",
              "    </tr>\n",
              "    <tr>\n",
              "      <th>4696</th>\n",
              "      <td>$UVXY vix at 9.5 , oil will break down so all ...</td>\n",
              "      <td>9.5</td>\n",
              "      <td>13</td>\n",
              "      <td>UVXY</td>\n",
              "      <td>1</td>\n",
              "      <td>$UVXY-9.5</td>\n",
              "    </tr>\n",
              "    <tr>\n",
              "      <th>6561</th>\n",
              "      <td>$BB BlackBerry at Digital Times\\nPart 2: A Can...</td>\n",
              "      <td>2</td>\n",
              "      <td>37</td>\n",
              "      <td>BB.CA</td>\n",
              "      <td>0</td>\n",
              "      <td>$BB.CA-2</td>\n",
              "    </tr>\n",
              "    <tr>\n",
              "      <th>6033</th>\n",
              "      <td>$SLB $RIG $MRO $CVX $XOM  The only trades gett...</td>\n",
              "      <td>25</td>\n",
              "      <td>128</td>\n",
              "      <td>XOM</td>\n",
              "      <td>0</td>\n",
              "      <td>$XOM-25</td>\n",
              "    </tr>\n",
              "  </tbody>\n",
              "</table>\n",
              "</div>"
            ],
            "text/plain": [
              "                                                  tweet  ...        aux\n",
              "6647  My watchlists for monday 27 Nov 2017 are as fo...  ...     $lc-27\n",
              "1747  Biotechs w/ news I’m bullish &amp; buying call...  ...   $FBIO-10\n",
              "4696  $UVXY vix at 9.5 , oil will break down so all ...  ...  $UVXY-9.5\n",
              "6561  $BB BlackBerry at Digital Times\\nPart 2: A Can...  ...   $BB.CA-2\n",
              "6033  $SLB $RIG $MRO $CVX $XOM  The only trades gett...  ...    $XOM-25\n",
              "\n",
              "[5 rows x 6 columns]"
            ]
          },
          "metadata": {
            "tags": []
          },
          "execution_count": 12
        }
      ]
    },
    {
      "cell_type": "code",
      "metadata": {
        "id": "F47Y00aM9Ehu"
      },
      "source": [
        "cols = ['tweet', 'aux', 'relation' ]\n",
        "train = train[cols]\n",
        "val = val[cols]"
      ],
      "execution_count": 13,
      "outputs": []
    },
    {
      "cell_type": "code",
      "metadata": {
        "colab": {
          "base_uri": "https://localhost:8080/"
        },
        "id": "Pa31Mnm_9LOu",
        "outputId": "5a3d9a7e-3a92-4be9-d32c-a4e0f0870eb1"
      },
      "source": [
        "print(train.relation.value_counts())\n",
        "print(val.relation.value_counts())"
      ],
      "execution_count": 14,
      "outputs": [
        {
          "output_type": "stream",
          "text": [
            "1    5827\n",
            "0    1360\n",
            "Name: relation, dtype: int64\n",
            "1    850\n",
            "0    194\n",
            "Name: relation, dtype: int64\n"
          ],
          "name": "stdout"
        }
      ]
    },
    {
      "cell_type": "code",
      "metadata": {
        "colab": {
          "base_uri": "https://localhost:8080/",
          "height": 204
        },
        "id": "Ph9biJ1D9OhI",
        "outputId": "fae25faa-65c5-413e-a70b-c437e0735973"
      },
      "source": [
        "train.head()"
      ],
      "execution_count": 15,
      "outputs": [
        {
          "output_type": "execute_result",
          "data": {
            "text/html": [
              "<div>\n",
              "<style scoped>\n",
              "    .dataframe tbody tr th:only-of-type {\n",
              "        vertical-align: middle;\n",
              "    }\n",
              "\n",
              "    .dataframe tbody tr th {\n",
              "        vertical-align: top;\n",
              "    }\n",
              "\n",
              "    .dataframe thead th {\n",
              "        text-align: right;\n",
              "    }\n",
              "</style>\n",
              "<table border=\"1\" class=\"dataframe\">\n",
              "  <thead>\n",
              "    <tr style=\"text-align: right;\">\n",
              "      <th></th>\n",
              "      <th>tweet</th>\n",
              "      <th>aux</th>\n",
              "      <th>relation</th>\n",
              "    </tr>\n",
              "  </thead>\n",
              "  <tbody>\n",
              "    <tr>\n",
              "      <th>6647</th>\n",
              "      <td>My watchlists for monday 27 Nov 2017 are as fo...</td>\n",
              "      <td>$lc-27</td>\n",
              "      <td>0</td>\n",
              "    </tr>\n",
              "    <tr>\n",
              "      <th>1747</th>\n",
              "      <td>Biotechs w/ news I’m bullish &amp;amp; buying call...</td>\n",
              "      <td>$FBIO-10</td>\n",
              "      <td>1</td>\n",
              "    </tr>\n",
              "    <tr>\n",
              "      <th>4696</th>\n",
              "      <td>$UVXY vix at 9.5 , oil will break down so all ...</td>\n",
              "      <td>$UVXY-9.5</td>\n",
              "      <td>1</td>\n",
              "    </tr>\n",
              "    <tr>\n",
              "      <th>6561</th>\n",
              "      <td>$BB BlackBerry at Digital Times\\nPart 2: A Can...</td>\n",
              "      <td>$BB.CA-2</td>\n",
              "      <td>0</td>\n",
              "    </tr>\n",
              "    <tr>\n",
              "      <th>6033</th>\n",
              "      <td>$SLB $RIG $MRO $CVX $XOM  The only trades gett...</td>\n",
              "      <td>$XOM-25</td>\n",
              "      <td>0</td>\n",
              "    </tr>\n",
              "  </tbody>\n",
              "</table>\n",
              "</div>"
            ],
            "text/plain": [
              "                                                  tweet        aux  relation\n",
              "6647  My watchlists for monday 27 Nov 2017 are as fo...     $lc-27         0\n",
              "1747  Biotechs w/ news I’m bullish &amp; buying call...   $FBIO-10         1\n",
              "4696  $UVXY vix at 9.5 , oil will break down so all ...  $UVXY-9.5         1\n",
              "6561  $BB BlackBerry at Digital Times\\nPart 2: A Can...   $BB.CA-2         0\n",
              "6033  $SLB $RIG $MRO $CVX $XOM  The only trades gett...    $XOM-25         0"
            ]
          },
          "metadata": {
            "tags": []
          },
          "execution_count": 15
        }
      ]
    },
    {
      "cell_type": "code",
      "metadata": {
        "colab": {
          "base_uri": "https://localhost:8080/",
          "height": 350
        },
        "id": "hPry2ixQA7f4",
        "outputId": "a11a2394-73ad-45db-d801-a8b1698d08d5"
      },
      "source": [
        "train['tweet_len'] = train.tweet.apply(lambda words: len(words.split(\" \")))\n",
        "max_seq_len = np.round(train.tweet_len.mean() + 2*train.tweet_len.std()).astype(int)\n",
        "\n",
        "sns.distplot(train.tweet_len, hist=True, kde=True, color='b', label='tweets size len')\n",
        "plt.axvline(x=max_seq_len, color='k', linestyle='--', label='max len')\n",
        "plt.title('comment length'); plt.legend()\n",
        "plt.show()"
      ],
      "execution_count": 16,
      "outputs": [
        {
          "output_type": "stream",
          "text": [
            "/usr/local/lib/python3.6/dist-packages/seaborn/distributions.py:2551: FutureWarning: `distplot` is a deprecated function and will be removed in a future version. Please adapt your code to use either `displot` (a figure-level function with similar flexibility) or `histplot` (an axes-level function for histograms).\n",
            "  warnings.warn(msg, FutureWarning)\n"
          ],
          "name": "stderr"
        },
        {
          "output_type": "display_data",
          "data": {
            "image/png": "[encoded data removed]",
            "text/plain": [
              "<Figure size 432x288 with 1 Axes>"
            ]
          },
          "metadata": {
            "tags": [],
            "needs_background": "light"
          }
        }
      ]
    },
    {
      "cell_type": "code",
      "metadata": {
        "colab": {
          "base_uri": "https://localhost:8080/"
        },
        "id": "1AfVsZ_m9tp9",
        "outputId": "b5a7dc87-c60b-4588-d473-1a3650011f4c"
      },
      "source": [
        "label_dict = {}\n",
        "for index, possible_label in enumerate(train.relation.unique()):\n",
        "    label_dict[possible_label] = index\n",
        "\n",
        "l_train = train.tweet.tolist()\n",
        "aux_train = train.aux.tolist()\n",
        "l_test = val.tweet.tolist()\n",
        "aux_test = val.aux.tolist()\n",
        "num_classes = len(label_dict)\n",
        "\n",
        "\n",
        "clean_train = []\n",
        "for doc in tqdm(l_train):\n",
        "  tokens = word_tokenize(doc)\n",
        "  filtered = [word for word in tokens if word not in stop_words]\n",
        "  clean_train.append(\" \".join(filtered))\n",
        "\n",
        "clean_train_aux = []\n",
        "for doc in tqdm(aux_train):\n",
        "  tokens = word_tokenize(doc)\n",
        "  filtered = [word for word in tokens if word not in stop_words]\n",
        "  clean_train_aux.append(\" \".join(filtered))\n",
        "\n",
        "\n",
        "clean_test = []\n",
        "for doc in tqdm(l_test):\n",
        "  tokens = word_tokenize(doc)\n",
        "  filtered = [word for word in tokens if word not in stop_words]\n",
        "  clean_test.append(\" \".join(filtered))\n",
        "\n",
        "clean_test_aux = []\n",
        "for doc in tqdm(aux_test):\n",
        "  tokens = word_tokenize(doc)\n",
        "  filtered = [word for word in tokens if word not in stop_words]\n",
        "  clean_test_aux.append(\" \".join(filtered))\n",
        "\n",
        "print(\"Tokenizing: \")\n",
        "tokenizer = Tokenizer(num_words=MAX_NB_WORDS, lower=True, char_level=False)\n",
        "tokenizer.fit_on_texts(clean_train + clean_train_aux+ clean_test+clean_test_aux)  \n",
        "\n",
        "word_seq_train = tokenizer.texts_to_sequences(clean_train)\n",
        "word_seq_train_aux = tokenizer.texts_to_sequences(clean_train_aux)\n",
        "word_seq_test = tokenizer.texts_to_sequences(clean_test)\n",
        "word_seq_test_aux = tokenizer.texts_to_sequences(clean_test_aux)\n",
        "\n",
        "word_index = tokenizer.word_index\n",
        "print(\"dictionary size: \", len(word_index))\n",
        "\n",
        "word_seq_train = sequence.pad_sequences(word_seq_train, maxlen=max_seq_len)\n",
        "word_seq_test = sequence.pad_sequences(word_seq_test, maxlen=max_seq_len)\n",
        "word_seq_train_aux = sequence.pad_sequences(word_seq_train_aux, maxlen=max_seq_len)\n",
        "word_seq_test_aux = sequence.pad_sequences(word_seq_test_aux, maxlen=max_seq_len)"
      ],
      "execution_count": 17,
      "outputs": [
        {
          "output_type": "stream",
          "text": [
            "100%|██████████| 7187/7187 [00:01<00:00, 3884.61it/s]\n",
            "100%|██████████| 7187/7187 [00:00<00:00, 14296.48it/s]\n",
            "100%|██████████| 1044/1044 [00:00<00:00, 4184.17it/s]\n",
            "100%|██████████| 1044/1044 [00:00<00:00, 14285.98it/s]\n"
          ],
          "name": "stderr"
        },
        {
          "output_type": "stream",
          "text": [
            "Tokenizing: \n",
            "dictionary size:  12180\n"
          ],
          "name": "stdout"
        }
      ]
    },
    {
      "cell_type": "code",
      "metadata": {
        "colab": {
          "base_uri": "https://localhost:8080/"
        },
        "id": "SCzC2wDyF6_k",
        "outputId": "accd5381-c82c-47af-ee1d-045a52eaae54"
      },
      "source": [
        "word_seq_train[10]"
      ],
      "execution_count": 18,
      "outputs": [
        {
          "output_type": "execute_result",
          "data": {
            "text/plain": [
              "array([   0,    0,    0,    0,    0,    0,    0,    0,    0,    0,    0,\n",
              "          0,    0,  188,  722,  108,  162,  158,  134,   64,  123,  347,\n",
              "       1168,  148,   61,  326,   94,   94, 1097,  665,   23], dtype=int32)"
            ]
          },
          "metadata": {
            "tags": []
          },
          "execution_count": 18
        }
      ]
    },
    {
      "cell_type": "code",
      "metadata": {
        "id": "Pqp3_jxLDuQd"
      },
      "source": [
        "\n",
        "#model parameters\n",
        "num_filters = 64 \n",
        "embed_dim = 300 \n",
        "weight_decay = 1e-4"
      ],
      "execution_count": 19,
      "outputs": []
    },
    {
      "cell_type": "code",
      "metadata": {
        "colab": {
          "base_uri": "https://localhost:8080/"
        },
        "id": "w31Mb7wYxpbi",
        "outputId": "b9d21bbd-c0da-4ee5-c23b-da91735470a4"
      },
      "source": [
        "#load char model\n",
        "!pip install chars2vec"
      ],
      "execution_count": 20,
      "outputs": [
        {
          "output_type": "stream",
          "text": [
            "Collecting chars2vec\n",
            "\u001b[?25l  Downloading https://files.pythonhosted.org/packages/04/0a/8c327aae23e0532d239ec7b30446aca765eb5d9547b4c4b09cdd82e49797/chars2vec-0.1.7.tar.gz (8.1MB)\n",
            "\u001b[K     |████████████████████████████████| 8.1MB 11.3MB/s \n",
            "\u001b[?25hBuilding wheels for collected packages: chars2vec\n",
            "  Building wheel for chars2vec (setup.py) ... \u001b[?25l\u001b[?25hdone\n",
            "  Created wheel for chars2vec: filename=chars2vec-0.1.7-cp36-none-any.whl size=8111096 sha256=cf59e2797d66ad88f54ea8a6262cebd16def6306e549cf79d6601c3e200cb112\n",
            "  Stored in directory: /root/.cache/pip/wheels/97/b6/65/d7e778ef1213ec77d315aea0f536068b96e36cc94c02abbfde\n",
            "Successfully built chars2vec\n",
            "Installing collected packages: chars2vec\n",
            "Successfully installed chars2vec-0.1.7\n"
          ],
          "name": "stdout"
        }
      ]
    },
    {
      "cell_type": "code",
      "metadata": {
        "id": "XM9mPfx4xxbb"
      },
      "source": [
        "import chars2vec\n",
        "c2v_model = chars2vec.load_model('eng_300')"
      ],
      "execution_count": 21,
      "outputs": []
    },
    {
      "cell_type": "code",
      "metadata": {
        "id": "Iv1_Yw15FpUh"
      },
      "source": [
        "def get_embedding(word):\n",
        "    try:\n",
        "        embedding=model[word]\n",
        "    except:\n",
        "        embedding=c2v_model.vectorize_words([word])#np.zeros((embed_dim,))\n",
        "    return embedding"
      ],
      "execution_count": 22,
      "outputs": []
    },
    {
      "cell_type": "code",
      "metadata": {
        "id": "AZHWQctlygTd"
      },
      "source": [
        "#for word, i in word_index.items():\n",
        "#    if i >= nb_words:\n",
        "#        continue\n",
        "#    print(word)"
      ],
      "execution_count": 23,
      "outputs": []
    },
    {
      "cell_type": "code",
      "metadata": {
        "colab": {
          "base_uri": "https://localhost:8080/"
        },
        "id": "D4WY-6neGZii",
        "outputId": "c8308cfb-3f37-426b-88db-875b8ca5780d"
      },
      "source": [
        "#embedding matrix\n",
        "\n",
        "print('preparing embedding matrix...')\n",
        "\n",
        "words_not_found = []\n",
        "nb_words = min(MAX_NB_WORDS, len(word_index)+1)\n",
        "embedding_matrix = np.zeros((nb_words, embed_dim))\n",
        "\n",
        "for word, i in word_index.items():\n",
        "    if i >= nb_words:\n",
        "        continue\n",
        "    embedding_vector = get_embedding(word)\n",
        "    if (embedding_vector is not None) and len(embedding_vector) > 0:\n",
        "        # words not found in embedding index will be all-zeros.\n",
        "        embedding_matrix[i] = embedding_vector\n",
        "        if np.sum(embedding_vector) == 0:\n",
        "          words_not_found.append(word)\n",
        "print('number of null word embeddings: %d' % np.sum(np.sum(embedding_matrix, axis=1) == 0))"
      ],
      "execution_count": 24,
      "outputs": [
        {
          "output_type": "stream",
          "text": [
            "preparing embedding matrix...\n"
          ],
          "name": "stdout"
        },
        {
          "output_type": "stream",
          "text": [
            "/usr/local/lib/python3.6/dist-packages/ipykernel_launcher.py:3: DeprecationWarning: Call to deprecated `__getitem__` (Method will be removed in 4.0.0, use self.wv.__getitem__() instead).\n",
            "  This is separate from the ipykernel package so we can avoid doing imports until\n"
          ],
          "name": "stderr"
        },
        {
          "output_type": "stream",
          "text": [
            "number of null word embeddings: 1\n"
          ],
          "name": "stdout"
        }
      ]
    },
    {
      "cell_type": "code",
      "metadata": {
        "colab": {
          "base_uri": "https://localhost:8080/"
        },
        "id": "tKi8vtOKGs7w",
        "outputId": "a6da8f29-36e9-4624-86a1-abe88fa9c630"
      },
      "source": [
        "print(words_not_found[50:100])"
      ],
      "execution_count": 25,
      "outputs": [
        {
          "output_type": "stream",
          "text": [
            "[]\n"
          ],
          "name": "stdout"
        }
      ]
    },
    {
      "cell_type": "code",
      "metadata": {
        "id": "dmahh384KZhQ"
      },
      "source": [
        "import keras\n",
        "from keras import optimizers\n",
        "from keras import backend as K\n",
        "from keras import regularizers\n",
        "from keras.models import Sequential\n",
        "from keras.layers import Dense, Activation, Dropout, Flatten, concatenate, add, merge, multiply, dot\n",
        "from tensorflow.keras.layers import Embedding, LSTM, Dense, Dropout, Bidirectional, Concatenate, Input, TimeDistributed"
      ],
      "execution_count": 26,
      "outputs": []
    },
    {
      "cell_type": "code",
      "metadata": {
        "id": "Otek0U9AOtvc"
      },
      "source": [
        "# avoid model to overwrite\n",
        "keras.backend.clear_session()"
      ],
      "execution_count": 27,
      "outputs": []
    },
    {
      "cell_type": "code",
      "metadata": {
        "colab": {
          "base_uri": "https://localhost:8080/"
        },
        "id": "ZNv9_KA30N6z",
        "outputId": "f3449bd4-584b-44d8-a525-7f55064f4a43"
      },
      "source": [
        "import tensorflow as tf\n",
        "tf.config.run_functions_eagerly(True)\n",
        "\n",
        "sentence_in = Input(shape=(max_seq_len, ), dtype='int32', name=\"tweet\")\n",
        "sent_embedding_layer = Embedding(nb_words,embed_dim,input_length=max_seq_len, weights=[embedding_matrix],trainable=False) (sentence_in)\n",
        "lstm_sentence = Bidirectional(LSTM(256))(sent_embedding_layer)\n",
        "\n",
        "\n",
        "\n",
        "aspects_in = Input(shape=(max_seq_len,), dtype='int32', name=\"aux\")\n",
        "aspects_embedding_layer = Embedding(nb_words,embed_dim,input_length=max_seq_len, weights=[embedding_matrix],trainable=False) (aspects_in)\n",
        "lstm_aspects = Bidirectional(LSTM(256))(aspects_embedding_layer)\n",
        "\n",
        "\n",
        "x = concatenate([sent_embedding_layer, aspects_embedding_layer])\n",
        "x = Bidirectional(LSTM(256, return_sequences=True)) (x)\n",
        "x = Bidirectional(LSTM(256)) (x)\n",
        "x=  Dropout(.3) (x)\n",
        "x = Dense(1024,activation='relu')(x)\n",
        "x=  Dropout(.3) (x)\n",
        "x = Dense(128,activation='relu')(x)\n",
        "x=  Dropout(.3) (x)\n",
        "preds = Dense(1,activation= 'sigmoid')(x)\n",
        "\n",
        "model = tf.keras.Model(inputs=[sentence_in, aspects_in], outputs=preds)\n",
        "\n",
        "dot_img_file = '/content/drive/My Drive/praveen_iiit_hyd_ire_class/ten_k_project_work/data/model_classif_embed_concat.png'\n",
        "tf.keras.utils.plot_model(model, to_file=dot_img_file, show_shapes=True)\n",
        "\n",
        "model.summary()"
      ],
      "execution_count": 28,
      "outputs": [
        {
          "output_type": "stream",
          "text": [
            "Model: \"functional_1\"\n",
            "__________________________________________________________________________________________________\n",
            "Layer (type)                    Output Shape         Param #     Connected to                     \n",
            "==================================================================================================\n",
            "tweet (InputLayer)              [(None, 31)]         0                                            \n",
            "__________________________________________________________________________________________________\n",
            "aux (InputLayer)                [(None, 31)]         0                                            \n",
            "__________________________________________________________________________________________________\n",
            "embedding (Embedding)           (None, 31, 300)      3654300     tweet[0][0]                      \n",
            "__________________________________________________________________________________________________\n",
            "embedding_1 (Embedding)         (None, 31, 300)      3654300     aux[0][0]                        \n",
            "__________________________________________________________________________________________________\n",
            "concatenate (Concatenate)       (None, 31, 600)      0           embedding[0][0]                  \n",
            "                                                                 embedding_1[0][0]                \n",
            "__________________________________________________________________________________________________\n",
            "bidirectional_2 (Bidirectional) (None, 31, 512)      1755136     concatenate[0][0]                \n",
            "__________________________________________________________________________________________________\n",
            "bidirectional_3 (Bidirectional) (None, 512)          1574912     bidirectional_2[0][0]            \n",
            "__________________________________________________________________________________________________\n",
            "dropout (Dropout)               (None, 512)          0           bidirectional_3[0][0]            \n",
            "__________________________________________________________________________________________________\n",
            "dense (Dense)                   (None, 1024)         525312      dropout[0][0]                    \n",
            "__________________________________________________________________________________________________\n",
            "dropout_1 (Dropout)             (None, 1024)         0           dense[0][0]                      \n",
            "__________________________________________________________________________________________________\n",
            "dense_1 (Dense)                 (None, 128)          131200      dropout_1[0][0]                  \n",
            "__________________________________________________________________________________________________\n",
            "dropout_2 (Dropout)             (None, 128)          0           dense_1[0][0]                    \n",
            "__________________________________________________________________________________________________\n",
            "dense_2 (Dense)                 (None, 1)            129         dropout_2[0][0]                  \n",
            "==================================================================================================\n",
            "Total params: 11,295,289\n",
            "Trainable params: 3,986,689\n",
            "Non-trainable params: 7,308,600\n",
            "__________________________________________________________________________________________________\n"
          ],
          "name": "stdout"
        }
      ]
    },
    {
      "cell_type": "code",
      "metadata": {
        "id": "k18dZ2bbKAwm"
      },
      "source": [
        "if 0:\n",
        "  from keras.layers import BatchNormalization\n",
        "  import tensorflow as tf\n",
        "\n",
        "  model = tf.keras.Sequential()\n",
        "\n",
        "  model.add(Embedding(nb_words,embed_dim,input_length=max_seq_len, weights=[embedding_matrix],trainable=False))\n",
        "  model.add(Dropout(0.2))\n",
        "  model.add(Bidirectional(LSTM(256,return_sequences= True)))\n",
        "  model.add(Dropout(0.3))\n",
        "  model.add(Bidirectional(LSTM(256,return_sequences= True)))\n",
        "  model.add(Dropout(0.3))\n",
        "  model.add(Bidirectional(LSTM(256)))\n",
        "  model.add(Dense(1024,activation='relu'))\n",
        "  model.add(Dropout(0.3))\n",
        "  model.add(Dense(64,activation='relu'))\n",
        "  model.add(Dense(1,activation='sigmoid'))\n",
        "  model.summary()"
      ],
      "execution_count": 29,
      "outputs": []
    },
    {
      "cell_type": "code",
      "metadata": {
        "id": "OkMGerayKSPP"
      },
      "source": [
        "from keras.optimizers import RMSprop\n",
        "from keras.callbacks import ModelCheckpoint\n",
        "from tensorflow.keras.callbacks import EarlyStopping\n",
        "from tensorflow.keras.optimizers import Adam, SGD\n",
        "\n",
        "model.compile(loss='binary_crossentropy', optimizer=Adam(lr=1e-3), metrics=['accuracy'])"
      ],
      "execution_count": 30,
      "outputs": []
    },
    {
      "cell_type": "code",
      "metadata": {
        "colab": {
          "base_uri": "https://localhost:8080/"
        },
        "id": "eIhET-vOYtcq",
        "outputId": "518fb942-be8d-423f-996d-67ae77e11848"
      },
      "source": [
        "!pwd"
      ],
      "execution_count": 31,
      "outputs": [
        {
          "output_type": "stream",
          "text": [
            "/content/drive/.shortcut-targets-by-id/1bAH82a4OCCwO_0oYQxNKaht5KBDdKQGA/word2vec_fasttext\n"
          ],
          "name": "stdout"
        }
      ]
    },
    {
      "cell_type": "code",
      "metadata": {
        "id": "u8Vq-UGgYmQT"
      },
      "source": [
        "checkpoint = ModelCheckpoint('word2vec_finetune_classification_weights_embed_v3.best.hdf5',\n",
        "                             verbose=1,\n",
        "                             save_weights_only=True,\n",
        "                             monitor = 'val_loss',\n",
        "                             mode='min',\n",
        "                             save_best_only=True)\n",
        "es_callback = EarlyStopping(monitor='val_loss', patience=5, mode=\"min\")"
      ],
      "execution_count": 32,
      "outputs": []
    },
    {
      "cell_type": "code",
      "metadata": {
        "colab": {
          "base_uri": "https://localhost:8080/"
        },
        "id": "OFuryH4ZKypq",
        "outputId": "faab9c5e-0a7a-4525-ca2d-62cdcd82b205"
      },
      "source": [
        "#es_callback = EarlyStopping(monitor='val_accuracy', patience=10, mode=\"max\")\n",
        "#training params\n",
        "batch_size = 32 \n",
        "num_epochs = 30\n",
        "\n",
        "history = model.fit([word_seq_train, word_seq_train_aux], train.relation.values, batch_size=batch_size,\n",
        "          epochs=num_epochs, validation_data=([word_seq_test, word_seq_test_aux], val.relation.values),\n",
        "          callbacks=[es_callback, checkpoint])"
      ],
      "execution_count": 33,
      "outputs": [
        {
          "output_type": "stream",
          "text": [
            "Epoch 1/30\n"
          ],
          "name": "stdout"
        },
        {
          "output_type": "stream",
          "text": [
            "/usr/local/lib/python3.6/dist-packages/tensorflow/python/data/ops/dataset_ops.py:3350: UserWarning: Even though the tf.config.experimental_run_functions_eagerly option is set, this option does not apply to tf.data functions. tf.data functions are still traced and executed as graphs.\n",
            "  \"Even though the tf.config.experimental_run_functions_eagerly \"\n"
          ],
          "name": "stderr"
        },
        {
          "output_type": "stream",
          "text": [
            "224/225 [============================>.] - ETA: 0s - loss: 0.4272 - accuracy: 0.8174\n",
            "Epoch 00001: val_loss improved from inf to 0.31425, saving model to word2vec_finetune_classification_weights_embed_v3.best.hdf5\n",
            "225/225 [==============================] - 11s 48ms/step - loss: 0.4272 - accuracy: 0.8174 - val_loss: 0.3143 - val_accuracy: 0.8496\n",
            "Epoch 2/30\n",
            "224/225 [============================>.] - ETA: 0s - loss: 0.3591 - accuracy: 0.8465\n",
            "Epoch 00002: val_loss did not improve from 0.31425\n",
            "225/225 [==============================] - 11s 49ms/step - loss: 0.3587 - accuracy: 0.8469 - val_loss: 0.3452 - val_accuracy: 0.8697\n",
            "Epoch 3/30\n",
            "225/225 [==============================] - ETA: 0s - loss: 0.3021 - accuracy: 0.8796\n",
            "Epoch 00003: val_loss improved from 0.31425 to 0.28354, saving model to word2vec_finetune_classification_weights_embed_v3.best.hdf5\n",
            "225/225 [==============================] - 11s 49ms/step - loss: 0.3021 - accuracy: 0.8796 - val_loss: 0.2835 - val_accuracy: 0.8860\n",
            "Epoch 4/30\n",
            "225/225 [==============================] - ETA: 0s - loss: 0.2570 - accuracy: 0.8977\n",
            "Epoch 00004: val_loss did not improve from 0.28354\n",
            "225/225 [==============================] - 11s 48ms/step - loss: 0.2570 - accuracy: 0.8977 - val_loss: 0.3855 - val_accuracy: 0.8630\n",
            "Epoch 5/30\n",
            "225/225 [==============================] - ETA: 0s - loss: 0.2133 - accuracy: 0.9150\n",
            "Epoch 00005: val_loss did not improve from 0.28354\n",
            "225/225 [==============================] - 11s 49ms/step - loss: 0.2133 - accuracy: 0.9150 - val_loss: 0.3931 - val_accuracy: 0.8726\n",
            "Epoch 6/30\n",
            "224/225 [============================>.] - ETA: 0s - loss: 0.1688 - accuracy: 0.9340\n",
            "Epoch 00006: val_loss did not improve from 0.28354\n",
            "225/225 [==============================] - 10s 47ms/step - loss: 0.1686 - accuracy: 0.9342 - val_loss: 0.3914 - val_accuracy: 0.8515\n",
            "Epoch 7/30\n",
            "225/225 [==============================] - ETA: 0s - loss: 0.1469 - accuracy: 0.9445\n",
            "Epoch 00007: val_loss did not improve from 0.28354\n",
            "225/225 [==============================] - 11s 48ms/step - loss: 0.1469 - accuracy: 0.9445 - val_loss: 0.4324 - val_accuracy: 0.8774\n",
            "Epoch 8/30\n",
            "225/225 [==============================] - ETA: 0s - loss: 0.1155 - accuracy: 0.9563\n",
            "Epoch 00008: val_loss did not improve from 0.28354\n",
            "225/225 [==============================] - 11s 48ms/step - loss: 0.1155 - accuracy: 0.9563 - val_loss: 0.4968 - val_accuracy: 0.8707\n"
          ],
          "name": "stdout"
        }
      ]
    },
    {
      "cell_type": "code",
      "metadata": {
        "colab": {
          "base_uri": "https://localhost:8080/",
          "height": 295
        },
        "id": "50AkTs_3MCCN",
        "outputId": "ef37acd7-8128-494a-939f-8bde993f020e"
      },
      "source": [
        "#generate plots\n",
        "plt.figure()\n",
        "plt.plot(history.history['loss'], lw=2.0, color='b', label='train')\n",
        "plt.plot(history.history['val_loss'], lw=2.0, color='r', label='val')\n",
        "plt.title('Loss')\n",
        "plt.xlabel('Epochs')\n",
        "plt.ylabel('Cross-Entropy Loss')\n",
        "plt.legend(loc='upper right')\n",
        "plt.show()"
      ],
      "execution_count": 42,
      "outputs": [
        {
          "output_type": "display_data",
          "data": {
            "image/png": "[encoded data removed]",
            "text/plain": [
              "<Figure size 432x288 with 1 Axes>"
            ]
          },
          "metadata": {
            "tags": [],
            "needs_background": "light"
          }
        }
      ]
    },
    {
      "cell_type": "code",
      "metadata": {
        "colab": {
          "base_uri": "https://localhost:8080/",
          "height": 295
        },
        "id": "HrnldxkeOSuI",
        "outputId": "dc0c3caf-d1ca-44db-82ba-51e19f90dc49"
      },
      "source": [
        "plt.figure()\n",
        "plt.plot(history.history['accuracy'], lw=2.0, color='b', label='train')\n",
        "plt.plot(history.history['val_accuracy'], lw=2.0, color='r', label='val')\n",
        "plt.title('Accuracy')\n",
        "plt.xlabel('Epochs')\n",
        "plt.ylabel('Accuracy')\n",
        "plt.legend(loc='upper left')\n",
        "plt.show()"
      ],
      "execution_count": 35,
      "outputs": [
        {
          "output_type": "display_data",
          "data": {
            "image/png": "[encoded data removed]",
            "text/plain": [
              "<Figure size 432x288 with 1 Axes>"
            ]
          },
          "metadata": {
            "tags": [],
            "needs_background": "light"
          }
        }
      ]
    },
    {
      "cell_type": "code",
      "metadata": {
        "id": "VYerrU8CZ0sb"
      },
      "source": [
        "\n",
        "model.load_weights('word2vec_finetune_classification_weights_embed_v3.best.hdf5')"
      ],
      "execution_count": 43,
      "outputs": []
    },
    {
      "cell_type": "code",
      "metadata": {
        "id": "lRwp0-QfOrQj",
        "colab": {
          "base_uri": "https://localhost:8080/"
        },
        "outputId": "c8876c8b-dead-4af0-882f-40ea64ee1fa0"
      },
      "source": [
        "predictions = model.predict([word_seq_test, word_seq_test_aux])\n",
        "predictions = (predictions > 0.5).astype('int32')\n",
        "predictions = predictions.ravel()"
      ],
      "execution_count": 44,
      "outputs": [
        {
          "output_type": "stream",
          "text": [
            "/usr/local/lib/python3.6/dist-packages/tensorflow/python/data/ops/dataset_ops.py:3350: UserWarning: Even though the tf.config.experimental_run_functions_eagerly option is set, this option does not apply to tf.data functions. tf.data functions are still traced and executed as graphs.\n",
            "  \"Even though the tf.config.experimental_run_functions_eagerly \"\n"
          ],
          "name": "stderr"
        }
      ]
    },
    {
      "cell_type": "code",
      "metadata": {
        "id": "yV8dCIhKhJx1"
      },
      "source": [
        "dir = \"/content/drive/My Drive/praveen_iiit_hyd_ire_class/ten_k_project_work/data/\""
      ],
      "execution_count": 38,
      "outputs": []
    },
    {
      "cell_type": "code",
      "metadata": {
        "id": "L5YFFRYjRDFC"
      },
      "source": [
        "val['pred'] = predictions\n",
        "val.to_csv(dir+\"word2vec_finetune_classification_v3_concat_embed.csv\")"
      ],
      "execution_count": 39,
      "outputs": []
    },
    {
      "cell_type": "code",
      "metadata": {
        "colab": {
          "base_uri": "https://localhost:8080/"
        },
        "id": "BjS4jJjpa7kp",
        "outputId": "bf42db79-18a9-44b8-8249-e3a637db9c15"
      },
      "source": [
        "from sklearn.metrics import confusion_matrix\n",
        "from sklearn.metrics import classification_report\n",
        "print(confusion_matrix(np.array(val.relation.values), predictions, labels=[0,1]))\n",
        "print(classification_report(np.array(val.relation.values), predictions))"
      ],
      "execution_count": 40,
      "outputs": [
        {
          "output_type": "stream",
          "text": [
            "[[ 94 100]\n",
            " [ 19 831]]\n",
            "              precision    recall  f1-score   support\n",
            "\n",
            "           0       0.83      0.48      0.61       194\n",
            "           1       0.89      0.98      0.93       850\n",
            "\n",
            "    accuracy                           0.89      1044\n",
            "   macro avg       0.86      0.73      0.77      1044\n",
            "weighted avg       0.88      0.89      0.87      1044\n",
            "\n"
          ],
          "name": "stdout"
        }
      ]
    },
    {
      "cell_type": "code",
      "metadata": {
        "colab": {
          "base_uri": "https://localhost:8080/"
        },
        "id": "7YtpaqNDcM9j",
        "outputId": "d954763c-9f9a-4030-a683-721c4c9b8448"
      },
      "source": [
        "predictions = model.predict([word_seq_train, word_seq_train_aux])\n",
        "predictions = predictions.ravel()\n",
        "predictions = [1 if pred>.5 else 0 for pred in predictions]\n",
        "print(confusion_matrix(np.array(train.relation.values), predictions, labels=[0,1]))\n",
        "print(classification_report(np.array(train.relation.values), predictions))"
      ],
      "execution_count": 41,
      "outputs": [
        {
          "output_type": "stream",
          "text": [
            "/usr/local/lib/python3.6/dist-packages/tensorflow/python/data/ops/dataset_ops.py:3350: UserWarning: Even though the tf.config.experimental_run_functions_eagerly option is set, this option does not apply to tf.data functions. tf.data functions are still traced and executed as graphs.\n",
            "  \"Even though the tf.config.experimental_run_functions_eagerly \"\n"
          ],
          "name": "stderr"
        },
        {
          "output_type": "stream",
          "text": [
            "[[ 925  435]\n",
            " [ 212 5615]]\n",
            "              precision    recall  f1-score   support\n",
            "\n",
            "           0       0.81      0.68      0.74      1360\n",
            "           1       0.93      0.96      0.95      5827\n",
            "\n",
            "    accuracy                           0.91      7187\n",
            "   macro avg       0.87      0.82      0.84      7187\n",
            "weighted avg       0.91      0.91      0.91      7187\n",
            "\n"
          ],
          "name": "stdout"
        }
      ]
    },
    {
      "cell_type": "code",
      "metadata": {
        "id": "jKHR7RG-fNAg"
      },
      "source": [
        ""
      ],
      "execution_count": 41,
      "outputs": []
    }
  ]
}