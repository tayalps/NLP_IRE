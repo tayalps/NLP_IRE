{
 "cells": [
  {
   "cell_type": "code",
   "execution_count": 1,
   "metadata": {
    "colab": {
     "base_uri": "https://localhost:8080/"
    },
    "id": "v6uGjdgV7fCe",
    "outputId": "df672661-e115-4e5c-edfd-1b18796b1f89"
   },
   "outputs": [
    {
     "name": "stdout",
     "output_type": "stream",
     "text": [
      "Mounted at /content/drive\n"
     ]
    }
   ],
   "source": [
    "#mount the drive\n",
    "from google.colab import drive\n",
    "drive.mount('/content/drive', force_remount=True)"
   ]
  },
  {
   "cell_type": "code",
   "execution_count": 2,
   "metadata": {
    "id": "W_QIxD3R68bz"
   },
   "outputs": [],
   "source": [
    "import gensim\n",
    "from tqdm import tqdm\n",
    "import os"
   ]
  },
  {
   "cell_type": "code",
   "execution_count": 3,
   "metadata": {
    "id": "NAqYXr7FA0g8"
   },
   "outputs": [],
   "source": [
    "# For array, dataset, and visualizing\n",
    "import numpy as np\n",
    "import pandas as pd\n",
    "import seaborn as sns\n",
    "import matplotlib.pyplot as plt"
   ]
  },
  {
   "cell_type": "code",
   "execution_count": 4,
   "metadata": {
    "colab": {
     "base_uri": "https://localhost:8080/"
    },
    "id": "oFt1hjeWCoW6",
    "outputId": "32338843-4d8c-48b6-8415-0b31c4c45eff"
   },
   "outputs": [
    {
     "name": "stdout",
     "output_type": "stream",
     "text": [
      "[nltk_data] Downloading package stopwords to /root/nltk_data...\n",
      "[nltk_data]   Unzipping corpora/stopwords.zip.\n",
      "[nltk_data] Downloading package punkt to /root/nltk_data...\n",
      "[nltk_data]   Unzipping tokenizers/punkt.zip.\n"
     ]
    }
   ],
   "source": [
    "#For Pre-Processing\n",
    "from tqdm import tqdm\n",
    "import nltk\n",
    "from nltk.corpus import stopwords\n",
    "nltk.download('stopwords')\n",
    "nltk.download('punkt')\n",
    "from nltk.tokenize import RegexpTokenizer \n",
    "from nltk.tokenize import word_tokenize"
   ]
  },
  {
   "cell_type": "code",
   "execution_count": null,
   "metadata": {
    "id": "3M0vxqtwCYx5"
   },
   "outputs": [],
   "source": [
    "from keras.preprocessing.text import Tokenizer\n",
    "from keras.preprocessing import sequence\n",
    "MAX_NB_WORDS = 50000\n",
    "tokenizer = RegexpTokenizer(r'\\w+')\n",
    "stop_words = set(stopwords.words('english'))\n",
    "stop_words.update(['.', ',', '\"', \"'\", ':', ';', '(', ')', '[', ']', '{', '}'])"
   ]
  },
  {
   "cell_type": "markdown",
   "metadata": {},
   "source": [
    "## Loading the word2vec model pretrained on SEC 10K corpus "
   ]
  },
  {
   "cell_type": "code",
   "execution_count": 6,
   "metadata": {
    "colab": {
     "base_uri": "https://localhost:8080/"
    },
    "id": "4x7lf4c170Uh",
    "outputId": "8036f399-9b77-4338-8263-b3a8244f6dfe"
   },
   "outputs": [
    {
     "name": "stdout",
     "output_type": "stream",
     "text": [
      "/content/drive/My Drive/iiit_ire/word2vec_fasttext\n"
     ]
    }
   ],
   "source": [
    "cd  \"/content/drive/My Drive/iiit_ire/word2vec_fasttext\""
   ]
  },
  {
   "cell_type": "code",
   "execution_count": 7,
   "metadata": {
    "id": "8BYamGHe68cM"
   },
   "outputs": [],
   "source": [
    "model_name = \"./fin_word2vec\""
   ]
  },
  {
   "cell_type": "code",
   "execution_count": 8,
   "metadata": {
    "id": "sy9eB1TY68cc"
   },
   "outputs": [],
   "source": [
    "model = gensim.models.Word2Vec.load(model_name)"
   ]
  },
  {
   "cell_type": "markdown",
   "metadata": {},
   "source": [
    "## Loading the input datasets "
   ]
  },
  {
   "cell_type": "code",
   "execution_count": 9,
   "metadata": {
    "id": "ILoV9y1n68dN"
   },
   "outputs": [],
   "source": [
    "import json \n",
    "traind=[]\n",
    "vald=[]\n",
    "dir = \"/content/drive/My Drive/iiit_ire/data/\"\n",
    "# Opening JSON file \n",
    "with open(dir+'task1_headline_ABSA_train.json',) as f: \n",
    "  traind = json.load(f) \n",
    "with open(dir+'task1_post_ABSA_train.json',) as f: \n",
    "  vald = json.load(f) "
   ]
  },
  {
   "cell_type": "code",
   "execution_count": 10,
   "metadata": {
    "id": "UYJ0tvVMH9RR"
   },
   "outputs": [],
   "source": [
    "\"\"\"Extract nested values from a JSON tree.\"\"\"\n",
    "def json_extract(obj, key):\n",
    "    \"\"\"Recursively fetch values from nested JSON.\"\"\"\n",
    "    arr = []\n",
    "\n",
    "    def extract(obj, arr, key):\n",
    "        \"\"\"Recursively search for values of key in JSON tree.\"\"\"\n",
    "        if isinstance(obj, dict):\n",
    "            for k, v in obj.items():\n",
    "                if isinstance(v, (dict, list)):\n",
    "                    extract(v, arr, key)\n",
    "                elif k == key:\n",
    "                    arr.append(v)\n",
    "        elif isinstance(obj, list):\n",
    "            for item in obj:\n",
    "                extract(item, arr, key)\n",
    "        return arr\n",
    "\n",
    "    values = extract(obj, arr, key)\n",
    "    return values"
   ]
  },
  {
   "cell_type": "code",
   "execution_count": 11,
   "metadata": {
    "id": "o3O0ZR2TJZLI"
   },
   "outputs": [],
   "source": [
    "def flatten_list(k):\n",
    "    result = list()\n",
    "    for i in k:\n",
    "        if isinstance(i,list):\n",
    "            result.extend(flatten_list(i)) #Recursive call\n",
    "        else:\n",
    "            result.append(i)\n",
    "    return result"
   ]
  },
  {
   "cell_type": "code",
   "execution_count": 12,
   "metadata": {
    "id": "1pU5xH3GIho3"
   },
   "outputs": [],
   "source": [
    "aspects = json_extract(traind, 'aspects') #sentiment_score, aspects, target, sentence\n",
    "sentiment_score = json_extract(traind, 'sentiment_score')\n",
    "target = json_extract(traind, 'target')\n",
    "sentence = json_extract(traind, 'snippets')"
   ]
  },
  {
   "cell_type": "code",
   "execution_count": 13,
   "metadata": {
    "colab": {
     "base_uri": "https://localhost:8080/"
    },
    "id": "vEr9qBi5bzrd",
    "outputId": "10af2b90-8a76-4514-b4cb-daedc5fa7c8c"
   },
   "outputs": [
    {
     "name": "stdout",
     "output_type": "stream",
     "text": [
      "498 498 498 498\n"
     ]
    }
   ],
   "source": [
    "print(len(sentence), len(aspects), len(target), len(sentiment_score))"
   ]
  },
  {
   "cell_type": "code",
   "execution_count": 14,
   "metadata": {
    "colab": {
     "base_uri": "https://localhost:8080/"
    },
    "id": "SbS6rW6fP9Lq",
    "outputId": "0e359566-29a4-4afe-9913-19670498afc3"
   },
   "outputs": [
    {
     "data": {
      "text/plain": [
       "[['Corporate', 'Appointment'],\n",
       " ['Corporate', 'Risks'],\n",
       " ['Corporate', 'Sales', 'Failed Contract Discussion'],\n",
       " ['Corporate', 'Appointment', 'Executive Appointment'],\n",
       " ['Corporate', 'Sales'],\n",
       " ['Stock', 'Fundamentals'],\n",
       " ['Corporate', 'Sales', 'Deal'],\n",
       " ['Corporate', 'Sales', 'Deal'],\n",
       " ['Corporate', 'Sales'],\n",
       " ['Stock', 'Technical Analysis', 'Trend', 'Trending up']]"
      ]
     },
     "execution_count": 14,
     "metadata": {
      "tags": []
     },
     "output_type": "execute_result"
    }
   ],
   "source": [
    "# initializing bad_chars_list\n",
    "bad_chars = ['[', '\\'', ']']\n",
    "aspects = [''.join(i for i in test_string if not i in bad_chars) for test_string in aspects]\n",
    "aspects = [aspect.split('/') for aspect in aspects]\n",
    "aspects[:10]"
   ]
  },
  {
   "cell_type": "code",
   "execution_count": 15,
   "metadata": {
    "colab": {
     "base_uri": "https://localhost:8080/"
    },
    "id": "GztK7HonLzAq",
    "outputId": "3b7b9750-4997-4c6e-be28-451bcb5b4d90"
   },
   "outputs": [
    {
     "data": {
      "text/plain": [
       "['Corporate',\n",
       " 'Appointment',\n",
       " 'Corporate',\n",
       " 'Risks',\n",
       " 'Corporate',\n",
       " 'Sales',\n",
       " 'Failed Contract Discussion',\n",
       " 'Corporate',\n",
       " 'Appointment',\n",
       " 'Executive Appointment']"
      ]
     },
     "execution_count": 15,
     "metadata": {
      "tags": []
     },
     "output_type": "execute_result"
    }
   ],
   "source": [
    "flat_list = [item for sublist in aspects for item in sublist]\n",
    "flat_list[:10]  "
   ]
  },
  {
   "cell_type": "code",
   "execution_count": 16,
   "metadata": {
    "colab": {
     "base_uri": "https://localhost:8080/"
    },
    "id": "BO4zYnPoRMwu",
    "outputId": "03f5612c-bd0d-43b2-dcad-9c023834079e"
   },
   "outputs": [
    {
     "name": "stdout",
     "output_type": "stream",
     "text": [
      "{'', 'Executive Reshuffle', 'Trade', 'Stock Price', 'M&A', 'Court Ruling', 'Direction', 'Corporate', 'Trending up', 'IPO', 'Corporate Planning', 'Unusual Low Volume', 'Risks', 'Conditions', 'Bullish Behaviour', 'Signal', 'Buy Signal', 'Bearish', 'Regulatory', 'Dividend going up', 'Executive Appointment', 'Monetary Policy - SNB', 'Stock Volatility', 'Price Action', 'Sale Halt', 'Mutual Fund flows', 'Failed Contract Discussion', 'Investment', 'Market Trend', 'Settlement', 'Dividend Policy', '?', 'Staff Hiring', 'Future Price', 'Sanctions', 'Buyside', 'Stock Buyside', 'Legal', 'Reputation', 'AnalystRatings', 'Bullish, Corporate', 'Partnership', 'Share Buyback', 'Insider Activity', 'Coverage', 'Bearish Behaviour', 'Bankruptcy', 'Volume', 'Dispute', 'Currency', 'Volatility', 'Company Communication', 'Trend', 'Lawsuit', 'Earnings', 'Demand Shortfall', 'Entering bankruptcy', 'Price Competition', 'Company Agreement', 'Stock', 'Sell Signal', 'Sales', 'Bullish', 'Appointment', 'Joint Venture', 'Market', 'Technical Analysis', 'Market Outlook', 'Insider Trading', 'Rumors', 'Monetary Policy', 'Extraordinary Meeting', 'Current Price', 'downgrade', 'Scoop', 'Divestment', 'Buyout', 'Deal', 'Reorganization', 'Proposed Merger', 'Financial Results', 'Unusually high volume', 'Economy', 'Central Banks', 'Sell-Off', 'Financial', 'Dividend', 'Strategy', 'Fundamentals', 'Corporate Expansion'} 90\n"
     ]
    }
   ],
   "source": [
    "unique_aspects = set(flat_list)\n",
    "print (unique_aspects, len(list(unique_aspects)) )"
   ]
  },
  {
   "cell_type": "code",
   "execution_count": 17,
   "metadata": {
    "colab": {
     "base_uri": "https://localhost:8080/",
     "height": 287
    },
    "id": "gNbcPMBDScsq",
    "outputId": "cd4b2305-f3c0-42a8-803e-06aabf362bd3"
   },
   "outputs": [
    {
     "name": "stdout",
     "output_type": "stream",
     "text": [
      "OrderedDict([('Corporate', 357), ('M&A', 106), ('Stock', 101), ('Sales', 80), ('Price Action', 58), ('Market', 54), ('Rumors', 39), ('Appointment', 37), ('Strategy', 37), ('Risks', 29), ('Dividend Policy', 28), ('Deal', 24), ('Legal', 23), ('Volatility', 19), ('Regulatory', 17), ('Proposed Merger', 16), ('Scoop', 14), ('Signal', 11), ('Company Communication', 10), ('Executive Appointment', 9), ('Fundamentals', 8), ('IPO', 8), ('Market Trend', 8), ('Reputation', 8), ('Buy Signal', 7), ('Economy', 7), ('Partnership', 7), ('Settlement', 6), ('Dividend', 6), ('Lawsuit', 6), ('Central Banks', 5), ('Investment', 5), ('Buyside', 5), ('Stock Buyside', 5), ('Technical Analysis', 4), ('Company Agreement', 4), ('Financial', 4), ('Reorganization', 4), ('Corporate Expansion', 4), ('Coverage', 4), ('Sell Signal', 4), ('Sell-Off', 4), ('Trend', 3), ('Trending up', 3), ('Corporate Planning', 3), ('Staff Hiring', 3), ('Bearish', 3), ('Bearish Behaviour', 3), ('Future Price', 3), ('Insider Activity', 3), ('Dividend going up', 2), ('Divestment', 2), ('Financial Results', 2), ('Earnings', 2), ('Bullish', 2), ('Bullish Behaviour', 2), ('Volume', 2), ('Conditions', 2), ('Market Outlook', 2), ('Currency', 2), ('Trade', 2), ('Joint Venture', 2), ('Insider Trading', 2), ('Failed Contract Discussion', 1), ('Share Buyback', 1), ('Court Ruling', 1), ('Stock Volatility', 1), ('Unusually high volume', 1), ('AnalystRatings', 1), ('downgrade', 1), ('Sanctions', 1), ('Mutual Fund flows', 1), ('Demand Shortfall', 1), ('Price Competition', 1), ('Dispute', 1), ('Bullish, Corporate', 1), ('Direction', 1), ('Bankruptcy', 1), ('Entering bankruptcy', 1), ('Current Price', 1), ('Stock Price', 1), ('Monetary Policy', 1), ('Monetary Policy - SNB', 1), ('Extraordinary Meeting', 1), ('Sale Halt', 1), ('Unusual Low Volume', 1), ('Buyout', 1), ('Executive Reshuffle', 1)])\n"
     ]
    },
    {
     "data": {
      "text/plain": [
       "<matplotlib.axes._subplots.AxesSubplot at 0x7f7bb323b2e8>"
      ]
     },
     "execution_count": 17,
     "metadata": {
      "tags": []
     },
     "output_type": "execute_result"
    },
    {
     "data": {
      "image/png": "[encoded data removed]",
      "text/plain": [
       "<Figure size 2880x360 with 1 Axes>"
      ]
     },
     "metadata": {
      "needs_background": "light",
      "tags": []
     },
     "output_type": "display_data"
    }
   ],
   "source": [
    "import collections \n",
    "counter=collections.Counter(flat_list)\n",
    "counter = collections.OrderedDict(sorted(counter.items(), key=lambda x: x[1], reverse=True))\n",
    "del counter['?'] \n",
    "del counter[''] \n",
    "print(counter)\n",
    "df = pd.DataFrame.from_dict(counter, orient='index')\n",
    "df.plot(kind='bar', figsize = (40,5))"
   ]
  },
  {
   "cell_type": "code",
   "execution_count": 18,
   "metadata": {
    "id": "98Oiq-KmapeL"
   },
   "outputs": [],
   "source": [
    "bad_chars = ['[', '\\'', ']']\n",
    "sentence = [''.join(i for i in test_string if not i in bad_chars) for test_string in sentence]"
   ]
  },
  {
   "cell_type": "code",
   "execution_count": 19,
   "metadata": {
    "colab": {
     "base_uri": "https://localhost:8080/",
     "height": 202
    },
    "id": "bsolEfmtY9yg",
    "outputId": "b64de754-036e-4d55-f2bb-137d50bd9f86"
   },
   "outputs": [
    {
     "data": {
      "text/html": [
       "<div>\n",
       "<style scoped>\n",
       "    .dataframe tbody tr th:only-of-type {\n",
       "        vertical-align: middle;\n",
       "    }\n",
       "\n",
       "    .dataframe tbody tr th {\n",
       "        vertical-align: top;\n",
       "    }\n",
       "\n",
       "    .dataframe thead th {\n",
       "        text-align: right;\n",
       "    }\n",
       "</style>\n",
       "<table border=\"1\" class=\"dataframe\">\n",
       "  <thead>\n",
       "    <tr style=\"text-align: right;\">\n",
       "      <th></th>\n",
       "      <th>sentence</th>\n",
       "      <th>aspects</th>\n",
       "      <th>target</th>\n",
       "      <th>sentiment_score</th>\n",
       "    </tr>\n",
       "  </thead>\n",
       "  <tbody>\n",
       "    <tr>\n",
       "      <th>0</th>\n",
       "      <td>set to step down</td>\n",
       "      <td>[Corporate, Appointment]</td>\n",
       "      <td>Royal Mail</td>\n",
       "      <td>-0.374</td>\n",
       "    </tr>\n",
       "    <tr>\n",
       "      <th>1</th>\n",
       "      <td>Facing Tough Competition</td>\n",
       "      <td>[Corporate, Risks]</td>\n",
       "      <td>AstraZeneca</td>\n",
       "      <td>-0.24</td>\n",
       "    </tr>\n",
       "    <tr>\n",
       "      <th>2</th>\n",
       "      <td>Crest loses a third of Morrisons milk contract</td>\n",
       "      <td>[Corporate, Sales, Failed Contract Discussion]</td>\n",
       "      <td>Morrisons</td>\n",
       "      <td>-0.161</td>\n",
       "    </tr>\n",
       "    <tr>\n",
       "      <th>3</th>\n",
       "      <td>hires Avivas David Hillier for multi-asset team</td>\n",
       "      <td>[Corporate, Appointment, Executive Appointment]</td>\n",
       "      <td>Insight</td>\n",
       "      <td>0.137</td>\n",
       "    </tr>\n",
       "    <tr>\n",
       "      <th>4</th>\n",
       "      <td>after strong sales</td>\n",
       "      <td>[Corporate, Sales]</td>\n",
       "      <td>Primark</td>\n",
       "      <td>0.704</td>\n",
       "    </tr>\n",
       "  </tbody>\n",
       "</table>\n",
       "</div>"
      ],
      "text/plain": [
       "                                          sentence  ... sentiment_score\n",
       "0                                 set to step down  ...          -0.374\n",
       "1                         Facing Tough Competition  ...           -0.24\n",
       "2   Crest loses a third of Morrisons milk contract  ...          -0.161\n",
       "3  hires Avivas David Hillier for multi-asset team  ...           0.137\n",
       "4                               after strong sales  ...           0.704\n",
       "\n",
       "[5 rows x 4 columns]"
      ]
     },
     "execution_count": 19,
     "metadata": {
      "tags": []
     },
     "output_type": "execute_result"
    }
   ],
   "source": [
    "#create dataframe\n",
    "train = pd.DataFrame({\n",
    "    'sentence': sentence, \n",
    "    'aspects': aspects, \n",
    "    'target':target, \n",
    "    'sentiment_score':sentiment_score})\n",
    "train.head()"
   ]
  },
  {
   "cell_type": "code",
   "execution_count": 20,
   "metadata": {
    "colab": {
     "base_uri": "https://localhost:8080/",
     "height": 202
    },
    "id": "MpSXeXvpcTbV",
    "outputId": "d019aac3-ba2f-409f-80c6-8b87ce7fe06c"
   },
   "outputs": [
    {
     "data": {
      "text/html": [
       "<div>\n",
       "<style scoped>\n",
       "    .dataframe tbody tr th:only-of-type {\n",
       "        vertical-align: middle;\n",
       "    }\n",
       "\n",
       "    .dataframe tbody tr th {\n",
       "        vertical-align: top;\n",
       "    }\n",
       "\n",
       "    .dataframe thead th {\n",
       "        text-align: right;\n",
       "    }\n",
       "</style>\n",
       "<table border=\"1\" class=\"dataframe\">\n",
       "  <thead>\n",
       "    <tr style=\"text-align: right;\">\n",
       "      <th></th>\n",
       "      <th>sentence</th>\n",
       "      <th>aspects</th>\n",
       "      <th>target</th>\n",
       "      <th>sentiment_score</th>\n",
       "    </tr>\n",
       "  </thead>\n",
       "  <tbody>\n",
       "    <tr>\n",
       "      <th>0</th>\n",
       "      <td>set to step down</td>\n",
       "      <td>Corporate</td>\n",
       "      <td>Royal Mail</td>\n",
       "      <td>-0.374</td>\n",
       "    </tr>\n",
       "    <tr>\n",
       "      <th>0</th>\n",
       "      <td>set to step down</td>\n",
       "      <td>Appointment</td>\n",
       "      <td>Royal Mail</td>\n",
       "      <td>-0.374</td>\n",
       "    </tr>\n",
       "    <tr>\n",
       "      <th>1</th>\n",
       "      <td>Facing Tough Competition</td>\n",
       "      <td>Corporate</td>\n",
       "      <td>AstraZeneca</td>\n",
       "      <td>-0.24</td>\n",
       "    </tr>\n",
       "    <tr>\n",
       "      <th>1</th>\n",
       "      <td>Facing Tough Competition</td>\n",
       "      <td>Risks</td>\n",
       "      <td>AstraZeneca</td>\n",
       "      <td>-0.24</td>\n",
       "    </tr>\n",
       "    <tr>\n",
       "      <th>2</th>\n",
       "      <td>Crest loses a third of Morrisons milk contract</td>\n",
       "      <td>Corporate</td>\n",
       "      <td>Morrisons</td>\n",
       "      <td>-0.161</td>\n",
       "    </tr>\n",
       "  </tbody>\n",
       "</table>\n",
       "</div>"
      ],
      "text/plain": [
       "                                         sentence  ... sentiment_score\n",
       "0                                set to step down  ...          -0.374\n",
       "0                                set to step down  ...          -0.374\n",
       "1                        Facing Tough Competition  ...           -0.24\n",
       "1                        Facing Tough Competition  ...           -0.24\n",
       "2  Crest loses a third of Morrisons milk contract  ...          -0.161\n",
       "\n",
       "[5 rows x 4 columns]"
      ]
     },
     "execution_count": 20,
     "metadata": {
      "tags": []
     },
     "output_type": "execute_result"
    }
   ],
   "source": [
    "train = train.explode('aspects')\n",
    "train.head()"
   ]
  },
  {
   "cell_type": "code",
   "execution_count": 21,
   "metadata": {
    "colab": {
     "base_uri": "https://localhost:8080/"
    },
    "id": "w7iiGGuxcmWh",
    "outputId": "dcba07a8-feb4-41bd-d3d5-c9842e67bbea"
   },
   "outputs": [
    {
     "data": {
      "text/plain": [
       "(1267, 4)"
      ]
     },
     "execution_count": 21,
     "metadata": {
      "tags": []
     },
     "output_type": "execute_result"
    }
   ],
   "source": [
    "train = train.dropna()\n",
    "train = train[~train.aspects.isin(['?', ''])]\n",
    "train.shape"
   ]
  },
  {
   "cell_type": "code",
   "execution_count": 22,
   "metadata": {
    "colab": {
     "base_uri": "https://localhost:8080/",
     "height": 351
    },
    "id": "hPry2ixQA7f4",
    "outputId": "ed6fdbf6-95a0-410e-891d-38fc13652476"
   },
   "outputs": [
    {
     "name": "stderr",
     "output_type": "stream",
     "text": [
      "/usr/local/lib/python3.6/dist-packages/seaborn/distributions.py:2551: FutureWarning: `distplot` is a deprecated function and will be removed in a future version. Please adapt your code to use either `displot` (a figure-level function with similar flexibility) or `histplot` (an axes-level function for histograms).\n",
      "  warnings.warn(msg, FutureWarning)\n"
     ]
    },
    {
     "data": {
      "image/png": "[encoded data removed]",
      "text/plain": [
       "<Figure size 432x288 with 1 Axes>"
      ]
     },
     "metadata": {
      "needs_background": "light",
      "tags": []
     },
     "output_type": "display_data"
    }
   ],
   "source": [
    "train['snippet_len'] = train.sentence.apply(lambda words: len(words.split(\" \")))\n",
    "max_seq_len = np.round(train.snippet_len.mean() + 2.5*train.snippet_len.std()).astype(int)\n",
    "\n",
    "sns.distplot(train.snippet_len, hist=True, kde=True, color='b', label='snippets size len')\n",
    "plt.axvline(x=max_seq_len, color='k', linestyle='--', label='max len')\n",
    "plt.title('comment length'); plt.legend()\n",
    "plt.show()"
   ]
  },
  {
   "cell_type": "markdown",
   "metadata": {},
   "source": [
    "### Tokenizing, sequencing and padding"
   ]
  },
  {
   "cell_type": "code",
   "execution_count": 23,
   "metadata": {
    "colab": {
     "base_uri": "https://localhost:8080/"
    },
    "id": "1AfVsZ_m9tp9",
    "outputId": "82716af1-ae01-480a-dfb0-2eeaf51e7110"
   },
   "outputs": [
    {
     "name": "stderr",
     "output_type": "stream",
     "text": [
      "100%|██████████| 1267/1267 [00:00<00:00, 7862.64it/s]\n",
      "100%|██████████| 1267/1267 [00:00<00:00, 12082.22it/s]\n",
      "100%|██████████| 1267/1267 [00:00<00:00, 11959.56it/s]"
     ]
    },
    {
     "name": "stdout",
     "output_type": "stream",
     "text": [
      "Tokenizing: \n",
      "dictionary size:  1324\n"
     ]
    },
    {
     "name": "stderr",
     "output_type": "stream",
     "text": [
      "\n"
     ]
    }
   ],
   "source": [
    "\n",
    "l_train = train.sentence.tolist()\n",
    "\n",
    "clean_train = []\n",
    "clean_target = []\n",
    "clean_aspects = []\n",
    "clean_total = []\n",
    "\n",
    "for doc in tqdm(l_train):\n",
    "  tokens = word_tokenize(doc)\n",
    "  filtered = [word for word in tokens if word not in stop_words]\n",
    "  clean_train.append(\" \".join(filtered))\n",
    "  clean_total.append(\" \".join(filtered))\n",
    "\n",
    "for doc in tqdm(train.aspects.tolist()):\n",
    "  tokens = word_tokenize(doc)\n",
    "  filtered = [word for word in tokens if word not in stop_words]\n",
    "  clean_aspects.append(\" \".join(filtered))\n",
    "  clean_total.append(\" \".join(filtered))\n",
    "\n",
    "\n",
    "for doc in tqdm(train.target.tolist()):\n",
    "  tokens = word_tokenize(doc)\n",
    "  filtered = [word for word in tokens if word not in stop_words]\n",
    "  clean_target.append(\" \".join(filtered))\n",
    "  clean_total.append(\" \".join(filtered))\n",
    "\n",
    "print(\"Tokenizing: \")\n",
    "tokenizer = Tokenizer(num_words=MAX_NB_WORDS, lower=True, char_level=False)\n",
    "tokenizer.fit_on_texts(clean_total)  \n",
    "\n",
    "word_seq_train = tokenizer.texts_to_sequences(clean_train)\n",
    "word_seq_target = tokenizer.texts_to_sequences(clean_target)\n",
    "word_seq_aspects = tokenizer.texts_to_sequences(clean_aspects)\n",
    "\n",
    "word_index = tokenizer.word_index\n",
    "print(\"dictionary size: \", len(word_index))\n",
    "\n",
    "word_seq_train = sequence.pad_sequences(word_seq_train, maxlen=max_seq_len)\n",
    "word_seq_target = sequence.pad_sequences(word_seq_target, maxlen=max_seq_len)\n",
    "word_seq_aspects = sequence.pad_sequences(word_seq_aspects, maxlen=max_seq_len)"
   ]
  },
  {
   "cell_type": "code",
   "execution_count": 24,
   "metadata": {
    "colab": {
     "base_uri": "https://localhost:8080/"
    },
    "id": "SCzC2wDyF6_k",
    "outputId": "872ae2ea-0614-4a90-88e2-67558fefbdbe"
   },
   "outputs": [
    {
     "data": {
      "text/plain": [
       "array([  0,   0,   0,   0,   0,   0,   0,   0,   0, 948, 259, 458],\n",
       "      dtype=int32)"
      ]
     },
     "execution_count": 24,
     "metadata": {
      "tags": []
     },
     "output_type": "execute_result"
    }
   ],
   "source": [
    "word_seq_train[2]"
   ]
  },
  {
   "cell_type": "code",
   "execution_count": 25,
   "metadata": {
    "id": "Pqp3_jxLDuQd"
   },
   "outputs": [],
   "source": [
    "#model parameters\n",
    "num_filters = 64 \n",
    "embed_dim = 300 \n",
    "weight_decay = 1e-4"
   ]
  },
  {
   "cell_type": "code",
   "execution_count": 26,
   "metadata": {
    "id": "Iv1_Yw15FpUh"
   },
   "outputs": [],
   "source": [
    "def get_embedding(word):\n",
    "    try:\n",
    "        embedding=model[word]\n",
    "    except:\n",
    "        embedding=np.zeros((embed_dim,))\n",
    "    return embedding"
   ]
  },
  {
   "cell_type": "markdown",
   "metadata": {},
   "source": [
    "### Creating embedding matrix"
   ]
  },
  {
   "cell_type": "code",
   "execution_count": 27,
   "metadata": {
    "colab": {
     "base_uri": "https://localhost:8080/"
    },
    "id": "D4WY-6neGZii",
    "outputId": "9cbef5ea-5a32-4229-b43a-c5e29af89dc8"
   },
   "outputs": [
    {
     "name": "stdout",
     "output_type": "stream",
     "text": [
      "preparing embedding matrix...\n",
      "words_embeding_vec_none =  0\n",
      "vocab: 408\n",
      "number of null word embeddings: 339\n"
     ]
    },
    {
     "name": "stderr",
     "output_type": "stream",
     "text": [
      "/usr/local/lib/python3.6/dist-packages/ipykernel_launcher.py:3: DeprecationWarning: Call to deprecated `__getitem__` (Method will be removed in 4.0.0, use self.wv.__getitem__() instead).\n",
      "  This is separate from the ipykernel package so we can avoid doing imports until\n"
     ]
    }
   ],
   "source": [
    "#embedding matrix\n",
    "\n",
    "print('preparing embedding matrix...')\n",
    "\n",
    "words_not_found = []\n",
    "words_embeding_vec_none = []\n",
    "nb_words = min(MAX_NB_WORDS, len(word_index)+1)\n",
    "embedding_matrix = np.zeros((nb_words, embed_dim))\n",
    "\n",
    "for word, i in word_index.items():\n",
    "    if i >= nb_words:\n",
    "        continue\n",
    "    embedding_vector = get_embedding(word)\n",
    "    if (embedding_vector is not None) and len(embedding_vector) > 0:\n",
    "        # words not found in embedding index will be all-zeros.\n",
    "        embedding_matrix[i] = embedding_vector\n",
    "        if np.sum(embedding_vector) == 0:\n",
    "          words_not_found.append(word)\n",
    "    else:\n",
    "      words_embeding_vec_none(word)\n",
    "\n",
    "print('words_embeding_vec_none = ', len(words_embeding_vec_none))\n",
    "print('vocab: %d' % np.sum(np.sum(embedding_matrix, axis=1) > 0))\n",
    "print('number of null word embeddings: %d' % np.sum(np.sum(embedding_matrix, axis=1) == 0))"
   ]
  },
  {
   "cell_type": "code",
   "execution_count": 28,
   "metadata": {
    "colab": {
     "base_uri": "https://localhost:8080/"
    },
    "id": "tKi8vtOKGs7w",
    "outputId": "36fcba40-baac-4d45-9f74-1a2daf677337"
   },
   "outputs": [
    {
     "name": "stdout",
     "output_type": "stream",
     "text": [
      "['lehman', 'blinkbox', 'aer', 'lingus', 'novartis', 'poaches', 'off', 'severn', 'trent', 'stanchart', 'hathaway', 'brexit', 'unilever', 'wimpey', 'onemain', 'gleneagles', 'ennismore', 'axa', 'inovio', 'talktalk', 'you', 'boerse', 'asahi', 'kipa', 'whitbread', 'glaxosmithkline', 'statoil', 'u', 'k', 'acerta', 'compton', 'bphs', 'alibaba', 'â£90m', 'g', 'johnson', 'matthey', 'valeant', 'pearson', 'after', 'uks', 'pct', 'ex', 'bae', 'are', 'nps', 'omnis', 'iag', 'lonmin', 'crh']\n"
     ]
    }
   ],
   "source": [
    "print(words_not_found[50:100])"
   ]
  },
  {
   "cell_type": "code",
   "execution_count": 29,
   "metadata": {
    "colab": {
     "base_uri": "https://localhost:8080/"
    },
    "id": "NHl75tiIqkvQ",
    "outputId": "1c9b91a6-d449-4749-daf3-ca3a18b6a74e"
   },
   "outputs": [
    {
     "data": {
      "text/plain": [
       "0      -0.374\n",
       "0      -0.374\n",
       "1       -0.24\n",
       "1       -0.24\n",
       "2      -0.161\n",
       "        ...  \n",
       "496     0.435\n",
       "496     0.435\n",
       "497     0.259\n",
       "497     0.259\n",
       "497     0.259\n",
       "Name: sentiment_score, Length: 1267, dtype: object"
      ]
     },
     "execution_count": 29,
     "metadata": {
      "tags": []
     },
     "output_type": "execute_result"
    }
   ],
   "source": [
    "train.sentiment_score"
   ]
  },
  {
   "cell_type": "code",
   "execution_count": 30,
   "metadata": {
    "colab": {
     "base_uri": "https://localhost:8080/"
    },
    "id": "3MYutCdbrPTB",
    "outputId": "4c89a7bd-5802-40db-e7a3-f9760cb9c099"
   },
   "outputs": [
    {
     "data": {
      "text/plain": [
       "0     -0.374\n",
       "0     -0.374\n",
       "1     -0.240\n",
       "1     -0.240\n",
       "2     -0.161\n",
       "       ...  \n",
       "496    0.435\n",
       "496    0.435\n",
       "497    0.259\n",
       "497    0.259\n",
       "497    0.259\n",
       "Name: sentiment_score, Length: 1267, dtype: float64"
      ]
     },
     "execution_count": 30,
     "metadata": {
      "tags": []
     },
     "output_type": "execute_result"
    }
   ],
   "source": [
    "train.sentiment_score = pd.to_numeric(train.sentiment_score)\n",
    "train.sentiment_score"
   ]
  },
  {
   "cell_type": "code",
   "execution_count": 31,
   "metadata": {
    "colab": {
     "base_uri": "https://localhost:8080/"
    },
    "id": "jTaI0VbvsWRq",
    "outputId": "affb01f0-7c5e-421a-ef86-45ac9ea42387"
   },
   "outputs": [
    {
     "data": {
      "text/plain": [
       "array([0.626, 0.626, 0.76 , ..., 1.259, 1.259, 1.259])"
      ]
     },
     "execution_count": 31,
     "metadata": {
      "tags": []
     },
     "output_type": "execute_result"
    }
   ],
   "source": [
    "train.sentiment_score.values+1"
   ]
  },
  {
   "cell_type": "markdown",
   "metadata": {},
   "source": [
    "### Building LSTM model structure"
   ]
  },
  {
   "cell_type": "code",
   "execution_count": 32,
   "metadata": {
    "id": "dmahh384KZhQ"
   },
   "outputs": [],
   "source": [
    "import keras\n",
    "from keras import optimizers\n",
    "from keras import backend as K\n",
    "from keras import regularizers\n",
    "from keras.models import Sequential\n",
    "from keras.layers import Dense, Activation, Dropout, Flatten, concatenate\n",
    "from tensorflow.keras.layers import Embedding, LSTM, Dense, Dropout, Bidirectional, Concatenate, Input, TimeDistributed"
   ]
  },
  {
   "cell_type": "code",
   "execution_count": 33,
   "metadata": {
    "id": "Otek0U9AOtvc"
   },
   "outputs": [],
   "source": [
    "# avoid model to overwrite\n",
    "keras.backend.clear_session()"
   ]
  },
  {
   "cell_type": "code",
   "execution_count": 34,
   "metadata": {
    "colab": {
     "base_uri": "https://localhost:8080/"
    },
    "id": "k18dZ2bbKAwm",
    "outputId": "87c96c4e-cb26-49f8-ec5f-5b71f07ace5c"
   },
   "outputs": [
    {
     "name": "stdout",
     "output_type": "stream",
     "text": [
      "Model: \"functional_1\"\n",
      "__________________________________________________________________________________________________\n",
      "Layer (type)                    Output Shape         Param #     Connected to                     \n",
      "==================================================================================================\n",
      "sentence (InputLayer)           [(None, 12)]         0                                            \n",
      "__________________________________________________________________________________________________\n",
      "aspects (InputLayer)            [(None, 12)]         0                                            \n",
      "__________________________________________________________________________________________________\n",
      "target (InputLayer)             [(None, 12)]         0                                            \n",
      "__________________________________________________________________________________________________\n",
      "embedding (Embedding)           (None, 12, 300)      397500      sentence[0][0]                   \n",
      "__________________________________________________________________________________________________\n",
      "embedding_1 (Embedding)         (None, 12, 300)      397500      aspects[0][0]                    \n",
      "__________________________________________________________________________________________________\n",
      "embedding_2 (Embedding)         (None, 12, 300)      397500      target[0][0]                     \n",
      "__________________________________________________________________________________________________\n",
      "bidirectional (Bidirectional)   (None, 256)          439296      embedding[0][0]                  \n",
      "__________________________________________________________________________________________________\n",
      "bidirectional_1 (Bidirectional) (None, 256)          439296      embedding_1[0][0]                \n",
      "__________________________________________________________________________________________________\n",
      "bidirectional_2 (Bidirectional) (None, 256)          439296      embedding_2[0][0]                \n",
      "__________________________________________________________________________________________________\n",
      "concatenate (Concatenate)       (None, 768)          0           bidirectional[0][0]              \n",
      "                                                                 bidirectional_1[0][0]            \n",
      "                                                                 bidirectional_2[0][0]            \n",
      "__________________________________________________________________________________________________\n",
      "dense (Dense)                   (None, 1024)         787456      concatenate[0][0]                \n",
      "__________________________________________________________________________________________________\n",
      "dropout (Dropout)               (None, 1024)         0           dense[0][0]                      \n",
      "__________________________________________________________________________________________________\n",
      "dense_1 (Dense)                 (None, 128)          131200      dropout[0][0]                    \n",
      "__________________________________________________________________________________________________\n",
      "dense_2 (Dense)                 (None, 1)            129         dense_1[0][0]                    \n",
      "==================================================================================================\n",
      "Total params: 3,429,173\n",
      "Trainable params: 2,236,673\n",
      "Non-trainable params: 1,192,500\n",
      "__________________________________________________________________________________________________\n"
     ]
    }
   ],
   "source": [
    "import tensorflow as tf\n",
    "sentence_in = Input(shape=(max_seq_len, ), dtype='int32', name=\"sentence\")\n",
    "sent_embedding_layer = Embedding(nb_words,embed_dim,input_length=max_seq_len, weights=[embedding_matrix],trainable=False) (sentence_in)\n",
    "lstm_sentence = Bidirectional(LSTM(128))(sent_embedding_layer)\n",
    "\n",
    "\n",
    "\n",
    "aspects_in = Input(shape=(max_seq_len,), dtype='int32', name=\"aspects\")\n",
    "aspects_embedding_layer = Embedding(nb_words,embed_dim,input_length=max_seq_len, weights=[embedding_matrix],trainable=False) (aspects_in)\n",
    "lstm_aspects = Bidirectional(LSTM(128))(aspects_embedding_layer)\n",
    "\n",
    "\n",
    "\n",
    "target_in = Input(shape=(max_seq_len, ), dtype='int32', name=\"target\")\n",
    "target_in_embedding_layer = Embedding(nb_words,embed_dim,input_length=max_seq_len, weights=[embedding_matrix],trainable=False) (target_in)\n",
    "lstm_target = Bidirectional(LSTM(128))(target_in_embedding_layer)\n",
    "\n",
    "\n",
    "x = concatenate([lstm_sentence, lstm_aspects, lstm_target])\n",
    "\n",
    "x = Dense(1024,activation='relu')(x)\n",
    "x=  Dropout(.3) (x)\n",
    "x = Dense(128,activation='relu')(x)\n",
    "\n",
    "preds = Dense(1,activation= 'linear')(x)\n",
    "\n",
    "model = tf.keras.Model(inputs=[sentence_in, aspects_in, target_in], outputs=preds)\n",
    "\n",
    "model.summary()"
   ]
  },
  {
   "cell_type": "code",
   "execution_count": 35,
   "metadata": {
    "id": "OkMGerayKSPP"
   },
   "outputs": [],
   "source": [
    "from keras.optimizers import RMSprop\n",
    "from keras.callbacks import ModelCheckpoint\n",
    "from tensorflow.keras.callbacks import EarlyStopping\n",
    "from tensorflow.keras.optimizers import SGD\n",
    "from tensorflow.keras.losses import Huber, MeanSquaredError, MeanAbsolutePercentageError, MeanAbsolutePercentageError\n",
    "\n",
    "optimizer = SGD(lr = 1e-04, momentum=.9)\n",
    "\n",
    "model.compile(loss = MeanAbsolutePercentageError(), optimizer=optimizer, metrics=['mape'])"
   ]
  },
  {
   "cell_type": "code",
   "execution_count": 36,
   "metadata": {
    "colab": {
     "base_uri": "https://localhost:8080/"
    },
    "id": "eIhET-vOYtcq",
    "outputId": "416ec083-e5cd-4a73-cccb-d98a6e9271b5"
   },
   "outputs": [
    {
     "name": "stdout",
     "output_type": "stream",
     "text": [
      "/content/drive/My Drive/iiit_ire/word2vec_fasttext\n"
     ]
    }
   ],
   "source": [
    "!pwd"
   ]
  },
  {
   "cell_type": "code",
   "execution_count": 37,
   "metadata": {
    "id": "u8Vq-UGgYmQT"
   },
   "outputs": [],
   "source": [
    "#checkpoint = ModelCheckpoint('word2vec_regress_weights.best.hdf5',\n",
    "#                             verbose=1,\n",
    "#                             save_weights_only=True,\n",
    "#                             monitor = 'val_mae',\n",
    "#                             mode='min',\n",
    "#                             save_best_only=True)"
   ]
  },
  {
   "cell_type": "code",
   "execution_count": 38,
   "metadata": {
    "colab": {
     "base_uri": "https://localhost:8080/"
    },
    "id": "xICiL4V0KEhf",
    "outputId": "653ccf67-4e1e-4fbb-b2bb-47333ca7870f"
   },
   "outputs": [
    {
     "data": {
      "text/plain": [
       "array([[  0,   0,   0, ...,   0,  45,  93],\n",
       "       [  0,   0,   0, ...,   0,  45,  93],\n",
       "       [  0,   0,   0, ...,   0,   0,  13],\n",
       "       ...,\n",
       "       [  0,   0,   0, ...,   0,   0, 947],\n",
       "       [  0,   0,   0, ...,   0,   0, 947],\n",
       "       [  0,   0,   0, ...,   0,   0, 947]], dtype=int32)"
      ]
     },
     "execution_count": 38,
     "metadata": {
      "tags": []
     },
     "output_type": "execute_result"
    }
   ],
   "source": [
    "(word_seq_target)"
   ]
  },
  {
   "cell_type": "code",
   "execution_count": 39,
   "metadata": {
    "id": "lYgfSQw-Twf1"
   },
   "outputs": [],
   "source": [
    "from sklearn.model_selection import train_test_split\n",
    "x_sent_train, x_sent_val, y_sent_train, y_sent_val = train_test_split(word_seq_train, train.sentiment_score.values+5,\n",
    "                                                                      test_size=0.2, random_state=42) \n",
    "x_target_train, x_target_val, y_target_train, y_target_val = train_test_split(word_seq_target, train.sentiment_score.values+5,\n",
    "                                                                      test_size=0.2, random_state=42) \n",
    "x_aspects_train, x_aspects_val, y_aspects_train, y_aspects_val = train_test_split(word_seq_aspects, train.sentiment_score.values+5,\n",
    "                                                                      test_size=0.2, random_state=42) "
   ]
  },
  {
   "cell_type": "code",
   "execution_count": 40,
   "metadata": {
    "colab": {
     "base_uri": "https://localhost:8080/"
    },
    "id": "HbHmEkQ6UfI_",
    "outputId": "404349e0-681a-4782-a0cb-be0f7136ab4f"
   },
   "outputs": [
    {
     "data": {
      "text/plain": [
       "((1013,), (254,))"
      ]
     },
     "execution_count": 40,
     "metadata": {
      "tags": []
     },
     "output_type": "execute_result"
    }
   ],
   "source": [
    "y_sent_train.shape, y_sent_val.shape"
   ]
  },
  {
   "cell_type": "code",
   "execution_count": 41,
   "metadata": {
    "colab": {
     "base_uri": "https://localhost:8080/"
    },
    "id": "OFuryH4ZKypq",
    "outputId": "aa4156d9-5028-4842-d8e4-66602499be9b"
   },
   "outputs": [
    {
     "name": "stdout",
     "output_type": "stream",
     "text": [
      "Epoch 1/500\n",
      "32/32 [==============================] - 1s 29ms/step - loss: 88.6542 - mape: 88.6542\n",
      "Epoch 2/500\n",
      "32/32 [==============================] - 1s 30ms/step - loss: 26.2685 - mape: 26.2685\n",
      "Epoch 3/500\n",
      "32/32 [==============================] - 1s 29ms/step - loss: 7.1629 - mape: 7.1629\n",
      "Epoch 4/500\n",
      "32/32 [==============================] - 1s 29ms/step - loss: 6.6004 - mape: 6.6004\n",
      "Epoch 5/500\n",
      "32/32 [==============================] - 1s 30ms/step - loss: 6.3259 - mape: 6.3259\n",
      "Epoch 6/500\n",
      "32/32 [==============================] - 1s 30ms/step - loss: 6.4236 - mape: 6.4236\n",
      "Epoch 7/500\n",
      "32/32 [==============================] - 1s 29ms/step - loss: 6.2975 - mape: 6.2975\n",
      "Epoch 8/500\n",
      "32/32 [==============================] - 1s 29ms/step - loss: 6.2944 - mape: 6.2944\n",
      "Epoch 9/500\n",
      "32/32 [==============================] - 1s 30ms/step - loss: 6.2499 - mape: 6.2499\n",
      "Epoch 10/500\n",
      "32/32 [==============================] - 1s 29ms/step - loss: 6.2974 - mape: 6.2974\n",
      "Epoch 11/500\n",
      "32/32 [==============================] - 1s 30ms/step - loss: 6.3582 - mape: 6.3582\n",
      "Epoch 12/500\n",
      "32/32 [==============================] - 1s 30ms/step - loss: 6.0645 - mape: 6.0645\n",
      "Epoch 13/500\n",
      "32/32 [==============================] - 1s 29ms/step - loss: 5.9920 - mape: 5.9920\n",
      "Epoch 14/500\n",
      "32/32 [==============================] - 1s 30ms/step - loss: 6.0650 - mape: 6.0650\n",
      "Epoch 15/500\n",
      "32/32 [==============================] - 1s 29ms/step - loss: 6.0070 - mape: 6.0070\n",
      "Epoch 16/500\n",
      "32/32 [==============================] - 1s 30ms/step - loss: 6.1112 - mape: 6.1112\n",
      "Epoch 17/500\n",
      "32/32 [==============================] - 1s 29ms/step - loss: 5.9604 - mape: 5.9604\n",
      "Epoch 18/500\n",
      "32/32 [==============================] - 1s 29ms/step - loss: 5.7691 - mape: 5.7691\n",
      "Epoch 19/500\n",
      "32/32 [==============================] - 1s 29ms/step - loss: 5.7433 - mape: 5.7433\n",
      "Epoch 20/500\n",
      "32/32 [==============================] - 1s 29ms/step - loss: 5.8391 - mape: 5.8391\n",
      "Epoch 21/500\n",
      "32/32 [==============================] - 1s 30ms/step - loss: 5.7373 - mape: 5.7373\n",
      "Epoch 22/500\n",
      "32/32 [==============================] - 1s 29ms/step - loss: 5.7212 - mape: 5.7212\n",
      "Epoch 23/500\n",
      "32/32 [==============================] - 1s 30ms/step - loss: 5.6057 - mape: 5.6057\n",
      "Epoch 24/500\n",
      "32/32 [==============================] - 1s 30ms/step - loss: 5.6599 - mape: 5.6599\n",
      "Epoch 25/500\n",
      "32/32 [==============================] - 1s 29ms/step - loss: 5.6345 - mape: 5.6345\n",
      "Epoch 26/500\n",
      "32/32 [==============================] - 1s 29ms/step - loss: 5.6161 - mape: 5.6161\n",
      "Epoch 27/500\n",
      "32/32 [==============================] - 1s 30ms/step - loss: 5.6747 - mape: 5.6747\n",
      "Epoch 28/500\n",
      "32/32 [==============================] - 1s 30ms/step - loss: 5.4489 - mape: 5.4489\n",
      "Epoch 29/500\n",
      "32/32 [==============================] - 1s 30ms/step - loss: 5.4534 - mape: 5.4534\n",
      "Epoch 30/500\n",
      "32/32 [==============================] - 1s 30ms/step - loss: 5.4846 - mape: 5.4846\n",
      "Epoch 31/500\n",
      "32/32 [==============================] - 1s 30ms/step - loss: 5.4554 - mape: 5.4554\n",
      "Epoch 32/500\n",
      "32/32 [==============================] - 1s 28ms/step - loss: 5.5150 - mape: 5.5150\n",
      "Epoch 33/500\n",
      "32/32 [==============================] - 1s 30ms/step - loss: 5.3850 - mape: 5.3850\n",
      "Epoch 34/500\n",
      "32/32 [==============================] - 1s 30ms/step - loss: 5.3224 - mape: 5.3224\n",
      "Epoch 35/500\n",
      "32/32 [==============================] - 1s 30ms/step - loss: 5.3290 - mape: 5.3290\n",
      "Epoch 36/500\n",
      "32/32 [==============================] - 1s 30ms/step - loss: 5.1738 - mape: 5.1738\n",
      "Epoch 37/500\n",
      "32/32 [==============================] - 1s 30ms/step - loss: 5.4785 - mape: 5.4785\n",
      "Epoch 38/500\n",
      "32/32 [==============================] - 1s 29ms/step - loss: 5.3089 - mape: 5.3089\n",
      "Epoch 39/500\n",
      "32/32 [==============================] - 1s 29ms/step - loss: 5.0627 - mape: 5.0627\n",
      "Epoch 40/500\n",
      "32/32 [==============================] - 1s 29ms/step - loss: 5.2062 - mape: 5.2062\n",
      "Epoch 41/500\n",
      "32/32 [==============================] - 1s 30ms/step - loss: 5.2404 - mape: 5.2404\n",
      "Epoch 42/500\n",
      "32/32 [==============================] - 1s 30ms/step - loss: 5.1334 - mape: 5.1334\n",
      "Epoch 43/500\n",
      "32/32 [==============================] - 1s 29ms/step - loss: 5.0333 - mape: 5.0333\n",
      "Epoch 44/500\n",
      "32/32 [==============================] - 1s 29ms/step - loss: 4.9549 - mape: 4.9549\n",
      "Epoch 45/500\n",
      "32/32 [==============================] - 1s 29ms/step - loss: 4.9623 - mape: 4.9623\n",
      "Epoch 46/500\n",
      "32/32 [==============================] - 1s 30ms/step - loss: 5.0462 - mape: 5.0462\n",
      "Epoch 47/500\n",
      "32/32 [==============================] - 1s 29ms/step - loss: 4.8380 - mape: 4.8380\n",
      "Epoch 48/500\n",
      "32/32 [==============================] - 1s 29ms/step - loss: 4.8250 - mape: 4.8250\n",
      "Epoch 49/500\n",
      "32/32 [==============================] - 1s 29ms/step - loss: 4.7832 - mape: 4.7832\n",
      "Epoch 50/500\n",
      "32/32 [==============================] - 1s 29ms/step - loss: 4.6350 - mape: 4.6350\n",
      "Epoch 51/500\n",
      "32/32 [==============================] - 1s 30ms/step - loss: 4.7337 - mape: 4.7337\n",
      "Epoch 52/500\n",
      "32/32 [==============================] - 1s 29ms/step - loss: 4.7945 - mape: 4.7945\n",
      "Epoch 53/500\n",
      "32/32 [==============================] - 1s 30ms/step - loss: 4.6840 - mape: 4.6840\n",
      "Epoch 54/500\n",
      "32/32 [==============================] - 1s 29ms/step - loss: 4.5275 - mape: 4.5275\n",
      "Epoch 55/500\n",
      "32/32 [==============================] - 1s 29ms/step - loss: 4.5049 - mape: 4.5049\n",
      "Epoch 56/500\n",
      "32/32 [==============================] - 1s 29ms/step - loss: 4.5865 - mape: 4.5865\n",
      "Epoch 57/500\n",
      "32/32 [==============================] - 1s 30ms/step - loss: 4.6499 - mape: 4.6499\n",
      "Epoch 58/500\n",
      "32/32 [==============================] - 1s 30ms/step - loss: 4.3900 - mape: 4.3900\n",
      "Epoch 59/500\n",
      "32/32 [==============================] - 1s 30ms/step - loss: 4.5188 - mape: 4.5188\n",
      "Epoch 60/500\n",
      "32/32 [==============================] - 1s 29ms/step - loss: 4.4658 - mape: 4.4658\n",
      "Epoch 61/500\n",
      "32/32 [==============================] - 1s 29ms/step - loss: 4.3789 - mape: 4.3789\n",
      "Epoch 62/500\n",
      "32/32 [==============================] - 1s 28ms/step - loss: 4.3273 - mape: 4.3273\n",
      "Epoch 63/500\n",
      "32/32 [==============================] - 1s 29ms/step - loss: 4.2164 - mape: 4.2164\n",
      "Epoch 64/500\n",
      "32/32 [==============================] - 1s 29ms/step - loss: 4.2903 - mape: 4.2903\n",
      "Epoch 65/500\n",
      "32/32 [==============================] - 1s 30ms/step - loss: 4.2147 - mape: 4.2147\n",
      "Epoch 66/500\n",
      "32/32 [==============================] - 1s 29ms/step - loss: 4.3837 - mape: 4.3837\n",
      "Epoch 67/500\n",
      "32/32 [==============================] - 1s 29ms/step - loss: 4.2775 - mape: 4.2775\n",
      "Epoch 68/500\n",
      "32/32 [==============================] - 1s 29ms/step - loss: 4.1397 - mape: 4.1397\n",
      "Epoch 69/500\n",
      "32/32 [==============================] - 1s 30ms/step - loss: 4.3147 - mape: 4.3147\n",
      "Epoch 70/500\n",
      "32/32 [==============================] - 1s 30ms/step - loss: 4.2498 - mape: 4.2498\n",
      "Epoch 71/500\n",
      "32/32 [==============================] - 1s 29ms/step - loss: 4.3202 - mape: 4.3202\n",
      "Epoch 72/500\n",
      "32/32 [==============================] - 1s 30ms/step - loss: 4.0481 - mape: 4.0481\n",
      "Epoch 73/500\n",
      "32/32 [==============================] - 1s 30ms/step - loss: 4.1206 - mape: 4.1206\n",
      "Epoch 74/500\n",
      "32/32 [==============================] - 1s 30ms/step - loss: 4.1030 - mape: 4.1030\n",
      "Epoch 75/500\n",
      "32/32 [==============================] - 1s 30ms/step - loss: 4.0030 - mape: 4.0030\n",
      "Epoch 76/500\n",
      "32/32 [==============================] - 1s 29ms/step - loss: 3.9948 - mape: 3.9948\n",
      "Epoch 77/500\n",
      "32/32 [==============================] - 1s 30ms/step - loss: 3.9249 - mape: 3.9249\n",
      "Epoch 78/500\n",
      "32/32 [==============================] - 1s 30ms/step - loss: 3.8913 - mape: 3.8913\n",
      "Epoch 79/500\n",
      "32/32 [==============================] - 1s 31ms/step - loss: 3.8585 - mape: 3.8585\n",
      "Epoch 80/500\n",
      "32/32 [==============================] - 1s 31ms/step - loss: 4.0648 - mape: 4.0648\n",
      "Epoch 81/500\n",
      "32/32 [==============================] - 1s 30ms/step - loss: 3.8797 - mape: 3.8797\n",
      "Epoch 82/500\n",
      "32/32 [==============================] - 1s 30ms/step - loss: 3.9291 - mape: 3.9291\n",
      "Epoch 83/500\n",
      "32/32 [==============================] - 1s 31ms/step - loss: 3.7956 - mape: 3.7956\n",
      "Epoch 84/500\n",
      "32/32 [==============================] - 1s 30ms/step - loss: 3.8023 - mape: 3.8023\n",
      "Epoch 85/500\n",
      "32/32 [==============================] - 1s 30ms/step - loss: 3.9263 - mape: 3.9263\n",
      "Epoch 86/500\n",
      "32/32 [==============================] - 1s 29ms/step - loss: 3.9877 - mape: 3.9877\n",
      "Epoch 87/500\n",
      "32/32 [==============================] - 1s 29ms/step - loss: 3.9225 - mape: 3.9225\n",
      "Epoch 88/500\n",
      "32/32 [==============================] - 1s 30ms/step - loss: 3.7031 - mape: 3.7031\n",
      "Epoch 89/500\n",
      "32/32 [==============================] - 1s 30ms/step - loss: 3.6911 - mape: 3.6911\n",
      "Epoch 90/500\n",
      "32/32 [==============================] - 1s 30ms/step - loss: 3.7284 - mape: 3.7284\n",
      "Epoch 91/500\n",
      "32/32 [==============================] - 1s 30ms/step - loss: 3.6971 - mape: 3.6971\n",
      "Epoch 92/500\n",
      "32/32 [==============================] - 1s 30ms/step - loss: 3.8676 - mape: 3.8676\n",
      "Epoch 93/500\n",
      "32/32 [==============================] - 1s 30ms/step - loss: 3.6633 - mape: 3.6633\n",
      "Epoch 94/500\n",
      "32/32 [==============================] - 1s 30ms/step - loss: 3.9372 - mape: 3.9372\n",
      "Epoch 95/500\n",
      "32/32 [==============================] - 1s 30ms/step - loss: 4.0040 - mape: 4.0040\n",
      "Epoch 96/500\n",
      "32/32 [==============================] - 1s 30ms/step - loss: 3.9905 - mape: 3.9905\n",
      "Epoch 97/500\n",
      "32/32 [==============================] - 1s 31ms/step - loss: 3.7469 - mape: 3.7469\n",
      "Epoch 98/500\n",
      "32/32 [==============================] - 1s 30ms/step - loss: 3.4645 - mape: 3.4645\n",
      "Epoch 99/500\n",
      "32/32 [==============================] - 1s 30ms/step - loss: 3.5413 - mape: 3.5413\n",
      "Epoch 100/500\n",
      "32/32 [==============================] - 1s 30ms/step - loss: 3.5506 - mape: 3.5506\n",
      "Epoch 101/500\n",
      "32/32 [==============================] - 1s 30ms/step - loss: 3.4609 - mape: 3.4609\n",
      "Epoch 102/500\n",
      "32/32 [==============================] - 1s 29ms/step - loss: 3.5511 - mape: 3.5511\n",
      "Epoch 103/500\n",
      "32/32 [==============================] - 1s 30ms/step - loss: 3.4081 - mape: 3.4081\n",
      "Epoch 104/500\n",
      "32/32 [==============================] - 1s 29ms/step - loss: 3.8046 - mape: 3.8046\n",
      "Epoch 105/500\n",
      "32/32 [==============================] - 1s 30ms/step - loss: 3.4868 - mape: 3.4868\n",
      "Epoch 106/500\n",
      "32/32 [==============================] - 1s 30ms/step - loss: 3.3597 - mape: 3.3597\n",
      "Epoch 107/500\n",
      "32/32 [==============================] - 1s 30ms/step - loss: 3.4233 - mape: 3.4233\n",
      "Epoch 108/500\n",
      "32/32 [==============================] - 1s 29ms/step - loss: 3.4077 - mape: 3.4077\n",
      "Epoch 109/500\n",
      "32/32 [==============================] - 1s 30ms/step - loss: 3.3416 - mape: 3.3416\n",
      "Epoch 110/500\n",
      "32/32 [==============================] - 1s 30ms/step - loss: 3.5854 - mape: 3.5854\n",
      "Epoch 111/500\n",
      "32/32 [==============================] - 1s 30ms/step - loss: 3.4941 - mape: 3.4941\n",
      "Epoch 112/500\n",
      "32/32 [==============================] - 1s 30ms/step - loss: 3.3043 - mape: 3.3043\n",
      "Epoch 113/500\n",
      "32/32 [==============================] - 1s 29ms/step - loss: 3.3302 - mape: 3.3302\n",
      "Epoch 114/500\n",
      "32/32 [==============================] - 1s 30ms/step - loss: 3.2597 - mape: 3.2597\n",
      "Epoch 115/500\n",
      "32/32 [==============================] - 1s 30ms/step - loss: 3.3504 - mape: 3.3504\n",
      "Epoch 116/500\n",
      "32/32 [==============================] - 1s 30ms/step - loss: 3.5255 - mape: 3.5255\n",
      "Epoch 117/500\n",
      "32/32 [==============================] - 1s 30ms/step - loss: 3.2353 - mape: 3.2353\n",
      "Epoch 118/500\n",
      "32/32 [==============================] - 1s 30ms/step - loss: 3.3534 - mape: 3.3534\n",
      "Epoch 119/500\n",
      "32/32 [==============================] - 1s 30ms/step - loss: 3.6633 - mape: 3.6633\n",
      "Epoch 120/500\n",
      "32/32 [==============================] - 1s 30ms/step - loss: 4.3872 - mape: 4.3872\n",
      "Epoch 121/500\n",
      "32/32 [==============================] - 1s 30ms/step - loss: 3.3058 - mape: 3.3058\n",
      "Epoch 122/500\n",
      "32/32 [==============================] - 1s 30ms/step - loss: 3.1522 - mape: 3.1522\n",
      "Epoch 123/500\n",
      "32/32 [==============================] - 1s 30ms/step - loss: 3.0889 - mape: 3.0889\n",
      "Epoch 124/500\n",
      "32/32 [==============================] - 1s 30ms/step - loss: 3.1755 - mape: 3.1755\n",
      "Epoch 125/500\n",
      "32/32 [==============================] - 1s 30ms/step - loss: 3.2013 - mape: 3.2013\n",
      "Epoch 126/500\n",
      "32/32 [==============================] - 1s 30ms/step - loss: 3.2621 - mape: 3.2621\n",
      "Epoch 127/500\n",
      "32/32 [==============================] - 1s 30ms/step - loss: 3.1715 - mape: 3.1715\n",
      "Epoch 128/500\n",
      "32/32 [==============================] - 1s 30ms/step - loss: 3.1898 - mape: 3.1898\n",
      "Epoch 129/500\n",
      "32/32 [==============================] - 1s 29ms/step - loss: 3.2348 - mape: 3.2348\n",
      "Epoch 130/500\n",
      "32/32 [==============================] - 1s 29ms/step - loss: 3.2130 - mape: 3.2130\n",
      "Epoch 131/500\n",
      "32/32 [==============================] - 1s 30ms/step - loss: 3.2624 - mape: 3.2624\n",
      "Epoch 132/500\n",
      "32/32 [==============================] - 1s 30ms/step - loss: 3.3489 - mape: 3.3489\n",
      "Epoch 133/500\n",
      "32/32 [==============================] - 1s 30ms/step - loss: 3.2033 - mape: 3.2033\n",
      "Epoch 134/500\n",
      "32/32 [==============================] - 1s 31ms/step - loss: 3.0353 - mape: 3.0353\n",
      "Epoch 135/500\n",
      "32/32 [==============================] - 1s 30ms/step - loss: 3.1015 - mape: 3.1015\n",
      "Epoch 136/500\n",
      "32/32 [==============================] - 1s 30ms/step - loss: 3.0649 - mape: 3.0649\n",
      "Epoch 137/500\n",
      "32/32 [==============================] - 1s 30ms/step - loss: 3.0446 - mape: 3.0446\n",
      "Epoch 138/500\n",
      "32/32 [==============================] - 1s 30ms/step - loss: 2.8493 - mape: 2.8493\n",
      "Epoch 139/500\n",
      "32/32 [==============================] - 1s 30ms/step - loss: 3.2563 - mape: 3.2563\n",
      "Epoch 140/500\n",
      "32/32 [==============================] - 1s 30ms/step - loss: 3.0257 - mape: 3.0257\n",
      "Epoch 141/500\n",
      "32/32 [==============================] - 1s 30ms/step - loss: 2.8834 - mape: 2.8834\n",
      "Epoch 142/500\n",
      "32/32 [==============================] - 1s 30ms/step - loss: 2.8442 - mape: 2.8442\n",
      "Epoch 143/500\n",
      "32/32 [==============================] - 1s 30ms/step - loss: 2.9249 - mape: 2.9249\n",
      "Epoch 144/500\n",
      "32/32 [==============================] - 1s 30ms/step - loss: 2.8490 - mape: 2.8490\n",
      "Epoch 145/500\n",
      "32/32 [==============================] - 1s 30ms/step - loss: 2.9130 - mape: 2.9130\n",
      "Epoch 146/500\n",
      "32/32 [==============================] - 1s 31ms/step - loss: 2.9938 - mape: 2.9938\n",
      "Epoch 147/500\n",
      "32/32 [==============================] - 1s 29ms/step - loss: 4.0112 - mape: 4.0112\n",
      "Epoch 148/500\n",
      "32/32 [==============================] - 1s 30ms/step - loss: 3.2321 - mape: 3.2321\n",
      "Epoch 149/500\n",
      "32/32 [==============================] - 1s 29ms/step - loss: 2.9146 - mape: 2.9146\n",
      "Epoch 150/500\n",
      "32/32 [==============================] - 1s 30ms/step - loss: 2.9174 - mape: 2.9174\n",
      "Epoch 151/500\n",
      "32/32 [==============================] - 1s 31ms/step - loss: 2.7776 - mape: 2.7776\n",
      "Epoch 152/500\n",
      "32/32 [==============================] - 1s 30ms/step - loss: 2.9057 - mape: 2.9057\n",
      "Epoch 153/500\n",
      "32/32 [==============================] - 1s 31ms/step - loss: 2.8780 - mape: 2.8780\n",
      "Epoch 154/500\n",
      "32/32 [==============================] - 1s 30ms/step - loss: 2.9030 - mape: 2.9030\n",
      "Epoch 155/500\n",
      "32/32 [==============================] - 1s 30ms/step - loss: 2.7335 - mape: 2.7335\n",
      "Epoch 156/500\n",
      "32/32 [==============================] - 1s 30ms/step - loss: 3.1626 - mape: 3.1626\n",
      "Epoch 157/500\n",
      "32/32 [==============================] - 1s 30ms/step - loss: 3.2331 - mape: 3.2331\n",
      "Epoch 158/500\n",
      "32/32 [==============================] - 1s 30ms/step - loss: 3.0377 - mape: 3.0377\n",
      "Epoch 159/500\n",
      "32/32 [==============================] - 1s 30ms/step - loss: 2.6583 - mape: 2.6583\n",
      "Epoch 160/500\n",
      "32/32 [==============================] - 1s 30ms/step - loss: 2.7128 - mape: 2.7128\n",
      "Epoch 161/500\n",
      "32/32 [==============================] - 1s 31ms/step - loss: 2.6241 - mape: 2.6241\n",
      "Epoch 162/500\n",
      "32/32 [==============================] - 1s 30ms/step - loss: 2.7003 - mape: 2.7003\n",
      "Epoch 163/500\n",
      "32/32 [==============================] - 1s 30ms/step - loss: 3.2910 - mape: 3.2910\n",
      "Epoch 164/500\n",
      "32/32 [==============================] - 1s 30ms/step - loss: 2.9500 - mape: 2.9500\n",
      "Epoch 165/500\n",
      "32/32 [==============================] - 1s 30ms/step - loss: 2.7653 - mape: 2.7653\n",
      "Epoch 166/500\n",
      "32/32 [==============================] - 1s 30ms/step - loss: 2.5905 - mape: 2.5905\n",
      "Epoch 167/500\n",
      "32/32 [==============================] - 1s 31ms/step - loss: 2.7979 - mape: 2.7979\n",
      "Epoch 168/500\n",
      "32/32 [==============================] - 1s 31ms/step - loss: 2.8798 - mape: 2.8798\n",
      "Epoch 169/500\n",
      "32/32 [==============================] - 1s 30ms/step - loss: 2.9691 - mape: 2.9691\n",
      "Epoch 170/500\n",
      "32/32 [==============================] - 1s 31ms/step - loss: 2.9927 - mape: 2.9927\n",
      "Epoch 171/500\n",
      "32/32 [==============================] - 1s 30ms/step - loss: 3.0996 - mape: 3.0996\n",
      "Epoch 172/500\n",
      "32/32 [==============================] - 1s 30ms/step - loss: 3.1616 - mape: 3.1616\n",
      "Epoch 173/500\n",
      "32/32 [==============================] - 1s 30ms/step - loss: 2.6041 - mape: 2.6041\n",
      "Epoch 174/500\n",
      "32/32 [==============================] - 1s 30ms/step - loss: 2.7568 - mape: 2.7568\n",
      "Epoch 175/500\n",
      "32/32 [==============================] - 1s 30ms/step - loss: 2.8183 - mape: 2.8183\n",
      "Epoch 176/500\n",
      "32/32 [==============================] - 1s 30ms/step - loss: 2.5087 - mape: 2.5087\n",
      "Epoch 177/500\n",
      "32/32 [==============================] - 1s 31ms/step - loss: 2.5356 - mape: 2.5356\n",
      "Epoch 178/500\n",
      "32/32 [==============================] - 1s 30ms/step - loss: 2.8254 - mape: 2.8254\n",
      "Epoch 179/500\n",
      "32/32 [==============================] - 1s 29ms/step - loss: 2.5364 - mape: 2.5364\n",
      "Epoch 180/500\n",
      "32/32 [==============================] - 1s 30ms/step - loss: 2.6636 - mape: 2.6636\n",
      "Epoch 181/500\n",
      "32/32 [==============================] - 1s 30ms/step - loss: 2.6326 - mape: 2.6326\n",
      "Epoch 182/500\n",
      "32/32 [==============================] - 1s 30ms/step - loss: 2.5536 - mape: 2.5536\n",
      "Epoch 183/500\n",
      "32/32 [==============================] - 1s 30ms/step - loss: 2.7174 - mape: 2.7174\n",
      "Epoch 184/500\n",
      "32/32 [==============================] - 1s 30ms/step - loss: 2.4937 - mape: 2.4937\n",
      "Epoch 185/500\n",
      "32/32 [==============================] - 1s 30ms/step - loss: 2.5395 - mape: 2.5395\n",
      "Epoch 186/500\n",
      "32/32 [==============================] - 1s 30ms/step - loss: 2.6764 - mape: 2.6764\n",
      "Epoch 187/500\n",
      "32/32 [==============================] - 1s 31ms/step - loss: 2.3395 - mape: 2.3395\n",
      "Epoch 188/500\n",
      "32/32 [==============================] - 1s 30ms/step - loss: 2.3040 - mape: 2.3040\n",
      "Epoch 189/500\n",
      "32/32 [==============================] - 1s 30ms/step - loss: 2.5372 - mape: 2.5372\n",
      "Epoch 190/500\n",
      "32/32 [==============================] - 1s 29ms/step - loss: 2.3280 - mape: 2.3280\n",
      "Epoch 191/500\n",
      "32/32 [==============================] - 1s 30ms/step - loss: 2.4922 - mape: 2.4922\n",
      "Epoch 192/500\n",
      "32/32 [==============================] - 1s 31ms/step - loss: 2.3114 - mape: 2.3114\n",
      "Epoch 193/500\n",
      "32/32 [==============================] - 1s 30ms/step - loss: 2.3676 - mape: 2.3676\n",
      "Epoch 194/500\n",
      "32/32 [==============================] - 1s 29ms/step - loss: 2.4212 - mape: 2.4212\n",
      "Epoch 195/500\n",
      "32/32 [==============================] - 1s 29ms/step - loss: 2.4513 - mape: 2.4513\n",
      "Epoch 196/500\n",
      "32/32 [==============================] - 1s 30ms/step - loss: 2.6650 - mape: 2.6650\n",
      "Epoch 197/500\n",
      "32/32 [==============================] - 1s 31ms/step - loss: 2.3317 - mape: 2.3317\n",
      "Epoch 198/500\n",
      "32/32 [==============================] - 1s 30ms/step - loss: 2.2566 - mape: 2.2566\n",
      "Epoch 199/500\n",
      "32/32 [==============================] - 1s 30ms/step - loss: 2.3259 - mape: 2.3259\n",
      "Epoch 200/500\n",
      "32/32 [==============================] - 1s 30ms/step - loss: 2.2588 - mape: 2.2588\n",
      "Epoch 201/500\n",
      "32/32 [==============================] - 1s 31ms/step - loss: 2.3283 - mape: 2.3283\n",
      "Epoch 202/500\n",
      "32/32 [==============================] - 1s 30ms/step - loss: 2.2991 - mape: 2.2991\n",
      "Epoch 203/500\n",
      "32/32 [==============================] - 1s 30ms/step - loss: 2.3510 - mape: 2.3510\n",
      "Epoch 204/500\n",
      "32/32 [==============================] - 1s 31ms/step - loss: 2.4471 - mape: 2.4471\n",
      "Epoch 205/500\n",
      "32/32 [==============================] - 1s 30ms/step - loss: 2.1575 - mape: 2.1575\n",
      "Epoch 206/500\n",
      "32/32 [==============================] - 1s 30ms/step - loss: 2.6119 - mape: 2.6119\n",
      "Epoch 207/500\n",
      "32/32 [==============================] - 1s 30ms/step - loss: 2.3992 - mape: 2.3992\n",
      "Epoch 208/500\n",
      "32/32 [==============================] - 1s 30ms/step - loss: 2.1777 - mape: 2.1777\n",
      "Epoch 209/500\n",
      "32/32 [==============================] - 1s 30ms/step - loss: 2.3768 - mape: 2.3768\n",
      "Epoch 210/500\n",
      "32/32 [==============================] - 1s 31ms/step - loss: 2.3703 - mape: 2.3703\n",
      "Epoch 211/500\n",
      "32/32 [==============================] - 1s 31ms/step - loss: 2.3120 - mape: 2.3120\n",
      "Epoch 212/500\n",
      "32/32 [==============================] - 1s 30ms/step - loss: 2.1653 - mape: 2.1653\n",
      "Epoch 213/500\n",
      "32/32 [==============================] - 1s 29ms/step - loss: 2.0938 - mape: 2.0938\n",
      "Epoch 214/500\n",
      "32/32 [==============================] - 1s 30ms/step - loss: 2.3509 - mape: 2.3509\n",
      "Epoch 215/500\n",
      "32/32 [==============================] - 1s 30ms/step - loss: 2.3129 - mape: 2.3129\n",
      "Epoch 216/500\n",
      "32/32 [==============================] - 1s 30ms/step - loss: 2.4100 - mape: 2.4100\n",
      "Epoch 217/500\n",
      "32/32 [==============================] - 1s 30ms/step - loss: 2.5701 - mape: 2.5701\n",
      "Epoch 218/500\n",
      "32/32 [==============================] - 1s 30ms/step - loss: 2.3860 - mape: 2.3860\n",
      "Epoch 219/500\n",
      "32/32 [==============================] - 1s 30ms/step - loss: 2.0972 - mape: 2.0972\n",
      "Epoch 220/500\n",
      "32/32 [==============================] - 1s 31ms/step - loss: 2.2744 - mape: 2.2744\n",
      "Epoch 221/500\n",
      "32/32 [==============================] - 1s 30ms/step - loss: 2.2557 - mape: 2.2557\n",
      "Epoch 222/500\n",
      "32/32 [==============================] - 1s 30ms/step - loss: 2.0378 - mape: 2.0378\n",
      "Epoch 223/500\n",
      "32/32 [==============================] - 1s 30ms/step - loss: 2.1759 - mape: 2.1759\n",
      "Epoch 224/500\n",
      "32/32 [==============================] - 1s 30ms/step - loss: 2.1080 - mape: 2.1080\n",
      "Epoch 225/500\n",
      "32/32 [==============================] - 1s 30ms/step - loss: 2.3821 - mape: 2.3821\n",
      "Epoch 226/500\n",
      "32/32 [==============================] - 1s 29ms/step - loss: 2.1151 - mape: 2.1151\n",
      "Epoch 227/500\n",
      "32/32 [==============================] - 1s 30ms/step - loss: 2.2660 - mape: 2.2660\n",
      "Epoch 228/500\n",
      "32/32 [==============================] - 1s 31ms/step - loss: 2.9047 - mape: 2.9047\n",
      "Epoch 229/500\n",
      "32/32 [==============================] - 1s 30ms/step - loss: 2.2337 - mape: 2.2337\n",
      "Epoch 230/500\n",
      "32/32 [==============================] - 1s 30ms/step - loss: 2.0477 - mape: 2.0477\n",
      "Epoch 231/500\n",
      "32/32 [==============================] - 1s 30ms/step - loss: 2.0890 - mape: 2.0890\n",
      "Epoch 232/500\n",
      "32/32 [==============================] - 1s 30ms/step - loss: 2.0594 - mape: 2.0594\n",
      "Epoch 233/500\n",
      "32/32 [==============================] - 1s 30ms/step - loss: 2.3035 - mape: 2.3035\n",
      "Epoch 234/500\n",
      "32/32 [==============================] - 1s 30ms/step - loss: 2.5816 - mape: 2.5816\n",
      "Epoch 235/500\n",
      "32/32 [==============================] - 1s 30ms/step - loss: 2.2115 - mape: 2.2115\n",
      "Epoch 236/500\n",
      "32/32 [==============================] - 1s 30ms/step - loss: 1.9512 - mape: 1.9512\n",
      "Epoch 237/500\n",
      "32/32 [==============================] - 1s 30ms/step - loss: 1.9411 - mape: 1.9411\n",
      "Epoch 238/500\n",
      "32/32 [==============================] - 1s 30ms/step - loss: 1.9159 - mape: 1.9159\n",
      "Epoch 239/500\n",
      "32/32 [==============================] - 1s 31ms/step - loss: 2.0082 - mape: 2.0082\n",
      "Epoch 240/500\n",
      "32/32 [==============================] - 1s 30ms/step - loss: 2.0451 - mape: 2.0451\n",
      "Epoch 241/500\n",
      "32/32 [==============================] - 1s 31ms/step - loss: 1.9535 - mape: 1.9535\n",
      "Epoch 242/500\n",
      "32/32 [==============================] - 1s 30ms/step - loss: 1.9462 - mape: 1.9462\n",
      "Epoch 243/500\n",
      "32/32 [==============================] - 1s 30ms/step - loss: 2.0621 - mape: 2.0621\n",
      "Epoch 244/500\n",
      "32/32 [==============================] - 1s 30ms/step - loss: 1.9770 - mape: 1.9770\n",
      "Epoch 245/500\n",
      "32/32 [==============================] - 1s 30ms/step - loss: 1.9938 - mape: 1.9938\n",
      "Epoch 246/500\n",
      "32/32 [==============================] - 1s 30ms/step - loss: 1.9263 - mape: 1.9263\n",
      "Epoch 247/500\n",
      "32/32 [==============================] - 1s 30ms/step - loss: 1.9213 - mape: 1.9213\n",
      "Epoch 248/500\n",
      "32/32 [==============================] - 1s 30ms/step - loss: 2.0612 - mape: 2.0612\n",
      "Epoch 249/500\n",
      "32/32 [==============================] - 1s 30ms/step - loss: 1.8887 - mape: 1.8887\n",
      "Epoch 250/500\n",
      "32/32 [==============================] - 1s 31ms/step - loss: 1.8530 - mape: 1.8530\n",
      "Epoch 251/500\n",
      "32/32 [==============================] - 1s 30ms/step - loss: 2.1033 - mape: 2.1033\n",
      "Epoch 252/500\n",
      "32/32 [==============================] - 1s 30ms/step - loss: 2.3880 - mape: 2.3880\n",
      "Epoch 253/500\n",
      "32/32 [==============================] - 1s 30ms/step - loss: 1.9365 - mape: 1.9365\n",
      "Epoch 254/500\n",
      "32/32 [==============================] - 1s 30ms/step - loss: 1.8409 - mape: 1.8409\n",
      "Epoch 255/500\n",
      "32/32 [==============================] - 1s 30ms/step - loss: 1.9194 - mape: 1.9194\n",
      "Epoch 256/500\n",
      "32/32 [==============================] - 1s 30ms/step - loss: 1.9354 - mape: 1.9354\n",
      "Epoch 257/500\n",
      "32/32 [==============================] - 1s 30ms/step - loss: 1.9182 - mape: 1.9182\n",
      "Epoch 258/500\n",
      "32/32 [==============================] - 1s 31ms/step - loss: 1.9033 - mape: 1.9033\n",
      "Epoch 259/500\n",
      "32/32 [==============================] - 1s 31ms/step - loss: 1.9059 - mape: 1.9059\n",
      "Epoch 260/500\n",
      "32/32 [==============================] - 1s 30ms/step - loss: 2.0223 - mape: 2.0223\n",
      "Epoch 261/500\n",
      "32/32 [==============================] - 1s 31ms/step - loss: 1.8568 - mape: 1.8568\n",
      "Epoch 262/500\n",
      "32/32 [==============================] - 1s 31ms/step - loss: 1.8318 - mape: 1.8318\n",
      "Epoch 263/500\n",
      "32/32 [==============================] - 1s 31ms/step - loss: 1.8697 - mape: 1.8697\n",
      "Epoch 264/500\n",
      "32/32 [==============================] - 1s 30ms/step - loss: 1.9033 - mape: 1.9033\n",
      "Epoch 265/500\n",
      "32/32 [==============================] - 1s 30ms/step - loss: 1.9261 - mape: 1.9261\n",
      "Epoch 266/500\n",
      "32/32 [==============================] - 1s 30ms/step - loss: 1.9569 - mape: 1.9569\n",
      "Epoch 267/500\n",
      "32/32 [==============================] - 1s 31ms/step - loss: 1.8764 - mape: 1.8764\n",
      "Epoch 268/500\n",
      "32/32 [==============================] - 1s 31ms/step - loss: 2.0084 - mape: 2.0084\n",
      "Epoch 269/500\n",
      "32/32 [==============================] - 1s 30ms/step - loss: 1.7565 - mape: 1.7565\n",
      "Epoch 270/500\n",
      "32/32 [==============================] - 1s 30ms/step - loss: 2.1789 - mape: 2.1789\n",
      "Epoch 271/500\n",
      "32/32 [==============================] - 1s 30ms/step - loss: 2.3411 - mape: 2.3411\n",
      "Epoch 272/500\n",
      "32/32 [==============================] - 1s 30ms/step - loss: 1.9429 - mape: 1.9429\n",
      "Epoch 273/500\n",
      "32/32 [==============================] - 1s 30ms/step - loss: 1.7551 - mape: 1.7551\n",
      "Epoch 274/500\n",
      "32/32 [==============================] - 1s 30ms/step - loss: 1.6765 - mape: 1.6765\n",
      "Epoch 275/500\n",
      "32/32 [==============================] - 1s 30ms/step - loss: 2.0144 - mape: 2.0144\n",
      "Epoch 276/500\n",
      "32/32 [==============================] - 1s 30ms/step - loss: 2.1856 - mape: 2.1856\n",
      "Epoch 277/500\n",
      "32/32 [==============================] - 1s 29ms/step - loss: 2.1366 - mape: 2.1366\n",
      "Epoch 278/500\n",
      "32/32 [==============================] - 1s 30ms/step - loss: 1.8491 - mape: 1.8491\n",
      "Epoch 279/500\n",
      "32/32 [==============================] - 1s 30ms/step - loss: 1.7663 - mape: 1.7663\n",
      "Epoch 280/500\n",
      "32/32 [==============================] - 1s 29ms/step - loss: 1.8285 - mape: 1.8285\n",
      "Epoch 281/500\n",
      "32/32 [==============================] - 1s 30ms/step - loss: 1.8247 - mape: 1.8247\n",
      "Epoch 282/500\n",
      "32/32 [==============================] - 1s 29ms/step - loss: 1.7787 - mape: 1.7787\n",
      "Epoch 283/500\n",
      "32/32 [==============================] - 1s 30ms/step - loss: 1.8987 - mape: 1.8987\n",
      "Epoch 284/500\n",
      "32/32 [==============================] - 1s 29ms/step - loss: 2.1121 - mape: 2.1121\n",
      "Epoch 285/500\n",
      "32/32 [==============================] - 1s 29ms/step - loss: 1.8678 - mape: 1.8678\n",
      "Epoch 286/500\n",
      "32/32 [==============================] - 1s 29ms/step - loss: 1.9115 - mape: 1.9115\n",
      "Epoch 287/500\n",
      "32/32 [==============================] - 1s 30ms/step - loss: 2.0148 - mape: 2.0148\n",
      "Epoch 288/500\n",
      "32/32 [==============================] - 1s 31ms/step - loss: 2.0838 - mape: 2.0838\n",
      "Epoch 289/500\n",
      "32/32 [==============================] - 1s 30ms/step - loss: 1.7394 - mape: 1.7394\n",
      "Epoch 290/500\n",
      "32/32 [==============================] - 1s 31ms/step - loss: 1.6441 - mape: 1.6441\n",
      "Epoch 291/500\n",
      "32/32 [==============================] - 1s 30ms/step - loss: 1.6228 - mape: 1.6228\n",
      "Epoch 292/500\n",
      "32/32 [==============================] - 1s 30ms/step - loss: 1.6393 - mape: 1.6393\n",
      "Epoch 293/500\n",
      "32/32 [==============================] - 1s 30ms/step - loss: 1.8015 - mape: 1.8015\n",
      "Epoch 294/500\n",
      "32/32 [==============================] - 1s 30ms/step - loss: 2.0335 - mape: 2.0335\n",
      "Epoch 295/500\n",
      "32/32 [==============================] - 1s 30ms/step - loss: 1.7278 - mape: 1.7278\n",
      "Epoch 296/500\n",
      "32/32 [==============================] - 1s 30ms/step - loss: 2.1173 - mape: 2.1173\n",
      "Epoch 297/500\n",
      "32/32 [==============================] - 1s 30ms/step - loss: 1.7577 - mape: 1.7577\n",
      "Epoch 298/500\n",
      "32/32 [==============================] - 1s 31ms/step - loss: 1.7373 - mape: 1.7373\n",
      "Epoch 299/500\n",
      "32/32 [==============================] - 1s 31ms/step - loss: 1.6082 - mape: 1.6082\n",
      "Epoch 300/500\n",
      "32/32 [==============================] - 1s 30ms/step - loss: 1.6943 - mape: 1.6943\n",
      "Epoch 301/500\n",
      "32/32 [==============================] - 1s 31ms/step - loss: 1.6666 - mape: 1.6666\n",
      "Epoch 302/500\n",
      "32/32 [==============================] - 1s 30ms/step - loss: 2.0473 - mape: 2.0473\n",
      "Epoch 303/500\n",
      "32/32 [==============================] - 1s 31ms/step - loss: 2.0581 - mape: 2.0581\n",
      "Epoch 304/500\n",
      "32/32 [==============================] - 1s 30ms/step - loss: 1.6413 - mape: 1.6413\n",
      "Epoch 305/500\n",
      "32/32 [==============================] - 1s 31ms/step - loss: 1.8464 - mape: 1.8464\n",
      "Epoch 306/500\n",
      "32/32 [==============================] - 1s 31ms/step - loss: 1.9721 - mape: 1.9721\n",
      "Epoch 307/500\n",
      "32/32 [==============================] - 1s 31ms/step - loss: 1.8161 - mape: 1.8161\n",
      "Epoch 308/500\n",
      "32/32 [==============================] - 1s 31ms/step - loss: 1.8124 - mape: 1.8124\n",
      "Epoch 309/500\n",
      "32/32 [==============================] - 1s 31ms/step - loss: 1.7315 - mape: 1.7315\n",
      "Epoch 310/500\n",
      "32/32 [==============================] - 1s 32ms/step - loss: 1.6499 - mape: 1.6499\n",
      "Epoch 311/500\n",
      "32/32 [==============================] - 1s 31ms/step - loss: 1.7670 - mape: 1.7670\n",
      "Epoch 312/500\n",
      "32/32 [==============================] - 1s 31ms/step - loss: 1.9173 - mape: 1.9173\n",
      "Epoch 313/500\n",
      "32/32 [==============================] - 1s 32ms/step - loss: 1.6082 - mape: 1.6082\n",
      "Epoch 314/500\n",
      "32/32 [==============================] - 1s 31ms/step - loss: 1.6585 - mape: 1.6585\n",
      "Epoch 315/500\n",
      "32/32 [==============================] - 1s 30ms/step - loss: 1.6601 - mape: 1.6601\n",
      "Epoch 316/500\n",
      "32/32 [==============================] - 1s 30ms/step - loss: 1.6158 - mape: 1.6158\n",
      "Epoch 317/500\n",
      "32/32 [==============================] - 1s 30ms/step - loss: 1.5649 - mape: 1.5649\n",
      "Epoch 318/500\n",
      "32/32 [==============================] - 1s 30ms/step - loss: 1.5828 - mape: 1.5828\n",
      "Epoch 319/500\n",
      "32/32 [==============================] - 1s 31ms/step - loss: 1.5311 - mape: 1.5311\n",
      "Epoch 320/500\n",
      "32/32 [==============================] - 1s 30ms/step - loss: 1.4899 - mape: 1.4899\n",
      "Epoch 321/500\n",
      "32/32 [==============================] - 1s 31ms/step - loss: 1.5083 - mape: 1.5083\n",
      "Epoch 322/500\n",
      "32/32 [==============================] - 1s 31ms/step - loss: 1.5142 - mape: 1.5142\n",
      "Epoch 323/500\n",
      "32/32 [==============================] - 1s 31ms/step - loss: 1.9489 - mape: 1.9489\n",
      "Epoch 324/500\n",
      "32/32 [==============================] - 1s 30ms/step - loss: 1.5496 - mape: 1.5496\n",
      "Epoch 325/500\n",
      "32/32 [==============================] - 1s 31ms/step - loss: 1.5596 - mape: 1.5596\n",
      "Epoch 326/500\n",
      "32/32 [==============================] - 1s 30ms/step - loss: 1.5013 - mape: 1.5013\n",
      "Epoch 327/500\n",
      "32/32 [==============================] - 1s 30ms/step - loss: 1.5740 - mape: 1.5740\n",
      "Epoch 328/500\n",
      "32/32 [==============================] - 1s 31ms/step - loss: 1.4710 - mape: 1.4710\n",
      "Epoch 329/500\n",
      "32/32 [==============================] - 1s 30ms/step - loss: 1.5545 - mape: 1.5545\n",
      "Epoch 330/500\n",
      "32/32 [==============================] - 1s 31ms/step - loss: 1.6225 - mape: 1.6225\n",
      "Epoch 331/500\n",
      "32/32 [==============================] - 1s 30ms/step - loss: 1.5696 - mape: 1.5696\n",
      "Epoch 332/500\n",
      "32/32 [==============================] - 1s 30ms/step - loss: 1.4852 - mape: 1.4852\n",
      "Epoch 333/500\n",
      "32/32 [==============================] - 1s 30ms/step - loss: 1.5411 - mape: 1.5411\n",
      "Epoch 334/500\n",
      "32/32 [==============================] - 1s 31ms/step - loss: 1.9133 - mape: 1.9133\n",
      "Epoch 335/500\n",
      "32/32 [==============================] - 1s 31ms/step - loss: 1.4639 - mape: 1.4639\n",
      "Epoch 336/500\n",
      "32/32 [==============================] - 1s 30ms/step - loss: 1.4698 - mape: 1.4698\n",
      "Epoch 337/500\n",
      "32/32 [==============================] - 1s 30ms/step - loss: 1.6750 - mape: 1.6750\n",
      "Epoch 338/500\n",
      "32/32 [==============================] - 1s 30ms/step - loss: 1.5608 - mape: 1.5608\n",
      "Epoch 339/500\n",
      "32/32 [==============================] - 1s 30ms/step - loss: 1.5277 - mape: 1.5277\n",
      "Epoch 340/500\n",
      "32/32 [==============================] - 1s 31ms/step - loss: 1.5289 - mape: 1.5289\n",
      "Epoch 341/500\n",
      "32/32 [==============================] - 1s 30ms/step - loss: 1.5672 - mape: 1.5672\n",
      "Epoch 342/500\n",
      "32/32 [==============================] - 1s 30ms/step - loss: 1.4422 - mape: 1.4422\n",
      "Epoch 343/500\n",
      "32/32 [==============================] - 1s 31ms/step - loss: 1.4434 - mape: 1.4434\n",
      "Epoch 344/500\n",
      "32/32 [==============================] - 1s 30ms/step - loss: 1.4815 - mape: 1.4815\n",
      "Epoch 345/500\n",
      "32/32 [==============================] - 1s 30ms/step - loss: 1.6392 - mape: 1.6392\n",
      "Epoch 346/500\n",
      "32/32 [==============================] - 1s 31ms/step - loss: 1.6233 - mape: 1.6233\n",
      "Epoch 347/500\n",
      "32/32 [==============================] - 1s 30ms/step - loss: 1.5818 - mape: 1.5818\n",
      "Epoch 348/500\n",
      "32/32 [==============================] - 1s 30ms/step - loss: 1.4636 - mape: 1.4636\n",
      "Epoch 349/500\n",
      "32/32 [==============================] - 1s 30ms/step - loss: 1.7550 - mape: 1.7550\n",
      "Epoch 350/500\n",
      "32/32 [==============================] - 1s 29ms/step - loss: 1.6048 - mape: 1.6048\n",
      "Epoch 351/500\n",
      "32/32 [==============================] - 1s 30ms/step - loss: 1.7975 - mape: 1.7975\n",
      "Epoch 352/500\n",
      "32/32 [==============================] - 1s 30ms/step - loss: 1.6113 - mape: 1.6113\n",
      "Epoch 353/500\n",
      "32/32 [==============================] - 1s 31ms/step - loss: 1.5939 - mape: 1.5939\n",
      "Epoch 354/500\n",
      "32/32 [==============================] - 1s 30ms/step - loss: 1.4406 - mape: 1.4406\n",
      "Epoch 355/500\n",
      "32/32 [==============================] - 1s 31ms/step - loss: 1.3934 - mape: 1.3934\n",
      "Epoch 356/500\n",
      "32/32 [==============================] - 1s 31ms/step - loss: 1.5057 - mape: 1.5057\n",
      "Epoch 357/500\n",
      "32/32 [==============================] - 1s 31ms/step - loss: 1.6749 - mape: 1.6749\n",
      "Epoch 358/500\n",
      "32/32 [==============================] - 1s 30ms/step - loss: 1.6653 - mape: 1.6653\n",
      "Epoch 359/500\n",
      "32/32 [==============================] - 1s 31ms/step - loss: 1.6607 - mape: 1.6607\n",
      "Epoch 360/500\n",
      "32/32 [==============================] - 1s 30ms/step - loss: 1.5270 - mape: 1.5270\n",
      "Epoch 361/500\n",
      "32/32 [==============================] - 1s 30ms/step - loss: 1.8674 - mape: 1.8674\n",
      "Epoch 362/500\n",
      "32/32 [==============================] - 1s 30ms/step - loss: 1.6390 - mape: 1.6390\n",
      "Epoch 363/500\n",
      "32/32 [==============================] - 1s 31ms/step - loss: 1.7013 - mape: 1.7013\n",
      "Epoch 364/500\n",
      "32/32 [==============================] - 1s 30ms/step - loss: 1.3880 - mape: 1.3880\n",
      "Epoch 365/500\n",
      "32/32 [==============================] - 1s 30ms/step - loss: 1.3139 - mape: 1.3139\n",
      "Epoch 366/500\n",
      "32/32 [==============================] - 1s 30ms/step - loss: 1.6717 - mape: 1.6717\n",
      "Epoch 367/500\n",
      "32/32 [==============================] - 1s 31ms/step - loss: 1.7314 - mape: 1.7314\n",
      "Epoch 368/500\n",
      "32/32 [==============================] - 1s 30ms/step - loss: 1.6431 - mape: 1.6431\n",
      "Epoch 369/500\n",
      "32/32 [==============================] - 1s 30ms/step - loss: 1.3881 - mape: 1.3881\n",
      "Epoch 370/500\n",
      "32/32 [==============================] - 1s 30ms/step - loss: 1.4243 - mape: 1.4243\n",
      "Epoch 371/500\n",
      "32/32 [==============================] - 1s 30ms/step - loss: 1.3726 - mape: 1.3726\n",
      "Epoch 372/500\n",
      "32/32 [==============================] - 1s 30ms/step - loss: 1.4787 - mape: 1.4787\n",
      "Epoch 373/500\n",
      "32/32 [==============================] - 1s 30ms/step - loss: 1.4072 - mape: 1.4072\n",
      "Epoch 374/500\n",
      "32/32 [==============================] - 1s 30ms/step - loss: 1.3348 - mape: 1.3348\n",
      "Epoch 375/500\n",
      "32/32 [==============================] - 1s 31ms/step - loss: 1.3173 - mape: 1.3173\n",
      "Epoch 376/500\n",
      "32/32 [==============================] - 1s 30ms/step - loss: 1.3407 - mape: 1.3407\n",
      "Epoch 377/500\n",
      "32/32 [==============================] - 1s 30ms/step - loss: 1.3150 - mape: 1.3150\n",
      "Epoch 378/500\n",
      "32/32 [==============================] - 1s 31ms/step - loss: 1.3589 - mape: 1.3589\n",
      "Epoch 379/500\n",
      "32/32 [==============================] - 1s 31ms/step - loss: 1.2886 - mape: 1.2886\n",
      "Epoch 380/500\n",
      "32/32 [==============================] - 1s 30ms/step - loss: 1.3729 - mape: 1.3729\n",
      "Epoch 381/500\n",
      "32/32 [==============================] - 1s 30ms/step - loss: 1.7430 - mape: 1.7430\n",
      "Epoch 382/500\n",
      "32/32 [==============================] - 1s 30ms/step - loss: 1.4066 - mape: 1.4066\n",
      "Epoch 383/500\n",
      "32/32 [==============================] - 1s 31ms/step - loss: 1.2728 - mape: 1.2728\n",
      "Epoch 384/500\n",
      "32/32 [==============================] - 1s 31ms/step - loss: 1.6619 - mape: 1.6619\n",
      "Epoch 385/500\n",
      "32/32 [==============================] - 1s 31ms/step - loss: 1.5314 - mape: 1.5314\n",
      "Epoch 386/500\n",
      "32/32 [==============================] - 1s 32ms/step - loss: 1.3168 - mape: 1.3168\n",
      "Epoch 387/500\n",
      "32/32 [==============================] - 1s 32ms/step - loss: 1.4212 - mape: 1.4212\n",
      "Epoch 388/500\n",
      "32/32 [==============================] - 1s 33ms/step - loss: 1.2869 - mape: 1.2869\n",
      "Epoch 389/500\n",
      "32/32 [==============================] - 1s 31ms/step - loss: 1.3203 - mape: 1.3203\n",
      "Epoch 390/500\n",
      "32/32 [==============================] - 1s 31ms/step - loss: 1.3343 - mape: 1.3343\n",
      "Epoch 391/500\n",
      "32/32 [==============================] - 1s 31ms/step - loss: 1.2503 - mape: 1.2503\n",
      "Epoch 392/500\n",
      "32/32 [==============================] - 1s 31ms/step - loss: 1.3336 - mape: 1.3336\n",
      "Epoch 393/500\n",
      "32/32 [==============================] - 1s 30ms/step - loss: 1.4739 - mape: 1.4739\n",
      "Epoch 394/500\n",
      "32/32 [==============================] - 1s 31ms/step - loss: 1.4807 - mape: 1.4807\n",
      "Epoch 395/500\n",
      "32/32 [==============================] - 1s 30ms/step - loss: 1.4553 - mape: 1.4553\n",
      "Epoch 396/500\n",
      "32/32 [==============================] - 1s 31ms/step - loss: 1.2574 - mape: 1.2574\n",
      "Epoch 397/500\n",
      "32/32 [==============================] - 1s 32ms/step - loss: 1.3886 - mape: 1.3886\n",
      "Epoch 398/500\n",
      "32/32 [==============================] - 1s 30ms/step - loss: 1.4820 - mape: 1.4820\n",
      "Epoch 399/500\n",
      "32/32 [==============================] - 1s 30ms/step - loss: 1.3230 - mape: 1.3230\n",
      "Epoch 400/500\n",
      "32/32 [==============================] - 1s 30ms/step - loss: 1.3098 - mape: 1.3098\n",
      "Epoch 401/500\n",
      "32/32 [==============================] - 1s 32ms/step - loss: 1.6898 - mape: 1.6898\n",
      "Epoch 402/500\n",
      "32/32 [==============================] - 1s 31ms/step - loss: 1.5476 - mape: 1.5476\n",
      "Epoch 403/500\n",
      "32/32 [==============================] - 1s 30ms/step - loss: 1.5613 - mape: 1.5613\n",
      "Epoch 404/500\n",
      "32/32 [==============================] - 1s 31ms/step - loss: 1.3505 - mape: 1.3505\n",
      "Epoch 405/500\n",
      "32/32 [==============================] - 1s 31ms/step - loss: 1.3024 - mape: 1.3024\n",
      "Epoch 406/500\n",
      "32/32 [==============================] - 1s 31ms/step - loss: 1.5873 - mape: 1.5873\n",
      "Epoch 407/500\n",
      "32/32 [==============================] - 1s 29ms/step - loss: 1.5108 - mape: 1.5108\n",
      "Epoch 408/500\n",
      "32/32 [==============================] - 1s 30ms/step - loss: 1.3745 - mape: 1.3745\n",
      "Epoch 409/500\n",
      "32/32 [==============================] - 1s 31ms/step - loss: 1.3013 - mape: 1.3013\n",
      "Epoch 410/500\n",
      "32/32 [==============================] - 1s 31ms/step - loss: 1.2149 - mape: 1.2149\n",
      "Epoch 411/500\n",
      "32/32 [==============================] - 1s 30ms/step - loss: 1.3553 - mape: 1.3553\n",
      "Epoch 412/500\n",
      "32/32 [==============================] - 1s 31ms/step - loss: 1.3260 - mape: 1.3260\n",
      "Epoch 413/500\n",
      "32/32 [==============================] - 1s 31ms/step - loss: 1.2790 - mape: 1.2790\n",
      "Epoch 414/500\n",
      "32/32 [==============================] - 1s 30ms/step - loss: 1.5952 - mape: 1.5952\n",
      "Epoch 415/500\n",
      "32/32 [==============================] - 1s 31ms/step - loss: 1.3610 - mape: 1.3610\n",
      "Epoch 416/500\n",
      "32/32 [==============================] - 1s 31ms/step - loss: 1.1937 - mape: 1.1937\n",
      "Epoch 417/500\n",
      "32/32 [==============================] - 1s 30ms/step - loss: 1.1677 - mape: 1.1677\n",
      "Epoch 418/500\n",
      "32/32 [==============================] - 1s 31ms/step - loss: 1.2057 - mape: 1.2057\n",
      "Epoch 419/500\n",
      "32/32 [==============================] - 1s 30ms/step - loss: 1.1609 - mape: 1.1609\n",
      "Epoch 420/500\n",
      "32/32 [==============================] - 1s 30ms/step - loss: 1.4720 - mape: 1.4720\n",
      "Epoch 421/500\n",
      "32/32 [==============================] - 1s 30ms/step - loss: 1.3223 - mape: 1.3223\n",
      "Epoch 422/500\n",
      "32/32 [==============================] - 1s 32ms/step - loss: 1.3848 - mape: 1.3848\n",
      "Epoch 423/500\n",
      "32/32 [==============================] - 1s 31ms/step - loss: 1.1796 - mape: 1.1796\n",
      "Epoch 424/500\n",
      "32/32 [==============================] - 1s 31ms/step - loss: 1.3140 - mape: 1.3140\n",
      "Epoch 425/500\n",
      "32/32 [==============================] - 1s 31ms/step - loss: 1.2503 - mape: 1.2503\n",
      "Epoch 426/500\n",
      "32/32 [==============================] - 1s 30ms/step - loss: 1.3602 - mape: 1.3602\n",
      "Epoch 427/500\n",
      "32/32 [==============================] - 1s 31ms/step - loss: 1.3474 - mape: 1.3474\n",
      "Epoch 428/500\n",
      "32/32 [==============================] - 1s 31ms/step - loss: 1.2052 - mape: 1.2052\n",
      "Epoch 429/500\n",
      "32/32 [==============================] - 1s 31ms/step - loss: 1.3873 - mape: 1.3873\n",
      "Epoch 430/500\n",
      "32/32 [==============================] - 1s 30ms/step - loss: 1.2770 - mape: 1.2770\n",
      "Epoch 431/500\n",
      "32/32 [==============================] - 1s 31ms/step - loss: 1.2072 - mape: 1.2072\n",
      "Epoch 432/500\n",
      "32/32 [==============================] - 1s 30ms/step - loss: 1.2164 - mape: 1.2164\n",
      "Epoch 433/500\n",
      "32/32 [==============================] - 1s 31ms/step - loss: 1.2476 - mape: 1.2476\n",
      "Epoch 434/500\n",
      "32/32 [==============================] - 1s 30ms/step - loss: 1.1551 - mape: 1.1551\n",
      "Epoch 435/500\n",
      "32/32 [==============================] - 1s 31ms/step - loss: 1.2110 - mape: 1.2110\n",
      "Epoch 436/500\n",
      "32/32 [==============================] - 1s 31ms/step - loss: 1.2437 - mape: 1.2437\n",
      "Epoch 437/500\n",
      "32/32 [==============================] - 1s 31ms/step - loss: 1.5449 - mape: 1.5449\n",
      "Epoch 438/500\n",
      "32/32 [==============================] - 1s 31ms/step - loss: 1.4326 - mape: 1.4326\n",
      "Epoch 439/500\n",
      "32/32 [==============================] - 1s 30ms/step - loss: 1.3480 - mape: 1.3480\n",
      "Epoch 440/500\n",
      "32/32 [==============================] - 1s 30ms/step - loss: 1.2251 - mape: 1.2251\n",
      "Epoch 441/500\n",
      "32/32 [==============================] - 1s 32ms/step - loss: 1.2731 - mape: 1.2731\n",
      "Epoch 442/500\n",
      "32/32 [==============================] - 1s 31ms/step - loss: 1.3174 - mape: 1.3174\n",
      "Epoch 443/500\n",
      "32/32 [==============================] - 1s 31ms/step - loss: 1.1699 - mape: 1.1699\n",
      "Epoch 444/500\n",
      "32/32 [==============================] - 1s 30ms/step - loss: 1.3984 - mape: 1.3984\n",
      "Epoch 445/500\n",
      "32/32 [==============================] - 1s 31ms/step - loss: 1.1678 - mape: 1.1678\n",
      "Epoch 446/500\n",
      "32/32 [==============================] - 1s 30ms/step - loss: 1.2381 - mape: 1.2381\n",
      "Epoch 447/500\n",
      "32/32 [==============================] - 1s 32ms/step - loss: 1.2395 - mape: 1.2395\n",
      "Epoch 448/500\n",
      "32/32 [==============================] - 1s 31ms/step - loss: 1.2307 - mape: 1.2307\n",
      "Epoch 449/500\n",
      "32/32 [==============================] - 1s 31ms/step - loss: 1.3229 - mape: 1.3229\n",
      "Epoch 450/500\n",
      "32/32 [==============================] - 1s 30ms/step - loss: 1.1541 - mape: 1.1541\n",
      "Epoch 451/500\n",
      "32/32 [==============================] - 1s 31ms/step - loss: 1.1637 - mape: 1.1637\n",
      "Epoch 452/500\n",
      "32/32 [==============================] - 1s 31ms/step - loss: 1.0842 - mape: 1.0842\n",
      "Epoch 453/500\n",
      "32/32 [==============================] - 1s 30ms/step - loss: 1.3213 - mape: 1.3213\n",
      "Epoch 454/500\n",
      "32/32 [==============================] - 1s 31ms/step - loss: 1.3427 - mape: 1.3427\n",
      "Epoch 455/500\n",
      "32/32 [==============================] - 1s 31ms/step - loss: 1.4621 - mape: 1.4621\n",
      "Epoch 456/500\n",
      "32/32 [==============================] - 1s 31ms/step - loss: 1.2180 - mape: 1.2180\n",
      "Epoch 457/500\n",
      "32/32 [==============================] - 1s 32ms/step - loss: 1.0987 - mape: 1.0987\n",
      "Epoch 458/500\n",
      "32/32 [==============================] - 1s 31ms/step - loss: 1.1114 - mape: 1.1114\n",
      "Epoch 459/500\n",
      "32/32 [==============================] - 1s 30ms/step - loss: 1.0927 - mape: 1.0927\n",
      "Epoch 460/500\n",
      "32/32 [==============================] - 1s 29ms/step - loss: 1.3397 - mape: 1.3397\n",
      "Epoch 461/500\n",
      "32/32 [==============================] - 1s 30ms/step - loss: 1.4738 - mape: 1.4738\n",
      "Epoch 462/500\n",
      "32/32 [==============================] - 1s 31ms/step - loss: 1.1888 - mape: 1.1888\n",
      "Epoch 463/500\n",
      "32/32 [==============================] - 1s 30ms/step - loss: 1.3761 - mape: 1.3761\n",
      "Epoch 464/500\n",
      "32/32 [==============================] - 1s 31ms/step - loss: 1.1621 - mape: 1.1621\n",
      "Epoch 465/500\n",
      "32/32 [==============================] - 1s 31ms/step - loss: 1.1253 - mape: 1.1253\n",
      "Epoch 466/500\n",
      "32/32 [==============================] - 1s 31ms/step - loss: 1.0660 - mape: 1.0660\n",
      "Epoch 467/500\n",
      "32/32 [==============================] - 1s 30ms/step - loss: 1.2400 - mape: 1.2400\n",
      "Epoch 468/500\n",
      "32/32 [==============================] - 1s 30ms/step - loss: 1.0861 - mape: 1.0861\n",
      "Epoch 469/500\n",
      "32/32 [==============================] - 1s 30ms/step - loss: 1.0865 - mape: 1.0865\n",
      "Epoch 470/500\n",
      "32/32 [==============================] - 1s 31ms/step - loss: 1.0656 - mape: 1.0656\n",
      "Epoch 471/500\n",
      "32/32 [==============================] - 1s 30ms/step - loss: 1.2384 - mape: 1.2384\n",
      "Epoch 472/500\n",
      "32/32 [==============================] - 1s 31ms/step - loss: 1.0540 - mape: 1.0540\n",
      "Epoch 473/500\n",
      "32/32 [==============================] - 1s 31ms/step - loss: 1.0804 - mape: 1.0804\n",
      "Epoch 474/500\n",
      "32/32 [==============================] - 1s 31ms/step - loss: 1.1174 - mape: 1.1174\n",
      "Epoch 475/500\n",
      "32/32 [==============================] - 1s 31ms/step - loss: 1.1520 - mape: 1.1520\n",
      "Epoch 476/500\n",
      "32/32 [==============================] - 1s 31ms/step - loss: 1.0722 - mape: 1.0722\n",
      "Epoch 477/500\n",
      "32/32 [==============================] - 1s 32ms/step - loss: 1.0559 - mape: 1.0559\n",
      "Epoch 478/500\n",
      "32/32 [==============================] - 1s 31ms/step - loss: 1.0633 - mape: 1.0633\n",
      "Epoch 479/500\n",
      "32/32 [==============================] - 1s 30ms/step - loss: 1.1695 - mape: 1.1695\n",
      "Epoch 480/500\n",
      "32/32 [==============================] - 1s 30ms/step - loss: 1.3168 - mape: 1.3168\n",
      "Epoch 481/500\n",
      "32/32 [==============================] - 1s 31ms/step - loss: 1.0783 - mape: 1.0783\n",
      "Epoch 482/500\n",
      "32/32 [==============================] - 1s 30ms/step - loss: 1.1646 - mape: 1.1646\n",
      "Epoch 483/500\n",
      "32/32 [==============================] - 1s 31ms/step - loss: 1.3544 - mape: 1.3544\n",
      "Epoch 484/500\n",
      "32/32 [==============================] - 1s 30ms/step - loss: 1.1667 - mape: 1.1667\n",
      "Epoch 485/500\n",
      "32/32 [==============================] - 1s 30ms/step - loss: 1.1198 - mape: 1.1198\n",
      "Epoch 486/500\n",
      "32/32 [==============================] - 1s 31ms/step - loss: 1.4615 - mape: 1.4615\n",
      "Epoch 487/500\n",
      "32/32 [==============================] - 1s 30ms/step - loss: 1.1142 - mape: 1.1142\n",
      "Epoch 488/500\n",
      "32/32 [==============================] - 1s 30ms/step - loss: 1.0942 - mape: 1.0942\n",
      "Epoch 489/500\n",
      "32/32 [==============================] - 1s 31ms/step - loss: 1.1955 - mape: 1.1955\n",
      "Epoch 490/500\n",
      "32/32 [==============================] - 1s 30ms/step - loss: 1.0698 - mape: 1.0698\n",
      "Epoch 491/500\n",
      "32/32 [==============================] - 1s 31ms/step - loss: 1.0082 - mape: 1.0082\n",
      "Epoch 492/500\n",
      "32/32 [==============================] - 1s 30ms/step - loss: 1.1727 - mape: 1.1727\n",
      "Epoch 493/500\n",
      "32/32 [==============================] - 1s 31ms/step - loss: 1.1278 - mape: 1.1278\n",
      "Epoch 494/500\n",
      "32/32 [==============================] - 1s 31ms/step - loss: 1.1905 - mape: 1.1905\n",
      "Epoch 495/500\n",
      "32/32 [==============================] - 1s 30ms/step - loss: 1.2693 - mape: 1.2693\n",
      "Epoch 496/500\n",
      "32/32 [==============================] - 1s 31ms/step - loss: 1.0536 - mape: 1.0536\n",
      "Epoch 497/500\n",
      "32/32 [==============================] - 1s 31ms/step - loss: 1.0594 - mape: 1.0594\n",
      "Epoch 498/500\n",
      "32/32 [==============================] - 1s 30ms/step - loss: 1.0893 - mape: 1.0893\n",
      "Epoch 499/500\n",
      "32/32 [==============================] - 1s 31ms/step - loss: 1.0564 - mape: 1.0564\n",
      "Epoch 500/500\n",
      "32/32 [==============================] - 1s 30ms/step - loss: 1.2561 - mape: 1.2561\n"
     ]
    }
   ],
   "source": [
    "#es_callback = EarlyStopping(monitor='val_mae', patience=10, mode=\"min\")\n",
    "#training params\n",
    "batch_size = 32 \n",
    "num_epochs = 500\n",
    "\n",
    "history = model.fit([x_sent_train, x_aspects_train, x_target_train], y_sent_train, batch_size=batch_size,\n",
    "          epochs=num_epochs)#, validation_data=[[x_sent_val, x_aspects_val, x_target_val], y_sent_val])\n",
    "          #callbacks=[es_callback, checkpoint])#, steps_per_epoch=train.shape[0] // batch_size,\n",
    "          # shuffle=False)"
   ]
  },
  {
   "cell_type": "code",
   "execution_count": 42,
   "metadata": {
    "colab": {
     "base_uri": "https://localhost:8080/",
     "height": 295
    },
    "id": "HrnldxkeOSuI",
    "outputId": "f4fe24f8-54f9-48fa-9877-1b28ceabe08e"
   },
   "outputs": [
    {
     "data": {
      "image/png": "[encoded data removed]",
      "text/plain": [
       "<Figure size 432x288 with 1 Axes>"
      ]
     },
     "metadata": {
      "needs_background": "light",
      "tags": []
     },
     "output_type": "display_data"
    }
   ],
   "source": [
    "plt.figure()\n",
    "plt.plot(history.history['mape'], lw=2.0, color='b', label='train')\n",
    "#plt.plot(history.history['val_mae'], lw=2.0, color='r', label='val')\n",
    "plt.title('Accuracy')\n",
    "plt.xlabel('Epochs')\n",
    "plt.ylabel('Accuracy')\n",
    "plt.legend(loc='upper left')\n",
    "plt.show()"
   ]
  },
  {
   "cell_type": "code",
   "execution_count": 43,
   "metadata": {
    "id": "lRwp0-QfOrQj"
   },
   "outputs": [],
   "source": [
    "predictions = model.predict([word_seq_train, word_seq_aspects, word_seq_target])"
   ]
  },
  {
   "cell_type": "code",
   "execution_count": 44,
   "metadata": {
    "id": "jKHR7RG-fNAg"
   },
   "outputs": [],
   "source": [
    "def mean_absolute_percentage_error(y_true, y_pred): \n",
    "    y_true, y_pred = np.array(y_true), (y_pred)\n",
    "    return np.mean(np.abs((y_true - y_pred) / y_true)) * 100"
   ]
  },
  {
   "cell_type": "code",
   "execution_count": 45,
   "metadata": {
    "colab": {
     "base_uri": "https://localhost:8080/"
    },
    "id": "q4LPOobihWOA",
    "outputId": "6ceaad3b-2327-4ed7-fc36-dd7e8aae313e"
   },
   "outputs": [
    {
     "data": {
      "text/plain": [
       "0.9305353873424259"
      ]
     },
     "execution_count": 45,
     "metadata": {
      "tags": []
     },
     "output_type": "execute_result"
    }
   ],
   "source": [
    "mean_absolute_percentage_error(train.sentiment_score.values+5, predictions.ravel())"
   ]
  },
  {
   "cell_type": "code",
   "execution_count": 46,
   "metadata": {
    "id": "kPxxhp4FhlPU"
   },
   "outputs": [],
   "source": [
    "predictions_val = model.predict([x_sent_val, x_aspects_val, x_target_val])"
   ]
  },
  {
   "cell_type": "code",
   "execution_count": 47,
   "metadata": {
    "colab": {
     "base_uri": "https://localhost:8080/"
    },
    "id": "EsmW6HPGEvGh",
    "outputId": "35d8cc68-e7c2-49df-9f8f-fe8cdad108ff"
   },
   "outputs": [
    {
     "data": {
      "text/plain": [
       "1.6682302522948727"
      ]
     },
     "execution_count": 47,
     "metadata": {
      "tags": []
     },
     "output_type": "execute_result"
    }
   ],
   "source": [
    "mean_absolute_percentage_error(y_sent_val, predictions_val.ravel())"
   ]
  },
  {
   "cell_type": "code",
   "execution_count": 48,
   "metadata": {
    "colab": {
     "base_uri": "https://localhost:8080/",
     "height": 662
    },
    "id": "e1IzNB7VHPfD",
    "outputId": "23215e19-2fc8-4ad3-cb5c-32ad8dd8b956"
   },
   "outputs": [
    {
     "data": {
      "text/html": [
       "<div>\n",
       "<style scoped>\n",
       "    .dataframe tbody tr th:only-of-type {\n",
       "        vertical-align: middle;\n",
       "    }\n",
       "\n",
       "    .dataframe tbody tr th {\n",
       "        vertical-align: top;\n",
       "    }\n",
       "\n",
       "    .dataframe thead th {\n",
       "        text-align: right;\n",
       "    }\n",
       "</style>\n",
       "<table border=\"1\" class=\"dataframe\">\n",
       "  <thead>\n",
       "    <tr style=\"text-align: right;\">\n",
       "      <th></th>\n",
       "      <th>Snippet</th>\n",
       "      <th>Aspect</th>\n",
       "      <th>Target</th>\n",
       "      <th>true</th>\n",
       "      <th>pred</th>\n",
       "    </tr>\n",
       "  </thead>\n",
       "  <tbody>\n",
       "    <tr>\n",
       "      <th>0</th>\n",
       "      <td>3 must have growth stocks</td>\n",
       "      <td>rumors</td>\n",
       "      <td>domino 's pizza group plc</td>\n",
       "      <td>0.063</td>\n",
       "      <td>0.057656</td>\n",
       "    </tr>\n",
       "    <tr>\n",
       "      <th>1</th>\n",
       "      <td>lender cuts dividends shore up capita</td>\n",
       "      <td>corporate</td>\n",
       "      <td>barclays</td>\n",
       "      <td>0.261</td>\n",
       "      <td>0.167367</td>\n",
       "    </tr>\n",
       "    <tr>\n",
       "      <th>2</th>\n",
       "      <td>sales boost</td>\n",
       "      <td>corporate</td>\n",
       "      <td>tesco</td>\n",
       "      <td>-0.410</td>\n",
       "      <td>0.012239</td>\n",
       "    </tr>\n",
       "    <tr>\n",
       "      <th>3</th>\n",
       "      <td>sees baxalta deal closing expected</td>\n",
       "      <td>sales</td>\n",
       "      <td>shire</td>\n",
       "      <td>0.224</td>\n",
       "      <td>0.340776</td>\n",
       "    </tr>\n",
       "    <tr>\n",
       "      <th>4</th>\n",
       "      <td>can christmas save</td>\n",
       "      <td>rumors</td>\n",
       "      <td>tesco</td>\n",
       "      <td>-0.175</td>\n",
       "      <td>-0.167953</td>\n",
       "    </tr>\n",
       "    <tr>\n",
       "      <th>5</th>\n",
       "      <td>wipes sales gains sabmiller</td>\n",
       "      <td>corporate</td>\n",
       "      <td>sabmiller</td>\n",
       "      <td>-0.582</td>\n",
       "      <td>-0.550438</td>\n",
       "    </tr>\n",
       "    <tr>\n",
       "      <th>6</th>\n",
       "      <td>tesco leads leap ftse 100</td>\n",
       "      <td>technical analysis</td>\n",
       "      <td>tesco</td>\n",
       "      <td>0.389</td>\n",
       "      <td>0.385412</td>\n",
       "    </tr>\n",
       "    <tr>\n",
       "      <th>7</th>\n",
       "      <td>extends gas deals</td>\n",
       "      <td>deal</td>\n",
       "      <td>statoil</td>\n",
       "      <td>0.239</td>\n",
       "      <td>0.212444</td>\n",
       "    </tr>\n",
       "    <tr>\n",
       "      <th>8</th>\n",
       "      <td>tesco abandons video streaming ambitions</td>\n",
       "      <td>corporate</td>\n",
       "      <td>tesco</td>\n",
       "      <td>-0.335</td>\n",
       "      <td>-0.310362</td>\n",
       "    </tr>\n",
       "    <tr>\n",
       "      <th>9</th>\n",
       "      <td>still paying price dividend cut</td>\n",
       "      <td>corporate</td>\n",
       "      <td>l g</td>\n",
       "      <td>-0.338</td>\n",
       "      <td>-0.374923</td>\n",
       "    </tr>\n",
       "    <tr>\n",
       "      <th>10</th>\n",
       "      <td>replace home retail ceo walden</td>\n",
       "      <td>appointment</td>\n",
       "      <td>home retail</td>\n",
       "      <td>0.000</td>\n",
       "      <td>0.052152</td>\n",
       "    </tr>\n",
       "    <tr>\n",
       "      <th>11</th>\n",
       "      <td>set to be acquired by wpp and providence</td>\n",
       "      <td>corporate</td>\n",
       "      <td>wpp</td>\n",
       "      <td>0.202</td>\n",
       "      <td>0.208626</td>\n",
       "    </tr>\n",
       "    <tr>\n",
       "      <th>12</th>\n",
       "      <td>expects to close deal for</td>\n",
       "      <td>deal</td>\n",
       "      <td>caixabank</td>\n",
       "      <td>0.375</td>\n",
       "      <td>0.320020</td>\n",
       "    </tr>\n",
       "    <tr>\n",
       "      <th>13</th>\n",
       "      <td>united spirits financial irregularitie</td>\n",
       "      <td>reputation</td>\n",
       "      <td>diageo</td>\n",
       "      <td>-0.255</td>\n",
       "      <td>-0.249093</td>\n",
       "    </tr>\n",
       "    <tr>\n",
       "      <th>14</th>\n",
       "      <td>rbs must pay 806 mln mortgage bond case</td>\n",
       "      <td>corporate</td>\n",
       "      <td>rbs</td>\n",
       "      <td>-0.690</td>\n",
       "      <td>-0.671496</td>\n",
       "    </tr>\n",
       "    <tr>\n",
       "      <th>15</th>\n",
       "      <td>chasing standard chartered</td>\n",
       "      <td>corporate planning</td>\n",
       "      <td>standard chartered</td>\n",
       "      <td>0.128</td>\n",
       "      <td>0.175748</td>\n",
       "    </tr>\n",
       "    <tr>\n",
       "      <th>16</th>\n",
       "      <td>help britains ftse climb higher</td>\n",
       "      <td>market</td>\n",
       "      <td>hikma</td>\n",
       "      <td>0.452</td>\n",
       "      <td>0.480038</td>\n",
       "    </tr>\n",
       "    <tr>\n",
       "      <th>17</th>\n",
       "      <td>lower limit potential fine bp</td>\n",
       "      <td>corporate</td>\n",
       "      <td>bp</td>\n",
       "      <td>-0.261</td>\n",
       "      <td>-0.305089</td>\n",
       "    </tr>\n",
       "    <tr>\n",
       "      <th>18</th>\n",
       "      <td>e acquires neighbouring glencore nickel property</td>\n",
       "      <td>corporate</td>\n",
       "      <td>horizonte</td>\n",
       "      <td>0.182</td>\n",
       "      <td>0.160228</td>\n",
       "    </tr>\n",
       "    <tr>\n",
       "      <th>19</th>\n",
       "      <td>3 must have growth stocks</td>\n",
       "      <td>rumors</td>\n",
       "      <td>asos plc</td>\n",
       "      <td>0.000</td>\n",
       "      <td>0.004162</td>\n",
       "    </tr>\n",
       "  </tbody>\n",
       "</table>\n",
       "</div>"
      ],
      "text/plain": [
       "                                             Snippet  ...      pred\n",
       "0                          3 must have growth stocks  ...  0.057656\n",
       "1              lender cuts dividends shore up capita  ...  0.167367\n",
       "2                                        sales boost  ...  0.012239\n",
       "3                 sees baxalta deal closing expected  ...  0.340776\n",
       "4                                 can christmas save  ... -0.167953\n",
       "5                        wipes sales gains sabmiller  ... -0.550438\n",
       "6                          tesco leads leap ftse 100  ...  0.385412\n",
       "7                                  extends gas deals  ...  0.212444\n",
       "8           tesco abandons video streaming ambitions  ... -0.310362\n",
       "9                    still paying price dividend cut  ... -0.374923\n",
       "10                    replace home retail ceo walden  ...  0.052152\n",
       "11          set to be acquired by wpp and providence  ...  0.208626\n",
       "12                         expects to close deal for  ...  0.320020\n",
       "13            united spirits financial irregularitie  ... -0.249093\n",
       "14           rbs must pay 806 mln mortgage bond case  ... -0.671496\n",
       "15                        chasing standard chartered  ...  0.175748\n",
       "16                   help britains ftse climb higher  ...  0.480038\n",
       "17                     lower limit potential fine bp  ... -0.305089\n",
       "18  e acquires neighbouring glencore nickel property  ...  0.160228\n",
       "19                         3 must have growth stocks  ...  0.004162\n",
       "\n",
       "[20 rows x 5 columns]"
      ]
     },
     "execution_count": 48,
     "metadata": {
      "tags": []
     },
     "output_type": "execute_result"
    }
   ],
   "source": [
    "my_texts = tokenizer.sequences_to_texts(x_sent_val)\n",
    "my_target = tokenizer.sequences_to_texts(x_target_val) \n",
    "my_aspect = tokenizer.sequences_to_texts(x_aspects_val) \n",
    "\n",
    "print_df = pd.DataFrame({ 'Snippet': my_texts, 'Aspect': my_aspect, 'Target': my_target,\n",
    "                          'true':y_sent_val-5 , \n",
    "                         'pred': predictions_val.ravel()-5\n",
    "                         })\n",
    "print_df.head(20)"
   ]
  }
 ],
 "metadata": {
  "accelerator": "GPU",
  "colab": {
   "collapsed_sections": [],
   "name": "ABSA_word2vec_finetune_Regress_aux.ipynb",
   "provenance": []
  },
  "kernelspec": {
   "display_name": "Python 3",
   "language": "python",
   "name": "python3"
  },
  "language_info": {
   "codemirror_mode": {
    "name": "ipython",
    "version": 3
   },
   "file_extension": ".py",
   "mimetype": "text/x-python",
   "name": "python",
   "nbconvert_exporter": "python",
   "pygments_lexer": "ipython3",
   "version": "3.8.3"
  }
 },
 "nbformat": 4,
 "nbformat_minor": 1
}
