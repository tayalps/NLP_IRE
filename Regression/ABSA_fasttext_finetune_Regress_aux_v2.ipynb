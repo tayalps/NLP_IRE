{
 "cells": [
  {
   "cell_type": "code",
   "execution_count": null,
   "metadata": {
    "colab": {
     "base_uri": "https://localhost:8080/"
    },
    "id": "v6uGjdgV7fCe",
    "outputId": "91f7afbc-0525-49de-dd8d-94a929464421"
   },
   "outputs": [
    {
     "name": "stdout",
     "output_type": "stream",
     "text": [
      "Mounted at /content/drive\n"
     ]
    }
   ],
   "source": [
    "#mount the drive\n",
    "from google.colab import drive\n",
    "drive.mount('/content/drive', force_remount=True)"
   ]
  },
  {
   "cell_type": "code",
   "execution_count": null,
   "metadata": {
    "id": "W_QIxD3R68bz"
   },
   "outputs": [],
   "source": [
    "import gensim\n",
    "from tqdm import tqdm\n",
    "import os\n",
    "from gensim.models.fasttext import FastText"
   ]
  },
  {
   "cell_type": "code",
   "execution_count": null,
   "metadata": {
    "id": "NAqYXr7FA0g8"
   },
   "outputs": [],
   "source": [
    "# For array, dataset, and visualizing\n",
    "import numpy as np\n",
    "import pandas as pd\n",
    "import seaborn as sns\n",
    "import matplotlib.pyplot as plt"
   ]
  },
  {
   "cell_type": "code",
   "execution_count": null,
   "metadata": {
    "colab": {
     "base_uri": "https://localhost:8080/"
    },
    "id": "oFt1hjeWCoW6",
    "outputId": "4e0d34c4-ab63-4fd8-e769-57df040ec978"
   },
   "outputs": [
    {
     "name": "stdout",
     "output_type": "stream",
     "text": [
      "[nltk_data] Downloading package stopwords to /root/nltk_data...\n",
      "[nltk_data]   Unzipping corpora/stopwords.zip.\n",
      "[nltk_data] Downloading package punkt to /root/nltk_data...\n",
      "[nltk_data]   Unzipping tokenizers/punkt.zip.\n"
     ]
    }
   ],
   "source": [
    "#For Pre-Processing\n",
    "from tqdm import tqdm\n",
    "import nltk\n",
    "from nltk.corpus import stopwords\n",
    "nltk.download('stopwords')\n",
    "nltk.download('punkt')\n",
    "from nltk.tokenize import RegexpTokenizer \n",
    "from nltk.tokenize import word_tokenize"
   ]
  },
  {
   "cell_type": "code",
   "execution_count": null,
   "metadata": {
    "id": "3M0vxqtwCYx5"
   },
   "outputs": [],
   "source": [
    "from keras.preprocessing.text import Tokenizer\n",
    "from keras.preprocessing import sequence\n",
    "MAX_NB_WORDS = 50000\n",
    "tokenizer = RegexpTokenizer(r'\\w+')\n",
    "stop_words = set(stopwords.words('english'))\n",
    "stop_words.update(['.', ',', '\"', \"'\", ':', ';', '(', ')', '[', ']', '{', '}'])"
   ]
  },
  {
   "cell_type": "markdown",
   "metadata": {},
   "source": [
    "## Loading the FastText model pretrained on SEC 10K corpus"
   ]
  },
  {
   "cell_type": "code",
   "execution_count": null,
   "metadata": {
    "colab": {
     "base_uri": "https://localhost:8080/"
    },
    "id": "4x7lf4c170Uh",
    "outputId": "7098baa6-5485-4062-b6de-3a15e3a4be72"
   },
   "outputs": [
    {
     "name": "stdout",
     "output_type": "stream",
     "text": [
      "/content/drive/My Drive/iiit_ire/word2vec_fasttext\n"
     ]
    }
   ],
   "source": [
    "cd  \"/content/drive/My Drive/iiit_ire/word2vec_fasttext\""
   ]
  },
  {
   "cell_type": "code",
   "execution_count": null,
   "metadata": {
    "id": "8BYamGHe68cM"
   },
   "outputs": [],
   "source": [
    "model_name = \"./fin_fastText\""
   ]
  },
  {
   "cell_type": "code",
   "execution_count": null,
   "metadata": {
    "id": "sy9eB1TY68cc"
   },
   "outputs": [],
   "source": [
    "model = FastText.load(model_name)"
   ]
  },
  {
   "cell_type": "markdown",
   "metadata": {},
   "source": [
    "### Loading the input data"
   ]
  },
  {
   "cell_type": "code",
   "execution_count": null,
   "metadata": {
    "id": "ILoV9y1n68dN"
   },
   "outputs": [],
   "source": [
    "import json \n",
    "traind=[]\n",
    "vald=[]\n",
    "dir = \"/content/drive/My Drive/iiit_ire/data/\"\n",
    "# Opening JSON file \n",
    "with open(dir+'task1_headline_ABSA_train.json',) as f: \n",
    "  traind = json.load(f) \n",
    "with open(dir+'task1_post_ABSA_train.json',) as f: \n",
    "  vald = json.load(f) "
   ]
  },
  {
   "cell_type": "code",
   "execution_count": null,
   "metadata": {
    "id": "UYJ0tvVMH9RR"
   },
   "outputs": [],
   "source": [
    "\"\"\"Extract nested values from a JSON tree.\"\"\"\n",
    "def json_extract(obj, key):\n",
    "    \"\"\"Recursively fetch values from nested JSON.\"\"\"\n",
    "    arr = []\n",
    "\n",
    "    def extract(obj, arr, key):\n",
    "        \"\"\"Recursively search for values of key in JSON tree.\"\"\"\n",
    "        if isinstance(obj, dict):\n",
    "            for k, v in obj.items():\n",
    "                if isinstance(v, (dict, list)):\n",
    "                    extract(v, arr, key)\n",
    "                elif k == key:\n",
    "                    arr.append(v)\n",
    "        elif isinstance(obj, list):\n",
    "            for item in obj:\n",
    "                extract(item, arr, key)\n",
    "        return arr\n",
    "\n",
    "    values = extract(obj, arr, key)\n",
    "    return values"
   ]
  },
  {
   "cell_type": "code",
   "execution_count": null,
   "metadata": {
    "id": "o3O0ZR2TJZLI"
   },
   "outputs": [],
   "source": [
    "def flatten_list(k):\n",
    "    result = list()\n",
    "    for i in k:\n",
    "        if isinstance(i,list):\n",
    "            result.extend(flatten_list(i)) #Recursive call\n",
    "        else:\n",
    "            result.append(i)\n",
    "    return result"
   ]
  },
  {
   "cell_type": "code",
   "execution_count": null,
   "metadata": {
    "id": "1pU5xH3GIho3"
   },
   "outputs": [],
   "source": [
    "aspects = json_extract(traind, 'aspects') #sentiment_score, aspects, target, sentence\n",
    "sentiment_score = json_extract(traind, 'sentiment_score')\n",
    "target = json_extract(traind, 'target')\n",
    "sentence = json_extract(traind, 'snippets')"
   ]
  },
  {
   "cell_type": "code",
   "execution_count": null,
   "metadata": {
    "colab": {
     "base_uri": "https://localhost:8080/"
    },
    "id": "vEr9qBi5bzrd",
    "outputId": "c98fe4ac-d4d6-4c42-c900-831242a45a23"
   },
   "outputs": [
    {
     "name": "stdout",
     "output_type": "stream",
     "text": [
      "498 498 498 498\n"
     ]
    }
   ],
   "source": [
    "print(len(sentence), len(aspects), len(target), len(sentiment_score))"
   ]
  },
  {
   "cell_type": "code",
   "execution_count": null,
   "metadata": {
    "colab": {
     "base_uri": "https://localhost:8080/"
    },
    "id": "SbS6rW6fP9Lq",
    "outputId": "9a57487a-53fe-4a25-c740-6f8c05965f85"
   },
   "outputs": [
    {
     "data": {
      "text/plain": [
       "[['Corporate', 'Appointment'],\n",
       " ['Corporate', 'Risks'],\n",
       " ['Corporate', 'Sales', 'Failed Contract Discussion'],\n",
       " ['Corporate', 'Appointment', 'Executive Appointment'],\n",
       " ['Corporate', 'Sales'],\n",
       " ['Stock', 'Fundamentals'],\n",
       " ['Corporate', 'Sales', 'Deal'],\n",
       " ['Corporate', 'Sales', 'Deal'],\n",
       " ['Corporate', 'Sales'],\n",
       " ['Stock', 'Technical Analysis', 'Trend', 'Trending up']]"
      ]
     },
     "execution_count": 14,
     "metadata": {
      "tags": []
     },
     "output_type": "execute_result"
    }
   ],
   "source": [
    "# initializing bad_chars_list\n",
    "bad_chars = ['[', '\\'', ']']\n",
    "aspects = [''.join(i for i in test_string if not i in bad_chars) for test_string in aspects]\n",
    "aspects = [aspect.split('/') for aspect in aspects]\n",
    "aspects[:10]"
   ]
  },
  {
   "cell_type": "code",
   "execution_count": null,
   "metadata": {
    "colab": {
     "base_uri": "https://localhost:8080/"
    },
    "id": "GztK7HonLzAq",
    "outputId": "38097771-f017-464f-e267-2350bbf8570b"
   },
   "outputs": [
    {
     "data": {
      "text/plain": [
       "['Corporate',\n",
       " 'Appointment',\n",
       " 'Corporate',\n",
       " 'Risks',\n",
       " 'Corporate',\n",
       " 'Sales',\n",
       " 'Failed Contract Discussion',\n",
       " 'Corporate',\n",
       " 'Appointment',\n",
       " 'Executive Appointment']"
      ]
     },
     "execution_count": 15,
     "metadata": {
      "tags": []
     },
     "output_type": "execute_result"
    }
   ],
   "source": [
    "flat_list = [item for sublist in aspects for item in sublist]\n",
    "flat_list[:10]  "
   ]
  },
  {
   "cell_type": "code",
   "execution_count": null,
   "metadata": {
    "colab": {
     "base_uri": "https://localhost:8080/"
    },
    "id": "BO4zYnPoRMwu",
    "outputId": "bf3e869e-efa4-4c9e-f60d-2f0c28c5fee9"
   },
   "outputs": [
    {
     "name": "stdout",
     "output_type": "stream",
     "text": [
      "{'', 'Lawsuit', 'Corporate Expansion', 'AnalystRatings', 'Coverage', 'Signal', 'Share Buyback', 'Buy Signal', 'Corporate', 'Economy', 'Insider Trading', 'Scoop', 'Sell-Off', 'Earnings', 'Trade', 'Partnership', 'Bullish, Corporate', 'downgrade', 'Central Banks', 'Buyside', 'Corporate Planning', 'Joint Venture', 'Sell Signal', 'Dispute', 'Rumors', 'M&A', 'Executive Appointment', 'Demand Shortfall', 'Unusual Low Volume', 'Court Ruling', 'Bullish', 'Sales', 'Executive Reshuffle', 'Stock Volatility', 'Risks', 'Price Action', 'Dividend going up', 'Appointment', 'Reputation', 'Regulatory', 'Volatility', 'Current Price', 'Currency', 'Stock Price', 'Divestment', 'Company Agreement', 'Company Communication', 'Stock Buyside', 'Sale Halt', 'Financial', 'Bankruptcy', 'Financial Results', '?', 'Sanctions', 'Extraordinary Meeting', 'Technical Analysis', 'Market Trend', 'Monetary Policy', 'Bearish', 'Market', 'Bullish Behaviour', 'Monetary Policy - SNB', 'Legal', 'Fundamentals', 'Volume', 'Buyout', 'Settlement', 'Insider Activity', 'Proposed Merger', 'Entering bankruptcy', 'Dividend', 'Price Competition', 'Unusually high volume', 'IPO', 'Conditions', 'Mutual Fund flows', 'Dividend Policy', 'Reorganization', 'Trending up', 'Failed Contract Discussion', 'Deal', 'Market Outlook', 'Future Price', 'Trend', 'Direction', 'Strategy', 'Investment', 'Stock', 'Staff Hiring', 'Bearish Behaviour'} 90\n"
     ]
    }
   ],
   "source": [
    "unique_aspects = set(flat_list)\n",
    "print (unique_aspects, len(list(unique_aspects)) )"
   ]
  },
  {
   "cell_type": "code",
   "execution_count": null,
   "metadata": {
    "colab": {
     "base_uri": "https://localhost:8080/",
     "height": 496
    },
    "id": "gNbcPMBDScsq",
    "outputId": "556b58a4-39a0-4a20-d2b4-249f3cbd072c"
   },
   "outputs": [
    {
     "name": "stdout",
     "output_type": "stream",
     "text": [
      "OrderedDict([('Corporate', 357), ('M&A', 106), ('Stock', 101), ('Sales', 80), ('Price Action', 58), ('Market', 54), ('Rumors', 39), ('Appointment', 37), ('Strategy', 37), ('Risks', 29), ('Dividend Policy', 28), ('Deal', 24), ('Legal', 23), ('Volatility', 19), ('Regulatory', 17), ('Proposed Merger', 16), ('Scoop', 14), ('Signal', 11), ('Company Communication', 10), ('Executive Appointment', 9), ('Fundamentals', 8), ('IPO', 8), ('Market Trend', 8), ('Reputation', 8), ('Buy Signal', 7), ('Economy', 7), ('Partnership', 7), ('Settlement', 6), ('Dividend', 6), ('Lawsuit', 6), ('Central Banks', 5), ('Investment', 5), ('Buyside', 5), ('Stock Buyside', 5), ('Technical Analysis', 4), ('Company Agreement', 4), ('Financial', 4), ('Reorganization', 4), ('Corporate Expansion', 4), ('Coverage', 4), ('Sell Signal', 4), ('Sell-Off', 4), ('Trend', 3), ('Trending up', 3), ('Corporate Planning', 3), ('Staff Hiring', 3), ('Bearish', 3), ('Bearish Behaviour', 3), ('Future Price', 3), ('Insider Activity', 3), ('Dividend going up', 2), ('Divestment', 2), ('Financial Results', 2), ('Earnings', 2), ('Bullish', 2), ('Bullish Behaviour', 2), ('Volume', 2), ('Conditions', 2), ('Market Outlook', 2), ('Currency', 2), ('Trade', 2), ('Joint Venture', 2), ('Insider Trading', 2), ('Failed Contract Discussion', 1), ('Share Buyback', 1), ('Court Ruling', 1), ('Stock Volatility', 1), ('Unusually high volume', 1), ('AnalystRatings', 1), ('downgrade', 1), ('Sanctions', 1), ('Mutual Fund flows', 1), ('Demand Shortfall', 1), ('Price Competition', 1), ('Dispute', 1), ('Bullish, Corporate', 1), ('Direction', 1), ('Bankruptcy', 1), ('Entering bankruptcy', 1), ('Current Price', 1), ('Stock Price', 1), ('Monetary Policy', 1), ('Monetary Policy - SNB', 1), ('Extraordinary Meeting', 1), ('Sale Halt', 1), ('Unusual Low Volume', 1), ('Buyout', 1), ('Executive Reshuffle', 1)])\n"
     ]
    },
    {
     "data": {
      "text/plain": [
       "<matplotlib.axes._subplots.AxesSubplot at 0x7f64106c5358>"
      ]
     },
     "execution_count": 17,
     "metadata": {
      "tags": []
     },
     "output_type": "execute_result"
    },
    {
     "data": {
      "image/png": "[encoded data removed]",
      "text/plain": [
       "<Figure size 1440x360 with 1 Axes>"
      ]
     },
     "metadata": {
      "needs_background": "light",
      "tags": []
     },
     "output_type": "display_data"
    }
   ],
   "source": [
    "import collections \n",
    "counter=collections.Counter(flat_list)\n",
    "counter = collections.OrderedDict(sorted(counter.items(), key=lambda x: x[1], reverse=True))\n",
    "del counter['?'] \n",
    "del counter[''] \n",
    "print(counter)\n",
    "df = pd.DataFrame.from_dict(counter, orient='index')\n",
    "df.plot(kind='bar', figsize = (20,5))"
   ]
  },
  {
   "cell_type": "code",
   "execution_count": null,
   "metadata": {
    "id": "98Oiq-KmapeL"
   },
   "outputs": [],
   "source": [
    "bad_chars = ['[', '\\'', ']']\n",
    "sentence = [''.join(i for i in test_string if not i in bad_chars) for test_string in sentence]"
   ]
  },
  {
   "cell_type": "code",
   "execution_count": null,
   "metadata": {
    "colab": {
     "base_uri": "https://localhost:8080/",
     "height": 202
    },
    "id": "bsolEfmtY9yg",
    "outputId": "83e2b167-4635-4ce3-f3ed-65c32938cc73"
   },
   "outputs": [
    {
     "data": {
      "text/html": [
       "<div>\n",
       "<style scoped>\n",
       "    .dataframe tbody tr th:only-of-type {\n",
       "        vertical-align: middle;\n",
       "    }\n",
       "\n",
       "    .dataframe tbody tr th {\n",
       "        vertical-align: top;\n",
       "    }\n",
       "\n",
       "    .dataframe thead th {\n",
       "        text-align: right;\n",
       "    }\n",
       "</style>\n",
       "<table border=\"1\" class=\"dataframe\">\n",
       "  <thead>\n",
       "    <tr style=\"text-align: right;\">\n",
       "      <th></th>\n",
       "      <th>sentence</th>\n",
       "      <th>aspects</th>\n",
       "      <th>target</th>\n",
       "      <th>sentiment_score</th>\n",
       "    </tr>\n",
       "  </thead>\n",
       "  <tbody>\n",
       "    <tr>\n",
       "      <th>0</th>\n",
       "      <td>set to step down</td>\n",
       "      <td>[Corporate, Appointment]</td>\n",
       "      <td>Royal Mail</td>\n",
       "      <td>-0.374</td>\n",
       "    </tr>\n",
       "    <tr>\n",
       "      <th>1</th>\n",
       "      <td>Facing Tough Competition</td>\n",
       "      <td>[Corporate, Risks]</td>\n",
       "      <td>AstraZeneca</td>\n",
       "      <td>-0.24</td>\n",
       "    </tr>\n",
       "    <tr>\n",
       "      <th>2</th>\n",
       "      <td>Crest loses a third of Morrisons milk contract</td>\n",
       "      <td>[Corporate, Sales, Failed Contract Discussion]</td>\n",
       "      <td>Morrisons</td>\n",
       "      <td>-0.161</td>\n",
       "    </tr>\n",
       "    <tr>\n",
       "      <th>3</th>\n",
       "      <td>hires Avivas David Hillier for multi-asset team</td>\n",
       "      <td>[Corporate, Appointment, Executive Appointment]</td>\n",
       "      <td>Insight</td>\n",
       "      <td>0.137</td>\n",
       "    </tr>\n",
       "    <tr>\n",
       "      <th>4</th>\n",
       "      <td>after strong sales</td>\n",
       "      <td>[Corporate, Sales]</td>\n",
       "      <td>Primark</td>\n",
       "      <td>0.704</td>\n",
       "    </tr>\n",
       "  </tbody>\n",
       "</table>\n",
       "</div>"
      ],
      "text/plain": [
       "                                          sentence  ... sentiment_score\n",
       "0                                 set to step down  ...          -0.374\n",
       "1                         Facing Tough Competition  ...           -0.24\n",
       "2   Crest loses a third of Morrisons milk contract  ...          -0.161\n",
       "3  hires Avivas David Hillier for multi-asset team  ...           0.137\n",
       "4                               after strong sales  ...           0.704\n",
       "\n",
       "[5 rows x 4 columns]"
      ]
     },
     "execution_count": 19,
     "metadata": {
      "tags": []
     },
     "output_type": "execute_result"
    }
   ],
   "source": [
    "#create dataframe\n",
    "train = pd.DataFrame({\n",
    "    'sentence': sentence, \n",
    "    'aspects': aspects, \n",
    "    'target':target, \n",
    "    'sentiment_score':sentiment_score})\n",
    "train.head()"
   ]
  },
  {
   "cell_type": "code",
   "execution_count": null,
   "metadata": {
    "colab": {
     "base_uri": "https://localhost:8080/",
     "height": 202
    },
    "id": "MpSXeXvpcTbV",
    "outputId": "826d293f-a17d-48ff-ab85-3ad97ec0fe8d"
   },
   "outputs": [
    {
     "data": {
      "text/html": [
       "<div>\n",
       "<style scoped>\n",
       "    .dataframe tbody tr th:only-of-type {\n",
       "        vertical-align: middle;\n",
       "    }\n",
       "\n",
       "    .dataframe tbody tr th {\n",
       "        vertical-align: top;\n",
       "    }\n",
       "\n",
       "    .dataframe thead th {\n",
       "        text-align: right;\n",
       "    }\n",
       "</style>\n",
       "<table border=\"1\" class=\"dataframe\">\n",
       "  <thead>\n",
       "    <tr style=\"text-align: right;\">\n",
       "      <th></th>\n",
       "      <th>sentence</th>\n",
       "      <th>aspects</th>\n",
       "      <th>target</th>\n",
       "      <th>sentiment_score</th>\n",
       "    </tr>\n",
       "  </thead>\n",
       "  <tbody>\n",
       "    <tr>\n",
       "      <th>0</th>\n",
       "      <td>set to step down</td>\n",
       "      <td>Corporate</td>\n",
       "      <td>Royal Mail</td>\n",
       "      <td>-0.374</td>\n",
       "    </tr>\n",
       "    <tr>\n",
       "      <th>0</th>\n",
       "      <td>set to step down</td>\n",
       "      <td>Appointment</td>\n",
       "      <td>Royal Mail</td>\n",
       "      <td>-0.374</td>\n",
       "    </tr>\n",
       "    <tr>\n",
       "      <th>1</th>\n",
       "      <td>Facing Tough Competition</td>\n",
       "      <td>Corporate</td>\n",
       "      <td>AstraZeneca</td>\n",
       "      <td>-0.24</td>\n",
       "    </tr>\n",
       "    <tr>\n",
       "      <th>1</th>\n",
       "      <td>Facing Tough Competition</td>\n",
       "      <td>Risks</td>\n",
       "      <td>AstraZeneca</td>\n",
       "      <td>-0.24</td>\n",
       "    </tr>\n",
       "    <tr>\n",
       "      <th>2</th>\n",
       "      <td>Crest loses a third of Morrisons milk contract</td>\n",
       "      <td>Corporate</td>\n",
       "      <td>Morrisons</td>\n",
       "      <td>-0.161</td>\n",
       "    </tr>\n",
       "  </tbody>\n",
       "</table>\n",
       "</div>"
      ],
      "text/plain": [
       "                                         sentence  ... sentiment_score\n",
       "0                                set to step down  ...          -0.374\n",
       "0                                set to step down  ...          -0.374\n",
       "1                        Facing Tough Competition  ...           -0.24\n",
       "1                        Facing Tough Competition  ...           -0.24\n",
       "2  Crest loses a third of Morrisons milk contract  ...          -0.161\n",
       "\n",
       "[5 rows x 4 columns]"
      ]
     },
     "execution_count": 20,
     "metadata": {
      "tags": []
     },
     "output_type": "execute_result"
    }
   ],
   "source": [
    "train = train.explode('aspects')\n",
    "train.head()"
   ]
  },
  {
   "cell_type": "code",
   "execution_count": null,
   "metadata": {
    "colab": {
     "base_uri": "https://localhost:8080/"
    },
    "id": "w7iiGGuxcmWh",
    "outputId": "9f5c557e-04c5-4123-eccb-5b65fe3657bf"
   },
   "outputs": [
    {
     "data": {
      "text/plain": [
       "(1267, 4)"
      ]
     },
     "execution_count": 21,
     "metadata": {
      "tags": []
     },
     "output_type": "execute_result"
    }
   ],
   "source": [
    "train = train.dropna()\n",
    "train = train[~train.aspects.isin(['?', ''])]\n",
    "train.shape"
   ]
  },
  {
   "cell_type": "code",
   "execution_count": null,
   "metadata": {
    "colab": {
     "base_uri": "https://localhost:8080/",
     "height": 351
    },
    "id": "hPry2ixQA7f4",
    "outputId": "9fdcd81e-af74-482b-c358-31e6cf9fd830"
   },
   "outputs": [
    {
     "name": "stderr",
     "output_type": "stream",
     "text": [
      "/usr/local/lib/python3.6/dist-packages/seaborn/distributions.py:2551: FutureWarning: `distplot` is a deprecated function and will be removed in a future version. Please adapt your code to use either `displot` (a figure-level function with similar flexibility) or `histplot` (an axes-level function for histograms).\n",
      "  warnings.warn(msg, FutureWarning)\n"
     ]
    },
    {
     "data": {
      "image/png": "[encoded data removed]",
      "text/plain": [
       "<Figure size 432x288 with 1 Axes>"
      ]
     },
     "metadata": {
      "needs_background": "light",
      "tags": []
     },
     "output_type": "display_data"
    }
   ],
   "source": [
    "train['snippet_len'] = train.sentence.apply(lambda words: len(words.split(\" \")))\n",
    "max_seq_len = np.round(train.snippet_len.mean() + 2.5*train.snippet_len.std()).astype(int)\n",
    "\n",
    "sns.distplot(train.snippet_len, hist=True, kde=True, color='b', label='snippets size len')\n",
    "plt.axvline(x=max_seq_len, color='k', linestyle='--', label='max len')\n",
    "plt.title('comment length'); plt.legend()\n",
    "plt.show()"
   ]
  },
  {
   "cell_type": "code",
   "execution_count": null,
   "metadata": {
    "colab": {
     "base_uri": "https://localhost:8080/"
    },
    "id": "1AfVsZ_m9tp9",
    "outputId": "b05d074c-1505-41b1-f658-def331a25f61"
   },
   "outputs": [
    {
     "name": "stderr",
     "output_type": "stream",
     "text": [
      "100%|██████████| 1267/1267 [00:00<00:00, 9782.51it/s]\n",
      "100%|██████████| 1267/1267 [00:00<00:00, 14254.29it/s]\n",
      "100%|██████████| 1267/1267 [00:00<00:00, 14073.47it/s]\n"
     ]
    },
    {
     "name": "stdout",
     "output_type": "stream",
     "text": [
      "Tokenizing: \n",
      "dictionary size:  1324\n"
     ]
    }
   ],
   "source": [
    "\n",
    "l_train = train.sentence.tolist()\n",
    "\n",
    "clean_train = []\n",
    "clean_target = []\n",
    "clean_aspects = []\n",
    "clean_total = []\n",
    "\n",
    "for doc in tqdm(l_train):\n",
    "  tokens = word_tokenize(doc)\n",
    "  filtered = [word for word in tokens if word not in stop_words]\n",
    "  clean_train.append(\" \".join(filtered))\n",
    "  clean_total.append(\" \".join(filtered))\n",
    "\n",
    "for doc in tqdm(train.aspects.tolist()):\n",
    "  tokens = word_tokenize(doc)\n",
    "  filtered = [word for word in tokens if word not in stop_words]\n",
    "  clean_aspects.append(\" \".join(filtered))\n",
    "  clean_total.append(\" \".join(filtered))\n",
    "\n",
    "\n",
    "for doc in tqdm(train.target.tolist()):\n",
    "  tokens = word_tokenize(doc)\n",
    "  filtered = [word for word in tokens if word not in stop_words]\n",
    "  clean_target.append(\" \".join(filtered))\n",
    "  clean_total.append(\" \".join(filtered))\n",
    "\n",
    "print(\"Tokenizing: \")\n",
    "tokenizer = Tokenizer(num_words=MAX_NB_WORDS, lower=True, char_level=False)\n",
    "tokenizer.fit_on_texts(clean_total)  \n",
    "\n",
    "word_seq_train = tokenizer.texts_to_sequences(clean_train)\n",
    "word_seq_target = tokenizer.texts_to_sequences(clean_target)\n",
    "word_seq_aspects = tokenizer.texts_to_sequences(clean_aspects)\n",
    "\n",
    "word_index = tokenizer.word_index\n",
    "print(\"dictionary size: \", len(word_index))\n",
    "\n",
    "word_seq_train = sequence.pad_sequences(word_seq_train, maxlen=max_seq_len)\n",
    "word_seq_target = sequence.pad_sequences(word_seq_target, maxlen=max_seq_len)\n",
    "word_seq_aspects = sequence.pad_sequences(word_seq_aspects, maxlen=max_seq_len)"
   ]
  },
  {
   "cell_type": "code",
   "execution_count": null,
   "metadata": {
    "colab": {
     "base_uri": "https://localhost:8080/"
    },
    "id": "SCzC2wDyF6_k",
    "outputId": "22900204-b23b-4a4b-efaa-5e287404abf1"
   },
   "outputs": [
    {
     "data": {
      "text/plain": [
       "array([  0,   0,   0,   0,   0,   0,   0,   0,   0, 948, 259, 458],\n",
       "      dtype=int32)"
      ]
     },
     "execution_count": 24,
     "metadata": {
      "tags": []
     },
     "output_type": "execute_result"
    }
   ],
   "source": [
    "word_seq_train[2]"
   ]
  },
  {
   "cell_type": "code",
   "execution_count": null,
   "metadata": {
    "id": "Pqp3_jxLDuQd"
   },
   "outputs": [],
   "source": [
    "#model parameters\n",
    "num_filters = 64 \n",
    "embed_dim = 300 \n",
    "weight_decay = 1e-4"
   ]
  },
  {
   "cell_type": "code",
   "execution_count": null,
   "metadata": {
    "id": "Iv1_Yw15FpUh"
   },
   "outputs": [],
   "source": [
    "def get_embedding(word):\n",
    "    try:\n",
    "        embedding=model[word]\n",
    "    except:\n",
    "        embedding=np.zeros((embed_dim,))\n",
    "    return embedding"
   ]
  },
  {
   "cell_type": "code",
   "execution_count": null,
   "metadata": {
    "colab": {
     "base_uri": "https://localhost:8080/"
    },
    "id": "D4WY-6neGZii",
    "outputId": "e70a4b0d-58b7-4846-eab1-588a6ce89f77"
   },
   "outputs": [
    {
     "name": "stdout",
     "output_type": "stream",
     "text": [
      "preparing embedding matrix...\n",
      "words_embeding_vec_none =  0\n",
      "vocab: 334\n",
      "number of null word embeddings: 339\n"
     ]
    },
    {
     "name": "stderr",
     "output_type": "stream",
     "text": [
      "/usr/local/lib/python3.6/dist-packages/ipykernel_launcher.py:3: DeprecationWarning: Call to deprecated `__getitem__` (Method will be removed in 4.0.0, use self.wv.__getitem__() instead).\n",
      "  This is separate from the ipykernel package so we can avoid doing imports until\n"
     ]
    }
   ],
   "source": [
    "#embedding matrix\n",
    "\n",
    "print('preparing embedding matrix...')\n",
    "\n",
    "words_not_found = []\n",
    "words_embeding_vec_none = []\n",
    "nb_words = min(MAX_NB_WORDS, len(word_index)+1)\n",
    "embedding_matrix = np.zeros((nb_words, embed_dim))\n",
    "\n",
    "for word, i in word_index.items():\n",
    "    if i >= nb_words:\n",
    "        continue\n",
    "    embedding_vector = get_embedding(word)\n",
    "    if (embedding_vector is not None) and len(embedding_vector) > 0:\n",
    "        # words not found in embedding index will be all-zeros.\n",
    "        embedding_matrix[i] = embedding_vector\n",
    "        if np.sum(embedding_vector) == 0:\n",
    "          words_not_found.append(word)\n",
    "    else:\n",
    "      words_embeding_vec_none(word)\n",
    "\n",
    "print('words_embeding_vec_none = ', len(words_embeding_vec_none))\n",
    "print('vocab: %d' % np.sum(np.sum(embedding_matrix, axis=1) > 0))\n",
    "print('number of null word embeddings: %d' % np.sum(np.sum(embedding_matrix, axis=1) == 0))"
   ]
  },
  {
   "cell_type": "code",
   "execution_count": null,
   "metadata": {
    "colab": {
     "base_uri": "https://localhost:8080/"
    },
    "id": "tKi8vtOKGs7w",
    "outputId": "7fa5fec9-eb6d-4902-88f2-83d712aef5ff"
   },
   "outputs": [
    {
     "name": "stdout",
     "output_type": "stream",
     "text": [
      "['lehman', 'blinkbox', 'aer', 'lingus', 'novartis', 'poaches', 'off', 'severn', 'trent', 'stanchart', 'hathaway', 'brexit', 'unilever', 'wimpey', 'onemain', 'gleneagles', 'ennismore', 'axa', 'inovio', 'talktalk', 'you', 'boerse', 'asahi', 'kipa', 'whitbread', 'glaxosmithkline', 'statoil', 'u', 'k', 'acerta', 'compton', 'bphs', 'alibaba', 'â£90m', 'g', 'johnson', 'matthey', 'valeant', 'pearson', 'after', 'uks', 'pct', 'ex', 'bae', 'are', 'nps', 'omnis', 'iag', 'lonmin', 'crh']\n"
     ]
    }
   ],
   "source": [
    "print(words_not_found[50:100])"
   ]
  },
  {
   "cell_type": "code",
   "execution_count": null,
   "metadata": {
    "colab": {
     "base_uri": "https://localhost:8080/"
    },
    "id": "NHl75tiIqkvQ",
    "outputId": "8cc2b5a4-988b-492d-c3e5-13583bb98011"
   },
   "outputs": [
    {
     "data": {
      "text/plain": [
       "0      -0.374\n",
       "0      -0.374\n",
       "1       -0.24\n",
       "1       -0.24\n",
       "2      -0.161\n",
       "        ...  \n",
       "496     0.435\n",
       "496     0.435\n",
       "497     0.259\n",
       "497     0.259\n",
       "497     0.259\n",
       "Name: sentiment_score, Length: 1267, dtype: object"
      ]
     },
     "execution_count": 29,
     "metadata": {
      "tags": []
     },
     "output_type": "execute_result"
    }
   ],
   "source": [
    "train.sentiment_score"
   ]
  },
  {
   "cell_type": "code",
   "execution_count": null,
   "metadata": {
    "colab": {
     "base_uri": "https://localhost:8080/"
    },
    "id": "3MYutCdbrPTB",
    "outputId": "d00b5936-a2b9-4b31-f536-bae9062ce38b"
   },
   "outputs": [
    {
     "data": {
      "text/plain": [
       "0     -0.374\n",
       "0     -0.374\n",
       "1     -0.240\n",
       "1     -0.240\n",
       "2     -0.161\n",
       "       ...  \n",
       "496    0.435\n",
       "496    0.435\n",
       "497    0.259\n",
       "497    0.259\n",
       "497    0.259\n",
       "Name: sentiment_score, Length: 1267, dtype: float64"
      ]
     },
     "execution_count": 30,
     "metadata": {
      "tags": []
     },
     "output_type": "execute_result"
    }
   ],
   "source": [
    "train.sentiment_score = pd.to_numeric(train.sentiment_score)\n",
    "train.sentiment_score"
   ]
  },
  {
   "cell_type": "code",
   "execution_count": null,
   "metadata": {
    "colab": {
     "base_uri": "https://localhost:8080/"
    },
    "id": "jTaI0VbvsWRq",
    "outputId": "834259ca-eeaf-43f9-b7b1-9a2c92301fec"
   },
   "outputs": [
    {
     "data": {
      "text/plain": [
       "array([0.626, 0.626, 0.76 , ..., 1.259, 1.259, 1.259])"
      ]
     },
     "execution_count": 31,
     "metadata": {
      "tags": []
     },
     "output_type": "execute_result"
    }
   ],
   "source": [
    "train.sentiment_score.values+1"
   ]
  },
  {
   "cell_type": "code",
   "execution_count": null,
   "metadata": {
    "id": "dmahh384KZhQ"
   },
   "outputs": [],
   "source": [
    "import keras\n",
    "from keras import optimizers\n",
    "from keras import backend as K\n",
    "from keras import regularizers\n",
    "from keras.models import Sequential\n",
    "from keras.layers import Dense, Activation, Dropout, Flatten, concatenate\n",
    "from tensorflow.keras.layers import Embedding, LSTM, Dense, Dropout, Bidirectional, Concatenate, Input, TimeDistributed"
   ]
  },
  {
   "cell_type": "code",
   "execution_count": null,
   "metadata": {
    "id": "Otek0U9AOtvc"
   },
   "outputs": [],
   "source": [
    "# avoid model to overwrite\n",
    "keras.backend.clear_session()"
   ]
  },
  {
   "cell_type": "code",
   "execution_count": null,
   "metadata": {
    "colab": {
     "base_uri": "https://localhost:8080/"
    },
    "id": "k18dZ2bbKAwm",
    "outputId": "7038191e-3c75-4ac6-8c4d-03b25f92f4ce"
   },
   "outputs": [
    {
     "name": "stdout",
     "output_type": "stream",
     "text": [
      "Model: \"functional_1\"\n",
      "__________________________________________________________________________________________________\n",
      "Layer (type)                    Output Shape         Param #     Connected to                     \n",
      "==================================================================================================\n",
      "sentence (InputLayer)           [(None, 12)]         0                                            \n",
      "__________________________________________________________________________________________________\n",
      "aspects (InputLayer)            [(None, 12)]         0                                            \n",
      "__________________________________________________________________________________________________\n",
      "target (InputLayer)             [(None, 12)]         0                                            \n",
      "__________________________________________________________________________________________________\n",
      "embedding (Embedding)           (None, 12, 300)      397500      sentence[0][0]                   \n",
      "__________________________________________________________________________________________________\n",
      "embedding_1 (Embedding)         (None, 12, 300)      397500      aspects[0][0]                    \n",
      "__________________________________________________________________________________________________\n",
      "embedding_2 (Embedding)         (None, 12, 300)      397500      target[0][0]                     \n",
      "__________________________________________________________________________________________________\n",
      "bidirectional (Bidirectional)   (None, 256)          439296      embedding[0][0]                  \n",
      "__________________________________________________________________________________________________\n",
      "bidirectional_1 (Bidirectional) (None, 256)          439296      embedding_1[0][0]                \n",
      "__________________________________________________________________________________________________\n",
      "bidirectional_2 (Bidirectional) (None, 256)          439296      embedding_2[0][0]                \n",
      "__________________________________________________________________________________________________\n",
      "concatenate (Concatenate)       (None, 768)          0           bidirectional[0][0]              \n",
      "                                                                 bidirectional_1[0][0]            \n",
      "                                                                 bidirectional_2[0][0]            \n",
      "__________________________________________________________________________________________________\n",
      "dense (Dense)                   (None, 1024)         787456      concatenate[0][0]                \n",
      "__________________________________________________________________________________________________\n",
      "dropout (Dropout)               (None, 1024)         0           dense[0][0]                      \n",
      "__________________________________________________________________________________________________\n",
      "dense_1 (Dense)                 (None, 128)          131200      dropout[0][0]                    \n",
      "__________________________________________________________________________________________________\n",
      "dense_2 (Dense)                 (None, 1)            129         dense_1[0][0]                    \n",
      "==================================================================================================\n",
      "Total params: 3,429,173\n",
      "Trainable params: 2,236,673\n",
      "Non-trainable params: 1,192,500\n",
      "__________________________________________________________________________________________________\n"
     ]
    }
   ],
   "source": [
    "import tensorflow as tf\n",
    "sentence_in = Input(shape=(max_seq_len, ), dtype='int32', name=\"sentence\")\n",
    "sent_embedding_layer = Embedding(nb_words,embed_dim,input_length=max_seq_len, weights=[embedding_matrix],trainable=False) (sentence_in)\n",
    "lstm_sentence = Bidirectional(LSTM(128))(sent_embedding_layer)\n",
    "\n",
    "\n",
    "\n",
    "aspects_in = Input(shape=(max_seq_len,), dtype='int32', name=\"aspects\")\n",
    "aspects_embedding_layer = Embedding(nb_words,embed_dim,input_length=max_seq_len, weights=[embedding_matrix],trainable=False) (aspects_in)\n",
    "lstm_aspects = Bidirectional(LSTM(128))(aspects_embedding_layer)\n",
    "\n",
    "\n",
    "\n",
    "target_in = Input(shape=(max_seq_len, ), dtype='int32', name=\"target\")\n",
    "target_in_embedding_layer = Embedding(nb_words,embed_dim,input_length=max_seq_len, weights=[embedding_matrix],trainable=False) (target_in)\n",
    "lstm_target = Bidirectional(LSTM(128))(target_in_embedding_layer)\n",
    "\n",
    "\n",
    "x = concatenate([lstm_sentence, lstm_aspects, lstm_target])\n",
    "\n",
    "x = Dense(1024,activation='relu')(x)\n",
    "x=  Dropout(.3) (x)\n",
    "x = Dense(128,activation='relu')(x)\n",
    "\n",
    "preds = Dense(1,activation= 'linear')(x)\n",
    "\n",
    "model = tf.keras.Model(inputs=[sentence_in, aspects_in, target_in], outputs=preds)\n",
    "\n",
    "model.summary()"
   ]
  },
  {
   "cell_type": "code",
   "execution_count": null,
   "metadata": {
    "id": "OkMGerayKSPP"
   },
   "outputs": [],
   "source": [
    "from keras.optimizers import RMSprop\n",
    "from keras.callbacks import ModelCheckpoint\n",
    "from tensorflow.keras.callbacks import EarlyStopping\n",
    "from tensorflow.keras.optimizers import SGD\n",
    "from tensorflow.keras.losses import Huber, MeanSquaredError, MeanAbsolutePercentageError, MeanAbsolutePercentageError\n",
    "\n",
    "optimizer = SGD(lr = 1e-04, momentum=.9)\n",
    "\n",
    "model.compile(loss = MeanAbsolutePercentageError(), optimizer=optimizer, metrics=['mape'])"
   ]
  },
  {
   "cell_type": "code",
   "execution_count": null,
   "metadata": {
    "colab": {
     "base_uri": "https://localhost:8080/"
    },
    "id": "eIhET-vOYtcq",
    "outputId": "0ec345e9-55e3-4c4f-88a2-04b951e58257"
   },
   "outputs": [
    {
     "name": "stdout",
     "output_type": "stream",
     "text": [
      "/content/drive/My Drive/iiit_ire/word2vec_fasttext\n"
     ]
    }
   ],
   "source": [
    "!pwd"
   ]
  },
  {
   "cell_type": "code",
   "execution_count": null,
   "metadata": {
    "id": "u8Vq-UGgYmQT"
   },
   "outputs": [],
   "source": [
    "#checkpoint = ModelCheckpoint('word2vec_regress_weights.best.hdf5',\n",
    "#                             verbose=1,\n",
    "#                             save_weights_only=True,\n",
    "#                             monitor = 'val_mae',\n",
    "#                             mode='min',\n",
    "#                             save_best_only=True)"
   ]
  },
  {
   "cell_type": "code",
   "execution_count": null,
   "metadata": {
    "colab": {
     "base_uri": "https://localhost:8080/"
    },
    "id": "xICiL4V0KEhf",
    "outputId": "856b4e83-b91c-488a-8a5b-a9e5884ac65e"
   },
   "outputs": [
    {
     "data": {
      "text/plain": [
       "array([[  0,   0,   0, ...,   0,  45,  93],\n",
       "       [  0,   0,   0, ...,   0,  45,  93],\n",
       "       [  0,   0,   0, ...,   0,   0,  13],\n",
       "       ...,\n",
       "       [  0,   0,   0, ...,   0,   0, 947],\n",
       "       [  0,   0,   0, ...,   0,   0, 947],\n",
       "       [  0,   0,   0, ...,   0,   0, 947]], dtype=int32)"
      ]
     },
     "execution_count": 38,
     "metadata": {
      "tags": []
     },
     "output_type": "execute_result"
    }
   ],
   "source": [
    "(word_seq_target)"
   ]
  },
  {
   "cell_type": "code",
   "execution_count": null,
   "metadata": {
    "colab": {
     "base_uri": "https://localhost:8080/"
    },
    "id": "fjbFzjhma1PO",
    "outputId": "ba86adea-3ecc-44f9-ad83-3da3d77c3d7f"
   },
   "outputs": [
    {
     "data": {
      "text/plain": [
       "array([4.626, 4.626, 4.76 , ..., 5.259, 5.259, 5.259])"
      ]
     },
     "execution_count": 39,
     "metadata": {
      "tags": []
     },
     "output_type": "execute_result"
    }
   ],
   "source": [
    "(train.sentiment_score).values+5"
   ]
  },
  {
   "cell_type": "code",
   "execution_count": null,
   "metadata": {
    "id": "lYgfSQw-Twf1"
   },
   "outputs": [],
   "source": [
    "from sklearn.model_selection import train_test_split\n",
    "x_sent_train, x_sent_val, y_sent_train, y_sent_val = train_test_split(word_seq_train, train.sentiment_score.values+5,\n",
    "                                                                      test_size=0.2, random_state=42) \n",
    "x_target_train, x_target_val, y_target_train, y_target_val = train_test_split(word_seq_target, train.sentiment_score.values+5,\n",
    "                                                                      test_size=0.2, random_state=42) \n",
    "x_aspects_train, x_aspects_val, y_aspects_train, y_aspects_val = train_test_split(word_seq_aspects, train.sentiment_score.values+5,\n",
    "                                                                      test_size=0.2, random_state=42) "
   ]
  },
  {
   "cell_type": "code",
   "execution_count": null,
   "metadata": {
    "colab": {
     "base_uri": "https://localhost:8080/"
    },
    "id": "HbHmEkQ6UfI_",
    "outputId": "3da96008-976a-4f19-9119-cad69d42bb0f"
   },
   "outputs": [
    {
     "data": {
      "text/plain": [
       "((1013,), (254,))"
      ]
     },
     "execution_count": 41,
     "metadata": {
      "tags": []
     },
     "output_type": "execute_result"
    }
   ],
   "source": [
    "y_sent_train.shape, y_sent_val.shape"
   ]
  },
  {
   "cell_type": "code",
   "execution_count": null,
   "metadata": {
    "colab": {
     "base_uri": "https://localhost:8080/"
    },
    "id": "OFuryH4ZKypq",
    "outputId": "cc8b2fc6-49d6-4ac2-a55c-234bf1e0d118"
   },
   "outputs": [
    {
     "name": "stdout",
     "output_type": "stream",
     "text": [
      "Epoch 1/500\n",
      "32/32 [==============================] - 1s 16ms/step - loss: 89.5235 - mape: 89.5235\n",
      "Epoch 2/500\n",
      "32/32 [==============================] - 0s 15ms/step - loss: 28.9686 - mape: 28.9686\n",
      "Epoch 3/500\n",
      "32/32 [==============================] - 0s 16ms/step - loss: 7.4226 - mape: 7.4226\n",
      "Epoch 4/500\n",
      "32/32 [==============================] - 0s 15ms/step - loss: 6.4535 - mape: 6.4535\n",
      "Epoch 5/500\n",
      "32/32 [==============================] - 1s 16ms/step - loss: 6.3764 - mape: 6.3764\n",
      "Epoch 6/500\n",
      "32/32 [==============================] - 0s 15ms/step - loss: 6.2376 - mape: 6.2376\n",
      "Epoch 7/500\n",
      "32/32 [==============================] - 0s 15ms/step - loss: 6.2949 - mape: 6.2949\n",
      "Epoch 8/500\n",
      "32/32 [==============================] - 1s 16ms/step - loss: 6.4724 - mape: 6.4724\n",
      "Epoch 9/500\n",
      "32/32 [==============================] - 1s 16ms/step - loss: 6.2995 - mape: 6.2995\n",
      "Epoch 10/500\n",
      "32/32 [==============================] - 0s 15ms/step - loss: 6.0254 - mape: 6.0254\n",
      "Epoch 11/500\n",
      "32/32 [==============================] - 0s 15ms/step - loss: 6.0786 - mape: 6.0786\n",
      "Epoch 12/500\n",
      "32/32 [==============================] - 0s 15ms/step - loss: 6.2750 - mape: 6.2750\n",
      "Epoch 13/500\n",
      "32/32 [==============================] - 1s 16ms/step - loss: 6.4310 - mape: 6.4310\n",
      "Epoch 14/500\n",
      "32/32 [==============================] - 0s 15ms/step - loss: 5.9288 - mape: 5.9288\n",
      "Epoch 15/500\n",
      "32/32 [==============================] - 0s 16ms/step - loss: 6.1378 - mape: 6.1378\n",
      "Epoch 16/500\n",
      "32/32 [==============================] - 0s 15ms/step - loss: 5.8728 - mape: 5.8728\n",
      "Epoch 17/500\n",
      "32/32 [==============================] - 1s 16ms/step - loss: 5.8577 - mape: 5.8577\n",
      "Epoch 18/500\n",
      "32/32 [==============================] - 0s 15ms/step - loss: 5.7726 - mape: 5.7726\n",
      "Epoch 19/500\n",
      "32/32 [==============================] - 1s 16ms/step - loss: 5.7817 - mape: 5.7817\n",
      "Epoch 20/500\n",
      "32/32 [==============================] - 0s 16ms/step - loss: 5.7973 - mape: 5.7973\n",
      "Epoch 21/500\n",
      "32/32 [==============================] - 0s 16ms/step - loss: 5.7853 - mape: 5.7853\n",
      "Epoch 22/500\n",
      "32/32 [==============================] - 0s 16ms/step - loss: 5.8314 - mape: 5.8314\n",
      "Epoch 23/500\n",
      "32/32 [==============================] - 0s 16ms/step - loss: 5.7253 - mape: 5.7253\n",
      "Epoch 24/500\n",
      "32/32 [==============================] - 0s 15ms/step - loss: 5.6760 - mape: 5.6760\n",
      "Epoch 25/500\n",
      "32/32 [==============================] - 0s 15ms/step - loss: 5.6844 - mape: 5.6844\n",
      "Epoch 26/500\n",
      "32/32 [==============================] - 0s 15ms/step - loss: 5.5685 - mape: 5.5685\n",
      "Epoch 27/500\n",
      "32/32 [==============================] - 1s 16ms/step - loss: 5.5668 - mape: 5.5668\n",
      "Epoch 28/500\n",
      "32/32 [==============================] - 0s 15ms/step - loss: 5.6179 - mape: 5.6179\n",
      "Epoch 29/500\n",
      "32/32 [==============================] - 0s 15ms/step - loss: 5.5100 - mape: 5.5100\n",
      "Epoch 30/500\n",
      "32/32 [==============================] - 0s 15ms/step - loss: 5.5209 - mape: 5.5209\n",
      "Epoch 31/500\n",
      "32/32 [==============================] - 1s 16ms/step - loss: 5.4245 - mape: 5.4245\n",
      "Epoch 32/500\n",
      "32/32 [==============================] - 0s 15ms/step - loss: 5.4126 - mape: 5.4126\n",
      "Epoch 33/500\n",
      "32/32 [==============================] - 0s 15ms/step - loss: 5.7785 - mape: 5.7785\n",
      "Epoch 34/500\n",
      "32/32 [==============================] - 1s 16ms/step - loss: 5.4537 - mape: 5.4537\n",
      "Epoch 35/500\n",
      "32/32 [==============================] - 1s 16ms/step - loss: 5.4466 - mape: 5.4466\n",
      "Epoch 36/500\n",
      "32/32 [==============================] - 0s 15ms/step - loss: 5.3737 - mape: 5.3737\n",
      "Epoch 37/500\n",
      "32/32 [==============================] - 1s 16ms/step - loss: 5.2850 - mape: 5.2850\n",
      "Epoch 38/500\n",
      "32/32 [==============================] - 1s 16ms/step - loss: 5.3242 - mape: 5.3242\n",
      "Epoch 39/500\n",
      "32/32 [==============================] - 1s 16ms/step - loss: 5.1305 - mape: 5.1305\n",
      "Epoch 40/500\n",
      "32/32 [==============================] - 0s 16ms/step - loss: 5.2066 - mape: 5.2066\n",
      "Epoch 41/500\n",
      "32/32 [==============================] - 0s 15ms/step - loss: 5.1983 - mape: 5.1983\n",
      "Epoch 42/500\n",
      "32/32 [==============================] - 0s 15ms/step - loss: 5.0732 - mape: 5.0732\n",
      "Epoch 43/500\n",
      "32/32 [==============================] - 0s 15ms/step - loss: 5.0606 - mape: 5.0606\n",
      "Epoch 44/500\n",
      "32/32 [==============================] - 0s 16ms/step - loss: 5.1249 - mape: 5.1249\n",
      "Epoch 45/500\n",
      "32/32 [==============================] - 0s 15ms/step - loss: 5.0100 - mape: 5.0100\n",
      "Epoch 46/500\n",
      "32/32 [==============================] - 0s 15ms/step - loss: 4.9534 - mape: 4.9534\n",
      "Epoch 47/500\n",
      "32/32 [==============================] - 0s 15ms/step - loss: 4.9433 - mape: 4.9433\n",
      "Epoch 48/500\n",
      "32/32 [==============================] - 0s 15ms/step - loss: 4.9227 - mape: 4.9227\n",
      "Epoch 49/500\n",
      "32/32 [==============================] - 0s 15ms/step - loss: 4.8124 - mape: 4.8124\n",
      "Epoch 50/500\n",
      "32/32 [==============================] - 0s 15ms/step - loss: 4.8287 - mape: 4.8287\n",
      "Epoch 51/500\n",
      "32/32 [==============================] - 1s 16ms/step - loss: 4.7212 - mape: 4.7212\n",
      "Epoch 52/500\n",
      "32/32 [==============================] - 0s 16ms/step - loss: 4.6708 - mape: 4.6708\n",
      "Epoch 53/500\n",
      "32/32 [==============================] - 0s 15ms/step - loss: 4.6795 - mape: 4.6795\n",
      "Epoch 54/500\n",
      "32/32 [==============================] - 1s 16ms/step - loss: 4.7401 - mape: 4.7401\n",
      "Epoch 55/500\n",
      "32/32 [==============================] - 0s 15ms/step - loss: 4.5112 - mape: 4.5112\n",
      "Epoch 56/500\n",
      "32/32 [==============================] - 1s 16ms/step - loss: 4.5024 - mape: 4.5024\n",
      "Epoch 57/500\n",
      "32/32 [==============================] - 0s 15ms/step - loss: 4.6328 - mape: 4.6328\n",
      "Epoch 58/500\n",
      "32/32 [==============================] - 0s 16ms/step - loss: 4.5069 - mape: 4.5069\n",
      "Epoch 59/500\n",
      "32/32 [==============================] - 0s 15ms/step - loss: 4.7757 - mape: 4.7757\n",
      "Epoch 60/500\n",
      "32/32 [==============================] - 1s 16ms/step - loss: 4.7018 - mape: 4.7018\n",
      "Epoch 61/500\n",
      "32/32 [==============================] - 1s 16ms/step - loss: 4.8776 - mape: 4.8776\n",
      "Epoch 62/500\n",
      "32/32 [==============================] - 0s 15ms/step - loss: 4.3994 - mape: 4.3994\n",
      "Epoch 63/500\n",
      "32/32 [==============================] - 1s 16ms/step - loss: 4.4349 - mape: 4.4349\n",
      "Epoch 64/500\n",
      "32/32 [==============================] - 1s 16ms/step - loss: 4.5579 - mape: 4.5579\n",
      "Epoch 65/500\n",
      "32/32 [==============================] - 0s 16ms/step - loss: 4.3045 - mape: 4.3045\n",
      "Epoch 66/500\n",
      "32/32 [==============================] - 0s 15ms/step - loss: 4.1895 - mape: 4.1895\n",
      "Epoch 67/500\n",
      "32/32 [==============================] - 1s 16ms/step - loss: 4.4793 - mape: 4.4793\n",
      "Epoch 68/500\n",
      "32/32 [==============================] - 0s 15ms/step - loss: 4.3724 - mape: 4.3724\n",
      "Epoch 69/500\n",
      "32/32 [==============================] - 0s 15ms/step - loss: 4.2705 - mape: 4.2705\n",
      "Epoch 70/500\n",
      "32/32 [==============================] - 1s 16ms/step - loss: 4.4206 - mape: 4.4206\n",
      "Epoch 71/500\n",
      "32/32 [==============================] - 0s 15ms/step - loss: 4.2708 - mape: 4.2708\n",
      "Epoch 72/500\n",
      "32/32 [==============================] - 0s 16ms/step - loss: 4.3397 - mape: 4.3397\n",
      "Epoch 73/500\n",
      "32/32 [==============================] - 0s 15ms/step - loss: 4.2774 - mape: 4.2774\n",
      "Epoch 74/500\n",
      "32/32 [==============================] - 1s 16ms/step - loss: 4.0682 - mape: 4.0682\n",
      "Epoch 75/500\n",
      "32/32 [==============================] - 0s 15ms/step - loss: 4.1451 - mape: 4.1451\n",
      "Epoch 76/500\n",
      "32/32 [==============================] - 0s 15ms/step - loss: 4.0017 - mape: 4.0017\n",
      "Epoch 77/500\n",
      "32/32 [==============================] - 1s 16ms/step - loss: 4.2509 - mape: 4.2509\n",
      "Epoch 78/500\n",
      "32/32 [==============================] - 0s 16ms/step - loss: 3.9784 - mape: 3.9784\n",
      "Epoch 79/500\n",
      "32/32 [==============================] - 0s 15ms/step - loss: 4.0338 - mape: 4.0338\n",
      "Epoch 80/500\n",
      "32/32 [==============================] - 1s 16ms/step - loss: 3.9900 - mape: 3.9900\n",
      "Epoch 81/500\n",
      "32/32 [==============================] - 0s 15ms/step - loss: 4.0362 - mape: 4.0362\n",
      "Epoch 82/500\n",
      "32/32 [==============================] - 1s 16ms/step - loss: 4.1261 - mape: 4.1261\n",
      "Epoch 83/500\n",
      "32/32 [==============================] - 0s 15ms/step - loss: 4.1681 - mape: 4.1681\n",
      "Epoch 84/500\n",
      "32/32 [==============================] - 1s 16ms/step - loss: 3.9532 - mape: 3.9532\n",
      "Epoch 85/500\n",
      "32/32 [==============================] - 0s 15ms/step - loss: 4.0011 - mape: 4.0011\n",
      "Epoch 86/500\n",
      "32/32 [==============================] - 1s 16ms/step - loss: 3.8851 - mape: 3.8851\n",
      "Epoch 87/500\n",
      "32/32 [==============================] - 0s 16ms/step - loss: 4.3599 - mape: 4.3599\n",
      "Epoch 88/500\n",
      "32/32 [==============================] - 1s 16ms/step - loss: 3.9207 - mape: 3.9207\n",
      "Epoch 89/500\n",
      "32/32 [==============================] - 1s 16ms/step - loss: 3.8116 - mape: 3.8116\n",
      "Epoch 90/500\n",
      "32/32 [==============================] - 0s 15ms/step - loss: 3.8343 - mape: 3.8343\n",
      "Epoch 91/500\n",
      "32/32 [==============================] - 0s 16ms/step - loss: 3.9990 - mape: 3.9990\n",
      "Epoch 92/500\n",
      "32/32 [==============================] - 1s 16ms/step - loss: 3.8213 - mape: 3.8213\n",
      "Epoch 93/500\n",
      "32/32 [==============================] - 1s 16ms/step - loss: 3.7608 - mape: 3.7608\n",
      "Epoch 94/500\n",
      "32/32 [==============================] - 1s 16ms/step - loss: 3.6520 - mape: 3.6520\n",
      "Epoch 95/500\n",
      "32/32 [==============================] - 0s 15ms/step - loss: 3.9132 - mape: 3.9132\n",
      "Epoch 96/500\n",
      "32/32 [==============================] - 0s 15ms/step - loss: 4.1253 - mape: 4.1253\n",
      "Epoch 97/500\n",
      "32/32 [==============================] - 1s 16ms/step - loss: 3.6565 - mape: 3.6565\n",
      "Epoch 98/500\n",
      "32/32 [==============================] - 1s 16ms/step - loss: 3.8882 - mape: 3.8882\n",
      "Epoch 99/500\n",
      "32/32 [==============================] - 1s 16ms/step - loss: 3.8052 - mape: 3.8052\n",
      "Epoch 100/500\n",
      "32/32 [==============================] - 1s 16ms/step - loss: 3.7741 - mape: 3.7741\n",
      "Epoch 101/500\n",
      "32/32 [==============================] - 1s 16ms/step - loss: 3.5950 - mape: 3.5950\n",
      "Epoch 102/500\n",
      "32/32 [==============================] - 1s 16ms/step - loss: 3.7230 - mape: 3.7230\n",
      "Epoch 103/500\n",
      "32/32 [==============================] - 0s 16ms/step - loss: 3.7239 - mape: 3.7239\n",
      "Epoch 104/500\n",
      "32/32 [==============================] - 0s 15ms/step - loss: 3.4631 - mape: 3.4631\n",
      "Epoch 105/500\n",
      "32/32 [==============================] - 1s 16ms/step - loss: 3.6348 - mape: 3.6348\n",
      "Epoch 106/500\n",
      "32/32 [==============================] - 1s 16ms/step - loss: 3.5014 - mape: 3.5014\n",
      "Epoch 107/500\n",
      "32/32 [==============================] - 1s 16ms/step - loss: 3.8794 - mape: 3.8794\n",
      "Epoch 108/500\n",
      "32/32 [==============================] - 0s 15ms/step - loss: 3.7704 - mape: 3.7704\n",
      "Epoch 109/500\n",
      "32/32 [==============================] - 0s 16ms/step - loss: 3.8017 - mape: 3.8017\n",
      "Epoch 110/500\n",
      "32/32 [==============================] - 1s 16ms/step - loss: 3.6492 - mape: 3.6492\n",
      "Epoch 111/500\n",
      "32/32 [==============================] - 1s 16ms/step - loss: 3.6856 - mape: 3.6856\n",
      "Epoch 112/500\n",
      "32/32 [==============================] - 0s 16ms/step - loss: 3.8475 - mape: 3.8475\n",
      "Epoch 113/500\n",
      "32/32 [==============================] - 1s 16ms/step - loss: 3.5996 - mape: 3.5996\n",
      "Epoch 114/500\n",
      "32/32 [==============================] - 0s 15ms/step - loss: 3.4792 - mape: 3.4792\n",
      "Epoch 115/500\n",
      "32/32 [==============================] - 0s 15ms/step - loss: 3.7094 - mape: 3.7094\n",
      "Epoch 116/500\n",
      "32/32 [==============================] - 0s 15ms/step - loss: 3.5712 - mape: 3.5712\n",
      "Epoch 117/500\n",
      "32/32 [==============================] - 1s 16ms/step - loss: 3.7632 - mape: 3.7632\n",
      "Epoch 118/500\n",
      "32/32 [==============================] - 0s 15ms/step - loss: 3.5180 - mape: 3.5180\n",
      "Epoch 119/500\n",
      "32/32 [==============================] - 1s 16ms/step - loss: 3.4190 - mape: 3.4190\n",
      "Epoch 120/500\n",
      "32/32 [==============================] - 1s 16ms/step - loss: 3.3148 - mape: 3.3148\n",
      "Epoch 121/500\n",
      "32/32 [==============================] - 1s 16ms/step - loss: 3.4360 - mape: 3.4360\n",
      "Epoch 122/500\n",
      "32/32 [==============================] - 0s 16ms/step - loss: 3.3920 - mape: 3.3920\n",
      "Epoch 123/500\n",
      "32/32 [==============================] - 1s 16ms/step - loss: 3.4863 - mape: 3.4863\n",
      "Epoch 124/500\n",
      "32/32 [==============================] - 0s 16ms/step - loss: 3.3200 - mape: 3.3200\n",
      "Epoch 125/500\n",
      "32/32 [==============================] - 0s 16ms/step - loss: 3.2959 - mape: 3.2959\n",
      "Epoch 126/500\n",
      "32/32 [==============================] - 1s 16ms/step - loss: 3.2363 - mape: 3.2363\n",
      "Epoch 127/500\n",
      "32/32 [==============================] - 0s 15ms/step - loss: 3.3421 - mape: 3.3421\n",
      "Epoch 128/500\n",
      "32/32 [==============================] - 1s 16ms/step - loss: 3.2426 - mape: 3.2426\n",
      "Epoch 129/500\n",
      "32/32 [==============================] - 0s 15ms/step - loss: 3.2348 - mape: 3.2348\n",
      "Epoch 130/500\n",
      "32/32 [==============================] - 0s 16ms/step - loss: 3.1739 - mape: 3.1739\n",
      "Epoch 131/500\n",
      "32/32 [==============================] - 1s 16ms/step - loss: 3.2298 - mape: 3.2298\n",
      "Epoch 132/500\n",
      "32/32 [==============================] - 1s 17ms/step - loss: 3.1422 - mape: 3.1422\n",
      "Epoch 133/500\n",
      "32/32 [==============================] - 1s 16ms/step - loss: 3.2545 - mape: 3.2545\n",
      "Epoch 134/500\n",
      "32/32 [==============================] - 1s 16ms/step - loss: 3.2396 - mape: 3.2396\n",
      "Epoch 135/500\n",
      "32/32 [==============================] - 1s 16ms/step - loss: 3.3058 - mape: 3.3058\n",
      "Epoch 136/500\n",
      "32/32 [==============================] - 1s 16ms/step - loss: 3.6698 - mape: 3.6698\n",
      "Epoch 137/500\n",
      "32/32 [==============================] - 1s 16ms/step - loss: 3.0742 - mape: 3.0742\n",
      "Epoch 138/500\n",
      "32/32 [==============================] - 1s 16ms/step - loss: 3.0678 - mape: 3.0678\n",
      "Epoch 139/500\n",
      "32/32 [==============================] - 1s 17ms/step - loss: 3.2573 - mape: 3.2573\n",
      "Epoch 140/500\n",
      "32/32 [==============================] - 1s 17ms/step - loss: 3.1128 - mape: 3.1128\n",
      "Epoch 141/500\n",
      "32/32 [==============================] - 1s 16ms/step - loss: 3.2503 - mape: 3.2503\n",
      "Epoch 142/500\n",
      "32/32 [==============================] - 1s 16ms/step - loss: 3.4014 - mape: 3.4014\n",
      "Epoch 143/500\n",
      "32/32 [==============================] - 1s 17ms/step - loss: 3.2109 - mape: 3.2109\n",
      "Epoch 144/500\n",
      "32/32 [==============================] - 1s 16ms/step - loss: 3.2225 - mape: 3.2225\n",
      "Epoch 145/500\n",
      "32/32 [==============================] - 1s 16ms/step - loss: 3.2698 - mape: 3.2698\n",
      "Epoch 146/500\n",
      "32/32 [==============================] - 1s 17ms/step - loss: 3.1656 - mape: 3.1656\n",
      "Epoch 147/500\n",
      "32/32 [==============================] - 1s 17ms/step - loss: 3.2867 - mape: 3.2867\n",
      "Epoch 148/500\n",
      "32/32 [==============================] - 1s 16ms/step - loss: 3.2813 - mape: 3.2813\n",
      "Epoch 149/500\n",
      "32/32 [==============================] - 1s 16ms/step - loss: 3.0575 - mape: 3.0575\n",
      "Epoch 150/500\n",
      "32/32 [==============================] - 1s 17ms/step - loss: 3.4718 - mape: 3.4718\n",
      "Epoch 151/500\n",
      "32/32 [==============================] - 1s 16ms/step - loss: 3.3528 - mape: 3.3528\n",
      "Epoch 152/500\n",
      "32/32 [==============================] - 1s 16ms/step - loss: 3.1117 - mape: 3.1117\n",
      "Epoch 153/500\n",
      "32/32 [==============================] - 1s 16ms/step - loss: 3.1010 - mape: 3.1010\n",
      "Epoch 154/500\n",
      "32/32 [==============================] - 0s 16ms/step - loss: 3.0752 - mape: 3.0752\n",
      "Epoch 155/500\n",
      "32/32 [==============================] - 0s 16ms/step - loss: 3.3580 - mape: 3.3580\n",
      "Epoch 156/500\n",
      "32/32 [==============================] - 1s 16ms/step - loss: 3.0099 - mape: 3.0099\n",
      "Epoch 157/500\n",
      "32/32 [==============================] - 0s 15ms/step - loss: 3.1445 - mape: 3.1445\n",
      "Epoch 158/500\n",
      "32/32 [==============================] - 1s 16ms/step - loss: 3.0408 - mape: 3.0408\n",
      "Epoch 159/500\n",
      "32/32 [==============================] - 1s 16ms/step - loss: 3.0520 - mape: 3.0520\n",
      "Epoch 160/500\n",
      "32/32 [==============================] - 1s 16ms/step - loss: 2.8678 - mape: 2.8678\n",
      "Epoch 161/500\n",
      "32/32 [==============================] - 0s 16ms/step - loss: 2.8214 - mape: 2.8214\n",
      "Epoch 162/500\n",
      "32/32 [==============================] - 1s 16ms/step - loss: 2.8140 - mape: 2.8140\n",
      "Epoch 163/500\n",
      "32/32 [==============================] - 1s 16ms/step - loss: 3.0436 - mape: 3.0436\n",
      "Epoch 164/500\n",
      "32/32 [==============================] - 1s 16ms/step - loss: 2.8977 - mape: 2.8977\n",
      "Epoch 165/500\n",
      "32/32 [==============================] - 1s 16ms/step - loss: 3.0458 - mape: 3.0458\n",
      "Epoch 166/500\n",
      "32/32 [==============================] - 1s 17ms/step - loss: 3.1434 - mape: 3.1434\n",
      "Epoch 167/500\n",
      "32/32 [==============================] - 0s 15ms/step - loss: 2.9238 - mape: 2.9238\n",
      "Epoch 168/500\n",
      "32/32 [==============================] - 1s 16ms/step - loss: 3.1125 - mape: 3.1125\n",
      "Epoch 169/500\n",
      "32/32 [==============================] - 1s 16ms/step - loss: 3.1508 - mape: 3.1508\n",
      "Epoch 170/500\n",
      "32/32 [==============================] - 1s 16ms/step - loss: 2.8490 - mape: 2.8490\n",
      "Epoch 171/500\n",
      "32/32 [==============================] - 0s 15ms/step - loss: 2.8323 - mape: 2.8323\n",
      "Epoch 172/500\n",
      "32/32 [==============================] - 1s 16ms/step - loss: 2.9065 - mape: 2.9065\n",
      "Epoch 173/500\n",
      "32/32 [==============================] - 1s 16ms/step - loss: 2.8426 - mape: 2.8426\n",
      "Epoch 174/500\n",
      "32/32 [==============================] - 1s 16ms/step - loss: 2.8745 - mape: 2.8745\n",
      "Epoch 175/500\n",
      "32/32 [==============================] - 1s 16ms/step - loss: 2.7007 - mape: 2.7007\n",
      "Epoch 176/500\n",
      "32/32 [==============================] - 0s 16ms/step - loss: 3.0811 - mape: 3.0811\n",
      "Epoch 177/500\n",
      "32/32 [==============================] - 0s 16ms/step - loss: 3.1187 - mape: 3.1187\n",
      "Epoch 178/500\n",
      "32/32 [==============================] - 1s 16ms/step - loss: 3.2696 - mape: 3.2696\n",
      "Epoch 179/500\n",
      "32/32 [==============================] - 1s 16ms/step - loss: 2.8398 - mape: 2.8398\n",
      "Epoch 180/500\n",
      "32/32 [==============================] - 1s 16ms/step - loss: 3.2450 - mape: 3.2450\n",
      "Epoch 181/500\n",
      "32/32 [==============================] - 0s 15ms/step - loss: 2.9330 - mape: 2.9330\n",
      "Epoch 182/500\n",
      "32/32 [==============================] - 0s 16ms/step - loss: 2.8274 - mape: 2.8274\n",
      "Epoch 183/500\n",
      "32/32 [==============================] - 1s 16ms/step - loss: 2.8138 - mape: 2.8138\n",
      "Epoch 184/500\n",
      "32/32 [==============================] - 0s 15ms/step - loss: 2.7182 - mape: 2.7182\n",
      "Epoch 185/500\n",
      "32/32 [==============================] - 0s 16ms/step - loss: 2.8382 - mape: 2.8382\n",
      "Epoch 186/500\n",
      "32/32 [==============================] - 1s 16ms/step - loss: 2.9558 - mape: 2.9558\n",
      "Epoch 187/500\n",
      "32/32 [==============================] - 1s 16ms/step - loss: 3.0766 - mape: 3.0766\n",
      "Epoch 188/500\n",
      "32/32 [==============================] - 0s 16ms/step - loss: 2.9433 - mape: 2.9433\n",
      "Epoch 189/500\n",
      "32/32 [==============================] - 1s 17ms/step - loss: 2.9250 - mape: 2.9250\n",
      "Epoch 190/500\n",
      "32/32 [==============================] - 1s 16ms/step - loss: 2.8306 - mape: 2.8306\n",
      "Epoch 191/500\n",
      "32/32 [==============================] - 1s 16ms/step - loss: 2.7427 - mape: 2.7427\n",
      "Epoch 192/500\n",
      "32/32 [==============================] - 0s 16ms/step - loss: 3.3935 - mape: 3.3935\n",
      "Epoch 193/500\n",
      "32/32 [==============================] - 1s 16ms/step - loss: 3.6766 - mape: 3.6766\n",
      "Epoch 194/500\n",
      "32/32 [==============================] - 0s 15ms/step - loss: 2.7452 - mape: 2.7452\n",
      "Epoch 195/500\n",
      "32/32 [==============================] - 0s 16ms/step - loss: 2.7020 - mape: 2.7020\n",
      "Epoch 196/500\n",
      "32/32 [==============================] - 0s 16ms/step - loss: 2.6849 - mape: 2.6849\n",
      "Epoch 197/500\n",
      "32/32 [==============================] - 1s 16ms/step - loss: 2.6655 - mape: 2.6655\n",
      "Epoch 198/500\n",
      "32/32 [==============================] - 0s 16ms/step - loss: 2.5759 - mape: 2.5759\n",
      "Epoch 199/500\n",
      "32/32 [==============================] - 1s 16ms/step - loss: 2.6637 - mape: 2.6637\n",
      "Epoch 200/500\n",
      "32/32 [==============================] - 1s 16ms/step - loss: 2.9105 - mape: 2.9105\n",
      "Epoch 201/500\n",
      "32/32 [==============================] - 1s 16ms/step - loss: 2.9758 - mape: 2.9758\n",
      "Epoch 202/500\n",
      "32/32 [==============================] - 0s 15ms/step - loss: 2.5476 - mape: 2.5476\n",
      "Epoch 203/500\n",
      "32/32 [==============================] - 0s 15ms/step - loss: 2.6756 - mape: 2.6756\n",
      "Epoch 204/500\n",
      "32/32 [==============================] - 0s 15ms/step - loss: 2.5873 - mape: 2.5873\n",
      "Epoch 205/500\n",
      "32/32 [==============================] - 1s 16ms/step - loss: 2.5246 - mape: 2.5246\n",
      "Epoch 206/500\n",
      "32/32 [==============================] - 0s 15ms/step - loss: 2.7275 - mape: 2.7275\n",
      "Epoch 207/500\n",
      "32/32 [==============================] - 1s 16ms/step - loss: 2.9336 - mape: 2.9336\n",
      "Epoch 208/500\n",
      "32/32 [==============================] - 1s 16ms/step - loss: 2.7319 - mape: 2.7319\n",
      "Epoch 209/500\n",
      "32/32 [==============================] - 1s 16ms/step - loss: 2.7671 - mape: 2.7671\n",
      "Epoch 210/500\n",
      "32/32 [==============================] - 1s 16ms/step - loss: 2.5922 - mape: 2.5922\n",
      "Epoch 211/500\n",
      "32/32 [==============================] - 0s 15ms/step - loss: 2.8393 - mape: 2.8393\n",
      "Epoch 212/500\n",
      "32/32 [==============================] - 1s 16ms/step - loss: 2.4171 - mape: 2.4171\n",
      "Epoch 213/500\n",
      "32/32 [==============================] - 0s 16ms/step - loss: 2.4640 - mape: 2.4640\n",
      "Epoch 214/500\n",
      "32/32 [==============================] - 1s 16ms/step - loss: 2.4177 - mape: 2.4177\n",
      "Epoch 215/500\n",
      "32/32 [==============================] - 1s 16ms/step - loss: 2.6282 - mape: 2.6282\n",
      "Epoch 216/500\n",
      "32/32 [==============================] - 1s 16ms/step - loss: 3.2445 - mape: 3.2445\n",
      "Epoch 217/500\n",
      "32/32 [==============================] - 1s 16ms/step - loss: 3.1628 - mape: 3.1628\n",
      "Epoch 218/500\n",
      "32/32 [==============================] - 1s 16ms/step - loss: 2.7974 - mape: 2.7974\n",
      "Epoch 219/500\n",
      "32/32 [==============================] - 1s 16ms/step - loss: 2.4069 - mape: 2.4069\n",
      "Epoch 220/500\n",
      "32/32 [==============================] - 1s 16ms/step - loss: 2.4556 - mape: 2.4556\n",
      "Epoch 221/500\n",
      "32/32 [==============================] - 0s 15ms/step - loss: 2.4894 - mape: 2.4894\n",
      "Epoch 222/500\n",
      "32/32 [==============================] - 1s 16ms/step - loss: 2.3534 - mape: 2.3534\n",
      "Epoch 223/500\n",
      "32/32 [==============================] - 1s 16ms/step - loss: 2.5708 - mape: 2.5708\n",
      "Epoch 224/500\n",
      "32/32 [==============================] - 1s 16ms/step - loss: 2.5284 - mape: 2.5284\n",
      "Epoch 225/500\n",
      "32/32 [==============================] - 0s 16ms/step - loss: 2.3569 - mape: 2.3569\n",
      "Epoch 226/500\n",
      "32/32 [==============================] - 1s 16ms/step - loss: 2.4469 - mape: 2.4469\n",
      "Epoch 227/500\n",
      "32/32 [==============================] - 1s 16ms/step - loss: 2.7780 - mape: 2.7780\n",
      "Epoch 228/500\n",
      "32/32 [==============================] - 0s 15ms/step - loss: 2.6946 - mape: 2.6946\n",
      "Epoch 229/500\n",
      "32/32 [==============================] - 1s 16ms/step - loss: 2.5107 - mape: 2.5107\n",
      "Epoch 230/500\n",
      "32/32 [==============================] - 1s 16ms/step - loss: 2.3181 - mape: 2.3181\n",
      "Epoch 231/500\n",
      "32/32 [==============================] - 1s 16ms/step - loss: 2.3768 - mape: 2.3768\n",
      "Epoch 232/500\n",
      "32/32 [==============================] - 1s 16ms/step - loss: 2.5144 - mape: 2.5144\n",
      "Epoch 233/500\n",
      "32/32 [==============================] - 1s 16ms/step - loss: 2.9720 - mape: 2.9720\n",
      "Epoch 234/500\n",
      "32/32 [==============================] - 0s 15ms/step - loss: 2.3306 - mape: 2.3306\n",
      "Epoch 235/500\n",
      "32/32 [==============================] - 1s 16ms/step - loss: 2.7085 - mape: 2.7085\n",
      "Epoch 236/500\n",
      "32/32 [==============================] - 0s 15ms/step - loss: 2.8138 - mape: 2.8138\n",
      "Epoch 237/500\n",
      "32/32 [==============================] - 1s 16ms/step - loss: 2.7184 - mape: 2.7184\n",
      "Epoch 238/500\n",
      "32/32 [==============================] - 1s 16ms/step - loss: 2.3466 - mape: 2.3466\n",
      "Epoch 239/500\n",
      "32/32 [==============================] - 1s 16ms/step - loss: 2.2208 - mape: 2.2208\n",
      "Epoch 240/500\n",
      "32/32 [==============================] - 0s 15ms/step - loss: 2.3449 - mape: 2.3449\n",
      "Epoch 241/500\n",
      "32/32 [==============================] - 1s 16ms/step - loss: 2.2800 - mape: 2.2800\n",
      "Epoch 242/500\n",
      "32/32 [==============================] - 1s 16ms/step - loss: 2.3661 - mape: 2.3661\n",
      "Epoch 243/500\n",
      "32/32 [==============================] - 0s 16ms/step - loss: 2.2878 - mape: 2.2878\n",
      "Epoch 244/500\n",
      "32/32 [==============================] - 0s 15ms/step - loss: 2.2937 - mape: 2.2937\n",
      "Epoch 245/500\n",
      "32/32 [==============================] - 1s 16ms/step - loss: 2.4640 - mape: 2.4640\n",
      "Epoch 246/500\n",
      "32/32 [==============================] - 0s 15ms/step - loss: 2.8557 - mape: 2.8557\n",
      "Epoch 247/500\n",
      "32/32 [==============================] - 1s 16ms/step - loss: 2.4011 - mape: 2.4011\n",
      "Epoch 248/500\n",
      "32/32 [==============================] - 0s 15ms/step - loss: 2.4292 - mape: 2.4292\n",
      "Epoch 249/500\n",
      "32/32 [==============================] - 1s 16ms/step - loss: 2.3940 - mape: 2.3940\n",
      "Epoch 250/500\n",
      "32/32 [==============================] - 0s 16ms/step - loss: 2.2013 - mape: 2.2013\n",
      "Epoch 251/500\n",
      "32/32 [==============================] - 0s 15ms/step - loss: 2.2466 - mape: 2.2466\n",
      "Epoch 252/500\n",
      "32/32 [==============================] - 1s 16ms/step - loss: 2.2501 - mape: 2.2501\n",
      "Epoch 253/500\n",
      "32/32 [==============================] - 1s 16ms/step - loss: 2.3428 - mape: 2.3428\n",
      "Epoch 254/500\n",
      "32/32 [==============================] - 1s 16ms/step - loss: 2.1579 - mape: 2.1579\n",
      "Epoch 255/500\n",
      "32/32 [==============================] - 1s 16ms/step - loss: 2.5214 - mape: 2.5214\n",
      "Epoch 256/500\n",
      "32/32 [==============================] - 1s 16ms/step - loss: 2.2098 - mape: 2.2098\n",
      "Epoch 257/500\n",
      "32/32 [==============================] - 0s 15ms/step - loss: 2.5589 - mape: 2.5589\n",
      "Epoch 258/500\n",
      "32/32 [==============================] - 1s 16ms/step - loss: 2.6663 - mape: 2.6663\n",
      "Epoch 259/500\n",
      "32/32 [==============================] - 1s 16ms/step - loss: 2.0973 - mape: 2.0973\n",
      "Epoch 260/500\n",
      "32/32 [==============================] - 1s 16ms/step - loss: 2.2930 - mape: 2.2930\n",
      "Epoch 261/500\n",
      "32/32 [==============================] - 1s 16ms/step - loss: 2.1861 - mape: 2.1861\n",
      "Epoch 262/500\n",
      "32/32 [==============================] - 1s 16ms/step - loss: 2.1931 - mape: 2.1931\n",
      "Epoch 263/500\n",
      "32/32 [==============================] - 0s 16ms/step - loss: 2.1768 - mape: 2.1768\n",
      "Epoch 264/500\n",
      "32/32 [==============================] - 1s 16ms/step - loss: 2.1510 - mape: 2.1510\n",
      "Epoch 265/500\n",
      "32/32 [==============================] - 1s 16ms/step - loss: 2.1991 - mape: 2.1991\n",
      "Epoch 266/500\n",
      "32/32 [==============================] - 1s 16ms/step - loss: 2.0844 - mape: 2.0844\n",
      "Epoch 267/500\n",
      "32/32 [==============================] - 1s 16ms/step - loss: 2.1547 - mape: 2.1547\n",
      "Epoch 268/500\n",
      "32/32 [==============================] - 1s 16ms/step - loss: 2.2066 - mape: 2.2066\n",
      "Epoch 269/500\n",
      "32/32 [==============================] - 1s 16ms/step - loss: 2.2254 - mape: 2.2254\n",
      "Epoch 270/500\n",
      "32/32 [==============================] - 1s 16ms/step - loss: 2.4309 - mape: 2.4309\n",
      "Epoch 271/500\n",
      "32/32 [==============================] - 1s 16ms/step - loss: 2.1342 - mape: 2.1342\n",
      "Epoch 272/500\n",
      "32/32 [==============================] - 1s 16ms/step - loss: 2.6120 - mape: 2.6120\n",
      "Epoch 273/500\n",
      "32/32 [==============================] - 1s 16ms/step - loss: 2.3268 - mape: 2.3268\n",
      "Epoch 274/500\n",
      "32/32 [==============================] - 1s 16ms/step - loss: 2.5961 - mape: 2.5961\n",
      "Epoch 275/500\n",
      "32/32 [==============================] - 1s 16ms/step - loss: 2.3651 - mape: 2.3651\n",
      "Epoch 276/500\n",
      "32/32 [==============================] - 1s 16ms/step - loss: 2.2296 - mape: 2.2296\n",
      "Epoch 277/500\n",
      "32/32 [==============================] - 1s 16ms/step - loss: 2.0402 - mape: 2.0402\n",
      "Epoch 278/500\n",
      "32/32 [==============================] - 1s 16ms/step - loss: 2.0919 - mape: 2.0919\n",
      "Epoch 279/500\n",
      "32/32 [==============================] - 0s 15ms/step - loss: 2.2136 - mape: 2.2136\n",
      "Epoch 280/500\n",
      "32/32 [==============================] - 1s 16ms/step - loss: 1.9569 - mape: 1.9569\n",
      "Epoch 281/500\n",
      "32/32 [==============================] - 1s 16ms/step - loss: 2.3706 - mape: 2.3706\n",
      "Epoch 282/500\n",
      "32/32 [==============================] - 1s 16ms/step - loss: 2.3355 - mape: 2.3355\n",
      "Epoch 283/500\n",
      "32/32 [==============================] - 1s 16ms/step - loss: 1.9614 - mape: 1.9614\n",
      "Epoch 284/500\n",
      "32/32 [==============================] - 0s 16ms/step - loss: 2.0661 - mape: 2.0661\n",
      "Epoch 285/500\n",
      "32/32 [==============================] - 1s 16ms/step - loss: 2.0130 - mape: 2.0130\n",
      "Epoch 286/500\n",
      "32/32 [==============================] - 0s 15ms/step - loss: 1.9707 - mape: 1.9707\n",
      "Epoch 287/500\n",
      "32/32 [==============================] - 1s 16ms/step - loss: 2.0213 - mape: 2.0213\n",
      "Epoch 288/500\n",
      "32/32 [==============================] - 1s 16ms/step - loss: 2.1971 - mape: 2.1971\n",
      "Epoch 289/500\n",
      "32/32 [==============================] - 0s 15ms/step - loss: 1.9948 - mape: 1.9948\n",
      "Epoch 290/500\n",
      "32/32 [==============================] - 1s 16ms/step - loss: 1.9683 - mape: 1.9683\n",
      "Epoch 291/500\n",
      "32/32 [==============================] - 0s 15ms/step - loss: 2.1749 - mape: 2.1749\n",
      "Epoch 292/500\n",
      "32/32 [==============================] - 0s 15ms/step - loss: 1.9192 - mape: 1.9192\n",
      "Epoch 293/500\n",
      "32/32 [==============================] - 1s 16ms/step - loss: 2.3015 - mape: 2.3015\n",
      "Epoch 294/500\n",
      "32/32 [==============================] - 0s 15ms/step - loss: 2.2208 - mape: 2.2208\n",
      "Epoch 295/500\n",
      "32/32 [==============================] - 1s 16ms/step - loss: 2.3456 - mape: 2.3456\n",
      "Epoch 296/500\n",
      "32/32 [==============================] - 0s 15ms/step - loss: 2.4253 - mape: 2.4253\n",
      "Epoch 297/500\n",
      "32/32 [==============================] - 1s 16ms/step - loss: 2.4712 - mape: 2.4712\n",
      "Epoch 298/500\n",
      "32/32 [==============================] - 1s 16ms/step - loss: 1.9479 - mape: 1.9479\n",
      "Epoch 299/500\n",
      "32/32 [==============================] - 0s 15ms/step - loss: 2.1299 - mape: 2.1299\n",
      "Epoch 300/500\n",
      "32/32 [==============================] - 0s 15ms/step - loss: 2.0125 - mape: 2.0125\n",
      "Epoch 301/500\n",
      "32/32 [==============================] - 1s 16ms/step - loss: 1.9788 - mape: 1.9788\n",
      "Epoch 302/500\n",
      "32/32 [==============================] - 0s 15ms/step - loss: 2.0080 - mape: 2.0080\n",
      "Epoch 303/500\n",
      "32/32 [==============================] - 1s 16ms/step - loss: 2.3854 - mape: 2.3854\n",
      "Epoch 304/500\n",
      "32/32 [==============================] - 0s 15ms/step - loss: 2.1503 - mape: 2.1503\n",
      "Epoch 305/500\n",
      "32/32 [==============================] - 0s 15ms/step - loss: 2.0303 - mape: 2.0303\n",
      "Epoch 306/500\n",
      "32/32 [==============================] - 1s 16ms/step - loss: 1.9996 - mape: 1.9996\n",
      "Epoch 307/500\n",
      "32/32 [==============================] - 1s 16ms/step - loss: 1.8724 - mape: 1.8724\n",
      "Epoch 308/500\n",
      "32/32 [==============================] - 1s 16ms/step - loss: 1.9874 - mape: 1.9874\n",
      "Epoch 309/500\n",
      "32/32 [==============================] - 1s 16ms/step - loss: 1.9900 - mape: 1.9900\n",
      "Epoch 310/500\n",
      "32/32 [==============================] - 1s 16ms/step - loss: 2.2647 - mape: 2.2647\n",
      "Epoch 311/500\n",
      "32/32 [==============================] - 1s 16ms/step - loss: 2.0550 - mape: 2.0550\n",
      "Epoch 312/500\n",
      "32/32 [==============================] - 0s 15ms/step - loss: 1.9356 - mape: 1.9356\n",
      "Epoch 313/500\n",
      "32/32 [==============================] - 1s 16ms/step - loss: 1.8367 - mape: 1.8367\n",
      "Epoch 314/500\n",
      "32/32 [==============================] - 1s 16ms/step - loss: 1.8500 - mape: 1.8500\n",
      "Epoch 315/500\n",
      "32/32 [==============================] - 1s 16ms/step - loss: 2.0369 - mape: 2.0369\n",
      "Epoch 316/500\n",
      "32/32 [==============================] - 1s 16ms/step - loss: 1.9322 - mape: 1.9322\n",
      "Epoch 317/500\n",
      "32/32 [==============================] - 1s 16ms/step - loss: 1.9452 - mape: 1.9452\n",
      "Epoch 318/500\n",
      "32/32 [==============================] - 1s 16ms/step - loss: 1.9501 - mape: 1.9501\n",
      "Epoch 319/500\n",
      "32/32 [==============================] - 0s 15ms/step - loss: 1.9196 - mape: 1.9196\n",
      "Epoch 320/500\n",
      "32/32 [==============================] - 1s 16ms/step - loss: 1.8489 - mape: 1.8489\n",
      "Epoch 321/500\n",
      "32/32 [==============================] - 0s 15ms/step - loss: 2.1198 - mape: 2.1198\n",
      "Epoch 322/500\n",
      "32/32 [==============================] - 0s 16ms/step - loss: 1.8640 - mape: 1.8640\n",
      "Epoch 323/500\n",
      "32/32 [==============================] - 1s 16ms/step - loss: 1.8831 - mape: 1.8831\n",
      "Epoch 324/500\n",
      "32/32 [==============================] - 0s 16ms/step - loss: 1.9126 - mape: 1.9126\n",
      "Epoch 325/500\n",
      "32/32 [==============================] - 0s 15ms/step - loss: 1.9828 - mape: 1.9828\n",
      "Epoch 326/500\n",
      "32/32 [==============================] - 1s 16ms/step - loss: 1.8415 - mape: 1.8415\n",
      "Epoch 327/500\n",
      "32/32 [==============================] - 1s 16ms/step - loss: 1.7807 - mape: 1.7807\n",
      "Epoch 328/500\n",
      "32/32 [==============================] - 0s 16ms/step - loss: 1.9372 - mape: 1.9372\n",
      "Epoch 329/500\n",
      "32/32 [==============================] - 1s 16ms/step - loss: 2.0115 - mape: 2.0115\n",
      "Epoch 330/500\n",
      "32/32 [==============================] - 1s 16ms/step - loss: 1.9455 - mape: 1.9455\n",
      "Epoch 331/500\n",
      "32/32 [==============================] - 0s 16ms/step - loss: 2.1463 - mape: 2.1463\n",
      "Epoch 332/500\n",
      "32/32 [==============================] - 0s 16ms/step - loss: 1.8056 - mape: 1.8056\n",
      "Epoch 333/500\n",
      "32/32 [==============================] - 0s 16ms/step - loss: 1.7659 - mape: 1.7659\n",
      "Epoch 334/500\n",
      "32/32 [==============================] - 0s 15ms/step - loss: 1.7417 - mape: 1.7417\n",
      "Epoch 335/500\n",
      "32/32 [==============================] - 0s 16ms/step - loss: 2.0199 - mape: 2.0199\n",
      "Epoch 336/500\n",
      "32/32 [==============================] - 1s 16ms/step - loss: 2.1277 - mape: 2.1277\n",
      "Epoch 337/500\n",
      "32/32 [==============================] - 1s 16ms/step - loss: 1.8461 - mape: 1.8461\n",
      "Epoch 338/500\n",
      "32/32 [==============================] - 0s 15ms/step - loss: 1.7279 - mape: 1.7279\n",
      "Epoch 339/500\n",
      "32/32 [==============================] - 1s 16ms/step - loss: 1.8342 - mape: 1.8342\n",
      "Epoch 340/500\n",
      "32/32 [==============================] - 1s 16ms/step - loss: 1.7903 - mape: 1.7903\n",
      "Epoch 341/500\n",
      "32/32 [==============================] - 1s 16ms/step - loss: 2.0320 - mape: 2.0320\n",
      "Epoch 342/500\n",
      "32/32 [==============================] - 1s 16ms/step - loss: 1.9235 - mape: 1.9235\n",
      "Epoch 343/500\n",
      "32/32 [==============================] - 0s 16ms/step - loss: 1.8216 - mape: 1.8216\n",
      "Epoch 344/500\n",
      "32/32 [==============================] - 1s 16ms/step - loss: 1.7826 - mape: 1.7826\n",
      "Epoch 345/500\n",
      "32/32 [==============================] - 0s 15ms/step - loss: 1.6925 - mape: 1.6925\n",
      "Epoch 346/500\n",
      "32/32 [==============================] - 0s 15ms/step - loss: 2.1363 - mape: 2.1363\n",
      "Epoch 347/500\n",
      "32/32 [==============================] - 1s 16ms/step - loss: 1.7939 - mape: 1.7939\n",
      "Epoch 348/500\n",
      "32/32 [==============================] - 0s 15ms/step - loss: 1.7002 - mape: 1.7002\n",
      "Epoch 349/500\n",
      "32/32 [==============================] - 1s 16ms/step - loss: 1.6591 - mape: 1.6591\n",
      "Epoch 350/500\n",
      "32/32 [==============================] - 0s 15ms/step - loss: 1.7402 - mape: 1.7402\n",
      "Epoch 351/500\n",
      "32/32 [==============================] - 1s 16ms/step - loss: 1.6836 - mape: 1.6836\n",
      "Epoch 352/500\n",
      "32/32 [==============================] - 0s 15ms/step - loss: 1.6553 - mape: 1.6553\n",
      "Epoch 353/500\n",
      "32/32 [==============================] - 0s 15ms/step - loss: 2.0396 - mape: 2.0396\n",
      "Epoch 354/500\n",
      "32/32 [==============================] - 0s 15ms/step - loss: 1.7560 - mape: 1.7560\n",
      "Epoch 355/500\n",
      "32/32 [==============================] - 1s 16ms/step - loss: 1.8677 - mape: 1.8677\n",
      "Epoch 356/500\n",
      "32/32 [==============================] - 0s 15ms/step - loss: 1.6740 - mape: 1.6740\n",
      "Epoch 357/500\n",
      "32/32 [==============================] - 1s 16ms/step - loss: 1.6607 - mape: 1.6607\n",
      "Epoch 358/500\n",
      "32/32 [==============================] - 0s 15ms/step - loss: 1.8633 - mape: 1.8633\n",
      "Epoch 359/500\n",
      "32/32 [==============================] - 1s 16ms/step - loss: 1.6966 - mape: 1.6966\n",
      "Epoch 360/500\n",
      "32/32 [==============================] - 0s 15ms/step - loss: 1.6194 - mape: 1.6194\n",
      "Epoch 361/500\n",
      "32/32 [==============================] - 1s 16ms/step - loss: 1.5777 - mape: 1.5777\n",
      "Epoch 362/500\n",
      "32/32 [==============================] - 0s 15ms/step - loss: 1.6958 - mape: 1.6958\n",
      "Epoch 363/500\n",
      "32/32 [==============================] - 0s 16ms/step - loss: 1.9232 - mape: 1.9232\n",
      "Epoch 364/500\n",
      "32/32 [==============================] - 1s 16ms/step - loss: 2.3428 - mape: 2.3428\n",
      "Epoch 365/500\n",
      "32/32 [==============================] - 0s 15ms/step - loss: 1.9216 - mape: 1.9216\n",
      "Epoch 366/500\n",
      "32/32 [==============================] - 0s 15ms/step - loss: 1.6334 - mape: 1.6334\n",
      "Epoch 367/500\n",
      "32/32 [==============================] - 1s 16ms/step - loss: 1.7799 - mape: 1.7799\n",
      "Epoch 368/500\n",
      "32/32 [==============================] - 1s 16ms/step - loss: 1.7015 - mape: 1.7015\n",
      "Epoch 369/500\n",
      "32/32 [==============================] - 0s 16ms/step - loss: 1.5847 - mape: 1.5847\n",
      "Epoch 370/500\n",
      "32/32 [==============================] - 0s 15ms/step - loss: 1.8791 - mape: 1.8791\n",
      "Epoch 371/500\n",
      "32/32 [==============================] - 0s 15ms/step - loss: 1.9855 - mape: 1.9855\n",
      "Epoch 372/500\n",
      "32/32 [==============================] - 0s 15ms/step - loss: 1.5868 - mape: 1.5868\n",
      "Epoch 373/500\n",
      "32/32 [==============================] - 0s 16ms/step - loss: 1.6670 - mape: 1.6670\n",
      "Epoch 374/500\n",
      "32/32 [==============================] - 1s 16ms/step - loss: 1.9147 - mape: 1.9147\n",
      "Epoch 375/500\n",
      "32/32 [==============================] - 0s 15ms/step - loss: 1.8633 - mape: 1.8633\n",
      "Epoch 376/500\n",
      "32/32 [==============================] - 1s 16ms/step - loss: 2.0202 - mape: 2.0202\n",
      "Epoch 377/500\n",
      "32/32 [==============================] - 1s 16ms/step - loss: 1.9686 - mape: 1.9686\n",
      "Epoch 378/500\n",
      "32/32 [==============================] - 1s 16ms/step - loss: 1.6342 - mape: 1.6342\n",
      "Epoch 379/500\n",
      "32/32 [==============================] - 0s 16ms/step - loss: 1.5217 - mape: 1.5217\n",
      "Epoch 380/500\n",
      "32/32 [==============================] - 1s 16ms/step - loss: 1.6846 - mape: 1.6846\n",
      "Epoch 381/500\n",
      "32/32 [==============================] - 0s 15ms/step - loss: 1.9179 - mape: 1.9179\n",
      "Epoch 382/500\n",
      "32/32 [==============================] - 1s 16ms/step - loss: 1.5523 - mape: 1.5523\n",
      "Epoch 383/500\n",
      "32/32 [==============================] - 0s 15ms/step - loss: 1.6496 - mape: 1.6496\n",
      "Epoch 384/500\n",
      "32/32 [==============================] - 1s 16ms/step - loss: 1.8046 - mape: 1.8046\n",
      "Epoch 385/500\n",
      "32/32 [==============================] - 1s 16ms/step - loss: 1.8684 - mape: 1.8684\n",
      "Epoch 386/500\n",
      "32/32 [==============================] - 1s 16ms/step - loss: 1.5796 - mape: 1.5796\n",
      "Epoch 387/500\n",
      "32/32 [==============================] - 1s 16ms/step - loss: 1.7196 - mape: 1.7196\n",
      "Epoch 388/500\n",
      "32/32 [==============================] - 1s 16ms/step - loss: 1.6145 - mape: 1.6145\n",
      "Epoch 389/500\n",
      "32/32 [==============================] - 1s 16ms/step - loss: 1.8619 - mape: 1.8619\n",
      "Epoch 390/500\n",
      "32/32 [==============================] - 1s 16ms/step - loss: 1.5881 - mape: 1.5881\n",
      "Epoch 391/500\n",
      "32/32 [==============================] - 1s 16ms/step - loss: 1.7330 - mape: 1.7330\n",
      "Epoch 392/500\n",
      "32/32 [==============================] - 0s 15ms/step - loss: 1.5546 - mape: 1.5546\n",
      "Epoch 393/500\n",
      "32/32 [==============================] - 1s 16ms/step - loss: 1.5371 - mape: 1.5371\n",
      "Epoch 394/500\n",
      "32/32 [==============================] - 1s 16ms/step - loss: 1.5817 - mape: 1.5817\n",
      "Epoch 395/500\n",
      "32/32 [==============================] - 1s 16ms/step - loss: 1.5875 - mape: 1.5875\n",
      "Epoch 396/500\n",
      "32/32 [==============================] - 1s 16ms/step - loss: 1.5948 - mape: 1.5948\n",
      "Epoch 397/500\n",
      "32/32 [==============================] - 0s 16ms/step - loss: 1.6661 - mape: 1.6661\n",
      "Epoch 398/500\n",
      "32/32 [==============================] - 0s 15ms/step - loss: 1.6784 - mape: 1.6784\n",
      "Epoch 399/500\n",
      "32/32 [==============================] - 1s 16ms/step - loss: 1.6902 - mape: 1.6902\n",
      "Epoch 400/500\n",
      "32/32 [==============================] - 0s 16ms/step - loss: 1.5126 - mape: 1.5126\n",
      "Epoch 401/500\n",
      "32/32 [==============================] - 1s 16ms/step - loss: 1.5316 - mape: 1.5316\n",
      "Epoch 402/500\n",
      "32/32 [==============================] - 1s 16ms/step - loss: 1.4081 - mape: 1.4081\n",
      "Epoch 403/500\n",
      "32/32 [==============================] - 1s 16ms/step - loss: 1.6399 - mape: 1.6399\n",
      "Epoch 404/500\n",
      "32/32 [==============================] - 1s 16ms/step - loss: 1.5562 - mape: 1.5562\n",
      "Epoch 405/500\n",
      "32/32 [==============================] - 1s 16ms/step - loss: 1.6684 - mape: 1.6684\n",
      "Epoch 406/500\n",
      "32/32 [==============================] - 1s 16ms/step - loss: 1.6597 - mape: 1.6597\n",
      "Epoch 407/500\n",
      "32/32 [==============================] - 1s 18ms/step - loss: 1.4243 - mape: 1.4243\n",
      "Epoch 408/500\n",
      "32/32 [==============================] - 1s 16ms/step - loss: 1.7040 - mape: 1.7040\n",
      "Epoch 409/500\n",
      "32/32 [==============================] - 1s 16ms/step - loss: 1.5165 - mape: 1.5165\n",
      "Epoch 410/500\n",
      "32/32 [==============================] - 0s 15ms/step - loss: 1.5291 - mape: 1.5291\n",
      "Epoch 411/500\n",
      "32/32 [==============================] - 1s 16ms/step - loss: 1.5154 - mape: 1.5154\n",
      "Epoch 412/500\n",
      "32/32 [==============================] - 1s 16ms/step - loss: 1.5087 - mape: 1.5087\n",
      "Epoch 413/500\n",
      "32/32 [==============================] - 0s 16ms/step - loss: 1.3822 - mape: 1.3822\n",
      "Epoch 414/500\n",
      "32/32 [==============================] - 1s 16ms/step - loss: 1.3835 - mape: 1.3835\n",
      "Epoch 415/500\n",
      "32/32 [==============================] - 1s 16ms/step - loss: 1.3883 - mape: 1.3883\n",
      "Epoch 416/500\n",
      "32/32 [==============================] - 1s 16ms/step - loss: 1.4926 - mape: 1.4926\n",
      "Epoch 417/500\n",
      "32/32 [==============================] - 1s 16ms/step - loss: 1.4618 - mape: 1.4618\n",
      "Epoch 418/500\n",
      "32/32 [==============================] - 1s 16ms/step - loss: 1.5746 - mape: 1.5746\n",
      "Epoch 419/500\n",
      "32/32 [==============================] - 1s 16ms/step - loss: 1.5584 - mape: 1.5584\n",
      "Epoch 420/500\n",
      "32/32 [==============================] - 1s 16ms/step - loss: 1.6519 - mape: 1.6519\n",
      "Epoch 421/500\n",
      "32/32 [==============================] - 1s 16ms/step - loss: 1.4741 - mape: 1.4741\n",
      "Epoch 422/500\n",
      "32/32 [==============================] - 1s 16ms/step - loss: 1.8285 - mape: 1.8285\n",
      "Epoch 423/500\n",
      "32/32 [==============================] - 1s 16ms/step - loss: 1.3770 - mape: 1.3770\n",
      "Epoch 424/500\n",
      "32/32 [==============================] - 1s 16ms/step - loss: 1.6207 - mape: 1.6207\n",
      "Epoch 425/500\n",
      "32/32 [==============================] - 1s 16ms/step - loss: 1.4129 - mape: 1.4129\n",
      "Epoch 426/500\n",
      "32/32 [==============================] - 1s 16ms/step - loss: 1.7062 - mape: 1.7062\n",
      "Epoch 427/500\n",
      "32/32 [==============================] - 1s 16ms/step - loss: 1.5090 - mape: 1.5090\n",
      "Epoch 428/500\n",
      "32/32 [==============================] - 1s 16ms/step - loss: 1.6436 - mape: 1.6436\n",
      "Epoch 429/500\n",
      "32/32 [==============================] - 0s 15ms/step - loss: 1.3845 - mape: 1.3845\n",
      "Epoch 430/500\n",
      "32/32 [==============================] - 1s 16ms/step - loss: 1.4733 - mape: 1.4733\n",
      "Epoch 431/500\n",
      "32/32 [==============================] - 0s 16ms/step - loss: 1.4291 - mape: 1.4291\n",
      "Epoch 432/500\n",
      "32/32 [==============================] - 1s 16ms/step - loss: 1.5154 - mape: 1.5154\n",
      "Epoch 433/500\n",
      "32/32 [==============================] - 0s 16ms/step - loss: 1.3912 - mape: 1.3912\n",
      "Epoch 434/500\n",
      "32/32 [==============================] - 1s 16ms/step - loss: 1.3751 - mape: 1.3751\n",
      "Epoch 435/500\n",
      "32/32 [==============================] - 1s 16ms/step - loss: 1.6602 - mape: 1.6602\n",
      "Epoch 436/500\n",
      "32/32 [==============================] - 1s 16ms/step - loss: 1.5678 - mape: 1.5678\n",
      "Epoch 437/500\n",
      "32/32 [==============================] - 1s 16ms/step - loss: 1.7232 - mape: 1.7232\n",
      "Epoch 438/500\n",
      "32/32 [==============================] - 1s 16ms/step - loss: 1.6609 - mape: 1.6609\n",
      "Epoch 439/500\n",
      "32/32 [==============================] - 1s 16ms/step - loss: 1.5642 - mape: 1.5642\n",
      "Epoch 440/500\n",
      "32/32 [==============================] - 1s 16ms/step - loss: 1.6784 - mape: 1.6784\n",
      "Epoch 441/500\n",
      "32/32 [==============================] - 1s 17ms/step - loss: 1.4144 - mape: 1.4144\n",
      "Epoch 442/500\n",
      "32/32 [==============================] - 0s 16ms/step - loss: 1.3224 - mape: 1.3224\n",
      "Epoch 443/500\n",
      "32/32 [==============================] - 1s 17ms/step - loss: 1.5358 - mape: 1.5358\n",
      "Epoch 444/500\n",
      "32/32 [==============================] - 0s 16ms/step - loss: 1.3930 - mape: 1.3930\n",
      "Epoch 445/500\n",
      "32/32 [==============================] - 1s 16ms/step - loss: 1.3790 - mape: 1.3790\n",
      "Epoch 446/500\n",
      "32/32 [==============================] - 1s 16ms/step - loss: 1.5221 - mape: 1.5221\n",
      "Epoch 447/500\n",
      "32/32 [==============================] - 1s 16ms/step - loss: 1.4040 - mape: 1.4040\n",
      "Epoch 448/500\n",
      "32/32 [==============================] - 1s 16ms/step - loss: 1.6755 - mape: 1.6755\n",
      "Epoch 449/500\n",
      "32/32 [==============================] - 1s 16ms/step - loss: 1.6339 - mape: 1.6339\n",
      "Epoch 450/500\n",
      "32/32 [==============================] - 1s 16ms/step - loss: 1.6275 - mape: 1.6275\n",
      "Epoch 451/500\n",
      "32/32 [==============================] - 1s 17ms/step - loss: 1.3408 - mape: 1.3408\n",
      "Epoch 452/500\n",
      "32/32 [==============================] - 1s 16ms/step - loss: 1.2947 - mape: 1.2947\n",
      "Epoch 453/500\n",
      "32/32 [==============================] - 1s 16ms/step - loss: 1.4604 - mape: 1.4604\n",
      "Epoch 454/500\n",
      "32/32 [==============================] - 1s 18ms/step - loss: 1.3712 - mape: 1.3712\n",
      "Epoch 455/500\n",
      "32/32 [==============================] - 1s 16ms/step - loss: 1.2767 - mape: 1.2767\n",
      "Epoch 456/500\n",
      "32/32 [==============================] - 1s 16ms/step - loss: 1.4624 - mape: 1.4624\n",
      "Epoch 457/500\n",
      "32/32 [==============================] - 0s 15ms/step - loss: 1.5257 - mape: 1.5257\n",
      "Epoch 458/500\n",
      "32/32 [==============================] - 1s 16ms/step - loss: 1.6626 - mape: 1.6626\n",
      "Epoch 459/500\n",
      "32/32 [==============================] - 0s 15ms/step - loss: 1.4422 - mape: 1.4422\n",
      "Epoch 460/500\n",
      "32/32 [==============================] - 1s 16ms/step - loss: 1.2745 - mape: 1.2745\n",
      "Epoch 461/500\n",
      "32/32 [==============================] - 0s 15ms/step - loss: 1.2894 - mape: 1.2894\n",
      "Epoch 462/500\n",
      "32/32 [==============================] - 1s 17ms/step - loss: 1.4325 - mape: 1.4325\n",
      "Epoch 463/500\n",
      "32/32 [==============================] - 1s 16ms/step - loss: 1.2571 - mape: 1.2571\n",
      "Epoch 464/500\n",
      "32/32 [==============================] - 1s 16ms/step - loss: 1.4954 - mape: 1.4954\n",
      "Epoch 465/500\n",
      "32/32 [==============================] - 0s 16ms/step - loss: 1.6700 - mape: 1.6700\n",
      "Epoch 466/500\n",
      "32/32 [==============================] - 1s 17ms/step - loss: 1.5379 - mape: 1.5379\n",
      "Epoch 467/500\n",
      "32/32 [==============================] - 1s 16ms/step - loss: 1.3141 - mape: 1.3141\n",
      "Epoch 468/500\n",
      "32/32 [==============================] - 0s 15ms/step - loss: 1.4164 - mape: 1.4164\n",
      "Epoch 469/500\n",
      "32/32 [==============================] - 1s 16ms/step - loss: 1.4916 - mape: 1.4916\n",
      "Epoch 470/500\n",
      "32/32 [==============================] - 0s 16ms/step - loss: 1.6119 - mape: 1.6119\n",
      "Epoch 471/500\n",
      "32/32 [==============================] - 1s 17ms/step - loss: 1.2188 - mape: 1.2188\n",
      "Epoch 472/500\n",
      "32/32 [==============================] - 1s 16ms/step - loss: 1.2737 - mape: 1.2737\n",
      "Epoch 473/500\n",
      "32/32 [==============================] - 1s 16ms/step - loss: 1.4324 - mape: 1.4324\n",
      "Epoch 474/500\n",
      "32/32 [==============================] - 1s 16ms/step - loss: 1.3859 - mape: 1.3859\n",
      "Epoch 475/500\n",
      "32/32 [==============================] - 1s 16ms/step - loss: 1.4749 - mape: 1.4749\n",
      "Epoch 476/500\n",
      "32/32 [==============================] - 0s 15ms/step - loss: 1.5924 - mape: 1.5924\n",
      "Epoch 477/500\n",
      "32/32 [==============================] - 1s 17ms/step - loss: 1.4544 - mape: 1.4544\n",
      "Epoch 478/500\n",
      "32/32 [==============================] - 1s 16ms/step - loss: 1.6619 - mape: 1.6619\n",
      "Epoch 479/500\n",
      "32/32 [==============================] - 1s 17ms/step - loss: 1.3616 - mape: 1.3616\n",
      "Epoch 480/500\n",
      "32/32 [==============================] - 1s 16ms/step - loss: 1.4760 - mape: 1.4760\n",
      "Epoch 481/500\n",
      "32/32 [==============================] - 1s 16ms/step - loss: 1.3247 - mape: 1.3247\n",
      "Epoch 482/500\n",
      "32/32 [==============================] - 1s 16ms/step - loss: 1.2871 - mape: 1.2871\n",
      "Epoch 483/500\n",
      "32/32 [==============================] - 1s 16ms/step - loss: 1.4489 - mape: 1.4489\n",
      "Epoch 484/500\n",
      "32/32 [==============================] - 1s 16ms/step - loss: 1.2133 - mape: 1.2133\n",
      "Epoch 485/500\n",
      "32/32 [==============================] - 1s 16ms/step - loss: 1.2919 - mape: 1.2919\n",
      "Epoch 486/500\n",
      "32/32 [==============================] - 1s 16ms/step - loss: 1.2729 - mape: 1.2729\n",
      "Epoch 487/500\n",
      "32/32 [==============================] - 1s 16ms/step - loss: 1.2306 - mape: 1.2306\n",
      "Epoch 488/500\n",
      "32/32 [==============================] - 1s 16ms/step - loss: 1.3706 - mape: 1.3706\n",
      "Epoch 489/500\n",
      "32/32 [==============================] - 1s 16ms/step - loss: 1.3493 - mape: 1.3493\n",
      "Epoch 490/500\n",
      "32/32 [==============================] - 1s 16ms/step - loss: 1.4235 - mape: 1.4235\n",
      "Epoch 491/500\n",
      "32/32 [==============================] - 1s 16ms/step - loss: 1.4023 - mape: 1.4023\n",
      "Epoch 492/500\n",
      "32/32 [==============================] - 1s 16ms/step - loss: 1.3447 - mape: 1.3447\n",
      "Epoch 493/500\n",
      "32/32 [==============================] - 1s 16ms/step - loss: 1.1889 - mape: 1.1889\n",
      "Epoch 494/500\n",
      "32/32 [==============================] - 1s 16ms/step - loss: 1.3914 - mape: 1.3914\n",
      "Epoch 495/500\n",
      "32/32 [==============================] - 0s 15ms/step - loss: 1.1739 - mape: 1.1739\n",
      "Epoch 496/500\n",
      "32/32 [==============================] - 1s 16ms/step - loss: 1.2552 - mape: 1.2552\n",
      "Epoch 497/500\n",
      "32/32 [==============================] - 1s 16ms/step - loss: 1.2521 - mape: 1.2521\n",
      "Epoch 498/500\n",
      "32/32 [==============================] - 1s 16ms/step - loss: 1.1999 - mape: 1.1999\n",
      "Epoch 499/500\n",
      "32/32 [==============================] - 1s 16ms/step - loss: 1.1677 - mape: 1.1677\n",
      "Epoch 500/500\n",
      "32/32 [==============================] - 1s 16ms/step - loss: 1.2765 - mape: 1.2765\n"
     ]
    }
   ],
   "source": [
    "#es_callback = EarlyStopping(monitor='val_mae', patience=10, mode=\"min\")\n",
    "#training params\n",
    "batch_size = 32 \n",
    "num_epochs = 500\n",
    "\n",
    "history = model.fit([x_sent_train, x_aspects_train, x_target_train], y_sent_train, batch_size=batch_size,\n",
    "          epochs=num_epochs)#, validation_data=[[x_sent_val, x_aspects_val, x_target_val], y_sent_val])\n",
    "          #callbacks=[es_callback, checkpoint])#, steps_per_epoch=train.shape[0] // batch_size,\n",
    "          # shuffle=False)"
   ]
  },
  {
   "cell_type": "code",
   "execution_count": null,
   "metadata": {
    "colab": {
     "base_uri": "https://localhost:8080/",
     "height": 295
    },
    "id": "HrnldxkeOSuI",
    "outputId": "e6b9b2d5-37ff-485a-cb55-41610bfcd5f1"
   },
   "outputs": [
    {
     "data": {
      "image/png": "[encoded data removed]",
      "text/plain": [
       "<Figure size 432x288 with 1 Axes>"
      ]
     },
     "metadata": {
      "needs_background": "light",
      "tags": []
     },
     "output_type": "display_data"
    }
   ],
   "source": [
    "plt.figure()\n",
    "plt.plot(history.history['mape'], lw=2.0, color='b', label='train')\n",
    "#plt.plot(history.history['val_mae'], lw=2.0, color='r', label='val')\n",
    "plt.title('Accuracy')\n",
    "plt.xlabel('Epochs')\n",
    "plt.ylabel('Accuracy')\n",
    "plt.legend(loc='upper left')\n",
    "plt.show()"
   ]
  },
  {
   "cell_type": "code",
   "execution_count": null,
   "metadata": {
    "id": "lRwp0-QfOrQj"
   },
   "outputs": [],
   "source": [
    "predictions = model.predict([word_seq_train, word_seq_aspects, word_seq_target])"
   ]
  },
  {
   "cell_type": "code",
   "execution_count": null,
   "metadata": {
    "id": "jKHR7RG-fNAg"
   },
   "outputs": [],
   "source": [
    "def mean_absolute_percentage_error(y_true, y_pred): \n",
    "    y_true, y_pred = np.array(y_true), (y_pred)\n",
    "    return np.mean(np.abs((y_true - y_pred) / y_true)) * 100"
   ]
  },
  {
   "cell_type": "code",
   "execution_count": null,
   "metadata": {
    "colab": {
     "base_uri": "https://localhost:8080/"
    },
    "id": "q4LPOobihWOA",
    "outputId": "0e50a945-e052-4285-a2b0-06e208b10f7b"
   },
   "outputs": [
    {
     "data": {
      "text/plain": [
       "1.5124734134452544"
      ]
     },
     "execution_count": 47,
     "metadata": {
      "tags": []
     },
     "output_type": "execute_result"
    }
   ],
   "source": [
    "mean_absolute_percentage_error(train.sentiment_score.values+5, predictions.ravel())"
   ]
  },
  {
   "cell_type": "code",
   "execution_count": null,
   "metadata": {
    "id": "kPxxhp4FhlPU"
   },
   "outputs": [],
   "source": [
    "predictions_val = model.predict([x_sent_val, x_aspects_val, x_target_val])"
   ]
  },
  {
   "cell_type": "code",
   "execution_count": null,
   "metadata": {
    "colab": {
     "base_uri": "https://localhost:8080/"
    },
    "id": "eEdwudDviVYe",
    "outputId": "c4063cf0-3746-4724-8205-42b87f2c3070"
   },
   "outputs": [
    {
     "data": {
      "text/plain": [
       "2.456090628233859"
      ]
     },
     "execution_count": 50,
     "metadata": {
      "tags": []
     },
     "output_type": "execute_result"
    }
   ],
   "source": [
    "mean_absolute_percentage_error(y_sent_val, predictions_val.ravel())"
   ]
  },
  {
   "cell_type": "code",
   "execution_count": null,
   "metadata": {
    "colab": {
     "base_uri": "https://localhost:8080/",
     "height": 662
    },
    "id": "y6225kcRiYDR",
    "outputId": "514cb364-0a4f-439a-a7de-c036c8858524"
   },
   "outputs": [
    {
     "data": {
      "text/html": [
       "<div>\n",
       "<style scoped>\n",
       "    .dataframe tbody tr th:only-of-type {\n",
       "        vertical-align: middle;\n",
       "    }\n",
       "\n",
       "    .dataframe tbody tr th {\n",
       "        vertical-align: top;\n",
       "    }\n",
       "\n",
       "    .dataframe thead th {\n",
       "        text-align: right;\n",
       "    }\n",
       "</style>\n",
       "<table border=\"1\" class=\"dataframe\">\n",
       "  <thead>\n",
       "    <tr style=\"text-align: right;\">\n",
       "      <th></th>\n",
       "      <th>Snippet</th>\n",
       "      <th>Aspect</th>\n",
       "      <th>Target</th>\n",
       "      <th>true</th>\n",
       "      <th>pred</th>\n",
       "    </tr>\n",
       "  </thead>\n",
       "  <tbody>\n",
       "    <tr>\n",
       "      <th>0</th>\n",
       "      <td>3 must have growth stocks</td>\n",
       "      <td>rumors</td>\n",
       "      <td>domino 's pizza group plc</td>\n",
       "      <td>0.063</td>\n",
       "      <td>0.172702</td>\n",
       "    </tr>\n",
       "    <tr>\n",
       "      <th>1</th>\n",
       "      <td>lender cuts dividends shore up capita</td>\n",
       "      <td>corporate</td>\n",
       "      <td>barclays</td>\n",
       "      <td>0.261</td>\n",
       "      <td>0.204814</td>\n",
       "    </tr>\n",
       "    <tr>\n",
       "      <th>2</th>\n",
       "      <td>sales boost</td>\n",
       "      <td>corporate</td>\n",
       "      <td>tesco</td>\n",
       "      <td>-0.410</td>\n",
       "      <td>-0.000397</td>\n",
       "    </tr>\n",
       "    <tr>\n",
       "      <th>3</th>\n",
       "      <td>sees baxalta deal closing expected</td>\n",
       "      <td>sales</td>\n",
       "      <td>shire</td>\n",
       "      <td>0.224</td>\n",
       "      <td>0.427189</td>\n",
       "    </tr>\n",
       "    <tr>\n",
       "      <th>4</th>\n",
       "      <td>can christmas save</td>\n",
       "      <td>rumors</td>\n",
       "      <td>tesco</td>\n",
       "      <td>-0.175</td>\n",
       "      <td>-0.106177</td>\n",
       "    </tr>\n",
       "    <tr>\n",
       "      <th>5</th>\n",
       "      <td>wipes sales gains sabmiller</td>\n",
       "      <td>corporate</td>\n",
       "      <td>sabmiller</td>\n",
       "      <td>-0.582</td>\n",
       "      <td>-0.368362</td>\n",
       "    </tr>\n",
       "    <tr>\n",
       "      <th>6</th>\n",
       "      <td>tesco leads leap ftse 100</td>\n",
       "      <td>technical analysis</td>\n",
       "      <td>tesco</td>\n",
       "      <td>0.389</td>\n",
       "      <td>0.436342</td>\n",
       "    </tr>\n",
       "    <tr>\n",
       "      <th>7</th>\n",
       "      <td>extends gas deals</td>\n",
       "      <td>deal</td>\n",
       "      <td>statoil</td>\n",
       "      <td>0.239</td>\n",
       "      <td>0.240338</td>\n",
       "    </tr>\n",
       "    <tr>\n",
       "      <th>8</th>\n",
       "      <td>tesco abandons video streaming ambitions</td>\n",
       "      <td>corporate</td>\n",
       "      <td>tesco</td>\n",
       "      <td>-0.335</td>\n",
       "      <td>-0.325218</td>\n",
       "    </tr>\n",
       "    <tr>\n",
       "      <th>9</th>\n",
       "      <td>still paying price dividend cut</td>\n",
       "      <td>corporate</td>\n",
       "      <td>l g</td>\n",
       "      <td>-0.338</td>\n",
       "      <td>-0.288710</td>\n",
       "    </tr>\n",
       "    <tr>\n",
       "      <th>10</th>\n",
       "      <td>replace home retail ceo walden</td>\n",
       "      <td>appointment</td>\n",
       "      <td>home retail</td>\n",
       "      <td>0.000</td>\n",
       "      <td>-0.031376</td>\n",
       "    </tr>\n",
       "    <tr>\n",
       "      <th>11</th>\n",
       "      <td>set to be acquired by wpp and providence</td>\n",
       "      <td>corporate</td>\n",
       "      <td>wpp</td>\n",
       "      <td>0.202</td>\n",
       "      <td>0.262555</td>\n",
       "    </tr>\n",
       "    <tr>\n",
       "      <th>12</th>\n",
       "      <td>expects to close deal for</td>\n",
       "      <td>deal</td>\n",
       "      <td>caixabank</td>\n",
       "      <td>0.375</td>\n",
       "      <td>0.379664</td>\n",
       "    </tr>\n",
       "    <tr>\n",
       "      <th>13</th>\n",
       "      <td>united spirits financial irregularitie</td>\n",
       "      <td>reputation</td>\n",
       "      <td>diageo</td>\n",
       "      <td>-0.255</td>\n",
       "      <td>-0.238532</td>\n",
       "    </tr>\n",
       "    <tr>\n",
       "      <th>14</th>\n",
       "      <td>rbs must pay 806 mln mortgage bond case</td>\n",
       "      <td>corporate</td>\n",
       "      <td>rbs</td>\n",
       "      <td>-0.690</td>\n",
       "      <td>-0.577233</td>\n",
       "    </tr>\n",
       "    <tr>\n",
       "      <th>15</th>\n",
       "      <td>chasing standard chartered</td>\n",
       "      <td>corporate planning</td>\n",
       "      <td>standard chartered</td>\n",
       "      <td>0.128</td>\n",
       "      <td>0.186030</td>\n",
       "    </tr>\n",
       "    <tr>\n",
       "      <th>16</th>\n",
       "      <td>help britains ftse climb higher</td>\n",
       "      <td>market</td>\n",
       "      <td>hikma</td>\n",
       "      <td>0.452</td>\n",
       "      <td>0.650156</td>\n",
       "    </tr>\n",
       "    <tr>\n",
       "      <th>17</th>\n",
       "      <td>lower limit potential fine bp</td>\n",
       "      <td>corporate</td>\n",
       "      <td>bp</td>\n",
       "      <td>-0.261</td>\n",
       "      <td>-0.130343</td>\n",
       "    </tr>\n",
       "    <tr>\n",
       "      <th>18</th>\n",
       "      <td>e acquires neighbouring glencore nickel property</td>\n",
       "      <td>corporate</td>\n",
       "      <td>horizonte</td>\n",
       "      <td>0.182</td>\n",
       "      <td>0.197901</td>\n",
       "    </tr>\n",
       "    <tr>\n",
       "      <th>19</th>\n",
       "      <td>3 must have growth stocks</td>\n",
       "      <td>rumors</td>\n",
       "      <td>asos plc</td>\n",
       "      <td>0.000</td>\n",
       "      <td>0.127306</td>\n",
       "    </tr>\n",
       "  </tbody>\n",
       "</table>\n",
       "</div>"
      ],
      "text/plain": [
       "                                             Snippet  ...      pred\n",
       "0                          3 must have growth stocks  ...  0.172702\n",
       "1              lender cuts dividends shore up capita  ...  0.204814\n",
       "2                                        sales boost  ... -0.000397\n",
       "3                 sees baxalta deal closing expected  ...  0.427189\n",
       "4                                 can christmas save  ... -0.106177\n",
       "5                        wipes sales gains sabmiller  ... -0.368362\n",
       "6                          tesco leads leap ftse 100  ...  0.436342\n",
       "7                                  extends gas deals  ...  0.240338\n",
       "8           tesco abandons video streaming ambitions  ... -0.325218\n",
       "9                    still paying price dividend cut  ... -0.288710\n",
       "10                    replace home retail ceo walden  ... -0.031376\n",
       "11          set to be acquired by wpp and providence  ...  0.262555\n",
       "12                         expects to close deal for  ...  0.379664\n",
       "13            united spirits financial irregularitie  ... -0.238532\n",
       "14           rbs must pay 806 mln mortgage bond case  ... -0.577233\n",
       "15                        chasing standard chartered  ...  0.186030\n",
       "16                   help britains ftse climb higher  ...  0.650156\n",
       "17                     lower limit potential fine bp  ... -0.130343\n",
       "18  e acquires neighbouring glencore nickel property  ...  0.197901\n",
       "19                         3 must have growth stocks  ...  0.127306\n",
       "\n",
       "[20 rows x 5 columns]"
      ]
     },
     "execution_count": 49,
     "metadata": {
      "tags": []
     },
     "output_type": "execute_result"
    }
   ],
   "source": [
    "my_texts = tokenizer.sequences_to_texts(x_sent_val)\n",
    "my_target = tokenizer.sequences_to_texts(x_target_val) \n",
    "my_aspect = tokenizer.sequences_to_texts(x_aspects_val) \n",
    "\n",
    "print_df = pd.DataFrame({ 'Snippet': my_texts, 'Aspect': my_aspect, 'Target': my_target,\n",
    "                          'true':y_sent_val-5 , \n",
    "                         'pred': predictions_val.ravel()-5\n",
    "                         })\n",
    "print_df.head(20)"
   ]
  }
 ],
 "metadata": {
  "accelerator": "GPU",
  "colab": {
   "collapsed_sections": [],
   "name": "ABSA_fasttext_finetune_Regress_aux.ipynb",
   "provenance": []
  },
  "kernelspec": {
   "display_name": "Python 3",
   "language": "python",
   "name": "python3"
  },
  "language_info": {
   "codemirror_mode": {
    "name": "ipython",
    "version": 3
   },
   "file_extension": ".py",
   "mimetype": "text/x-python",
   "name": "python",
   "nbconvert_exporter": "python",
   "pygments_lexer": "ipython3",
   "version": "3.8.3"
  }
 },
 "nbformat": 4,
 "nbformat_minor": 1
}
